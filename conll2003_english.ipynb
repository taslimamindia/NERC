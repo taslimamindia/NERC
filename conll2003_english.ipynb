{
  "cells": [
    {
      "cell_type": "code",
      "execution_count": 1,
      "metadata": {
        "colab": {
          "base_uri": "https://localhost:8080/"
        },
        "id": "lJ-tKnxA74KU",
        "outputId": "3136bb9d-6cd4-493e-c02d-69413d154dfe"
      },
      "outputs": [
        {
          "name": "stdout",
          "output_type": "stream",
          "text": [
            "Cloning into 'NERC'...\n",
            "remote: Enumerating objects: 23, done.\u001b[K\n",
            "remote: Counting objects: 100% (23/23), done.\u001b[K\n",
            "remote: Compressing objects: 100% (20/20), done.\u001b[K\n",
            "remote: Total 23 (delta 4), reused 21 (delta 2), pack-reused 0\u001b[K\n",
            "Unpacking objects: 100% (23/23), 1.07 MiB | 4.19 MiB/s, done.\n"
          ]
        }
      ],
      "source": [
        "!git clone https://github.com/taslimamindia/NERC.git"
      ]
    },
    {
      "cell_type": "code",
      "execution_count": 19,
      "metadata": {
        "colab": {
          "base_uri": "https://localhost:8080/"
        },
        "id": "2_DI6SNZ8r_t",
        "outputId": "382c9721-d9c4-4d59-83ed-92e7d3b475ad"
      },
      "outputs": [
        {
          "name": "stdout",
          "output_type": "stream",
          "text": [
            "/content/NERC\n"
          ]
        }
      ],
      "source": [
        "cd /content/NERC"
      ]
    },
    {
      "cell_type": "markdown",
      "metadata": {
        "id": "3fcvRYZ97fmq"
      },
      "source": [
        "# Importation"
      ]
    },
    {
      "cell_type": "code",
      "execution_count": 24,
      "metadata": {
        "id": "tou31yST7fmt"
      },
      "outputs": [],
      "source": [
        "import pandas as pd\n",
        "import numpy as np\n",
        "import nltk\n",
        "from nltk import word_tokenize\n",
        "from nltk import sent_tokenize\n",
        "from nltk.corpus import stopwords\n",
        "from nltk.stem import WordNetLemmatizer\n",
        "\n",
        "from gensim.models import Word2Vec\n",
        "\n",
        "import tensorflow as tf\n",
        "\n",
        "from keras.layers import Embedding\n",
        "\n",
        "from keras.utils import to_categorical, pad_sequences"
      ]
    },
    {
      "cell_type": "code",
      "execution_count": 25,
      "metadata": {
        "colab": {
          "base_uri": "https://localhost:8080/"
        },
        "id": "qZ9h38D29wUb",
        "outputId": "60701626-962a-475d-c780-3f65ce5d3865"
      },
      "outputs": [
        {
          "name": "stderr",
          "output_type": "stream",
          "text": [
            "[nltk_data] Downloading package wordnet to /root/nltk_data...\n"
          ]
        },
        {
          "data": {
            "text/plain": [
              "True"
            ]
          },
          "execution_count": 25,
          "metadata": {},
          "output_type": "execute_result"
        }
      ],
      "source": [
        "nltk.download('wordnet')"
      ]
    },
    {
      "cell_type": "markdown",
      "metadata": {
        "id": "mkK1C7mp7fmu"
      },
      "source": [
        "# Class define form data."
      ]
    },
    {
      "cell_type": "code",
      "execution_count": 26,
      "metadata": {
        "id": "tsvoLVPY7fmu"
      },
      "outputs": [],
      "source": [
        "class Data(object):\n",
        "    unique_words = {}\n",
        "    unique_ner_tags = {}\n",
        "    MAX_LENGTH = 200\n",
        "    def __init__(self):\n",
        "        self.sentences = []\n",
        "        self.sentences_num = None\n",
        "        self.ner_tags = []\n",
        "        self.ner_tags_num = None\n",
        "        self.chunk_tags = []\n",
        "        self.pos_tags = []\n",
        "        self.x, self.y = None, None\n",
        "    def word2vec(self, vector_size=100):\n",
        "        word2vec_model = Word2Vec(self.sentences, vector_size=vector_size, window=5, min_count=1, workers=4)\n",
        "        return word2vec_model   \n",
        "    def word2idx(self, word):\n",
        "        pass\n",
        "    def idx2word(self, index):\n",
        "        pass\n",
        "    def tag2idx(self, tag):\n",
        "        pass\n",
        "    def idx2tag(self, index):\n",
        "        pass"
      ]
    },
    {
      "cell_type": "markdown",
      "metadata": {
        "id": "VxLQFuLO7fmv"
      },
      "source": [
        "# Loading data"
      ]
    },
    {
      "cell_type": "code",
      "execution_count": 27,
      "metadata": {
        "id": "NzjCn5tW7fmv"
      },
      "outputs": [],
      "source": [
        "class Loading():\n",
        "    def __init__(self, data: Data, file):\n",
        "        self.data = data\n",
        "        self.load_sentences(file)\n",
        "        print(\"Loading successfully\")\n",
        "    def load_sentences(self, filepath):\n",
        "        tokens, pos_tags, chunk_tags, ner_tags = [], [], [], []\n",
        "        with open(filepath, 'r') as f:\n",
        "            for line in f.readlines():\n",
        "                if (line == ('-DOCSTART- -X- -X- O\\n') or line == '\\n'):\n",
        "                    if len(tokens) > 0:\n",
        "                        self.data.sentences.append(tokens)\n",
        "                        self.data.pos_tags.append(pos_tags)\n",
        "                        self.data.chunk_tags.append(chunk_tags)\n",
        "                        self.data.ner_tags.append(ner_tags)\n",
        "                        tokens, pos_tags, chunk_tags, ner_tags = [], [], [], []\n",
        "                else:\n",
        "                    l = line.split(' ')\n",
        "                    tokens.append(l[0])\n",
        "                    pos_tags.append(l[1])\n",
        "                    chunk_tags.append(l[2])\n",
        "                    ner_tags.append(l[3].strip('\\n'))"
      ]
    },
    {
      "cell_type": "markdown",
      "metadata": {
        "id": "I9vvnsDR7fmv"
      },
      "source": [
        "# Preprocessing"
      ]
    },
    {
      "cell_type": "code",
      "execution_count": 28,
      "metadata": {
        "id": "3Rbc4nVU7fmw"
      },
      "outputs": [],
      "source": [
        "class Preprocessing():\n",
        "    def __init__(self, data:Data, text=None, lang=\"english\"):\n",
        "        self.data = data\n",
        "        self.text = text\n",
        "        self.lang = lang\n",
        "    def tokenize(self):\n",
        "        if self.text != None:\n",
        "            sentenses = [word_tokenize(sentence, language=self.lang) for sentence in sent_tokenize(self.text, language=self.lang)]\n",
        "            self.data.sentences = [[token for token in sentence if token not in stopwords.words(self.lang)] for sentence in sentenses]\n",
        "    def lowercasing(self):\n",
        "        self.data.sentences = [[word.lower() for word in sentence] for sentence in self.data.sentences]\n",
        "    def lemmatize(self):\n",
        "        lemmatizer = WordNetLemmatizer()\n",
        "        self.data.sentences = [[lemmatizer.lemmatize(word) for word in sentence] for sentence in self.data.sentences]\n",
        "        self.unicity() # must be changed\n",
        "    def unicity(self):\n",
        "        temp = set() \n",
        "        [temp.update(word) for word in self.data.sentences]\n",
        "        Data.unique_words = dict(zip(list(temp), range(1, len(temp) + 1)))\n",
        "        temp = set() \n",
        "        [temp.update(word) for word in self.data.ner_tags]\n",
        "        Data.unique_ner_tags = dict(zip(list(temp), range(len(temp))))"
      ]
    },
    {
      "cell_type": "markdown",
      "metadata": {
        "id": "T0yl2FQm7fmw"
      },
      "source": [
        "# Vectorization"
      ]
    },
    {
      "cell_type": "code",
      "execution_count": 29,
      "metadata": {
        "id": "Arjdv32N7fmw"
      },
      "outputs": [],
      "source": [
        "class Vectorization():\n",
        "    def __init__(self, data:Data):\n",
        "        self.data = data\n",
        "        # self.data.max_length = max([len(sentence) for sentence in data.sentences])\n",
        "        data.sentences_num = [[Data.unique_words[word] for word in sentence] for sentence in data.sentences]\n",
        "        data.ner_tags_num = [[Data.unique_ner_tags[tag] for tag in tags] for tags in data.ner_tags] \n",
        "    def padding_x(self):\n",
        "        if len(self.data.sentences_num) > 0:\n",
        "            self.data.sentences_num = self.word2vec()\n",
        "            self.data.x = pad_sequences(\n",
        "                sequences=self.data.sentences_num, \n",
        "                maxlen=self.data.MAX_LENGTH, \n",
        "                dtype=\"float32\", \n",
        "                padding=\"post\", \n",
        "                value=0\n",
        "            )\n",
        "    def padding_y(self):\n",
        "        if len(self.data.ner_tags_num) > 0:\n",
        "            self.data.y = pad_sequences(\n",
        "                sequences=self.data.ner_tags_num, \n",
        "                maxlen=self.data.MAX_LENGTH, \n",
        "                dtype=\"float32\", \n",
        "                padding=\"post\", \n",
        "                value=self.data.unique_ner_tags.get(\"O\")\n",
        "            )\n",
        "    def word2vec(self, min_count=1, vector_size=100, window=5):\n",
        "        word2vec_model = Word2Vec(self.data.sentences, min_count=min_count, vector_size=vector_size, window=window)\n",
        "        vectors= [[word2vec_model.wv[word] for word in sentence] for sentence in self.data.sentences]\n",
        "        return vectors\n",
        "    def vectorized_x(self):\n",
        "        self.padding_x() \n",
        "        self.data.x = np.array(self.data.x, dtype=\"float32\")\n",
        "    def vectorized_y(self):\n",
        "        self.padding_y()\n",
        "        self.data.y = [[to_categorical(tag, num_classes=len(Data.unique_ner_tags)) for tag in tags] for tags in self.data.y]\n",
        "        self.data.y = np.array(self.data.y, dtype='float32')"
      ]
    },
    {
      "cell_type": "markdown",
      "metadata": {
        "id": "uMdxz6YR7fmx"
      },
      "source": [
        "# Main"
      ]
    },
    {
      "cell_type": "markdown",
      "metadata": {
        "id": "YuBmz4tX7fmx"
      },
      "source": [
        "## Pretraining for CONLL2003"
      ]
    },
    {
      "cell_type": "code",
      "execution_count": 30,
      "metadata": {
        "id": "IgS5eRZ07fmy"
      },
      "outputs": [],
      "source": [
        "\n",
        "def pretraining_CoNLL3(path: str):\n",
        "    data = Data()\n",
        "    base_file = \"conll2003_english/\"\n",
        "    # base_file = \"/content/NERC/conll2003_english/\"\n",
        "    Loading(data = data, file=base_file + path)\n",
        "    preprocessing = Preprocessing(data=data)\n",
        "    preprocessing.lowercasing()\n",
        "    preprocessing.lemmatize()\n",
        "    vector = Vectorization(data=data)\n",
        "    vector.vectorized_x()\n",
        "    vector.vectorized_y()\n",
        "    return data\n",
        "    \n",
        "\n",
        "    # Loading(data = test, file=base_file + \"test.txt\")"
      ]
    },
    {
      "cell_type": "markdown",
      "metadata": {
        "id": "_Va_j-4a7fmy"
      },
      "source": [
        "## Define Trainset"
      ]
    },
    {
      "cell_type": "code",
      "execution_count": 31,
      "metadata": {
        "colab": {
          "base_uri": "https://localhost:8080/"
        },
        "id": "98BvT-KZ7fmy",
        "outputId": "e26544b0-f241-4d41-89ab-0910ddc5a881"
      },
      "outputs": [
        {
          "name": "stdout",
          "output_type": "stream",
          "text": [
            "Loading successfully\n",
            "['eu', 'reject', 'german', 'call', 'to', 'boycott', 'british', 'lamb', '.']\n",
            "['B-ORG', 'O', 'B-MISC', 'O', 'O', 'O', 'B-MISC', 'O', 'O']\n"
          ]
        }
      ],
      "source": [
        "train = pretraining_CoNLL3(\"train.txt\")\n",
        "print(train.sentences[0])\n",
        "print(train.ner_tags[0])"
      ]
    },
    {
      "cell_type": "code",
      "execution_count": 32,
      "metadata": {
        "colab": {
          "base_uri": "https://localhost:8080/"
        },
        "id": "ZPa8HLL37fmz",
        "outputId": "92840fc8-f9f5-42af-8d0a-dc5e7e46f6df"
      },
      "outputs": [
        {
          "name": "stdout",
          "output_type": "stream",
          "text": [
            "['eu', 'reject', 'german', 'call', 'to', 'boycott', 'british', 'lamb', '.']\n",
            "['B-ORG', 'O', 'B-MISC', 'O', 'O', 'O', 'B-MISC', 'O', 'O']\n"
          ]
        }
      ],
      "source": [
        "print(train.sentences[0])\n",
        "print(train.ner_tags[0])"
      ]
    },
    {
      "cell_type": "code",
      "execution_count": 33,
      "metadata": {
        "colab": {
          "base_uri": "https://localhost:8080/"
        },
        "id": "Q2pKioKJ7fmz",
        "outputId": "5fb88277-b699-422e-dd1f-b126b70bcc0d"
      },
      "outputs": [
        {
          "name": "stdout",
          "output_type": "stream",
          "text": [
            "X_train (14041, 200, 100)\n",
            "y_train (14041, 200, 9)\n",
            "<class 'numpy.ndarray'>\n"
          ]
        }
      ],
      "source": [
        "print(\"X_train\", train.x.shape)\n",
        "print(\"y_train\", train.y.shape)\n",
        "print(type(train.x))"
      ]
    },
    {
      "cell_type": "markdown",
      "metadata": {
        "id": "_BIDobBn7fmz"
      },
      "source": [
        "## Define Testset"
      ]
    },
    {
      "cell_type": "code",
      "execution_count": 34,
      "metadata": {
        "colab": {
          "base_uri": "https://localhost:8080/"
        },
        "id": "EF6pOLaH7fm0",
        "outputId": "43e57fd8-a733-4d54-9ca7-61bf5f2cbe8a"
      },
      "outputs": [
        {
          "name": "stdout",
          "output_type": "stream",
          "text": [
            "Loading successfully\n",
            "X_test (3453, 200, 100)\n",
            "y_test (3453, 200, 9)\n"
          ]
        }
      ],
      "source": [
        "test = pretraining_CoNLL3(\"test.txt\")\n",
        "print(\"X_test\", test.x.shape)\n",
        "print(\"y_test\", test.y.shape)"
      ]
    },
    {
      "cell_type": "markdown",
      "metadata": {
        "id": "W-_Vp6Gi7fm0"
      },
      "source": [
        "## Define ValidSet"
      ]
    },
    {
      "cell_type": "code",
      "execution_count": 37,
      "metadata": {
        "colab": {
          "base_uri": "https://localhost:8080/"
        },
        "id": "Jjx5X89s7fm0",
        "outputId": "7f7442d8-4a5d-499f-9267-431f7a22616d"
      },
      "outputs": [
        {
          "name": "stdout",
          "output_type": "stream",
          "text": [
            "Loading successfully\n",
            "X_valid (3250, 200, 100)\n",
            "y_valid (3250, 200, 9)\n"
          ]
        }
      ],
      "source": [
        "valid = pretraining_CoNLL3(\"valid.txt\")\n",
        "print(\"X_valid\", valid.x.shape)\n",
        "print(\"y_valid\", valid.y.shape)"
      ]
    },
    {
      "cell_type": "markdown",
      "metadata": {
        "id": "2NFpti3H7fm0"
      },
      "source": [
        "## New input text"
      ]
    },
    {
      "cell_type": "code",
      "execution_count": null,
      "metadata": {
        "id": "_jGe-JDa7fm1"
      },
      "outputs": [],
      "source": [
        "test_text = Data()\n",
        "\n",
        "preprocessing = Preprocessing(data = test_text, text = \"Obama is the president of the United States. I am from Guinea, nice to meet you.\")\n",
        "preprocessing.tokenize()\n",
        "preprocessing.lowercasing()\n",
        "preprocessing.lemmatize()\n",
        "print(test_text.sentences)\n",
        "\n",
        "vector = Vectorization(test_text)\n",
        "vector.vectorized_x()\n",
        "print(test_text.x.shape)"
      ]
    },
    {
      "cell_type": "markdown",
      "metadata": {
        "id": "F08w-hsB7fm1"
      },
      "source": [
        "# Trainning"
      ]
    },
    {
      "cell_type": "code",
      "execution_count": 35,
      "metadata": {
        "colab": {
          "base_uri": "https://localhost:8080/"
        },
        "id": "-M4-ULUI7fm1",
        "outputId": "cc2a052c-7553-4cb5-bdfd-6492856f3e14"
      },
      "outputs": [
        {
          "name": "stdout",
          "output_type": "stream",
          "text": [
            "200 9 8050 100\n"
          ]
        }
      ],
      "source": [
        "NUM_WORDS = len(Data.unique_words)\n",
        "NUM_CLASSES = len(Data.unique_ner_tags)\n",
        "MAX_LENGTH = Data.MAX_LENGTH\n",
        "OUTPUT_DIM = 100\n",
        "print(MAX_LENGTH, NUM_CLASSES, NUM_WORDS, OUTPUT_DIM)\n",
        "# Hyperparameters\n",
        "EMBEDDING_DIM = 100\n",
        "NUM_FILTERS = 256\n",
        "KERNEL_SIZE = 3\n",
        "HIDDEN_DIM = 200\n",
        "DROPOUT_RATE = 0.5\n",
        "BATCH_SIZE = 32\n",
        "EPOCHS = 10\n"
      ]
    },
    {
      "cell_type": "code",
      "execution_count": 38,
      "metadata": {
        "colab": {
          "base_uri": "https://localhost:8080/"
        },
        "id": "BXSF50RS7fm1",
        "outputId": "3aa23786-39e2-4b4f-eb60-e5f61813c7fd"
      },
      "outputs": [
        {
          "name": "stdout",
          "output_type": "stream",
          "text": [
            "Epoch 1/10\n",
            "439/439 [==============================] - 15s 10ms/step - loss: 0.2478 - accuracy: 0.9856 - val_loss: 0.0666 - val_accuracy: 0.9868\n",
            "Epoch 2/10\n",
            "439/439 [==============================] - 3s 6ms/step - loss: 0.0456 - accuracy: 0.9889 - val_loss: 0.0654 - val_accuracy: 0.9868\n",
            "Epoch 3/10\n",
            "439/439 [==============================] - 3s 7ms/step - loss: 0.0432 - accuracy: 0.9892 - val_loss: 0.0611 - val_accuracy: 0.9868\n",
            "Epoch 4/10\n",
            "439/439 [==============================] - 3s 7ms/step - loss: 0.0416 - accuracy: 0.9893 - val_loss: 0.0614 - val_accuracy: 0.9868\n",
            "Epoch 5/10\n",
            "439/439 [==============================] - 3s 8ms/step - loss: 0.0407 - accuracy: 0.9894 - val_loss: 0.0588 - val_accuracy: 0.9868\n",
            "Epoch 6/10\n",
            "439/439 [==============================] - 3s 7ms/step - loss: 0.0401 - accuracy: 0.9895 - val_loss: 0.0593 - val_accuracy: 0.9868\n",
            "Epoch 7/10\n",
            "439/439 [==============================] - 3s 7ms/step - loss: 0.0394 - accuracy: 0.9896 - val_loss: 0.0592 - val_accuracy: 0.9868\n",
            "Epoch 8/10\n",
            "439/439 [==============================] - 3s 6ms/step - loss: 0.0389 - accuracy: 0.9896 - val_loss: 0.0599 - val_accuracy: 0.9867\n",
            "Epoch 9/10\n",
            "439/439 [==============================] - 3s 8ms/step - loss: 0.0386 - accuracy: 0.9897 - val_loss: 0.0599 - val_accuracy: 0.9868\n",
            "Epoch 10/10\n",
            "439/439 [==============================] - 3s 6ms/step - loss: 0.0382 - accuracy: 0.9897 - val_loss: 0.0615 - val_accuracy: 0.9867\n"
          ]
        },
        {
          "data": {
            "text/plain": [
              "<keras.callbacks.History at 0x7f278e4a3850>"
            ]
          },
          "execution_count": 38,
          "metadata": {},
          "output_type": "execute_result"
        }
      ],
      "source": [
        "# from sklearn.feature_extraction.text import TfidfVectorizer\n",
        "from keras.models import Sequential\n",
        "from keras.layers import Dense, Dropout, Conv1D, MaxPooling1D\n",
        "\n",
        "\n",
        "# Build CNN model\n",
        "model = Sequential()\n",
        "model.add(Conv1D(64, KERNEL_SIZE, activation='relu', input_shape=(MAX_LENGTH, EMBEDDING_DIM), padding='same'))\n",
        "# model.add(MaxPooling1D(2, padding='same'))\n",
        "model.add(Dropout(DROPOUT_RATE))\n",
        "model.add(Conv1D(32, KERNEL_SIZE, activation='relu', padding='same'))\n",
        "# model.add(MaxPooling1D(2))\n",
        "# model.add(Dropout(DROPOUT_RATE))\n",
        "# model.add(Dense(HIDDEN_DIM, activation='relu'))\n",
        "model.add(Dropout(DROPOUT_RATE))\n",
        "model.add(Dense(NUM_CLASSES, activation='softmax'))\n",
        "model.compile(loss='categorical_crossentropy', optimizer='adam', metrics=['accuracy'])\n",
        "# model.summary()\n",
        "# Train CNN model\n",
        "model.fit(train.x, train.y, batch_size=BATCH_SIZE, epochs=EPOCHS, validation_data=(valid.x, valid.y))"
      ]
    },
    {
      "cell_type": "code",
      "execution_count": 39,
      "metadata": {
        "id": "SeA3oDJZ7fm2"
      },
      "outputs": [],
      "source": [
        "model.save(\"model_cnn.keras\")"
      ]
    },
    {
      "cell_type": "code",
      "execution_count": 40,
      "metadata": {
        "id": "wAddNuYK7fm2"
      },
      "outputs": [],
      "source": [
        "_model = tf.keras.models.load_model(\"model_cnn.keras\")cnn"
      ]
    },
    {
      "cell_type": "code",
      "execution_count": 42,
      "metadata": {
        "colab": {
          "base_uri": "https://localhost:8080/"
        },
        "id": "f92nkstlDMie",
        "outputId": "3632540b-537a-4297-da5c-231ee51a042e"
      },
      "outputs": [
        {
          "name": "stdout",
          "output_type": "stream",
          "text": [
            "Looking in indexes: https://pypi.org/simple, https://us-python.pkg.dev/colab-wheels/public/simple/\n",
            "Collecting git+https://www.github.com/keras-team/keras-contrib.git\n",
            "  Cloning https://www.github.com/keras-team/keras-contrib.git to /tmp/pip-req-build-5lzsr_mu\n",
            "  Running command git clone --filter=blob:none --quiet https://www.github.com/keras-team/keras-contrib.git /tmp/pip-req-build-5lzsr_mu\n",
            "  warning: redirecting to https://github.com/keras-team/keras-contrib.git/\n",
            "  Resolved https://www.github.com/keras-team/keras-contrib.git to commit 3fc5ef709e061416f4bc8a92ca3750c824b5d2b0\n",
            "  Preparing metadata (setup.py) ... \u001b[?25l\u001b[?25hdone\n",
            "Requirement already satisfied: keras in /usr/local/lib/python3.9/dist-packages (from keras-contrib==2.0.8) (2.12.0)\n",
            "Building wheels for collected packages: keras-contrib\n",
            "  Building wheel for keras-contrib (setup.py) ... \u001b[?25l\u001b[?25hdone\n",
            "  Created wheel for keras-contrib: filename=keras_contrib-2.0.8-py3-none-any.whl size=101078 sha256=55a2a0d40a72b548f1f5b128d839fdee9220ebac1f1d7f8d10da165a59deca28\n",
            "  Stored in directory: /tmp/pip-ephem-wheel-cache-viuln86z/wheels/83/b3/99/125cd08d3e8224b434b1b4badd6f8b2651e0251b7e8f983e60\n",
            "Successfully built keras-contrib\n",
            "Installing collected packages: keras-contrib\n",
            "Successfully installed keras-contrib-2.0.8\n"
          ]
        }
      ],
      "source": [
        "# pip install git+https://www.github.com/keras-team/keras-contrib.git # For google colab."
      ]
    },
    {
      "cell_type": "code",
      "execution_count": 43,
      "metadata": {
        "colab": {
          "base_uri": "https://localhost:8080/"
        },
        "id": "h6NzCtDi7fm2",
        "outputId": "40ca18f3-a6d2-4478-ac28-d69d1bba8561"
      },
      "outputs": [
        {
          "name": "stdout",
          "output_type": "stream",
          "text": [
            "Model: \"sequential_1\"\n",
            "_________________________________________________________________\n",
            " Layer (type)                Output Shape              Param #   \n",
            "=================================================================\n",
            " conv1d_2 (Conv1D)           (None, 200, 64)           19264     \n",
            "                                                                 \n",
            " dropout_2 (Dropout)         (None, 200, 64)           0         \n",
            "                                                                 \n",
            " conv1d_3 (Conv1D)           (None, 200, 32)           6176      \n",
            "                                                                 \n",
            " dropout_3 (Dropout)         (None, 200, 32)           0         \n",
            "                                                                 \n",
            " dense_1 (Dense)             (None, 200, 9)            297       \n",
            "                                                                 \n",
            " crf (CRF)                   (None, 200, 9)            189       \n",
            "                                                                 \n",
            "=================================================================\n",
            "Total params: 25,926\n",
            "Trainable params: 25,926\n",
            "Non-trainable params: 0\n",
            "_________________________________________________________________\n"
          ]
        },
        {
          "name": "stderr",
          "output_type": "stream",
          "text": [
            "/usr/local/lib/python3.9/dist-packages/keras_contrib/layers/crf.py:346: UserWarning: CRF.loss_function is deprecated and it might be removed in the future. Please use losses.crf_loss instead.\n",
            "  warnings.warn('CRF.loss_function is deprecated '\n",
            "/usr/local/lib/python3.9/dist-packages/keras_contrib/layers/crf.py:353: UserWarning: CRF.accuracy is deprecated and it might be removed in the future. Please use metrics.crf_accuracy\n",
            "  warnings.warn('CRF.accuracy is deprecated and it '\n"
          ]
        }
      ],
      "source": [
        "from keras_contrib.layers import CRF\n",
        "\n",
        "# cnn_model.trainable = False \n",
        "\n",
        "# Build CRF layer\n",
        "crf = CRF(NUM_CLASSES, learn_mode='marginal')\n",
        "cnn_model.add(crf)\n",
        "cnn_model.compile(loss=crf.loss_function, optimizer='adam', metrics=[crf.accuracy])\n",
        "\n",
        "cnn_model.summary()"
      ]
    },
    {
      "cell_type": "code",
      "execution_count": 47,
      "metadata": {
        "colab": {
          "base_uri": "https://localhost:8080/",
          "height": 449
        },
        "id": "3oPcvBYh7fm2",
        "outputId": "cc363beb-e942-4fcc-82ec-ca17fb3a6620"
      },
      "outputs": [
        {
          "name": "stdout",
          "output_type": "stream",
          "text": [
            "Epoch 1/10\n"
          ]
        },
        {
          "ename": "AttributeError",
          "evalue": "ignored",
          "output_type": "error",
          "traceback": [
            "\u001b[0;31m---------------------------------------------------------------------------\u001b[0m",
            "\u001b[0;31mAttributeError\u001b[0m                            Traceback (most recent call last)",
            "\u001b[0;32m<ipython-input-47-c49085b5394f>\u001b[0m in \u001b[0;36m<cell line: 1>\u001b[0;34m()\u001b[0m\n\u001b[0;32m----> 1\u001b[0;31m \u001b[0mcnn_model\u001b[0m\u001b[0;34m.\u001b[0m\u001b[0mfit\u001b[0m\u001b[0;34m(\u001b[0m\u001b[0mtrain\u001b[0m\u001b[0;34m.\u001b[0m\u001b[0mx\u001b[0m\u001b[0;34m,\u001b[0m \u001b[0mtrain\u001b[0m\u001b[0;34m.\u001b[0m\u001b[0my\u001b[0m\u001b[0;34m,\u001b[0m \u001b[0mbatch_size\u001b[0m\u001b[0;34m=\u001b[0m\u001b[0mBATCH_SIZE\u001b[0m\u001b[0;34m,\u001b[0m \u001b[0mepochs\u001b[0m\u001b[0;34m=\u001b[0m\u001b[0mEPOCHS\u001b[0m\u001b[0;34m,\u001b[0m \u001b[0mvalidation_data\u001b[0m\u001b[0;34m=\u001b[0m\u001b[0;34m(\u001b[0m\u001b[0mvalid\u001b[0m\u001b[0;34m.\u001b[0m\u001b[0mx\u001b[0m\u001b[0;34m,\u001b[0m \u001b[0mvalid\u001b[0m\u001b[0;34m.\u001b[0m\u001b[0my\u001b[0m\u001b[0;34m)\u001b[0m\u001b[0;34m)\u001b[0m\u001b[0;34m\u001b[0m\u001b[0;34m\u001b[0m\u001b[0m\n\u001b[0m",
            "\u001b[0;32m/usr/local/lib/python3.9/dist-packages/keras/utils/traceback_utils.py\u001b[0m in \u001b[0;36merror_handler\u001b[0;34m(*args, **kwargs)\u001b[0m\n\u001b[1;32m     68\u001b[0m             \u001b[0;31m# To get the full stack trace, call:\u001b[0m\u001b[0;34m\u001b[0m\u001b[0;34m\u001b[0m\u001b[0m\n\u001b[1;32m     69\u001b[0m             \u001b[0;31m# `tf.debugging.disable_traceback_filtering()`\u001b[0m\u001b[0;34m\u001b[0m\u001b[0;34m\u001b[0m\u001b[0m\n\u001b[0;32m---> 70\u001b[0;31m             \u001b[0;32mraise\u001b[0m \u001b[0me\u001b[0m\u001b[0;34m.\u001b[0m\u001b[0mwith_traceback\u001b[0m\u001b[0;34m(\u001b[0m\u001b[0mfiltered_tb\u001b[0m\u001b[0;34m)\u001b[0m \u001b[0;32mfrom\u001b[0m \u001b[0;32mNone\u001b[0m\u001b[0;34m\u001b[0m\u001b[0;34m\u001b[0m\u001b[0m\n\u001b[0m\u001b[1;32m     71\u001b[0m         \u001b[0;32mfinally\u001b[0m\u001b[0;34m:\u001b[0m\u001b[0;34m\u001b[0m\u001b[0;34m\u001b[0m\u001b[0m\n\u001b[1;32m     72\u001b[0m             \u001b[0;32mdel\u001b[0m \u001b[0mfiltered_tb\u001b[0m\u001b[0;34m\u001b[0m\u001b[0;34m\u001b[0m\u001b[0m\n",
            "\u001b[0;32m/usr/local/lib/python3.9/dist-packages/keras/engine/training.py\u001b[0m in \u001b[0;36mtf__train_function\u001b[0;34m(iterator)\u001b[0m\n\u001b[1;32m     13\u001b[0m                 \u001b[0;32mtry\u001b[0m\u001b[0;34m:\u001b[0m\u001b[0;34m\u001b[0m\u001b[0;34m\u001b[0m\u001b[0m\n\u001b[1;32m     14\u001b[0m                     \u001b[0mdo_return\u001b[0m \u001b[0;34m=\u001b[0m \u001b[0;32mTrue\u001b[0m\u001b[0;34m\u001b[0m\u001b[0;34m\u001b[0m\u001b[0m\n\u001b[0;32m---> 15\u001b[0;31m                     \u001b[0mretval_\u001b[0m \u001b[0;34m=\u001b[0m \u001b[0mag__\u001b[0m\u001b[0;34m.\u001b[0m\u001b[0mconverted_call\u001b[0m\u001b[0;34m(\u001b[0m\u001b[0mag__\u001b[0m\u001b[0;34m.\u001b[0m\u001b[0mld\u001b[0m\u001b[0;34m(\u001b[0m\u001b[0mstep_function\u001b[0m\u001b[0;34m)\u001b[0m\u001b[0;34m,\u001b[0m \u001b[0;34m(\u001b[0m\u001b[0mag__\u001b[0m\u001b[0;34m.\u001b[0m\u001b[0mld\u001b[0m\u001b[0;34m(\u001b[0m\u001b[0mself\u001b[0m\u001b[0;34m)\u001b[0m\u001b[0;34m,\u001b[0m \u001b[0mag__\u001b[0m\u001b[0;34m.\u001b[0m\u001b[0mld\u001b[0m\u001b[0;34m(\u001b[0m\u001b[0miterator\u001b[0m\u001b[0;34m)\u001b[0m\u001b[0;34m)\u001b[0m\u001b[0;34m,\u001b[0m \u001b[0;32mNone\u001b[0m\u001b[0;34m,\u001b[0m \u001b[0mfscope\u001b[0m\u001b[0;34m)\u001b[0m\u001b[0;34m\u001b[0m\u001b[0;34m\u001b[0m\u001b[0m\n\u001b[0m\u001b[1;32m     16\u001b[0m                 \u001b[0;32mexcept\u001b[0m\u001b[0;34m:\u001b[0m\u001b[0;34m\u001b[0m\u001b[0;34m\u001b[0m\u001b[0m\n\u001b[1;32m     17\u001b[0m                     \u001b[0mdo_return\u001b[0m \u001b[0;34m=\u001b[0m \u001b[0;32mFalse\u001b[0m\u001b[0;34m\u001b[0m\u001b[0;34m\u001b[0m\u001b[0m\n",
            "\u001b[0;32m/usr/local/lib/python3.9/dist-packages/keras_contrib/losses/crf_losses.py\u001b[0m in \u001b[0;36mtf__crf_loss\u001b[0;34m(y_true, y_pred)\u001b[0m\n\u001b[1;32m     23\u001b[0m                 \u001b[0mdo_return\u001b[0m \u001b[0;34m=\u001b[0m \u001b[0;32mFalse\u001b[0m\u001b[0;34m\u001b[0m\u001b[0;34m\u001b[0m\u001b[0m\n\u001b[1;32m     24\u001b[0m                 \u001b[0mretval_\u001b[0m \u001b[0;34m=\u001b[0m \u001b[0mag__\u001b[0m\u001b[0;34m.\u001b[0m\u001b[0mUndefinedReturnValue\u001b[0m\u001b[0;34m(\u001b[0m\u001b[0;34m)\u001b[0m\u001b[0;34m\u001b[0m\u001b[0;34m\u001b[0m\u001b[0m\n\u001b[0;32m---> 25\u001b[0;31m                 \u001b[0;34m(\u001b[0m\u001b[0mcrf\u001b[0m\u001b[0;34m,\u001b[0m \u001b[0midx\u001b[0m\u001b[0;34m)\u001b[0m \u001b[0;34m=\u001b[0m \u001b[0mag__\u001b[0m\u001b[0;34m.\u001b[0m\u001b[0mld\u001b[0m\u001b[0;34m(\u001b[0m\u001b[0my_pred\u001b[0m\u001b[0;34m)\u001b[0m\u001b[0;34m.\u001b[0m\u001b[0m_keras_history\u001b[0m\u001b[0;34m[\u001b[0m\u001b[0;34m:\u001b[0m\u001b[0;36m2\u001b[0m\u001b[0;34m]\u001b[0m\u001b[0;34m\u001b[0m\u001b[0;34m\u001b[0m\u001b[0m\n\u001b[0m\u001b[1;32m     26\u001b[0m \u001b[0;34m\u001b[0m\u001b[0m\n\u001b[1;32m     27\u001b[0m                 \u001b[0;32mdef\u001b[0m \u001b[0mget_state_1\u001b[0m\u001b[0;34m(\u001b[0m\u001b[0;34m)\u001b[0m\u001b[0;34m:\u001b[0m\u001b[0;34m\u001b[0m\u001b[0;34m\u001b[0m\u001b[0m\n",
            "\u001b[0;31mAttributeError\u001b[0m: in user code:\n\n    File \"/usr/local/lib/python3.9/dist-packages/keras/engine/training.py\", line 1284, in train_function  *\n        return step_function(self, iterator)\n    File \"/usr/local/lib/python3.9/dist-packages/keras_contrib/losses/crf_losses.py\", line 54, in crf_loss  *\n        crf, idx = y_pred._keras_history[:2]\n\n    AttributeError: 'Tensor' object has no attribute '_keras_history'\n"
          ]
        }
      ],
      "source": [
        "cnn_model.fit(train.x, train.y, batch_size=BATCH_SIZE, epochs=EPOCHS, validation_data=(valid.x, valid.y))"
      ]
    },
    {
      "cell_type": "code",
      "execution_count": null,
      "metadata": {
        "id": "dKEJ4FA7HsTu"
      },
      "outputs": [],
      "source": []
    },
    {
      "cell_type": "markdown",
      "metadata": {
        "id": "PEctuVg7HirO"
      },
      "source": [
        "## Model LSTM"
      ]
    },
    {
      "cell_type": "code",
      "execution_count": 45,
      "metadata": {
        "colab": {
          "base_uri": "https://localhost:8080/"
        },
        "id": "hW0Culvw7fm5",
        "outputId": "ec57e710-5666-4ae7-a410-01d8b7e7e28b"
      },
      "outputs": [
        {
          "name": "stdout",
          "output_type": "stream",
          "text": [
            "Model: \"sequential_2\"\n",
            "_________________________________________________________________\n",
            " Layer (type)                Output Shape              Param #   \n",
            "=================================================================\n",
            " lstm (LSTM)                 (None, 200, 128)          117248    \n",
            "                                                                 \n",
            " lstm_1 (LSTM)               (None, 200, 64)           49408     \n",
            "                                                                 \n",
            " dense_2 (Dense)             (None, 200, 9)            585       \n",
            "                                                                 \n",
            "=================================================================\n",
            "Total params: 167,241\n",
            "Trainable params: 167,241\n",
            "Non-trainable params: 0\n",
            "_________________________________________________________________\n"
          ]
        }
      ],
      "source": [
        "from keras.models import Sequential\n",
        "from keras.layers import LSTM, Dense\n",
        "\n",
        "# Define the model architecture\n",
        "model_LSTM = Sequential()\n",
        "model_LSTM.add(LSTM(128, input_shape=(MAX_LENGTH, EMBEDDING_DIM), return_sequences=True))\n",
        "model_LSTM.add(LSTM(64, return_sequences=True))\n",
        "model_LSTM.add(Dense(9, activation='softmax'))\n",
        "\n",
        "model_LSTM.summary()"
      ]
    },
    {
      "cell_type": "code",
      "execution_count": 46,
      "metadata": {
        "colab": {
          "base_uri": "https://localhost:8080/"
        },
        "id": "eNXOuPu67fm6",
        "outputId": "aa7b7f0f-9060-4c8d-eadf-cc29705a38e1"
      },
      "outputs": [
        {
          "name": "stdout",
          "output_type": "stream",
          "text": [
            "Epoch 1/10\n",
            "439/439 [==============================] - 17s 23ms/step - loss: 0.0927 - accuracy: 0.9856 - val_loss: 0.0657 - val_accuracy: 0.9868\n",
            "Epoch 2/10\n",
            "439/439 [==============================] - 8s 19ms/step - loss: 0.0424 - accuracy: 0.9881 - val_loss: 0.0661 - val_accuracy: 0.9865\n",
            "Epoch 3/10\n",
            "439/439 [==============================] - 8s 18ms/step - loss: 0.0381 - accuracy: 0.9891 - val_loss: 0.0677 - val_accuracy: 0.9863\n",
            "Epoch 4/10\n",
            "439/439 [==============================] - 9s 20ms/step - loss: 0.0354 - accuracy: 0.9898 - val_loss: 0.0697 - val_accuracy: 0.9840\n",
            "Epoch 5/10\n",
            "439/439 [==============================] - 9s 20ms/step - loss: 0.0338 - accuracy: 0.9900 - val_loss: 0.0723 - val_accuracy: 0.9852\n",
            "Epoch 6/10\n",
            "439/439 [==============================] - 8s 18ms/step - loss: 0.0324 - accuracy: 0.9903 - val_loss: 0.0704 - val_accuracy: 0.9864\n",
            "Epoch 7/10\n",
            "439/439 [==============================] - 9s 20ms/step - loss: 0.0314 - accuracy: 0.9905 - val_loss: 0.0686 - val_accuracy: 0.9861\n",
            "Epoch 8/10\n",
            "439/439 [==============================] - 9s 20ms/step - loss: 0.0305 - accuracy: 0.9909 - val_loss: 0.0685 - val_accuracy: 0.9862\n",
            "Epoch 9/10\n",
            "439/439 [==============================] - 8s 18ms/step - loss: 0.0296 - accuracy: 0.9911 - val_loss: 0.0718 - val_accuracy: 0.9853\n",
            "Epoch 10/10\n",
            "439/439 [==============================] - 9s 20ms/step - loss: 0.0290 - accuracy: 0.9914 - val_loss: 0.0694 - val_accuracy: 0.9838\n"
          ]
        },
        {
          "data": {
            "text/plain": [
              "<keras.callbacks.History at 0x7f27f5d50fa0>"
            ]
          },
          "execution_count": 46,
          "metadata": {},
          "output_type": "execute_result"
        }
      ],
      "source": [
        "# Compile the model\n",
        "model_LSTM.compile(optimizer='adam', loss='categorical_crossentropy', metrics=['accuracy'])\n",
        "\n",
        "# Train the model\n",
        "model_LSTM.fit(train.x, train.y, batch_size=BATCH_SIZE, epochs=EPOCHS, validation_data=(valid.x, valid.y))"
      ]
    },
    {
      "cell_type": "code",
      "execution_count": null,
      "metadata": {
        "id": "R1pZQGij7fm6"
      },
      "outputs": [],
      "source": [
        "# Evaluation\n",
        "loss, accuracy = model.evaluate(test.x, test.y, batch_size=32)\n",
        "\n",
        "print('Test Loss:', loss)\n",
        "print('Test Accuracy:', accuracy)"
      ]
    }
  ],
  "metadata": {
    "accelerator": "GPU",
    "colab": {
      "provenance": []
    },
    "gpuClass": "standard",
    "kernelspec": {
      "display_name": "Python 3",
      "language": "python",
      "name": "python3"
    },
    "language_info": {
      "codemirror_mode": {
        "name": "ipython",
        "version": 3
      },
      "file_extension": ".py",
      "mimetype": "text/x-python",
      "name": "python",
      "nbconvert_exporter": "python",
      "pygments_lexer": "ipython3",
      "version": "3.9.13"
    },
    "orig_nbformat": 4
  },
  "nbformat": 4,
  "nbformat_minor": 0
}

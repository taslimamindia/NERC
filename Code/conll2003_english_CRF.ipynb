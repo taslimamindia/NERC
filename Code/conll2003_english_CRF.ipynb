{
  "cells": [
    {
      "cell_type": "code",
      "execution_count": 29,
      "metadata": {
        "id": "lJ-tKnxA74KU"
      },
      "outputs": [],
      "source": [
        "# !git clone https://github.com/taslimamindia/NERC.git"
      ]
    },
    {
      "cell_type": "markdown",
      "metadata": {
        "id": "3fcvRYZ97fmq"
      },
      "source": [
        "# Importation"
      ]
    },
    {
      "cell_type": "code",
      "execution_count": 30,
      "metadata": {
        "id": "tou31yST7fmt"
      },
      "outputs": [],
      "source": [
        "import pandas as pd\n",
        "\n",
        "import numpy as np\n",
        "\n",
        "from nltk import word_tokenize, sent_tokenize, download\n",
        "from nltk.corpus import stopwords\n",
        "from nltk.stem import WordNetLemmatizer\n",
        "\n",
        "from gensim.models import Word2Vec\n",
        "\n",
        "import tensorflow as tf\n",
        "\n",
        "from keras.layers import Embedding\n",
        "from keras.utils import to_categorical, pad_sequences"
      ]
    },
    {
      "cell_type": "code",
      "execution_count": 31,
      "metadata": {
        "id": "qZ9h38D29wUb"
      },
      "outputs": [],
      "source": [
        "# download('wordnet') # for google colab"
      ]
    },
    {
      "cell_type": "markdown",
      "metadata": {
        "id": "mkK1C7mp7fmu"
      },
      "source": [
        "# Class define form data."
      ]
    },
    {
      "cell_type": "code",
      "execution_count": 32,
      "metadata": {
        "id": "tsvoLVPY7fmu"
      },
      "outputs": [],
      "source": [
        "class Data(object):\n",
        "    unique_words = {\"<PAD>\":0}\n",
        "    unique_ner_tags = {}\n",
        "    MAX_LENGTH = 200\n",
        "    VOCAB_SIZE = 100\n",
        "    def __init__(self):\n",
        "        self.sentences = []\n",
        "        self.sentences_num = None\n",
        "        self.ner_tags = []\n",
        "        self.ner_tags_num = None\n",
        "        self.chunk_tags = []\n",
        "        self.pos_tags = []\n",
        "        self.x, self.y = None, None\n",
        "    def word2vec(self, vector_size=100):\n",
        "        VOCAB_SIZE = vector_size\n",
        "        word2vec_model = Word2Vec(self.sentences, vector_size=vector_size, window=5, min_count=1, workers=4)\n",
        "        return word2vec_model   \n",
        "    def word2idx(self, word:str):\n",
        "        return Data.unique_words.get(word, None)\n",
        "    def idx2word(self, index:int):\n",
        "        for word, value in Data.unique_words.items():\n",
        "            if index is value: return word\n",
        "        return None    \n",
        "    def tag2idx(self, tag):\n",
        "        return Data.unique_ner_tags.get(tag, None)\n",
        "    def idx2tag(self, index):\n",
        "        for tag, value in Data.unique_ner_tags.items():\n",
        "            if index == value: return tag\n",
        "        return None\n",
        "    def unicity(self):\n",
        "        unique_sent, unique_tag = set(), set()\n",
        "        [unique_tag.update(tags) for tags in self.ner_tags_num]\n",
        "        [unique_sent.update(tags) for tags in self.sentences_num]\n",
        "        max_tags = len(Data.unique_ner_tags)\n",
        "        max_words = len(Data.unique_words)\n",
        "        for word in list(unique_sent):\n",
        "            if Data.unique_words.get(word, None) == None:\n",
        "                Data.unique_words[word] = max_words\n",
        "                max_words += 1\n",
        "        for tag in list(unique_tag):\n",
        "            if Data.unique_ner_tags.get(tag, None) == None:\n",
        "                Data.unique_ner_tags[tag] = max_tags\n",
        "                max_tags += 1\n"
      ]
    },
    {
      "cell_type": "markdown",
      "metadata": {
        "id": "VxLQFuLO7fmv"
      },
      "source": [
        "# Loading data"
      ]
    },
    {
      "cell_type": "code",
      "execution_count": 33,
      "metadata": {
        "id": "NzjCn5tW7fmv"
      },
      "outputs": [],
      "source": [
        "class Loading():\n",
        "    def __init__(self, data: Data, file):\n",
        "        self.data = data\n",
        "        self.load_sentences(file)\n",
        "        print(\"Loading successfully\")\n",
        "    def load_sentences(self, filepath):\n",
        "        tokens, pos_tags, chunk_tags, ner_tags = [], [], [], []\n",
        "        with open(filepath, 'r') as f:\n",
        "            for line in f.readlines():\n",
        "                if (line == ('-DOCSTART- -X- -X- O\\n') or line == '\\n'):\n",
        "                    if len(tokens) > 0:\n",
        "                        self.data.sentences.append(tokens)\n",
        "                        self.data.pos_tags.append(pos_tags)\n",
        "                        self.data.chunk_tags.append(chunk_tags)\n",
        "                        self.data.ner_tags.append(ner_tags)\n",
        "                        tokens, pos_tags, chunk_tags, ner_tags = [], [], [], []\n",
        "                else:\n",
        "                    l = line.split(' ')\n",
        "                    tokens.append(l[0])\n",
        "                    pos_tags.append(l[1])\n",
        "                    chunk_tags.append(l[2])\n",
        "                    ner_tags.append(l[3].strip('\\n'))"
      ]
    },
    {
      "cell_type": "markdown",
      "metadata": {
        "id": "I9vvnsDR7fmv"
      },
      "source": [
        "# Preprocessing"
      ]
    },
    {
      "cell_type": "code",
      "execution_count": 34,
      "metadata": {
        "id": "3Rbc4nVU7fmw"
      },
      "outputs": [],
      "source": [
        "class Preprocessing():\n",
        "    def __init__(self, data:Data, text=None, lang=\"english\"):\n",
        "        self.data = data\n",
        "        self.text = text\n",
        "        self.lang = lang\n",
        "        if text == None:\n",
        "          self.data.sentences_num = self.data.sentences\n",
        "          self.data.ner_tags_num = self.data.ner_tags\n",
        "    def tokenize(self):\n",
        "        if self.text != None:\n",
        "            sentenses = [word_tokenize(sentence, language=self.lang) for sentence in sent_tokenize(self.text, language=self.lang)]\n",
        "            self.data.sentences = [[token for token in sentence if token not in stopwords.words(self.lang)] for sentence in sentenses]\n",
        "            self.data.sentences_num = self.data.sentences\n",
        "    def lowercasing(self):\n",
        "        self.data.sentences_num = [[word.lower() for word in sentence] for sentence in self.data.sentences_num]\n",
        "    def lemmatize(self):\n",
        "        lemmatizer = WordNetLemmatizer()\n",
        "        self.data.sentences_num = [[lemmatizer.lemmatize(word) for word in sentence] for sentence in self.data.sentences_num]"
      ]
    },
    {
      "cell_type": "markdown",
      "metadata": {
        "id": "T0yl2FQm7fmw"
      },
      "source": [
        "# Vectorization"
      ]
    },
    {
      "cell_type": "code",
      "execution_count": 35,
      "metadata": {
        "id": "Arjdv32N7fmw"
      },
      "outputs": [],
      "source": [
        "class Vectorization():\n",
        "    def __init__(self, data:Data):\n",
        "        self.data = data\n",
        "    def word2vec(self, min_count=1, window=5):\n",
        "        word2vec_model = Word2Vec(self.data.sentences_num, min_count=min_count, vector_size=Data.VOCAB_SIZE, window=window)\n",
        "        self.data.sentences_num = [[word2vec_model.wv[word] for word in sentence] for sentence in self.data.sentences_num]\n",
        "    def padding_x(self):\n",
        "        if len(self.data.sentences_num) > 0:\n",
        "            self.data.x = pad_sequences(\n",
        "                sequences=self.data.sentences_num, \n",
        "                maxlen=self.data.MAX_LENGTH, \n",
        "                dtype=\"float32\", \n",
        "                padding=\"post\", \n",
        "                value=np.zeros((Data.VOCAB_SIZE,), dtype=\"float32\")\n",
        "            )\n",
        "    def vectorized_x(self):\n",
        "        self.word2vec()\n",
        "        self.padding_x()\n",
        "        \n",
        "    def padding_y(self):\n",
        "        if len(self.data.ner_tags_num) > 0:\n",
        "            self.data.ner_tags_num = [[Data.unique_ner_tags.get(tag) for tag in tags] for tags in self.data.ner_tags_num]            \n",
        "            self.data.ner_tags_num = pad_sequences(\n",
        "                sequences=self.data.ner_tags_num, \n",
        "                maxlen=self.data.MAX_LENGTH,\n",
        "                padding=\"post\", \n",
        "                dtype=\"str\",\n",
        "                value=Data.unique_ner_tags.get(\"O\")\n",
        "            )\n",
        "    def word2num(self):\n",
        "        x, y = self.data.ner_tags_num.shape\n",
        "        NUM_CLASSES = len(Data.unique_ner_tags)\n",
        "        self.data.y = np.zeros((x, y, NUM_CLASSES))\n",
        "        for i in range(x):\n",
        "            for j in range(y):\n",
        "                self.data.y[i][j] = to_categorical(self.data.ner_tags_num[i][j], num_classes=NUM_CLASSES)\n",
        "    def vectorized_y(self):\n",
        "        self.padding_y()\n",
        "        self.word2num()        "
      ]
    },
    {
      "cell_type": "markdown",
      "metadata": {
        "id": "uMdxz6YR7fmx"
      },
      "source": [
        "# Main"
      ]
    },
    {
      "cell_type": "markdown",
      "metadata": {
        "id": "YuBmz4tX7fmx"
      },
      "source": [
        "## Pretraining for CONLL2003"
      ]
    },
    {
      "cell_type": "code",
      "execution_count": 36,
      "metadata": {
        "id": "IgS5eRZ07fmy"
      },
      "outputs": [],
      "source": [
        "def pretraining_CoNLL3(path: str):\n",
        "    data = Data()\n",
        "    # base_file = \"../Data/conll2003_english/\"\n",
        "    base_file = \"/content/NERC/Data/conll2003_english/\"\n",
        "    Loading(data = data, file=base_file + path)\n",
        "    return data\n",
        "\n",
        "def load(data:Data):\n",
        "    preprocessing = Preprocessing(data=data)\n",
        "    preprocessing.lowercasing()\n",
        "    preprocessing.lemmatize()\n",
        "    data.unicity()\n",
        "    \n",
        "def vectorize(data:Data):\n",
        "    vector = Vectorization(data=data)\n",
        "    vector.vectorized_x()\n",
        "    vector.vectorized_y()"
      ]
    },
    {
      "cell_type": "markdown",
      "metadata": {
        "id": "_Va_j-4a7fmy"
      },
      "source": [
        "## Define Dataset"
      ]
    },
    {
      "cell_type": "code",
      "execution_count": 37,
      "metadata": {
        "colab": {
          "base_uri": "https://localhost:8080/"
        },
        "id": "98BvT-KZ7fmy",
        "outputId": "02cd68a5-52e8-490d-c761-f0b80ecc8441"
      },
      "outputs": [
        {
          "output_type": "stream",
          "name": "stdout",
          "text": [
            "Loading successfully\n",
            "Loading successfully\n",
            "Loading successfully\n",
            "['EU', 'rejects', 'German', 'call', 'to', 'boycott', 'British', 'lamb', '.']\n",
            "['B-ORG', 'O', 'B-MISC', 'O', 'O', 'O', 'B-MISC', 'O', 'O'] \n",
            "\n",
            "X_train (14041, 200, 100)\n",
            "y_train (14041, 200, 9) \n",
            "\n",
            "<class 'numpy.ndarray'>\n",
            "X_test (3453, 200, 100)\n",
            "y_test (3453, 200, 9)\n",
            "X_valid (3250, 200, 100)\n",
            "y_valid (3250, 200, 9)\n"
          ]
        }
      ],
      "source": [
        "def loadData():\n",
        "    train = pretraining_CoNLL3(\"train.txt\")\n",
        "    test = pretraining_CoNLL3(\"test.txt\")\n",
        "    valid = pretraining_CoNLL3(\"valid.txt\")\n",
        "    \n",
        "    load(train)\n",
        "    load(test)\n",
        "    load(valid)\n",
        "    \n",
        "    vectorize(train)\n",
        "    vectorize(test)\n",
        "    vectorize(valid)\n",
        "    \n",
        "    print(train.sentences[0])\n",
        "    print(train.ner_tags[0], \"\\n\")\n",
        "    print(\"X_train\", train.x.shape)\n",
        "    print(\"y_train\", train.y.shape, \"\\n\")\n",
        "    print(type(train.x))\n",
        "    \n",
        "    print(\"X_test\", test.x.shape)\n",
        "    print(\"y_test\", test.y.shape)\n",
        "    \n",
        "    print(\"X_valid\", valid.x.shape)\n",
        "    print(\"y_valid\", valid.y.shape)\n",
        "    return train, test, valid\n",
        "\n",
        "train, test, valid = loadData()"
      ]
    },
    {
      "cell_type": "markdown",
      "metadata": {
        "id": "2NFpti3H7fm0"
      },
      "source": [
        "## New input text"
      ]
    },
    {
      "cell_type": "code",
      "execution_count": 38,
      "metadata": {
        "id": "_jGe-JDa7fm1"
      },
      "outputs": [],
      "source": [
        "# test_text = Data()\n",
        "\n",
        "# preprocessing = Preprocessing(data = test_text, text = \"Obama is the president of the United States. I am from Guinea, nice to meet you.\")\n",
        "# preprocessing.tokenize()\n",
        "# preprocessing.lowercasing()\n",
        "# preprocessing.lemmatize()\n",
        "# print(test_text.sentences)\n",
        "\n",
        "# vector = Vectorization(test_text)\n",
        "# vector.vectorized_x()\n",
        "# print(test_text.x.shape)"
      ]
    },
    {
      "cell_type": "markdown",
      "metadata": {
        "id": "F08w-hsB7fm1"
      },
      "source": [
        "# Trainning"
      ]
    },
    {
      "cell_type": "markdown",
      "metadata": {
        "id": "u6IUaT76g8Ja"
      },
      "source": [
        "### CNN model"
      ]
    },
    {
      "cell_type": "code",
      "execution_count": 39,
      "metadata": {
        "colab": {
          "base_uri": "https://localhost:8080/"
        },
        "id": "-M4-ULUI7fm1",
        "outputId": "d4b36c54-03d4-4d39-fa6b-f2fc87b079e8"
      },
      "outputs": [
        {
          "output_type": "stream",
          "name": "stdout",
          "text": [
            "200 9 25128\n"
          ]
        }
      ],
      "source": [
        "NUM_WORDS = len(Data.unique_words)\n",
        "NUM_CLASSES = len(Data.unique_ner_tags)\n",
        "MAX_LENGTH = Data.MAX_LENGTH\n",
        "# Hyperparameters\n",
        "EMBEDDING_DIM = 100\n",
        "NUM_FILTERS = 256\n",
        "KERNEL_SIZE = 3\n",
        "DROPOUT_RATE = 0.5\n",
        "BATCH_SIZE = 32\n",
        "EPOCHS = 10\n",
        "print(MAX_LENGTH, NUM_CLASSES, NUM_WORDS)"
      ]
    },
    {
      "cell_type": "code",
      "execution_count": 40,
      "metadata": {
        "id": "BXSF50RS7fm1"
      },
      "outputs": [],
      "source": [
        "# # from sklearn.feature_extraction.text import TfidfVectorizer\n",
        "# from keras.models import Sequential\n",
        "# from keras.layers import Dense, Dropout, Conv1D, MaxPooling1D\n",
        "\n",
        "\n",
        "# # Build CNN model\n",
        "# model = Sequential()\n",
        "# model.add(Conv1D(64, KERNEL_SIZE, activation='relu', input_shape=(MAX_LENGTH, EMBEDDING_DIM), padding='same'))\n",
        "# # model.add(MaxPooling1D(2, padding='same'))\n",
        "# model.add(Dropout(DROPOUT_RATE))\n",
        "# model.add(Conv1D(32, KERNEL_SIZE, activation='relu', padding='same'))\n",
        "# # model.add(MaxPooling1D(2))\n",
        "# # model.add(Dropout(DROPOUT_RATE))\n",
        "# # model.add(Dense(HIDDEN_DIM, activation='relu'))\n",
        "# model.add(Dropout(DROPOUT_RATE))\n",
        "# model.add(Dense(NUM_CLASSES, activation='softmax'))\n",
        "# model.compile(loss='categorical_crossentropy', optimizer='adam', metrics=['accuracy'])\n",
        "# model.summary()"
      ]
    },
    {
      "cell_type": "code",
      "execution_count": 41,
      "metadata": {
        "id": "T1sV-mhtTjfu"
      },
      "outputs": [],
      "source": [
        "# !pip install tf2crf"
      ]
    },
    {
      "cell_type": "code",
      "execution_count": 42,
      "metadata": {
        "id": "c0eEcWeJRv9G"
      },
      "outputs": [],
      "source": [
        "# # from sklearn.feature_extraction.text import TfidfVectorizer\n",
        "# from keras.models import Model\n",
        "# from keras.layers import Dense, Conv1D\n",
        "# from tf2crf import CRF, ModelWithCRFLoss\n",
        "# from keras import Input\n",
        "\n",
        "# # Build CNN model\n",
        "# # model = Sequential()\n",
        "# inputs = Input(shape=(MAX_LENGTH, EMBEDDING_DIM))\n",
        "# outputs = Conv1D(64, KERNEL_SIZE, activation='relu', padding='same')(inputs)\n",
        "# # model.add(MaxPooling1D(2, padding='same'))\n",
        "# # outputs = Dropout(DROPOUT_RATE)(inputs)\n",
        "# outputs = Conv1D(32, KERNEL_SIZE, activation='relu', padding='same')(inputs)\n",
        "# # model.add(MaxPooling1D(2))\n",
        "# # model.add(Dropout(DROPOUT_RATE))\n",
        "# # model.add(Dense(HIDDEN_DIM, activation='relu'))\n",
        "# # outputs = Dropout(DROPOUT_RATE)(outputs)\n",
        "# outputs = Dense(NUM_CLASSES, activation='relu')(outputs)\n",
        "# # outputs.compile(loss='categorical_crossentropy', optimizer='adam', metrics=['accuracy'])\n",
        "# # outputs.summary()\n",
        "# crf = CRF(units=9)\n",
        "# # cnn_model.add(crf)\n",
        "# output = crf(outputs)\n",
        "# cnn_crf_model = Model(inputs, output)\n",
        "# cnn_crf_model.summary()\n",
        "# # cnn_crf_model = ModelWithCRFLoss(base_model, sparse_target=True)\n",
        "# # cnn_crf_model.summary()"
      ]
    },
    {
      "cell_type": "code",
      "execution_count": 43,
      "metadata": {
        "id": "CVZz_xMcRv9H"
      },
      "outputs": [],
      "source": [
        "# cnn_crf_model.compile(optimizer='adam')\n",
        "# cnn_crf_model.fit(train.x, train.y, batch_size=BATCH_SIZE, epochs=EPOCHS, validation_data=(valid.x, valid.y))"
      ]
    },
    {
      "cell_type": "code",
      "execution_count": 44,
      "metadata": {
        "id": "HqUvOqaORv9H"
      },
      "outputs": [],
      "source": [
        "# # Evaluation\n",
        "# loss, accuracy = cnn_crf_model.evaluate(test.x, test.y, batch_size=BATCH_SIZE)\n",
        "\n",
        "# print('Test Loss:', loss)\n",
        "# print('Test Accuracy:', accuracy)"
      ]
    },
    {
      "cell_type": "code",
      "execution_count": 45,
      "metadata": {
        "id": "4KK0VLb6Rv9H"
      },
      "outputs": [],
      "source": [
        "# y_predict_cnn_crf = cnn_crf_model.predict(test.x)"
      ]
    },
    {
      "cell_type": "code",
      "execution_count": 46,
      "metadata": {
        "id": "GaJHDwE8Rv9I"
      },
      "outputs": [],
      "source": [
        "# y_predict_cnn_crf.shape\n",
        "# print(len(valid.unique_ner_tags))"
      ]
    },
    {
      "cell_type": "code",
      "execution_count": 47,
      "metadata": {
        "id": "SeA3oDJZ7fm2"
      },
      "outputs": [],
      "source": [
        "# cnn_crf_model.export(\"../data/model_cnn.keras\")"
      ]
    },
    {
      "cell_type": "code",
      "execution_count": 48,
      "metadata": {
        "id": "wAddNuYK7fm2"
      },
      "outputs": [],
      "source": [
        "# cnn_model = tf.keras.models.load_model(\"model_cnn.keras\")"
      ]
    },
    {
      "cell_type": "markdown",
      "metadata": {
        "id": "PEctuVg7HirO"
      },
      "source": [
        "## Model LSTM"
      ]
    },
    {
      "cell_type": "code",
      "execution_count": 65,
      "metadata": {
        "colab": {
          "base_uri": "https://localhost:8080/"
        },
        "id": "hW0Culvw7fm5",
        "outputId": "39135069-f7d2-48b3-b017-69e85512b54d"
      },
      "outputs": [
        {
          "output_type": "stream",
          "name": "stdout",
          "text": [
            "Model: \"sequential_3\"\n",
            "_________________________________________________________________\n",
            " Layer (type)                Output Shape              Param #   \n",
            "=================================================================\n",
            " lstm_6 (LSTM)               (None, 200, 128)          117248    \n",
            "                                                                 \n",
            " lstm_7 (LSTM)               (None, 200, 64)           49408     \n",
            "                                                                 \n",
            " dense_3 (Dense)             (None, 200, 9)            585       \n",
            "                                                                 \n",
            "=================================================================\n",
            "Total params: 167,241\n",
            "Trainable params: 167,241\n",
            "Non-trainable params: 0\n",
            "_________________________________________________________________\n"
          ]
        }
      ],
      "source": [
        "from keras.models import Sequential\n",
        "from keras.layers import LSTM, Dense\n",
        "\n",
        "# Define the model architecture\n",
        "model_LSTM = Sequential()\n",
        "model_LSTM.add(LSTM(128, input_shape=(MAX_LENGTH, EMBEDDING_DIM), return_sequences=True))\n",
        "model_LSTM.add(LSTM(64, return_sequences=True))\n",
        "model_LSTM.add(Dense(9, activation='softmax'))\n",
        "\n",
        "model_LSTM.summary()"
      ]
    },
    {
      "cell_type": "code",
      "source": [
        "# !pip install tensorflow-addons"
      ],
      "metadata": {
        "id": "K7eHuf96nXDm"
      },
      "execution_count": 66,
      "outputs": []
    },
    {
      "cell_type": "code",
      "execution_count": 67,
      "metadata": {
        "colab": {
          "base_uri": "https://localhost:8080/"
        },
        "id": "eNXOuPu67fm6",
        "outputId": "49f85e19-7802-450f-f402-b7cb74ed0ae6"
      },
      "outputs": [
        {
          "output_type": "stream",
          "name": "stderr",
          "text": [
            "/usr/local/lib/python3.10/dist-packages/tensorflow_addons/utils/tfa_eol_msg.py:23: UserWarning: \n",
            "\n",
            "TensorFlow Addons (TFA) has ended development and introduction of new features.\n",
            "TFA has entered a minimal maintenance and release mode until a planned end of life in May 2024.\n",
            "Please modify downstream libraries to take dependencies from other repositories in our TensorFlow community (e.g. Keras, Keras-CV, and Keras-NLP). \n",
            "\n",
            "For more information see: https://github.com/tensorflow/addons/issues/2807 \n",
            "\n",
            "  warnings.warn(\n"
          ]
        },
        {
          "output_type": "stream",
          "name": "stdout",
          "text": [
            "Epoch 1/10\n",
            "439/439 [==============================] - 15s 25ms/step - loss: 0.0164 - accuracy: 0.9866 - val_loss: 0.0120 - val_accuracy: 0.9868\n",
            "Epoch 2/10\n",
            "439/439 [==============================] - 10s 23ms/step - loss: 0.0082 - accuracy: 0.9884 - val_loss: 0.0121 - val_accuracy: 0.9866\n",
            "Epoch 3/10\n",
            "439/439 [==============================] - 10s 22ms/step - loss: 0.0074 - accuracy: 0.9892 - val_loss: 0.0112 - val_accuracy: 0.9867\n",
            "Epoch 4/10\n",
            "439/439 [==============================] - 9s 21ms/step - loss: 0.0069 - accuracy: 0.9898 - val_loss: 0.0120 - val_accuracy: 0.9819\n",
            "Epoch 5/10\n",
            "439/439 [==============================] - 10s 23ms/step - loss: 0.0066 - accuracy: 0.9900 - val_loss: 0.0118 - val_accuracy: 0.9829\n",
            "Epoch 6/10\n",
            "439/439 [==============================] - 10s 22ms/step - loss: 0.0063 - accuracy: 0.9903 - val_loss: 0.0138 - val_accuracy: 0.9768\n",
            "Epoch 7/10\n",
            "439/439 [==============================] - 10s 23ms/step - loss: 0.0061 - accuracy: 0.9905 - val_loss: 0.0137 - val_accuracy: 0.9769\n",
            "Epoch 8/10\n",
            "439/439 [==============================] - 9s 21ms/step - loss: 0.0059 - accuracy: 0.9907 - val_loss: 0.0124 - val_accuracy: 0.9808\n",
            "Epoch 9/10\n",
            "439/439 [==============================] - 10s 22ms/step - loss: 0.0058 - accuracy: 0.9910 - val_loss: 0.0135 - val_accuracy: 0.9791\n",
            "Epoch 10/10\n",
            "439/439 [==============================] - 10s 23ms/step - loss: 0.0057 - accuracy: 0.9912 - val_loss: 0.0133 - val_accuracy: 0.9764\n"
          ]
        },
        {
          "output_type": "execute_result",
          "data": {
            "text/plain": [
              "<keras.callbacks.History at 0x7f1d0bb25cf0>"
            ]
          },
          "metadata": {},
          "execution_count": 67
        }
      ],
      "source": [
        "# Compile the model\n",
        "import tensorflow_addons as tfa\n",
        "\n",
        "def loss(y_true, y_pred):\n",
        "  # print(y_true)\n",
        "  # print(y_pred)\n",
        "  # b = tf.keras.losses.BinaryCrossentropy()\n",
        "  # b = tf.keras.losses.BinaryFocalCrossentropy(apply_class_balancing=True, gamma=3)\n",
        "  b = tfa.losses.SigmoidFocalCrossEntropy()\n",
        "  return b(y_true, y_pred)\n",
        "# 'categorical_crossentropy'\n",
        "model_LSTM.compile(optimizer='adam', loss=loss, metrics=['accuracy'])\n",
        "\n",
        "# Train the model\n",
        "model_LSTM.fit(train.x, train.y, batch_size=BATCH_SIZE, epochs=EPOCHS, validation_data=(valid.x, valid.y))"
      ]
    },
    {
      "cell_type": "code",
      "execution_count": 51,
      "metadata": {
        "id": "Tqp60CTqGqzV"
      },
      "outputs": [],
      "source": [
        "# model_LSTM.save(\"../Data/model_lstm.keras\")"
      ]
    },
    {
      "cell_type": "code",
      "execution_count": 52,
      "metadata": {
        "id": "itvrF6SvFmUg"
      },
      "outputs": [],
      "source": [
        "# model_LSTM = tf.keras.models.load_model(\"../Data/model_lstm.keras\")"
      ]
    },
    {
      "cell_type": "code",
      "execution_count": 68,
      "metadata": {
        "colab": {
          "base_uri": "https://localhost:8080/"
        },
        "id": "R1pZQGij7fm6",
        "outputId": "2b4fbf12-19b5-4d33-baee-96d1be6d5c41"
      },
      "outputs": [
        {
          "output_type": "stream",
          "name": "stdout",
          "text": [
            "108/108 [==============================] - 1s 12ms/step - loss: 0.0121 - accuracy: 0.9873\n",
            "Test Loss: 0.012116237543523312\n",
            "Test Accuracy: 0.9872516393661499\n"
          ]
        }
      ],
      "source": [
        "# Evaluation\n",
        "loss, accuracy = model_LSTM.evaluate(test.x, test.y, batch_size=32)\n",
        "\n",
        "print('Test Loss:', loss)\n",
        "print('Test Accuracy:', accuracy)"
      ]
    },
    {
      "cell_type": "code",
      "execution_count": 69,
      "metadata": {
        "colab": {
          "base_uri": "https://localhost:8080/"
        },
        "id": "hg6vOv6yRv9K",
        "outputId": "589292b6-527e-4fdb-cc71-40d67f1ea569"
      },
      "outputs": [
        {
          "output_type": "stream",
          "name": "stdout",
          "text": [
            "108/108 [==============================] - 2s 11ms/step\n"
          ]
        },
        {
          "output_type": "execute_result",
          "data": {
            "text/plain": [
              "(3453, 200, 9)"
            ]
          },
          "metadata": {},
          "execution_count": 69
        }
      ],
      "source": [
        "y_predict_lstm = model_LSTM.predict(test.x, batch_size=BATCH_SIZE)\n",
        "y_predict_lstm.shape"
      ]
    },
    {
      "cell_type": "code",
      "source": [
        "Data.unique_ner_tags"
      ],
      "metadata": {
        "id": "i5KUTdnwWllm",
        "outputId": "ee90b6f6-9db6-4947-c04c-9a617cd98186",
        "colab": {
          "base_uri": "https://localhost:8080/"
        }
      },
      "execution_count": 55,
      "outputs": [
        {
          "output_type": "execute_result",
          "data": {
            "text/plain": [
              "{'I-ORG': 0,\n",
              " 'I-LOC': 1,\n",
              " 'I-PER': 2,\n",
              " 'B-LOC': 3,\n",
              " 'I-MISC': 4,\n",
              " 'B-PER': 5,\n",
              " 'B-ORG': 6,\n",
              " 'O': 7,\n",
              " 'B-MISC': 8}"
            ]
          },
          "metadata": {},
          "execution_count": 55
        }
      ]
    },
    {
      "cell_type": "code",
      "execution_count": 70,
      "metadata": {
        "colab": {
          "base_uri": "https://localhost:8080/"
        },
        "id": "06nR4t-2FmUh",
        "outputId": "ff478fa1-f467-4501-943f-090e79400594"
      },
      "outputs": [
        {
          "output_type": "stream",
          "name": "stdout",
          "text": [
            "814 7298 8112 0.10034516765285996 0.89965483234714\n"
          ]
        }
      ],
      "source": [
        "true = 0\n",
        "false = 0\n",
        "total = 0 \n",
        "x, y, z = test.y.shape\n",
        "for i in range(x):\n",
        "    for j in range(y):\n",
        "        real_tag = np.argmax(test.y[i][j]) \n",
        "        predict_tag = np.argmax(y_predict_lstm[i][j])\n",
        "        if test.idx2tag(real_tag) != \"O\":\n",
        "          total += 1\n",
        "          if real_tag == predict_tag: true += 1\n",
        "          else: false += 1\n",
        "print(true, false, total, true/total, false/total)"
      ]
    }
  ],
  "metadata": {
    "accelerator": "GPU",
    "colab": {
      "provenance": []
    },
    "gpuClass": "standard",
    "kernelspec": {
      "display_name": "Python 3",
      "language": "python",
      "name": "python3"
    },
    "language_info": {
      "codemirror_mode": {
        "name": "ipython",
        "version": 3
      },
      "file_extension": ".py",
      "mimetype": "text/x-python",
      "name": "python",
      "nbconvert_exporter": "python",
      "pygments_lexer": "ipython3",
      "version": "3.9.13"
    },
    "orig_nbformat": 4
  },
  "nbformat": 4,
  "nbformat_minor": 0
}
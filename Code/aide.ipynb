{
 "cells": [
  {
   "cell_type": "code",
   "execution_count": 1,
   "metadata": {},
   "outputs": [
    {
     "name": "stdout",
     "output_type": "stream",
     "text": [
      "[\"Diallo is a master's student.\", 'He is a student at the USMBA.']\n"
     ]
    }
   ],
   "source": [
    "import nltk\n",
    "from nltk.tokenize import sent_tokenize\n",
    "\n",
    "text = \"Diallo is a master's student. \\\n",
    "        He is a student at the USMBA.\"\n",
    "sentences = sent_tokenize(text)\n",
    "\n",
    "print(sentences)"
   ]
  },
  {
   "cell_type": "code",
   "execution_count": 5,
   "metadata": {},
   "outputs": [
    {
     "name": "stdout",
     "output_type": "stream",
     "text": [
      "['diallo', 'is', 'a', 'master', \"'s\", 'student', '.']\n"
     ]
    }
   ],
   "source": [
    "\n",
    "tokens = ['Diallo', 'is', 'a', 'master', \"'s\", 'student', '.']\n",
    "word_tokens = [str.lower(word) for word in tokens]\n",
    "print(word_tokens)"
   ]
  },
  {
   "cell_type": "code",
   "execution_count": 18,
   "metadata": {},
   "outputs": [
    {
     "name": "stdout",
     "output_type": "stream",
     "text": [
      "Sentences:  [['Diallo', 'is', 'a', 'USMBA', 'student']]\n",
      "PoS:        [['NNP', 'VBZ', 'DT', 'JJ', 'NN']]\n",
      "Chunks:     [['B-NP', 'B-VP', 'B-NP', 'I-NP', 'I-NP']]\n"
     ]
    }
   ],
   "source": [
    "from nerc.tagChunker import NGramTagChunker # Our module. \n",
    "from nltk.corpus import conll2000\n",
    "\n",
    "tokens = ['Diallo', 'is', 'a', 'USMBA', 'student']\n",
    "ntc = NGramTagChunker(conll2000.chunked_sents())\n",
    "chunks_tagged = ntc.parse_sents([tokens])\n",
    "sent, pos_tag, chunks = chunks_tagged\n",
    "print(\"Sentences: \", sent)\n",
    "print(\"PoS:       \", pos_tag)\n",
    "print(\"Chunks:    \", chunks)"
   ]
  },
  {
   "cell_type": "code",
   "execution_count": 7,
   "metadata": {},
   "outputs": [
    {
     "name": "stdout",
     "output_type": "stream",
     "text": [
      "[('Diallo', 'NNP'), ('is', 'VBZ'), ('a', 'DT'), ('USMBA', 'JJ'), ('student', 'NN')]\n"
     ]
    }
   ],
   "source": [
    "import nltk\n",
    "\n",
    "# nltk.download('punkt')\n",
    "# nltk.download('averaged_perceptron_tagger')\n",
    "\n",
    "PoS_tagged = nltk.pos_tag(tokens)\n",
    "print(PoS_tagged)"
   ]
  },
  {
   "cell_type": "code",
   "execution_count": 20,
   "metadata": {},
   "outputs": [
    {
     "name": "stdout",
     "output_type": "stream",
     "text": [
      "Original:       ['running', 'ran', 'runs']\n",
      "Lemmatization:  ['running', 'ran', 'run']\n",
      "Stemming:       ['run', 'ran', 'run']\n"
     ]
    }
   ],
   "source": [
    "import nltk\n",
    "from nltk.stem import WordNetLemmatizer\n",
    "from nltk.stem import PorterStemmer\n",
    "\n",
    "# nltk.download('wordnet')\n",
    "\n",
    "lemmatizer = WordNetLemmatizer()\n",
    "stemmer = PorterStemmer()\n",
    "\n",
    "words = [\"running\", \"ran\", \"runs\"]\n",
    "lemmetised_words = [lemmatizer.lemmatize(word) for word in words]\n",
    "stemmed_words = [stemmer.stem(word) for word in words]\n",
    "print(\"Original:      \", words)\n",
    "print(\"Lemmatization: \", lemmetised_words)\n",
    "print(\"Stemming:      \", stemmed_words)"
   ]
  }
 ],
 "metadata": {
  "kernelspec": {
   "display_name": "venv",
   "language": "python",
   "name": "python3"
  },
  "language_info": {
   "codemirror_mode": {
    "name": "ipython",
    "version": 3
   },
   "file_extension": ".py",
   "mimetype": "text/x-python",
   "name": "python",
   "nbconvert_exporter": "python",
   "pygments_lexer": "ipython3",
   "version": "3.9.13"
  },
  "orig_nbformat": 4
 },
 "nbformat": 4,
 "nbformat_minor": 2
}

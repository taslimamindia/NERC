{
  "cells": [
    {
      "cell_type": "code",
      "execution_count": 1,
      "metadata": {
        "colab": {
          "base_uri": "https://localhost:8080/"
        },
        "id": "lJ-tKnxA74KU",
        "outputId": "62bbd143-4756-4609-e3ae-1ac19aa16fca"
      },
      "outputs": [
        {
          "name": "stdout",
          "output_type": "stream",
          "text": [
            "Cloning into 'NERC'...\n",
            "remote: Enumerating objects: 34, done.\u001b[K\n",
            "remote: Counting objects: 100% (34/34), done.\u001b[K\n",
            "remote: Compressing objects: 100% (28/28), done.\u001b[K\n",
            "remote: Total 34 (delta 7), reused 31 (delta 4), pack-reused 0\u001b[K\n",
            "Unpacking objects: 100% (34/34), 1.36 MiB | 5.31 MiB/s, done.\n"
          ]
        }
      ],
      "source": [
        "!git clone https://github.com/taslimamindia/NERC.git"
      ]
    },
    {
      "cell_type": "markdown",
      "metadata": {
        "id": "3fcvRYZ97fmq"
      },
      "source": [
        "# Importation"
      ]
    },
    {
      "cell_type": "code",
      "execution_count": 1,
      "metadata": {
        "id": "tou31yST7fmt"
      },
      "outputs": [],
      "source": [
        "import pandas as pd\n",
        "\n",
        "import numpy as np\n",
        "\n",
        "from nltk import word_tokenize, sent_tokenize, download\n",
        "from nltk.corpus import stopwords\n",
        "from nltk.stem import WordNetLemmatizer\n",
        "\n",
        "from gensim.models import Word2Vec\n",
        "\n",
        "import tensorflow as tf\n",
        "\n",
        "from keras.layers import Embedding\n",
        "from keras.utils import to_categorical, pad_sequences"
      ]
    },
    {
      "cell_type": "code",
      "execution_count": 3,
      "metadata": {
        "colab": {
          "base_uri": "https://localhost:8080/"
        },
        "id": "qZ9h38D29wUb",
        "outputId": "ed1b0f21-8dd2-4f01-c558-084d3d7a814e"
      },
      "outputs": [
        {
          "name": "stderr",
          "output_type": "stream",
          "text": [
            "[nltk_data] Downloading package wordnet to /root/nltk_data...\n"
          ]
        },
        {
          "data": {
            "text/plain": [
              "True"
            ]
          },
          "execution_count": 3,
          "metadata": {},
          "output_type": "execute_result"
        }
      ],
      "source": [
        "# download('wordnet') # for google colab"
      ]
    },
    {
      "cell_type": "markdown",
      "metadata": {
        "id": "mkK1C7mp7fmu"
      },
      "source": [
        "# Class define form data."
      ]
    },
    {
      "cell_type": "code",
      "execution_count": 2,
      "metadata": {
        "id": "tsvoLVPY7fmu"
      },
      "outputs": [],
      "source": [
        "class Data(object):\n",
        "    unique_words = {}\n",
        "    unique_ner_tags = {}\n",
        "    MAX_LENGTH = 200\n",
        "    def __init__(self):\n",
        "        self.sentences = []\n",
        "        self.sentences_num = None\n",
        "        self.ner_tags = []\n",
        "        self.ner_tags_num = None\n",
        "        self.chunk_tags = []\n",
        "        self.pos_tags = []\n",
        "        self.x, self.y = None, None\n",
        "    def word2vec(self, vector_size=100):\n",
        "        word2vec_model = Word2Vec(self.sentences, vector_size=vector_size, window=5, min_count=1, workers=4)\n",
        "        return word2vec_model   \n",
        "    def word2idx(self, word:str):\n",
        "        return Data.unique_words.get(word, None)\n",
        "    def idx2word(self, index:int):\n",
        "        for word, value in Data.unique_words.items():\n",
        "            if index is value: return word\n",
        "        return None    \n",
        "    def tag2idx(self, tag):\n",
        "        return Data.unique_ner_tags.get(tag, None)\n",
        "    def idx2tag(self, index):\n",
        "        for tag, value in Data.unique_ner_tags.items():\n",
        "            if index == value: return tag\n",
        "        return None"
      ]
    },
    {
      "cell_type": "markdown",
      "metadata": {
        "id": "VxLQFuLO7fmv"
      },
      "source": [
        "# Loading data"
      ]
    },
    {
      "cell_type": "code",
      "execution_count": 3,
      "metadata": {
        "id": "NzjCn5tW7fmv"
      },
      "outputs": [],
      "source": [
        "class Loading():\n",
        "    def __init__(self, data: Data, file):\n",
        "        self.data = data\n",
        "        self.load_sentences(file)\n",
        "        print(\"Loading successfully\")\n",
        "    def load_sentences(self, filepath):\n",
        "        tokens, pos_tags, chunk_tags, ner_tags = [], [], [], []\n",
        "        with open(filepath, 'r') as f:\n",
        "            for line in f.readlines():\n",
        "                if (line == ('-DOCSTART- -X- -X- O\\n') or line == '\\n'):\n",
        "                    if len(tokens) > 0:\n",
        "                        self.data.sentences.append(tokens)\n",
        "                        self.data.pos_tags.append(pos_tags)\n",
        "                        self.data.chunk_tags.append(chunk_tags)\n",
        "                        self.data.ner_tags.append(ner_tags)\n",
        "                        tokens, pos_tags, chunk_tags, ner_tags = [], [], [], []\n",
        "                else:\n",
        "                    l = line.split(' ')\n",
        "                    tokens.append(l[0])\n",
        "                    pos_tags.append(l[1])\n",
        "                    chunk_tags.append(l[2])\n",
        "                    ner_tags.append(l[3].strip('\\n'))"
      ]
    },
    {
      "cell_type": "markdown",
      "metadata": {
        "id": "I9vvnsDR7fmv"
      },
      "source": [
        "# Preprocessing"
      ]
    },
    {
      "cell_type": "code",
      "execution_count": 4,
      "metadata": {
        "id": "3Rbc4nVU7fmw"
      },
      "outputs": [],
      "source": [
        "class Preprocessing():\n",
        "    def __init__(self, data:Data, text=None, lang=\"english\"):\n",
        "        self.data = data\n",
        "        self.text = text\n",
        "        self.lang = lang\n",
        "    def tokenize(self):\n",
        "        if self.text != None:\n",
        "            sentenses = [word_tokenize(sentence, language=self.lang) for sentence in sent_tokenize(self.text, language=self.lang)]\n",
        "            self.data.sentences = [[token for token in sentence if token not in stopwords.words(self.lang)] for sentence in sentenses]\n",
        "    def lowercasing(self):\n",
        "        self.data.sentences = [[word.lower() for word in sentence] for sentence in self.data.sentences]\n",
        "    def lemmatize(self):\n",
        "        lemmatizer = WordNetLemmatizer()\n",
        "        self.data.sentences = [[lemmatizer.lemmatize(word) for word in sentence] for sentence in self.data.sentences]\n",
        "        self.unicity() # must be changed\n",
        "    def unicity(self):\n",
        "        temp = set() \n",
        "        [temp.update(word) for word in self.data.sentences]\n",
        "        Data.unique_words = dict(zip(list(temp), range(1, len(temp) + 1)))\n",
        "        temp = set() \n",
        "        [temp.update(word) for word in self.data.ner_tags]\n",
        "        Data.unique_ner_tags = dict(zip(list(temp), range(len(temp))))"
      ]
    },
    {
      "cell_type": "markdown",
      "metadata": {
        "id": "T0yl2FQm7fmw"
      },
      "source": [
        "# Vectorization"
      ]
    },
    {
      "cell_type": "code",
      "execution_count": 5,
      "metadata": {
        "id": "Arjdv32N7fmw"
      },
      "outputs": [],
      "source": [
        "class Vectorization():\n",
        "    def __init__(self, data:Data):\n",
        "        self.data = data\n",
        "        # self.data.max_length = max([len(sentence) for sentence in data.sentences])\n",
        "        data.sentences_num = [[Data.unique_words[word] for word in sentence] for sentence in data.sentences]\n",
        "        data.ner_tags_num = [[Data.unique_ner_tags[tag] for tag in tags] for tags in data.ner_tags] \n",
        "    def padding_x(self):\n",
        "        if len(self.data.sentences_num) > 0:\n",
        "            self.data.sentences_num = self.word2vec()\n",
        "            self.data.x = pad_sequences(\n",
        "                sequences=self.data.sentences_num, \n",
        "                maxlen=self.data.MAX_LENGTH, \n",
        "                dtype=\"float32\", \n",
        "                padding=\"post\", \n",
        "                value=0\n",
        "            )\n",
        "    def padding_y(self):\n",
        "        if len(self.data.ner_tags_num) > 0:\n",
        "            self.data.y = pad_sequences(\n",
        "                sequences=self.data.ner_tags_num, \n",
        "                maxlen=self.data.MAX_LENGTH, \n",
        "                dtype=\"float32\", \n",
        "                padding=\"post\", \n",
        "                value=self.data.unique_ner_tags.get(\"O\")\n",
        "            )\n",
        "    def word2vec(self, min_count=1, vector_size=100, window=5):\n",
        "        word2vec_model = Word2Vec(self.data.sentences, min_count=min_count, vector_size=vector_size, window=window)\n",
        "        vectors= [[word2vec_model.wv[word] for word in sentence] for sentence in self.data.sentences]\n",
        "        return vectors\n",
        "    def vectorized_x(self):\n",
        "        self.padding_x() \n",
        "        self.data.x = np.array(self.data.x, dtype=\"float32\")\n",
        "    def vectorized_y(self):\n",
        "        self.padding_y()\n",
        "        self.data.y = [[to_categorical(tag, num_classes=len(Data.unique_ner_tags)) for tag in tags] for tags in self.data.y]\n",
        "        self.data.y = np.array(self.data.y, dtype='float32')"
      ]
    },
    {
      "cell_type": "markdown",
      "metadata": {
        "id": "uMdxz6YR7fmx"
      },
      "source": [
        "# Main"
      ]
    },
    {
      "cell_type": "markdown",
      "metadata": {
        "id": "YuBmz4tX7fmx"
      },
      "source": [
        "## Pretraining for CONLL2003"
      ]
    },
    {
      "cell_type": "code",
      "execution_count": 6,
      "metadata": {
        "id": "IgS5eRZ07fmy"
      },
      "outputs": [],
      "source": [
        "\n",
        "def pretraining_CoNLL3(path: str):\n",
        "    data = Data()\n",
        "    base_file = \"../Data/conll2003_english/\"\n",
        "    # base_file = \"/content/NERC/Data/conll2003_english/\"\n",
        "    Loading(data = data, file=base_file + path)\n",
        "    preprocessing = Preprocessing(data=data)\n",
        "    preprocessing.lowercasing()\n",
        "    preprocessing.lemmatize()\n",
        "    vector = Vectorization(data=data)\n",
        "    vector.vectorized_x()\n",
        "    vector.vectorized_y()\n",
        "    return data"
      ]
    },
    {
      "cell_type": "markdown",
      "metadata": {
        "id": "_Va_j-4a7fmy"
      },
      "source": [
        "## Define Trainset"
      ]
    },
    {
      "cell_type": "code",
      "execution_count": 7,
      "metadata": {
        "colab": {
          "base_uri": "https://localhost:8080/"
        },
        "id": "98BvT-KZ7fmy",
        "outputId": "c0367d2b-3c8a-49f3-cfe9-c52249c1e17b"
      },
      "outputs": [
        {
          "name": "stdout",
          "output_type": "stream",
          "text": [
            "Loading successfully\n"
          ]
        }
      ],
      "source": [
        "train = pretraining_CoNLL3(\"train.txt\")"
      ]
    },
    {
      "cell_type": "code",
      "execution_count": 8,
      "metadata": {
        "colab": {
          "base_uri": "https://localhost:8080/"
        },
        "id": "Q2pKioKJ7fmz",
        "outputId": "b62a8444-3edc-4bc7-b67c-7c8e0c15ff1b"
      },
      "outputs": [
        {
          "name": "stdout",
          "output_type": "stream",
          "text": [
            "['eu', 'reject', 'german', 'call', 'to', 'boycott', 'british', 'lamb', '.']\n",
            "['B-ORG', 'O', 'B-MISC', 'O', 'O', 'O', 'B-MISC', 'O', 'O'] \n",
            "\n",
            "X_train (14041, 200, 100)\n",
            "y_train (14041, 200, 9) \n",
            "\n",
            "<class 'numpy.ndarray'>\n"
          ]
        }
      ],
      "source": [
        "print(train.sentences[0])\n",
        "print(train.ner_tags[0], \"\\n\")\n",
        "print(\"X_train\", train.x.shape)\n",
        "print(\"y_train\", train.y.shape, \"\\n\")\n",
        "print(type(train.x))"
      ]
    },
    {
      "cell_type": "markdown",
      "metadata": {
        "id": "_BIDobBn7fmz"
      },
      "source": [
        "## Define Testset"
      ]
    },
    {
      "cell_type": "code",
      "execution_count": 9,
      "metadata": {
        "colab": {
          "base_uri": "https://localhost:8080/"
        },
        "id": "EF6pOLaH7fm0",
        "outputId": "2bba3306-4baf-41d1-f8c6-53717a8e01ff"
      },
      "outputs": [
        {
          "name": "stdout",
          "output_type": "stream",
          "text": [
            "Loading successfully\n",
            "X_test (3453, 200, 100)\n",
            "y_test (3453, 200, 9)\n"
          ]
        }
      ],
      "source": [
        "test = pretraining_CoNLL3(\"test.txt\")\n",
        "print(\"X_test\", test.x.shape)\n",
        "print(\"y_test\", test.y.shape)"
      ]
    },
    {
      "cell_type": "markdown",
      "metadata": {
        "id": "W-_Vp6Gi7fm0"
      },
      "source": [
        "## Define ValidSet"
      ]
    },
    {
      "cell_type": "code",
      "execution_count": 10,
      "metadata": {
        "colab": {
          "base_uri": "https://localhost:8080/"
        },
        "id": "Jjx5X89s7fm0",
        "outputId": "8b236ddd-b981-4587-fbb6-b358dcef9293"
      },
      "outputs": [
        {
          "name": "stdout",
          "output_type": "stream",
          "text": [
            "Loading successfully\n",
            "X_valid (3250, 200, 100)\n",
            "y_valid (3250, 200, 9)\n"
          ]
        }
      ],
      "source": [
        "valid = pretraining_CoNLL3(\"valid.txt\")\n",
        "print(\"X_valid\", valid.x.shape)\n",
        "print(\"y_valid\", valid.y.shape)"
      ]
    },
    {
      "cell_type": "markdown",
      "metadata": {
        "id": "2NFpti3H7fm0"
      },
      "source": [
        "## New input text"
      ]
    },
    {
      "cell_type": "code",
      "execution_count": null,
      "metadata": {
        "id": "_jGe-JDa7fm1"
      },
      "outputs": [],
      "source": [
        "# test_text = Data()\n",
        "\n",
        "# preprocessing = Preprocessing(data = test_text, text = \"Obama is the president of the United States. I am from Guinea, nice to meet you.\")\n",
        "# preprocessing.tokenize()\n",
        "# preprocessing.lowercasing()\n",
        "# preprocessing.lemmatize()\n",
        "# print(test_text.sentences)\n",
        "\n",
        "# vector = Vectorization(test_text)\n",
        "# vector.vectorized_x()\n",
        "# print(test_text.x.shape)"
      ]
    },
    {
      "cell_type": "markdown",
      "metadata": {
        "id": "F08w-hsB7fm1"
      },
      "source": [
        "# Trainning"
      ]
    },
    {
      "cell_type": "code",
      "execution_count": 11,
      "metadata": {
        "colab": {
          "base_uri": "https://localhost:8080/"
        },
        "id": "-M4-ULUI7fm1",
        "outputId": "99891aac-6de9-491d-ed9c-31f53804c8ce"
      },
      "outputs": [
        {
          "name": "stdout",
          "output_type": "stream",
          "text": [
            "200 9 8419\n"
          ]
        }
      ],
      "source": [
        "NUM_WORDS = len(Data.unique_words)\n",
        "NUM_CLASSES = len(Data.unique_ner_tags)\n",
        "MAX_LENGTH = Data.MAX_LENGTH\n",
        "# Hyperparameters\n",
        "EMBEDDING_DIM = 100\n",
        "NUM_FILTERS = 256\n",
        "KERNEL_SIZE = 3\n",
        "DROPOUT_RATE = 0.5\n",
        "BATCH_SIZE = 32\n",
        "EPOCHS = 10\n",
        "print(MAX_LENGTH, NUM_CLASSES, NUM_WORDS)"
      ]
    },
    {
      "cell_type": "code",
      "execution_count": null,
      "metadata": {
        "id": "BXSF50RS7fm1"
      },
      "outputs": [],
      "source": [
        "# # from sklearn.feature_extraction.text import TfidfVectorizer\n",
        "# from keras.models import Sequential\n",
        "# from keras.layers import Dense, Dropout, Conv1D, MaxPooling1D\n",
        "\n",
        "\n",
        "# # Build CNN model\n",
        "# model = Sequential()\n",
        "# model.add(Conv1D(64, KERNEL_SIZE, activation='relu', input_shape=(MAX_LENGTH, EMBEDDING_DIM), padding='same'))\n",
        "# # model.add(MaxPooling1D(2, padding='same'))\n",
        "# model.add(Dropout(DROPOUT_RATE))\n",
        "# model.add(Conv1D(32, KERNEL_SIZE, activation='relu', padding='same'))\n",
        "# # model.add(MaxPooling1D(2))\n",
        "# # model.add(Dropout(DROPOUT_RATE))\n",
        "# # model.add(Dense(HIDDEN_DIM, activation='relu'))\n",
        "# model.add(Dropout(DROPOUT_RATE))\n",
        "# model.add(Dense(NUM_CLASSES, activation='softmax'))\n",
        "# model.compile(loss='categorical_crossentropy', optimizer='adam', metrics=['accuracy'])\n",
        "# model.summary()"
      ]
    },
    {
      "cell_type": "code",
      "execution_count": null,
      "metadata": {
        "id": "T1sV-mhtTjfu"
      },
      "outputs": [],
      "source": [
        "# !pip install tf2crf"
      ]
    },
    {
      "cell_type": "code",
      "execution_count": null,
      "metadata": {
        "colab": {
          "base_uri": "https://localhost:8080/"
        },
        "id": "c0eEcWeJRv9G",
        "outputId": "66f8eaae-4a22-4995-e78e-73206df6edf3"
      },
      "outputs": [],
      "source": [
        "# from sklearn.feature_extraction.text import TfidfVectorizer\n",
        "from keras.models import Model\n",
        "from keras.layers import Dense, Conv1D\n",
        "from tf2crf import CRF, ModelWithCRFLoss\n",
        "from keras import Input\n",
        "\n",
        "# Build CNN model\n",
        "# model = Sequential()\n",
        "inputs = Input(shape=(MAX_LENGTH, EMBEDDING_DIM))\n",
        "outputs = Conv1D(64, KERNEL_SIZE, activation='relu', padding='same')(inputs)\n",
        "# model.add(MaxPooling1D(2, padding='same'))\n",
        "# outputs = Dropout(DROPOUT_RATE)(inputs)\n",
        "outputs = Conv1D(32, KERNEL_SIZE, activation='relu', padding='same')(inputs)\n",
        "# model.add(MaxPooling1D(2))\n",
        "# model.add(Dropout(DROPOUT_RATE))\n",
        "# model.add(Dense(HIDDEN_DIM, activation='relu'))\n",
        "# outputs = Dropout(DROPOUT_RATE)(outputs)\n",
        "outputs = Dense(NUM_CLASSES, activation='relu')(outputs)\n",
        "# outputs.compile(loss='categorical_crossentropy', optimizer='adam', metrics=['accuracy'])\n",
        "# outputs.summary()\n",
        "crf = CRF(units=9)\n",
        "# cnn_model.add(crf)\n",
        "output = crf(outputs)\n",
        "cnn_crf_model = Model(inputs, output)\n",
        "cnn_crf_model.summary()\n",
        "# cnn_crf_model = ModelWithCRFLoss(base_model, sparse_target=True)\n",
        "# cnn_crf_model.summary()"
      ]
    },
    {
      "cell_type": "code",
      "execution_count": null,
      "metadata": {
        "colab": {
          "base_uri": "https://localhost:8080/",
          "height": 536
        },
        "id": "CVZz_xMcRv9H",
        "outputId": "ce6a4055-57e4-47cd-a869-348745c4017a"
      },
      "outputs": [],
      "source": [
        "cnn_crf_model.compile(optimizer='adam')\n",
        "cnn_crf_model.fit(train.x, train.y, batch_size=BATCH_SIZE, epochs=EPOCHS, validation_data=(valid.x, valid.y))"
      ]
    },
    {
      "cell_type": "code",
      "execution_count": null,
      "metadata": {
        "colab": {
          "base_uri": "https://localhost:8080/"
        },
        "id": "HqUvOqaORv9H",
        "outputId": "f1ed4cfe-251e-4dde-f4ab-f55b2a89ba78"
      },
      "outputs": [],
      "source": [
        "# Evaluation\n",
        "loss, accuracy = cnn_crf_model.evaluate(test.x, test.y, batch_size=BATCH_SIZE)\n",
        "\n",
        "print('Test Loss:', loss)\n",
        "print('Test Accuracy:', accuracy)"
      ]
    },
    {
      "cell_type": "code",
      "execution_count": null,
      "metadata": {
        "colab": {
          "base_uri": "https://localhost:8080/"
        },
        "id": "4KK0VLb6Rv9H",
        "outputId": "25723df7-cebd-4e8b-94be-567a112fb6ad"
      },
      "outputs": [],
      "source": [
        "y_predict_cnn_crf = cnn_crf_model.predict(test.x)"
      ]
    },
    {
      "cell_type": "code",
      "execution_count": null,
      "metadata": {
        "colab": {
          "base_uri": "https://localhost:8080/"
        },
        "id": "GaJHDwE8Rv9I",
        "outputId": "a4f5e676-cde5-4cd2-8c0e-d3d971f2006f"
      },
      "outputs": [],
      "source": [
        "y_predict_cnn_crf.shape\n",
        "print(len(valid.unique_ner_tags))"
      ]
    },
    {
      "cell_type": "code",
      "execution_count": null,
      "metadata": {
        "id": "SeA3oDJZ7fm2"
      },
      "outputs": [],
      "source": [
        "# cnn_crf_model.export(\"../data/model_cnn.keras\")"
      ]
    },
    {
      "cell_type": "code",
      "execution_count": null,
      "metadata": {
        "id": "wAddNuYK7fm2"
      },
      "outputs": [],
      "source": [
        "# cnn_model = tf.keras.models.load_model(\"model_cnn.keras\")"
      ]
    },
    {
      "cell_type": "markdown",
      "metadata": {
        "id": "PEctuVg7HirO"
      },
      "source": [
        "## Model LSTM"
      ]
    },
    {
      "cell_type": "code",
      "execution_count": 15,
      "metadata": {
        "colab": {
          "base_uri": "https://localhost:8080/"
        },
        "id": "hW0Culvw7fm5",
        "outputId": "b47814e8-edc7-4898-a256-721e17abf2df"
      },
      "outputs": [
        {
          "name": "stdout",
          "output_type": "stream",
          "text": [
            "Model: \"sequential\"\n",
            "_________________________________________________________________\n",
            " Layer (type)                Output Shape              Param #   \n",
            "=================================================================\n",
            " lstm (LSTM)                 (None, 200, 128)          117248    \n",
            "                                                                 \n",
            " lstm_1 (LSTM)               (None, 200, 64)           49408     \n",
            "                                                                 \n",
            " dense (Dense)               (None, 200, 9)            585       \n",
            "                                                                 \n",
            "=================================================================\n",
            "Total params: 167,241\n",
            "Trainable params: 167,241\n",
            "Non-trainable params: 0\n",
            "_________________________________________________________________\n"
          ]
        }
      ],
      "source": [
        "from keras.models import Sequential\n",
        "from keras.layers import LSTM, Dense\n",
        "\n",
        "# Define the model architecture\n",
        "model_LSTM = Sequential()\n",
        "model_LSTM.add(LSTM(128, input_shape=(MAX_LENGTH, EMBEDDING_DIM), return_sequences=True))\n",
        "model_LSTM.add(LSTM(64, return_sequences=True))\n",
        "model_LSTM.add(Dense(9, activation='softmax'))\n",
        "\n",
        "model_LSTM.summary()"
      ]
    },
    {
      "cell_type": "code",
      "execution_count": 16,
      "metadata": {
        "colab": {
          "base_uri": "https://localhost:8080/"
        },
        "id": "eNXOuPu67fm6",
        "outputId": "c16b0196-df9f-4be3-c8e6-e82281dd449f"
      },
      "outputs": [
        {
          "name": "stdout",
          "output_type": "stream",
          "text": [
            "Epoch 1/10\n",
            "439/439 [==============================] - 191s 418ms/step - loss: 0.0922 - accuracy: 0.9859 - val_loss: 0.0628 - val_accuracy: 0.9868\n",
            "Epoch 2/10\n",
            "439/439 [==============================] - 178s 405ms/step - loss: 0.0425 - accuracy: 0.9882 - val_loss: 0.0610 - val_accuracy: 0.9867\n",
            "Epoch 3/10\n",
            "185/439 [===========>..................] - ETA: 1:35 - loss: 0.0395 - accuracy: 0.9888"
          ]
        },
        {
          "ename": "KeyboardInterrupt",
          "evalue": "",
          "output_type": "error",
          "traceback": [
            "\u001b[1;31m---------------------------------------------------------------------------\u001b[0m",
            "\u001b[1;31mKeyboardInterrupt\u001b[0m                         Traceback (most recent call last)",
            "\u001b[1;32me:\\PFE\\CoNLL2003\\NERC\\Code\\conll2003_english.ipynb Cell 38\u001b[0m in \u001b[0;36m5\n\u001b[0;32m      <a href='vscode-notebook-cell:/e%3A/PFE/CoNLL2003/NERC/Code/conll2003_english.ipynb#X52sZmlsZQ%3D%3D?line=1'>2</a>\u001b[0m model_LSTM\u001b[39m.\u001b[39mcompile(optimizer\u001b[39m=\u001b[39m\u001b[39m'\u001b[39m\u001b[39madam\u001b[39m\u001b[39m'\u001b[39m, loss\u001b[39m=\u001b[39m\u001b[39m'\u001b[39m\u001b[39mcategorical_crossentropy\u001b[39m\u001b[39m'\u001b[39m, metrics\u001b[39m=\u001b[39m[\u001b[39m'\u001b[39m\u001b[39maccuracy\u001b[39m\u001b[39m'\u001b[39m])\n\u001b[0;32m      <a href='vscode-notebook-cell:/e%3A/PFE/CoNLL2003/NERC/Code/conll2003_english.ipynb#X52sZmlsZQ%3D%3D?line=3'>4</a>\u001b[0m \u001b[39m# Train the model\u001b[39;00m\n\u001b[1;32m----> <a href='vscode-notebook-cell:/e%3A/PFE/CoNLL2003/NERC/Code/conll2003_english.ipynb#X52sZmlsZQ%3D%3D?line=4'>5</a>\u001b[0m model_LSTM\u001b[39m.\u001b[39mfit(train\u001b[39m.\u001b[39mx, train\u001b[39m.\u001b[39my, batch_size\u001b[39m=\u001b[39mBATCH_SIZE, epochs\u001b[39m=\u001b[39mEPOCHS, validation_data\u001b[39m=\u001b[39m(valid\u001b[39m.\u001b[39mx, valid\u001b[39m.\u001b[39my))\n",
            "File \u001b[1;32mc:\\Pythons\\Python39\\lib\\site-packages\\keras\\utils\\traceback_utils.py:65\u001b[0m, in \u001b[0;36mfilter_traceback.<locals>.error_handler\u001b[1;34m(*args, **kwargs)\u001b[0m\n\u001b[0;32m     63\u001b[0m filtered_tb \u001b[39m=\u001b[39m \u001b[39mNone\u001b[39;00m\n\u001b[0;32m     64\u001b[0m \u001b[39mtry\u001b[39;00m:\n\u001b[1;32m---> 65\u001b[0m     \u001b[39mreturn\u001b[39;00m fn(\u001b[39m*\u001b[39margs, \u001b[39m*\u001b[39m\u001b[39m*\u001b[39mkwargs)\n\u001b[0;32m     66\u001b[0m \u001b[39mexcept\u001b[39;00m \u001b[39mException\u001b[39;00m \u001b[39mas\u001b[39;00m e:\n\u001b[0;32m     67\u001b[0m     filtered_tb \u001b[39m=\u001b[39m _process_traceback_frames(e\u001b[39m.\u001b[39m__traceback__)\n",
            "File \u001b[1;32mc:\\Pythons\\Python39\\lib\\site-packages\\keras\\engine\\training.py:1564\u001b[0m, in \u001b[0;36mModel.fit\u001b[1;34m(self, x, y, batch_size, epochs, verbose, callbacks, validation_split, validation_data, shuffle, class_weight, sample_weight, initial_epoch, steps_per_epoch, validation_steps, validation_batch_size, validation_freq, max_queue_size, workers, use_multiprocessing)\u001b[0m\n\u001b[0;32m   1556\u001b[0m \u001b[39mwith\u001b[39;00m tf\u001b[39m.\u001b[39mprofiler\u001b[39m.\u001b[39mexperimental\u001b[39m.\u001b[39mTrace(\n\u001b[0;32m   1557\u001b[0m     \u001b[39m\"\u001b[39m\u001b[39mtrain\u001b[39m\u001b[39m\"\u001b[39m,\n\u001b[0;32m   1558\u001b[0m     epoch_num\u001b[39m=\u001b[39mepoch,\n\u001b[1;32m   (...)\u001b[0m\n\u001b[0;32m   1561\u001b[0m     _r\u001b[39m=\u001b[39m\u001b[39m1\u001b[39m,\n\u001b[0;32m   1562\u001b[0m ):\n\u001b[0;32m   1563\u001b[0m     callbacks\u001b[39m.\u001b[39mon_train_batch_begin(step)\n\u001b[1;32m-> 1564\u001b[0m     tmp_logs \u001b[39m=\u001b[39m \u001b[39mself\u001b[39;49m\u001b[39m.\u001b[39;49mtrain_function(iterator)\n\u001b[0;32m   1565\u001b[0m     \u001b[39mif\u001b[39;00m data_handler\u001b[39m.\u001b[39mshould_sync:\n\u001b[0;32m   1566\u001b[0m         context\u001b[39m.\u001b[39masync_wait()\n",
            "File \u001b[1;32mc:\\Pythons\\Python39\\lib\\site-packages\\tensorflow\\python\\util\\traceback_utils.py:150\u001b[0m, in \u001b[0;36mfilter_traceback.<locals>.error_handler\u001b[1;34m(*args, **kwargs)\u001b[0m\n\u001b[0;32m    148\u001b[0m filtered_tb \u001b[39m=\u001b[39m \u001b[39mNone\u001b[39;00m\n\u001b[0;32m    149\u001b[0m \u001b[39mtry\u001b[39;00m:\n\u001b[1;32m--> 150\u001b[0m   \u001b[39mreturn\u001b[39;00m fn(\u001b[39m*\u001b[39margs, \u001b[39m*\u001b[39m\u001b[39m*\u001b[39mkwargs)\n\u001b[0;32m    151\u001b[0m \u001b[39mexcept\u001b[39;00m \u001b[39mException\u001b[39;00m \u001b[39mas\u001b[39;00m e:\n\u001b[0;32m    152\u001b[0m   filtered_tb \u001b[39m=\u001b[39m _process_traceback_frames(e\u001b[39m.\u001b[39m__traceback__)\n",
            "File \u001b[1;32mc:\\Pythons\\Python39\\lib\\site-packages\\tensorflow\\python\\eager\\def_function.py:915\u001b[0m, in \u001b[0;36mFunction.__call__\u001b[1;34m(self, *args, **kwds)\u001b[0m\n\u001b[0;32m    912\u001b[0m compiler \u001b[39m=\u001b[39m \u001b[39m\"\u001b[39m\u001b[39mxla\u001b[39m\u001b[39m\"\u001b[39m \u001b[39mif\u001b[39;00m \u001b[39mself\u001b[39m\u001b[39m.\u001b[39m_jit_compile \u001b[39melse\u001b[39;00m \u001b[39m\"\u001b[39m\u001b[39mnonXla\u001b[39m\u001b[39m\"\u001b[39m\n\u001b[0;32m    914\u001b[0m \u001b[39mwith\u001b[39;00m OptionalXlaContext(\u001b[39mself\u001b[39m\u001b[39m.\u001b[39m_jit_compile):\n\u001b[1;32m--> 915\u001b[0m   result \u001b[39m=\u001b[39m \u001b[39mself\u001b[39m\u001b[39m.\u001b[39m_call(\u001b[39m*\u001b[39margs, \u001b[39m*\u001b[39m\u001b[39m*\u001b[39mkwds)\n\u001b[0;32m    917\u001b[0m new_tracing_count \u001b[39m=\u001b[39m \u001b[39mself\u001b[39m\u001b[39m.\u001b[39mexperimental_get_tracing_count()\n\u001b[0;32m    918\u001b[0m without_tracing \u001b[39m=\u001b[39m (tracing_count \u001b[39m==\u001b[39m new_tracing_count)\n",
            "File \u001b[1;32mc:\\Pythons\\Python39\\lib\\site-packages\\tensorflow\\python\\eager\\def_function.py:947\u001b[0m, in \u001b[0;36mFunction._call\u001b[1;34m(self, *args, **kwds)\u001b[0m\n\u001b[0;32m    944\u001b[0m   \u001b[39mself\u001b[39m\u001b[39m.\u001b[39m_lock\u001b[39m.\u001b[39mrelease()\n\u001b[0;32m    945\u001b[0m   \u001b[39m# In this case we have created variables on the first call, so we run the\u001b[39;00m\n\u001b[0;32m    946\u001b[0m   \u001b[39m# defunned version which is guaranteed to never create variables.\u001b[39;00m\n\u001b[1;32m--> 947\u001b[0m   \u001b[39mreturn\u001b[39;00m \u001b[39mself\u001b[39m\u001b[39m.\u001b[39m_stateless_fn(\u001b[39m*\u001b[39margs, \u001b[39m*\u001b[39m\u001b[39m*\u001b[39mkwds)  \u001b[39m# pylint: disable=not-callable\u001b[39;00m\n\u001b[0;32m    948\u001b[0m \u001b[39melif\u001b[39;00m \u001b[39mself\u001b[39m\u001b[39m.\u001b[39m_stateful_fn \u001b[39mis\u001b[39;00m \u001b[39mnot\u001b[39;00m \u001b[39mNone\u001b[39;00m:\n\u001b[0;32m    949\u001b[0m   \u001b[39m# Release the lock early so that multiple threads can perform the call\u001b[39;00m\n\u001b[0;32m    950\u001b[0m   \u001b[39m# in parallel.\u001b[39;00m\n\u001b[0;32m    951\u001b[0m   \u001b[39mself\u001b[39m\u001b[39m.\u001b[39m_lock\u001b[39m.\u001b[39mrelease()\n",
            "File \u001b[1;32mc:\\Pythons\\Python39\\lib\\site-packages\\tensorflow\\python\\eager\\function.py:2496\u001b[0m, in \u001b[0;36mFunction.__call__\u001b[1;34m(self, *args, **kwargs)\u001b[0m\n\u001b[0;32m   2493\u001b[0m \u001b[39mwith\u001b[39;00m \u001b[39mself\u001b[39m\u001b[39m.\u001b[39m_lock:\n\u001b[0;32m   2494\u001b[0m   (graph_function,\n\u001b[0;32m   2495\u001b[0m    filtered_flat_args) \u001b[39m=\u001b[39m \u001b[39mself\u001b[39m\u001b[39m.\u001b[39m_maybe_define_function(args, kwargs)\n\u001b[1;32m-> 2496\u001b[0m \u001b[39mreturn\u001b[39;00m graph_function\u001b[39m.\u001b[39;49m_call_flat(\n\u001b[0;32m   2497\u001b[0m     filtered_flat_args, captured_inputs\u001b[39m=\u001b[39;49mgraph_function\u001b[39m.\u001b[39;49mcaptured_inputs)\n",
            "File \u001b[1;32mc:\\Pythons\\Python39\\lib\\site-packages\\tensorflow\\python\\eager\\function.py:1862\u001b[0m, in \u001b[0;36mConcreteFunction._call_flat\u001b[1;34m(self, args, captured_inputs, cancellation_manager)\u001b[0m\n\u001b[0;32m   1858\u001b[0m possible_gradient_type \u001b[39m=\u001b[39m gradients_util\u001b[39m.\u001b[39mPossibleTapeGradientTypes(args)\n\u001b[0;32m   1859\u001b[0m \u001b[39mif\u001b[39;00m (possible_gradient_type \u001b[39m==\u001b[39m gradients_util\u001b[39m.\u001b[39mPOSSIBLE_GRADIENT_TYPES_NONE\n\u001b[0;32m   1860\u001b[0m     \u001b[39mand\u001b[39;00m executing_eagerly):\n\u001b[0;32m   1861\u001b[0m   \u001b[39m# No tape is watching; skip to running the function.\u001b[39;00m\n\u001b[1;32m-> 1862\u001b[0m   \u001b[39mreturn\u001b[39;00m \u001b[39mself\u001b[39m\u001b[39m.\u001b[39m_build_call_outputs(\u001b[39mself\u001b[39;49m\u001b[39m.\u001b[39;49m_inference_function\u001b[39m.\u001b[39;49mcall(\n\u001b[0;32m   1863\u001b[0m       ctx, args, cancellation_manager\u001b[39m=\u001b[39;49mcancellation_manager))\n\u001b[0;32m   1864\u001b[0m forward_backward \u001b[39m=\u001b[39m \u001b[39mself\u001b[39m\u001b[39m.\u001b[39m_select_forward_and_backward_functions(\n\u001b[0;32m   1865\u001b[0m     args,\n\u001b[0;32m   1866\u001b[0m     possible_gradient_type,\n\u001b[0;32m   1867\u001b[0m     executing_eagerly)\n\u001b[0;32m   1868\u001b[0m forward_function, args_with_tangents \u001b[39m=\u001b[39m forward_backward\u001b[39m.\u001b[39mforward()\n",
            "File \u001b[1;32mc:\\Pythons\\Python39\\lib\\site-packages\\tensorflow\\python\\eager\\function.py:499\u001b[0m, in \u001b[0;36m_EagerDefinedFunction.call\u001b[1;34m(self, ctx, args, cancellation_manager)\u001b[0m\n\u001b[0;32m    497\u001b[0m \u001b[39mwith\u001b[39;00m _InterpolateFunctionError(\u001b[39mself\u001b[39m):\n\u001b[0;32m    498\u001b[0m   \u001b[39mif\u001b[39;00m cancellation_manager \u001b[39mis\u001b[39;00m \u001b[39mNone\u001b[39;00m:\n\u001b[1;32m--> 499\u001b[0m     outputs \u001b[39m=\u001b[39m execute\u001b[39m.\u001b[39;49mexecute(\n\u001b[0;32m    500\u001b[0m         \u001b[39mstr\u001b[39;49m(\u001b[39mself\u001b[39;49m\u001b[39m.\u001b[39;49msignature\u001b[39m.\u001b[39;49mname),\n\u001b[0;32m    501\u001b[0m         num_outputs\u001b[39m=\u001b[39;49m\u001b[39mself\u001b[39;49m\u001b[39m.\u001b[39;49m_num_outputs,\n\u001b[0;32m    502\u001b[0m         inputs\u001b[39m=\u001b[39;49margs,\n\u001b[0;32m    503\u001b[0m         attrs\u001b[39m=\u001b[39;49mattrs,\n\u001b[0;32m    504\u001b[0m         ctx\u001b[39m=\u001b[39;49mctx)\n\u001b[0;32m    505\u001b[0m   \u001b[39melse\u001b[39;00m:\n\u001b[0;32m    506\u001b[0m     outputs \u001b[39m=\u001b[39m execute\u001b[39m.\u001b[39mexecute_with_cancellation(\n\u001b[0;32m    507\u001b[0m         \u001b[39mstr\u001b[39m(\u001b[39mself\u001b[39m\u001b[39m.\u001b[39msignature\u001b[39m.\u001b[39mname),\n\u001b[0;32m    508\u001b[0m         num_outputs\u001b[39m=\u001b[39m\u001b[39mself\u001b[39m\u001b[39m.\u001b[39m_num_outputs,\n\u001b[1;32m   (...)\u001b[0m\n\u001b[0;32m    511\u001b[0m         ctx\u001b[39m=\u001b[39mctx,\n\u001b[0;32m    512\u001b[0m         cancellation_manager\u001b[39m=\u001b[39mcancellation_manager)\n",
            "File \u001b[1;32mc:\\Pythons\\Python39\\lib\\site-packages\\tensorflow\\python\\eager\\execute.py:54\u001b[0m, in \u001b[0;36mquick_execute\u001b[1;34m(op_name, num_outputs, inputs, attrs, ctx, name)\u001b[0m\n\u001b[0;32m     52\u001b[0m \u001b[39mtry\u001b[39;00m:\n\u001b[0;32m     53\u001b[0m   ctx\u001b[39m.\u001b[39mensure_initialized()\n\u001b[1;32m---> 54\u001b[0m   tensors \u001b[39m=\u001b[39m pywrap_tfe\u001b[39m.\u001b[39;49mTFE_Py_Execute(ctx\u001b[39m.\u001b[39;49m_handle, device_name, op_name,\n\u001b[0;32m     55\u001b[0m                                       inputs, attrs, num_outputs)\n\u001b[0;32m     56\u001b[0m \u001b[39mexcept\u001b[39;00m core\u001b[39m.\u001b[39m_NotOkStatusException \u001b[39mas\u001b[39;00m e:\n\u001b[0;32m     57\u001b[0m   \u001b[39mif\u001b[39;00m name \u001b[39mis\u001b[39;00m \u001b[39mnot\u001b[39;00m \u001b[39mNone\u001b[39;00m:\n",
            "\u001b[1;31mKeyboardInterrupt\u001b[0m: "
          ]
        }
      ],
      "source": [
        "# Compile the model\n",
        "model_LSTM.compile(optimizer='adam', loss='categorical_crossentropy', metrics=['accuracy'])\n",
        "\n",
        "# Train the model\n",
        "model_LSTM.fit(train.x, train.y, batch_size=BATCH_SIZE, epochs=EPOCHS, validation_data=(valid.x, valid.y))"
      ]
    },
    {
      "cell_type": "code",
      "execution_count": 12,
      "metadata": {},
      "outputs": [],
      "source": [
        "model_LSTM = tf.keras.models.load_model(\"../Data/model_lstm.keras\")"
      ]
    },
    {
      "cell_type": "code",
      "execution_count": 14,
      "metadata": {
        "colab": {
          "base_uri": "https://localhost:8080/"
        },
        "id": "R1pZQGij7fm6",
        "outputId": "9d0f2d2d-1a2a-422d-987b-32c8bc6ca590"
      },
      "outputs": [
        {
          "name": "stdout",
          "output_type": "stream",
          "text": [
            "108/108 [==============================] - 15s 137ms/step - loss: 15.4386 - accuracy: 3.9241e-04\n",
            "Test Loss: 15.438606262207031\n",
            "Test Accuracy: 0.00039241238846443594\n"
          ]
        }
      ],
      "source": [
        "# Evaluation\n",
        "loss, accuracy = model_LSTM.evaluate(test.x, test.y, batch_size=32)\n",
        "\n",
        "print('Test Loss:', loss)\n",
        "print('Test Accuracy:', accuracy)"
      ]
    },
    {
      "cell_type": "code",
      "execution_count": 64,
      "metadata": {
        "colab": {
          "base_uri": "https://localhost:8080/"
        },
        "id": "hg6vOv6yRv9K",
        "outputId": "1f036c9d-62a4-47e0-e88b-b64a5c88985f"
      },
      "outputs": [
        {
          "name": "stdout",
          "output_type": "stream",
          "text": [
            "108/108 [==============================] - 19s 156ms/step\n"
          ]
        },
        {
          "data": {
            "text/plain": [
              "(3453, 200, 9)"
            ]
          },
          "execution_count": 64,
          "metadata": {},
          "output_type": "execute_result"
        }
      ],
      "source": [
        "y_predict_lstm = model_LSTM.predict(test.x, batch_size=BATCH_SIZE)\n",
        "y_predict_lstm.shape"
      ]
    },
    {
      "cell_type": "code",
      "execution_count": 81,
      "metadata": {},
      "outputs": [
        {
          "name": "stdout",
          "output_type": "stream",
          "text": [
            "1281 519 1800 0.7116666666666667 0.28833333333333333\n"
          ]
        }
      ],
      "source": [
        "# k = 2\n",
        "# tags = test.ner_tags[k]\n",
        "# y = test.y[k]\n",
        "# y_pred = y_predict_lstm[k]\n",
        "# for i in range(len(tags)):\n",
        "#     # if tags[i] != 'O':\n",
        "#     print(np.argmax(y_pred[i]), test.idx2tag(np.argmax(y_pred[i])), sep=\"   \")\n",
        "#     print(tags[i], y[i], sep=\"   \")\n",
        "true = 0\n",
        "false = 0\n",
        "total = 0    \n",
        "for i in range(len(train.ner_tags)):\n",
        "    for j in range(len(train.ner_tags[i])):\n",
        "        total += 1\n",
        "        y_real = np.argmax(test.y[i][j])\n",
        "        y_predict = np.argmax(y_predict_lstm[i][j])\n",
        "        if y_real == y_predict: true += 1\n",
        "        else: false += 1\n",
        "print(true, false, total, true/total, false/total)"
      ]
    },
    {
      "cell_type": "code",
      "execution_count": 39,
      "metadata": {
        "colab": {
          "base_uri": "https://localhost:8080/"
        },
        "id": "RGhbQEcOh0QQ",
        "outputId": "a7d9ed54-48a3-40c6-f00a-965e11846103"
      },
      "outputs": [
        {
          "data": {
            "text/plain": [
              "array([2.4998310e-01, 6.2051479e-04, 5.7046771e-02, 1.5939010e-04,\n",
              "       6.6610635e-04, 2.6537925e-03, 4.9815875e-01, 5.7965193e-02,\n",
              "       1.3274638e-01], dtype=float32)"
            ]
          },
          "execution_count": 39,
          "metadata": {},
          "output_type": "execute_result"
        }
      ],
      "source": [
        "y_predict_lstm[0][0]"
      ]
    }
  ],
  "metadata": {
    "accelerator": "GPU",
    "colab": {
      "provenance": []
    },
    "gpuClass": "standard",
    "kernelspec": {
      "display_name": "Python 3",
      "language": "python",
      "name": "python3"
    },
    "language_info": {
      "codemirror_mode": {
        "name": "ipython",
        "version": 3
      },
      "file_extension": ".py",
      "mimetype": "text/x-python",
      "name": "python",
      "nbconvert_exporter": "python",
      "pygments_lexer": "ipython3",
      "version": "3.9.13"
    },
    "orig_nbformat": 4
  },
  "nbformat": 4,
  "nbformat_minor": 0
}

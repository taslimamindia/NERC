{
  "cells": [
    {
      "attachments": {},
      "cell_type": "markdown",
      "metadata": {
        "id": "hWBc46_ZTK5u"
      },
      "source": [
        "# Clone repo"
      ]
    },
    {
      "cell_type": "code",
      "execution_count": null,
      "metadata": {
        "colab": {
          "base_uri": "https://localhost:8080/"
        },
        "id": "lJ-tKnxA74KU",
        "outputId": "1e29b74a-010b-4b1c-d604-47c36b92e3bb"
      },
      "outputs": [],
      "source": [
        "!git clone https://github.com/taslimamindia/NERC.git"
      ]
    },
    {
      "cell_type": "code",
      "execution_count": null,
      "metadata": {
        "colab": {
          "base_uri": "https://localhost:8080/"
        },
        "id": "qZ9h38D29wUb",
        "outputId": "389bbd20-fcdc-41e7-9f55-8e27c625c84a"
      },
      "outputs": [],
      "source": [
        "# download('wordnet') # for google colab\n",
        "# download('stopwords')"
      ]
    },
    {
      "attachments": {},
      "cell_type": "markdown",
      "metadata": {
        "id": "YMfHyYuHTDud"
      },
      "source": [
        "# Class"
      ]
    },
    {
      "attachments": {},
      "cell_type": "markdown",
      "metadata": {
        "id": "3fcvRYZ97fmq"
      },
      "source": [
        "## Importation"
      ]
    },
    {
      "cell_type": "code",
      "execution_count": 13,
      "metadata": {
        "id": "tou31yST7fmt"
      },
      "outputs": [],
      "source": [
        "import pandas as pd\n",
        "import seaborn as sns\n",
        "import numpy as np\n",
        "\n",
        "import matplotlib.pyplot as plt\n",
        "\n",
        "from nltk import word_tokenize, sent_tokenize, download\n",
        "from nltk.corpus import stopwords\n",
        "from nltk.stem import WordNetLemmatizer\n",
        "\n",
        "from gensim.models import Word2Vec, KeyedVectors\n",
        "\n",
        "import tensorflow as tf\n",
        "import os\n",
        "\n",
        "from keras.utils import to_categorical, pad_sequences\n",
        "\n",
        "from keras.models import Sequential\n",
        "from keras.layers import Dense, Dropout, Conv1D, MaxPooling1D\n",
        "from keras.layers import LSTM, Dense\n"
      ]
    },
    {
      "attachments": {},
      "cell_type": "markdown",
      "metadata": {
        "id": "mkK1C7mp7fmu"
      },
      "source": [
        "## Class define form data."
      ]
    },
    {
      "cell_type": "code",
      "execution_count": 105,
      "metadata": {
        "id": "tsvoLVPY7fmu"
      },
      "outputs": [],
      "source": [
        "class Data(object):\n",
        "    unique_words = {\"<PAD>\": 0}\n",
        "    unique_ner_tags = {\"O\": 0}\n",
        "    unique_chunk_tags = {}\n",
        "    unique_pos_tags = {}\n",
        "    MAX_LENGTH = 50\n",
        "    VOCAB_SIZE = 100\n",
        "    BATCH_SIZE = 5\n",
        "\n",
        "    def __init__(self):\n",
        "        self.sentences = []\n",
        "        self.sentences_num = []\n",
        "        self.ner_tags = []\n",
        "        self.ner_tags_num = []\n",
        "        self.chunk_tags = []\n",
        "        self.pos_tags = []\n",
        "        self.features = []\n",
        "        self.x, self.y = None, None\n",
        "\n",
        "    def __add__(self, o):\n",
        "        data = Data()\n",
        "        data.sentences = self.sentences + o.sentences\n",
        "        data.sentences_num = self.sentences_num + o.sentences_num\n",
        "        data.ner_tags = self.ner_tags + o.ner_tags\n",
        "        data.ner_tags_num = self.ner_tags_num + o.ner_tags_num\n",
        "        data.chunk_tags = self.chunk_tags + o.chunk_tags\n",
        "        data.pos_tags = self.pos_tags + o.pos_tags\n",
        "        return data\n",
        "\n",
        "    def word2idx(self, word: str):\n",
        "        return Data.unique_words.get(word, None)\n",
        "\n",
        "    def idx2word(self, index: int):\n",
        "        for word, value in Data.unique_words.items():\n",
        "            if index is value:\n",
        "                return word\n",
        "        return None\n",
        "\n",
        "    def tag2idx(self, tag):\n",
        "        return Data.unique_ner_tags.get(tag, None)\n",
        "\n",
        "    def idx2tag(self, index):\n",
        "        for tag, value in Data.unique_ner_tags.items():\n",
        "            if index == value:\n",
        "                return tag\n",
        "        return None\n",
        "\n",
        "    def __unicity_tag(self, dico: dict, listes: list):\n",
        "        unique_word = set()\n",
        "        [unique_word.update(tags) for tags in listes]\n",
        "        max_index = len(dico)\n",
        "        for word in list(unique_word):\n",
        "            if dico.get(word, None) == None:\n",
        "                dico[word] = max_index\n",
        "                max_index += 1\n",
        "\n",
        "    def unicity(self):\n",
        "        self.__unicity_tag(Data.unique_ner_tags, self.ner_tags_num)\n",
        "        self.__unicity_tag(Data.unique_words, self.sentences_num)\n",
        "        self.__unicity_tag(Data.unique_chunk_tags, self.chunk_tags)\n",
        "        self.__unicity_tag(Data.unique_pos_tags, self.pos_tags)\n",
        "\n",
        "    def features_level(self):\n",
        "        def is_capitalize(word):\n",
        "            return len(word) > 1 and word[0].isupper() and word[1:].islower()\n",
        "        features = [\n",
        "            [\n",
        "                [is_capitalize(word), word.isupper(), word.islower(), word.istitle(), word.isdigit()]\n",
        "                for word in sentence\n",
        "            ]\n",
        "            for sentence in self.sentences\n",
        "        ]\n",
        "        self.features = [[[int(f) for f in feat] for feat in feature] for feature in features]"
      ]
    },
    {
      "attachments": {},
      "cell_type": "markdown",
      "metadata": {
        "id": "rVKzq06h5moN"
      },
      "source": [
        "## Use Functions"
      ]
    },
    {
      "cell_type": "code",
      "execution_count": null,
      "metadata": {},
      "outputs": [],
      "source": [
        "sents = margin(lstm.train.sentences_num, 5)\n",
        "sents = flatting(sents)\n",
        "sents = np.array(sents, dtype=\"float32\")\n",
        "print(sents.shape)"
      ]
    },
    {
      "cell_type": "code",
      "execution_count": 42,
      "metadata": {
        "id": "70grOo_p5moO"
      },
      "outputs": [],
      "source": [
        "class Model_Word2Vec:\n",
        "    def __init__(self, sentences):\n",
        "        self.model = Word2Vec(\n",
        "            sentences=sentences, min_count=1, vector_size=Data.VOCAB_SIZE, window=5\n",
        "        )\n",
        "\n",
        "    def wv(self, word):\n",
        "        return self.model.wv[word]\n",
        "\n",
        "def flatting(sentences):\n",
        "    return [word for sentence in sentences for word in sentence]\n",
        "\n",
        "def margin(sentences, batch_size):\n",
        "    \"\"\"Permet d'ajouter du marge sur les bords.\n",
        "\n",
        "    Args:\n",
        "        sentences (list[list]): _description_\n",
        "        batch_size (int): _description_\n",
        "\n",
        "    Returns:\n",
        "        list[list]: _description_\n",
        "\n",
        "    Example:\n",
        "        input: ['Peter', 'Blackburn']\n",
        "        output ['<pad>', 'Blackburn', 'Peter', 'Blackburn', '<pad>']\n",
        "    \"\"\"\n",
        "    b_size = int(batch_size // 2)\n",
        "    pad = [np.zeros(shape=sentences[0][0].shape)]\n",
        "    def __pad(sentence: list):\n",
        "        n = len(sentence)\n",
        "        if n <= b_size:\n",
        "            sentence = sentence + pad * (b_size - n + 1)\n",
        "            n = len(sentence)\n",
        "        sentence = (\n",
        "            list(reversed(sentence[1 : b_size + 1]))\n",
        "            + sentence\n",
        "            + list(reversed(sentence[n - b_size - 1 : n - 1]))\n",
        "        )\n",
        "        n = len(sentence)\n",
        "        Sentences = []\n",
        "        for i in range(b_size, n - b_size):\n",
        "            Sentences.append(np.array(sentence[i - b_size : i + b_size + 1], dtype=\"float32\"))\n",
        "        \n",
        "        \n",
        "        return Sentences\n",
        "    \n",
        "    Sentences = [__pad(sentence.copy()) for sentence in sentences]\n",
        "    Sentences = [[Sentences[i][j] for j in range(len(sentences[i]))] for i in range(len(sentences))]\n",
        "    return Sentences\n",
        "\n",
        "\n",
        "def zip_2D(*args):\n",
        "    zipdata = list(zip(args[0], args[1], args[2], args[3]))\n",
        "    return [list(zip(data[0], data[1], data[2], data[3])) for data in zipdata]\n",
        "\n",
        "\n",
        "def unzip_2D(args):\n",
        "    words, ners, chunks, poss = [], [], [], []\n",
        "    for arg in args:\n",
        "        word, ner, chunk, pos = [], [], [], []\n",
        "        for triple in arg:\n",
        "            word.append(triple[0])\n",
        "            ner.append(triple[1])\n",
        "            chunk.append(triple[2])\n",
        "            pos.append(triple[3])\n",
        "        words.append(word)\n",
        "        ners.append(ner)\n",
        "        chunks.append(chunk)\n",
        "        poss.append(pos)\n",
        "    return words, ners, chunks, poss\n",
        "\n",
        "\n",
        "def padding(data: Data):\n",
        "    data.flatten()\n",
        "    data.x = data.sentences_num\n",
        "    data.y = data.ner_tags\n",
        "    data.gather()\n",
        "    data.sentences_num = data.x\n",
        "    data.ner_tags_num = data.y\n",
        "\n",
        "\n",
        "def evaluation(test: Data, y_predict):\n",
        "    true, false, total, predict = 0, 0, 0, 0\n",
        "    x, y, z = test.y.shape\n",
        "    for i in range(x):\n",
        "        for j in range(y):\n",
        "            real_tag = np.argmax(test.y[i][j])\n",
        "            predict_tag = np.argmax(y_predict[i][j])\n",
        "            if predict_tag == 0:\n",
        "                predict += 1\n",
        "            if real_tag != 0:\n",
        "                total = total + 1\n",
        "                if real_tag == predict_tag:\n",
        "                    true = true + 1\n",
        "                else:\n",
        "                    false = false + 1\n",
        "    print(\"----------------------- Evaluation -------------------------\")\n",
        "    print(test.y.shape)\n",
        "    print(predict, x * y)\n",
        "    print(\n",
        "        true, false, total, round(true / total, 3), round(false / total, 3), end=\"\\n\\n\"\n",
        "    )\n",
        "\n",
        "\n",
        "def checkDataset(train, test, valid):\n",
        "    print(\"X_train\", train.x.shape, \"y_train\", train.y.shape, \"\\n\")\n",
        "    print(\"X_test\", test.x.shape, \"y_test\", test.y.shape, \"\\n\")\n",
        "    print(\"X_valid\", valid.x.shape, \"y_valid\", valid.y.shape)"
      ]
    },
    {
      "attachments": {},
      "cell_type": "markdown",
      "metadata": {
        "id": "VxLQFuLO7fmv"
      },
      "source": [
        "## Loading data"
      ]
    },
    {
      "cell_type": "code",
      "execution_count": 106,
      "metadata": {
        "id": "NzjCn5tW7fmv"
      },
      "outputs": [],
      "source": [
        "class Loading():\n",
        "    def __init__(self, path):\n",
        "        if os.path.exists(\"../Data/conll2003_english/\"): \n",
        "            base_file = \"../Data/conll2003_english/\"\n",
        "        else:\n",
        "            base_file = \"/content/NERC/Data/conll2003_english/\"        \n",
        "        self.data = Data()\n",
        "        self.load_sentences(base_file + path)\n",
        "    def load_sentences(self, filepath):\n",
        "        tokens, pos_tags, chunk_tags, ner_tags = [], [], [], []\n",
        "        with open(filepath, 'r') as f:\n",
        "            for line in f.readlines():\n",
        "                if (line == ('-DOCSTART- -X- -X- O\\n') or line == '\\n'):\n",
        "                    if len(tokens) > 0:\n",
        "                        self.data.sentences.append(tokens)\n",
        "                        self.data.pos_tags.append(pos_tags)\n",
        "                        self.data.chunk_tags.append(chunk_tags)\n",
        "                        self.data.ner_tags.append(ner_tags)\n",
        "                        tokens, pos_tags, chunk_tags, ner_tags = [], [], [], []\n",
        "                else:\n",
        "                    l = line.split(' ')\n",
        "                    tokens.append(l[0])\n",
        "                    pos_tags.append(l[1])\n",
        "                    chunk_tags.append(l[2])\n",
        "                    ner_tags.append(l[3].strip('\\n'))\n",
        "            self.data.sentences_num = self.data.sentences\n",
        "            self.data.ner_tags_num = self.data.ner_tags"
      ]
    },
    {
      "attachments": {},
      "cell_type": "markdown",
      "metadata": {
        "id": "I9vvnsDR7fmv"
      },
      "source": [
        "## Preprocessing"
      ]
    },
    {
      "cell_type": "code",
      "execution_count": 107,
      "metadata": {
        "id": "3Rbc4nVU7fmw"
      },
      "outputs": [],
      "source": [
        "class Preprocessing:\n",
        "    def __init__(self, data: Data, text=None, lang=\"english\"):\n",
        "        self.data = data\n",
        "        self.text = text\n",
        "        self.lang = lang\n",
        "\n",
        "    def tokenize(self):\n",
        "        if self.text != None:\n",
        "            sentenses = [\n",
        "                word_tokenize(sentence, language=self.lang)\n",
        "                for sentence in sent_tokenize(self.text, language=self.lang)\n",
        "            ]\n",
        "            self.data.sentences = [\n",
        "                [token for token in sentence if token not in stopwords.words(self.lang)]\n",
        "                for sentence in sentenses\n",
        "            ]\n",
        "            self.data.sentences_num = self.data.sentences\n",
        "\n",
        "    def lowercasing(self):\n",
        "        self.data.sentences_num = [\n",
        "            [word.lower() for word in sentence] for sentence in self.data.sentences_num\n",
        "        ]\n",
        "\n",
        "    def lemmatize(self):\n",
        "        lemmatizer = WordNetLemmatizer()\n",
        "        self.data.sentences_num = [\n",
        "            [lemmatizer.lemmatize(word) for word in sentence]\n",
        "            for sentence in self.data.sentences_num\n",
        "        ]\n",
        "\n",
        "    def remove_stopword(self):\n",
        "        punctuation = ['!', '\"', '#', '$', '%', '&', \"'\", '(', ')', '*', '+', ',', '-', '.', '/', ':', ';', '<', '=', '>', '?', '@', '[', '\\\\', ']', '^', '_', '`', '{', '|', '}', '~']\n",
        "        punctuations = stopwords.words(self.lang) + punctuation\n",
        "        sentences = zip_2D(\n",
        "            self.data.sentences_num,\n",
        "            self.data.ner_tags_num,\n",
        "            self.data.chunk_tags,\n",
        "            self.data.pos_tags,\n",
        "        )\n",
        "        sentences = [\n",
        "            [\n",
        "                triple\n",
        "                for triple in sentence\n",
        "                if triple[0] not in punctuations or triple[1] != \"O\"\n",
        "            ]\n",
        "            for sentence in sentences\n",
        "        ]\n",
        "        (\n",
        "            self.data.sentences_num,\n",
        "            self.data.ner_tags_num,\n",
        "            self.data.chunk_tags,\n",
        "            self.data.pos_tags,\n",
        "        ) = unzip_2D(sentences)"
      ]
    },
    {
      "attachments": {},
      "cell_type": "markdown",
      "metadata": {
        "id": "T0yl2FQm7fmw"
      },
      "source": [
        "## Vectorization"
      ]
    },
    {
      "cell_type": "code",
      "execution_count": 110,
      "metadata": {
        "id": "Arjdv32N7fmw"
      },
      "outputs": [],
      "source": [
        "class Vectorization:\n",
        "    # path = \"E:\\\\word2vec\\\\gensim-data\\\\word2vec-google-news-300\\\\GoogleNews-vectors-negative300.bin\"\n",
        "    # word2vec_model = KeyedVectors.load_word2vec_format(path, binary=True)\n",
        "\n",
        "    def __init__(self, data: Data, word2vec_model: Model_Word2Vec):\n",
        "        self.data = data\n",
        "        self.word2vec_model = word2vec_model\n",
        "\n",
        "    def word2vec(self):\n",
        "        Sentences = []\n",
        "        for sentence in self.data.sentences_num:\n",
        "            Sentence = []\n",
        "            for word in sentence:\n",
        "                try:\n",
        "                    # Sentence.append(self.word2vec_model.get_vector(word))\n",
        "                    Sentence.append(self.word2vec_model.wv(word))\n",
        "                except Exception as e:\n",
        "                    Sentence.append(self.word2vec_model.wv(word))\n",
        "            Sentences.append(Sentence)\n",
        "        self.data.sentences_num = Sentences\n",
        "\n",
        "    def padding_x(self):\n",
        "        self.data.x = pad_sequences(\n",
        "            sequences=self.data.sentences_num,\n",
        "            maxlen=self.data.MAX_LENGTH,\n",
        "            dtype=\"float32\",\n",
        "            padding=\"post\",\n",
        "            value=np.zeros((Data.VOCAB_SIZE,), dtype=\"float32\"),\n",
        "        )\n",
        "\n",
        "    def vectorized_x(self):\n",
        "        self.word2vec()\n",
        "        self.data.sentences_num = margin(self.data.sentences_num, batch_size=Data.BATCH_SIZE)\n",
        "        self.data.x = np.array(flatting(self.data.sentences_num), dtype=\"float32\")\n",
        "        # self.padding_x()\n",
        "\n",
        "    def tag2num(self):\n",
        "        self.data.ner_tags_num = [\n",
        "            [Data.unique_ner_tags.get(tag) for tag in tags]\n",
        "            for tags in self.data.ner_tags_num\n",
        "        ]\n",
        "\n",
        "    def num2oneHotEncoding(self):\n",
        "        NUM_CLASSES = len(Data.unique_ner_tags)\n",
        "        self.data.ner_tags_num = [\n",
        "            to_categorical(tags, num_classes=NUM_CLASSES)\n",
        "            for tags in self.data.ner_tags_num\n",
        "        ]\n",
        "\n",
        "    def padding_y(self):\n",
        "        self.data.y = pad_sequences(\n",
        "            sequences=self.data.ner_tags_num,\n",
        "            maxlen=self.data.MAX_LENGTH,\n",
        "            padding=\"post\",\n",
        "            dtype=\"float32\",\n",
        "            value=to_categorical(\n",
        "                Data.unique_ner_tags.get(\"O\"), num_classes=len(Data.unique_ner_tags)\n",
        "            ),\n",
        "        )\n",
        "\n",
        "    def vectorized_y(self):\n",
        "        self.tag2num()\n",
        "        self.num2oneHotEncoding()\n",
        "        self.data.y = np.array(flatting(self.data.ner_tags_num), dtype=\"float32\")\n",
        "        # self.padding_y()"
      ]
    },
    {
      "attachments": {},
      "cell_type": "markdown",
      "metadata": {
        "id": "uMdxz6YR7fmx"
      },
      "source": [
        "# Main"
      ]
    },
    {
      "attachments": {},
      "cell_type": "markdown",
      "metadata": {
        "id": "N-2jPEd6TZ6I"
      },
      "source": [
        "## Parameter"
      ]
    },
    {
      "attachments": {},
      "cell_type": "markdown",
      "metadata": {
        "id": "gPCrQ6VwmV03"
      },
      "source": [
        "### Visualization"
      ]
    },
    {
      "cell_type": "code",
      "execution_count": 77,
      "metadata": {
        "id": "SGCDK7Nxmb3f"
      },
      "outputs": [],
      "source": [
        "train = Loading(\"train.txt\").data\n",
        "test = Loading(\"test.txt\").data\n",
        "valid = Loading(\"valid.txt\").data"
      ]
    },
    {
      "cell_type": "code",
      "execution_count": 61,
      "metadata": {
        "id": "HVvfZZfsmfIv"
      },
      "outputs": [],
      "source": [
        "class Visualisation:\n",
        "    def __init__(self, train, test=None, valid=None, pos: int=0, dim: int = 0):\n",
        "        X, y = None, None\n",
        "        if dim == 0:\n",
        "            if pos == 0:\n",
        "                Sentences = train.sentences + test.sentences + valid.sentences\n",
        "                Tags = train.ner_tags + test.ner_tags + valid.ner_tags\n",
        "            elif pos == 1:\n",
        "                Sentences = train.sentences_num + test.sentences_num + valid.sentences_num\n",
        "                Tags = train.ner_tags_num + test.ner_tags_num + valid.ner_tags_num\n",
        "            X = [word for sentence in Sentences for word in sentence]\n",
        "            y = [tag for tags in Tags for tag in tags]\n",
        "            self.df = pd.DataFrame({\"word\": X, \"label\": y})\n",
        "        else:\n",
        "            if pos == 0:\n",
        "                X, y = train[0], train[1]\n",
        "                self.df = pd.DataFrame({\"word\": np.zeros((X.shape[0])), \"label\": y})\n",
        "            elif pos == 1:\n",
        "                X, y = flatting(train[0]), flatting(train[1])\n",
        "                self.df = pd.DataFrame({\"word\": X, \"label\": y})\n",
        "    def classNumber(self):\n",
        "        hist = self.df.groupby(\"label\").count()\n",
        "        return hist\n",
        "\n",
        "    def classNumberHistogram(self):\n",
        "        hist = self.df.groupby(\"label\").count()\n",
        "        hist = pd.DataFrame({\"class\":hist.index, \"count\": hist[\"word\"]})\n",
        "        hist = hist.to_numpy().tolist()\n",
        "        cl = [t[0] for t in hist]\n",
        "        nbr = [t[1] for t in hist]\n",
        "        sns.barplot(data=pd.DataFrame({\"class\":cl, \"count\":nbr}), x=\"class\", y=\"count\")"
      ]
    },
    {
      "cell_type": "code",
      "execution_count": 74,
      "metadata": {
        "id": "VQ1XVZjL0Fbx"
      },
      "outputs": [],
      "source": [
        "visualisation = Visualisation(train, test, valid, pos=1, dim=0)"
      ]
    },
    {
      "cell_type": "code",
      "execution_count": 63,
      "metadata": {
        "colab": {
          "base_uri": "https://localhost:8080/",
          "height": 0
        },
        "id": "NnUKp4IhONN7",
        "outputId": "efbdfcfd-0952-4950-8e72-8ba19f9ee7f1"
      },
      "outputs": [
        {
          "data": {
            "text/html": [
              "<div>\n",
              "<style scoped>\n",
              "    .dataframe tbody tr th:only-of-type {\n",
              "        vertical-align: middle;\n",
              "    }\n",
              "\n",
              "    .dataframe tbody tr th {\n",
              "        vertical-align: top;\n",
              "    }\n",
              "\n",
              "    .dataframe thead th {\n",
              "        text-align: right;\n",
              "    }\n",
              "</style>\n",
              "<table border=\"1\" class=\"dataframe\">\n",
              "  <thead>\n",
              "    <tr style=\"text-align: right;\">\n",
              "      <th></th>\n",
              "      <th>word</th>\n",
              "    </tr>\n",
              "    <tr>\n",
              "      <th>label</th>\n",
              "      <th></th>\n",
              "    </tr>\n",
              "  </thead>\n",
              "  <tbody>\n",
              "    <tr>\n",
              "      <th>B-LOC</th>\n",
              "      <td>10645</td>\n",
              "    </tr>\n",
              "    <tr>\n",
              "      <th>B-MISC</th>\n",
              "      <td>5062</td>\n",
              "    </tr>\n",
              "    <tr>\n",
              "      <th>B-ORG</th>\n",
              "      <td>9323</td>\n",
              "    </tr>\n",
              "    <tr>\n",
              "      <th>B-PER</th>\n",
              "      <td>10059</td>\n",
              "    </tr>\n",
              "    <tr>\n",
              "      <th>I-LOC</th>\n",
              "      <td>1671</td>\n",
              "    </tr>\n",
              "    <tr>\n",
              "      <th>I-MISC</th>\n",
              "      <td>1717</td>\n",
              "    </tr>\n",
              "    <tr>\n",
              "      <th>I-ORG</th>\n",
              "      <td>5290</td>\n",
              "    </tr>\n",
              "    <tr>\n",
              "      <th>I-PER</th>\n",
              "      <td>6991</td>\n",
              "    </tr>\n",
              "    <tr>\n",
              "      <th>O</th>\n",
              "      <td>250660</td>\n",
              "    </tr>\n",
              "  </tbody>\n",
              "</table>\n",
              "</div>"
            ],
            "text/plain": [
              "          word\n",
              "label         \n",
              "B-LOC    10645\n",
              "B-MISC    5062\n",
              "B-ORG     9323\n",
              "B-PER    10059\n",
              "I-LOC     1671\n",
              "I-MISC    1717\n",
              "I-ORG     5290\n",
              "I-PER     6991\n",
              "O       250660"
            ]
          },
          "execution_count": 63,
          "metadata": {},
          "output_type": "execute_result"
        }
      ],
      "source": [
        "visualisation.classNumber()"
      ]
    },
    {
      "cell_type": "code",
      "execution_count": 58,
      "metadata": {
        "colab": {
          "base_uri": "https://localhost:8080/",
          "height": 0
        },
        "id": "m7hnKPtIpVbQ",
        "outputId": "5d041eff-f6c2-49f0-8a57-34c29430b626"
      },
      "outputs": [
        {
          "data": {
            "image/png": "[encoded data removed]",
            "text/plain": [
              "<Figure size 640x480 with 1 Axes>"
            ]
          },
          "metadata": {},
          "output_type": "display_data"
        }
      ],
      "source": [
        "visualisation.classNumberHistogram()"
      ]
    },
    {
      "cell_type": "code",
      "execution_count": 59,
      "metadata": {
        "colab": {
          "base_uri": "https://localhost:8080/",
          "height": 0
        },
        "id": "6TEuNuFyqMrZ",
        "outputId": "05cb5202-f009-42cd-e80e-b75f79ca57ba"
      },
      "outputs": [
        {
          "data": {
            "text/html": [
              "<div>\n",
              "<style scoped>\n",
              "    .dataframe tbody tr th:only-of-type {\n",
              "        vertical-align: middle;\n",
              "    }\n",
              "\n",
              "    .dataframe tbody tr th {\n",
              "        vertical-align: top;\n",
              "    }\n",
              "\n",
              "    .dataframe thead th {\n",
              "        text-align: right;\n",
              "    }\n",
              "</style>\n",
              "<table border=\"1\" class=\"dataframe\">\n",
              "  <thead>\n",
              "    <tr style=\"text-align: right;\">\n",
              "      <th></th>\n",
              "      <th>word</th>\n",
              "      <th>label</th>\n",
              "    </tr>\n",
              "  </thead>\n",
              "  <tbody>\n",
              "    <tr>\n",
              "      <th>count</th>\n",
              "      <td>301418</td>\n",
              "      <td>301418</td>\n",
              "    </tr>\n",
              "    <tr>\n",
              "      <th>unique</th>\n",
              "      <td>30289</td>\n",
              "      <td>9</td>\n",
              "    </tr>\n",
              "    <tr>\n",
              "      <th>top</th>\n",
              "      <td>,</td>\n",
              "      <td>O</td>\n",
              "    </tr>\n",
              "    <tr>\n",
              "      <th>freq</th>\n",
              "      <td>10876</td>\n",
              "      <td>250660</td>\n",
              "    </tr>\n",
              "  </tbody>\n",
              "</table>\n",
              "</div>"
            ],
            "text/plain": [
              "          word   label\n",
              "count   301418  301418\n",
              "unique   30289       9\n",
              "top          ,       O\n",
              "freq     10876  250660"
            ]
          },
          "execution_count": 59,
          "metadata": {},
          "output_type": "execute_result"
        }
      ],
      "source": [
        "visualisation.df.describe()"
      ]
    },
    {
      "cell_type": "code",
      "execution_count": 86,
      "metadata": {},
      "outputs": [],
      "source": [
        "data = train + test + valid\n",
        "preprocess = Preprocessing(data=data)\n",
        "preprocess.remove_stopword()\n",
        "visualisation1 = Visualisation((data.sentences_num, data.ner_tags_num), pos=1, dim=1)"
      ]
    },
    {
      "cell_type": "code",
      "execution_count": 88,
      "metadata": {},
      "outputs": [
        {
          "data": {
            "text/html": [
              "<div>\n",
              "<style scoped>\n",
              "    .dataframe tbody tr th:only-of-type {\n",
              "        vertical-align: middle;\n",
              "    }\n",
              "\n",
              "    .dataframe tbody tr th {\n",
              "        vertical-align: top;\n",
              "    }\n",
              "\n",
              "    .dataframe thead th {\n",
              "        text-align: right;\n",
              "    }\n",
              "</style>\n",
              "<table border=\"1\" class=\"dataframe\">\n",
              "  <thead>\n",
              "    <tr style=\"text-align: right;\">\n",
              "      <th></th>\n",
              "      <th>word</th>\n",
              "    </tr>\n",
              "    <tr>\n",
              "      <th>label</th>\n",
              "      <th></th>\n",
              "    </tr>\n",
              "  </thead>\n",
              "  <tbody>\n",
              "    <tr>\n",
              "      <th>B-LOC</th>\n",
              "      <td>10645</td>\n",
              "    </tr>\n",
              "    <tr>\n",
              "      <th>B-MISC</th>\n",
              "      <td>5062</td>\n",
              "    </tr>\n",
              "    <tr>\n",
              "      <th>B-ORG</th>\n",
              "      <td>9323</td>\n",
              "    </tr>\n",
              "    <tr>\n",
              "      <th>B-PER</th>\n",
              "      <td>10059</td>\n",
              "    </tr>\n",
              "    <tr>\n",
              "      <th>I-LOC</th>\n",
              "      <td>1671</td>\n",
              "    </tr>\n",
              "    <tr>\n",
              "      <th>I-MISC</th>\n",
              "      <td>1717</td>\n",
              "    </tr>\n",
              "    <tr>\n",
              "      <th>I-ORG</th>\n",
              "      <td>5290</td>\n",
              "    </tr>\n",
              "    <tr>\n",
              "      <th>I-PER</th>\n",
              "      <td>6991</td>\n",
              "    </tr>\n",
              "    <tr>\n",
              "      <th>O</th>\n",
              "      <td>139920</td>\n",
              "    </tr>\n",
              "  </tbody>\n",
              "</table>\n",
              "</div>"
            ],
            "text/plain": [
              "          word\n",
              "label         \n",
              "B-LOC    10645\n",
              "B-MISC    5062\n",
              "B-ORG     9323\n",
              "B-PER    10059\n",
              "I-LOC     1671\n",
              "I-MISC    1717\n",
              "I-ORG     5290\n",
              "I-PER     6991\n",
              "O       139920"
            ]
          },
          "execution_count": 88,
          "metadata": {},
          "output_type": "execute_result"
        }
      ],
      "source": [
        "visualisation1.classNumber()"
      ]
    },
    {
      "cell_type": "code",
      "execution_count": 90,
      "metadata": {},
      "outputs": [
        {
          "data": {
            "image/png": "[encoded data removed]",
            "text/plain": [
              "<Figure size 640x480 with 1 Axes>"
            ]
          },
          "metadata": {},
          "output_type": "display_data"
        }
      ],
      "source": [
        "visualisation1.classNumberHistogram()"
      ]
    },
    {
      "attachments": {},
      "cell_type": "markdown",
      "metadata": {
        "id": "2NFpti3H7fm0"
      },
      "source": [
        "### New input text"
      ]
    },
    {
      "cell_type": "code",
      "execution_count": null,
      "metadata": {
        "id": "_jGe-JDa7fm1"
      },
      "outputs": [],
      "source": [
        "# test_text = Data()\n",
        "\n",
        "# preprocessing = Preprocessing(data = test_text, text = \"Obama is the president of the United States. I am from Guinea, nice to meet you.\")\n",
        "# preprocessing.tokenize()\n",
        "# preprocessing.lowercasing()\n",
        "# preprocessing.lemmatize()\n",
        "# print(test_text.sentences)\n",
        "\n",
        "# vector = Vectorization(test_text)\n",
        "# vector.vectorized_x()\n",
        "# print(test_text.x.shape)"
      ]
    },
    {
      "attachments": {},
      "cell_type": "markdown",
      "metadata": {
        "id": "F08w-hsB7fm1"
      },
      "source": [
        "### Parameters"
      ]
    },
    {
      "cell_type": "code",
      "execution_count": 109,
      "metadata": {
        "id": "-M4-ULUI7fm1"
      },
      "outputs": [],
      "source": [
        "# Hyperparameters\n",
        "NUM_FILTERS = 256\n",
        "KERNEL_SIZE = 3\n",
        "DROPOUT_RATE = 0.2\n",
        "BATCH_SIZE = 32\n",
        "EPOCHS = 10"
      ]
    },
    {
      "attachments": {},
      "cell_type": "markdown",
      "metadata": {
        "id": "npyM4czHULp-"
      },
      "source": [
        "## Models"
      ]
    },
    {
      "attachments": {},
      "cell_type": "markdown",
      "metadata": {},
      "source": [
        "### Base Model"
      ]
    },
    {
      "cell_type": "code",
      "execution_count": 114,
      "metadata": {},
      "outputs": [],
      "source": [
        "class Base_Model:\n",
        "    def __init__(self, train=True, test=True, valid=True):\n",
        "        if train: self.train = Loading(\"train.txt\").data\n",
        "        else: self.train = None\n",
        "        if test: self.test = Loading(\"test.txt\").data\n",
        "        else: self.test = None\n",
        "        if valid: self.valid = Loading(\"valid.txt\").data\n",
        "        else: self.valid = None\n",
        "        self.model = None\n",
        "        \n",
        "    def compress(self):\n",
        "        self.train = self.train + self.test + self.valid\n",
        "        \n",
        "    def change(self, max_length=None, vocab_size=None, batch_size=None):\n",
        "        if max_length != None:\n",
        "            Data.MAX_LENGTH = max_length\n",
        "        if vocab_size != None:\n",
        "            Data.VOCAB_SIZE = vocab_size\n",
        "        if batch_size != None:\n",
        "            Data.BATCH_SIZE = batch_size\n",
        "\n",
        "    def preprocess(self, data: Data):\n",
        "        preprocessing = Preprocessing(data=data)\n",
        "        # preprocessing.lowercasing()\n",
        "        # preprocessing.lemmatize()\n",
        "        preprocessing.remove_stopword()\n",
        "        data.unicity()\n",
        "\n",
        "    def preprocessing(self):\n",
        "        if self.train != None: self.preprocess(self.train)\n",
        "        # if self.test != None: self.preprocess(self.test)\n",
        "        # if self.valid != None: self.preprocess(self.valid)\n",
        "\n",
        "    def vectorize(self, data: Data, model_wv: Model_Word2Vec):\n",
        "        vector = Vectorization(data=data,word2vec_model=model_wv)\n",
        "        vector.vectorized_x()\n",
        "        vector.vectorized_y()\n",
        "\n",
        "    def vectorization(self, model_wv: Model_Word2Vec):\n",
        "        if self.train != None: self.vectorize(self.train, model_wv)\n",
        "        # if self.test != None: self.vectorize(self.test)\n",
        "        # if self.valid != None: self.vectorize(self.valid)\n",
        "\n",
        "    def summary(self):\n",
        "        self.model.summary()\n",
        "\n",
        "    def trainning(self, optimizer=\"adam\", loss=\"categorical_crossentropy\", metrics=[\"accuracy\"]):\n",
        "        self.model.compile(optimizer=optimizer, loss=loss, metrics=metrics)\n",
        "        if self.valid == None:\n",
        "            self.model.fit(self.train.x, self.train.y, batch_size=BATCH_SIZE, epochs=EPOCHS)\n",
        "        else:\n",
        "            self.model.fit(\n",
        "                self.train.x,\n",
        "                self.train.y,\n",
        "                batch_size=BATCH_SIZE,\n",
        "                epochs=EPOCHS,\n",
        "                validation_data=(self.valid.x, self.valid.y),\n",
        "            )\n",
        "\n",
        "    def testing(self):\n",
        "        return self.model.evaluate(self.test.x, self.test.y)\n",
        "\n",
        "    def predicting(self):\n",
        "        y_predict = self.model.predict(self.test.x, batch_size=BATCH_SIZE)\n",
        "        evaluation(self.test, y_predict)"
      ]
    },
    {
      "attachments": {},
      "cell_type": "markdown",
      "metadata": {
        "id": "u6IUaT76g8Ja"
      },
      "source": [
        "### CNN model"
      ]
    },
    {
      "attachments": {},
      "cell_type": "markdown",
      "metadata": {
        "id": "-azndnf3Z0Ci"
      },
      "source": [
        "#### Class model CNN"
      ]
    },
    {
      "cell_type": "code",
      "execution_count": 130,
      "metadata": {
        "id": "3Z44LAt-5moQ"
      },
      "outputs": [],
      "source": [
        "class Model_CNN(Base_Model):\n",
        "    def __init__(self, train=True, test=True, valid=True):\n",
        "        super().__init__(train=train, test=test, valid=valid)\n",
        "        \n",
        "    def architecture(self, activation='sigmoid'):\n",
        "        # Define the model architecture\n",
        "        self.model = Sequential()\n",
        "        self.model.add(\n",
        "            Conv1D(\n",
        "                128,\n",
        "                KERNEL_SIZE,\n",
        "                activation=\"relu\",\n",
        "                input_shape=(Data.BATCH_SIZE, Data.VOCAB_SIZE),\n",
        "                padding=\"same\",\n",
        "            )\n",
        "        )\n",
        "        self.model.add(Dropout(DROPOUT_RATE))\n",
        "        self.model.add(Conv1D(64, KERNEL_SIZE, activation=\"relu\", padding=\"same\"))\n",
        "        self.model.add(Dropout(DROPOUT_RATE))\n",
        "        self.model.add(Conv1D(32, KERNEL_SIZE, activation=\"relu\", padding=\"same\"))\n",
        "        self.model.add(Dropout(DROPOUT_RATE))\n",
        "        self.model.add(Dense(len(Data.unique_ner_tags), activation=activation))\n",
        "\n",
        "    # def architecture_1D(self, activation='sigmoid'):\n",
        "    #     # Define the model architecture\n",
        "    #     self.model = Sequential()\n",
        "    #     self.model.add(\n",
        "    #         Conv1D(\n",
        "    #             128,\n",
        "    #             KERNEL_SIZE,\n",
        "    #             activation=\"relu\",\n",
        "    #             input_shape=(1, Data.VOCAB_SIZE),\n",
        "    #             padding=\"same\",\n",
        "    #         )\n",
        "    #     )\n",
        "    #     self.model.add(Dropout(DROPOUT_RATE))\n",
        "    #     self.model.add(Conv1D(64, KERNEL_SIZE, activation=\"relu\", padding=\"same\"))\n",
        "    #     self.model.add(Dropout(DROPOUT_RATE))\n",
        "    #     self.model.add(Conv1D(32, KERNEL_SIZE, activation=\"relu\", padding=\"same\"))\n",
        "    #     self.model.add(Dropout(DROPOUT_RATE))\n",
        "    #     self.model.add(Dense(len(Data.unique_ner_tags), activation=activation))"
      ]
    },
    {
      "attachments": {},
      "cell_type": "markdown",
      "metadata": {
        "id": "Otbm1PdTZ40R"
      },
      "source": [
        "#### Test model CNN"
      ]
    },
    {
      "cell_type": "code",
      "execution_count": 131,
      "metadata": {
        "id": "AsOYiFC_5moR"
      },
      "outputs": [],
      "source": [
        "cnn = Model_CNN()\n",
        "cnn.change(50, 300, 5)\n",
        "cnn.compress()\n",
        "model_wv = Model_Word2Vec(cnn.train.sentences)\n",
        "cnn.train.features_level()\n",
        "cnn.preprocessing()\n",
        "cnn.vectorization(model_wv=model_wv)"
      ]
    },
    {
      "cell_type": "code",
      "execution_count": 132,
      "metadata": {},
      "outputs": [
        {
          "name": "stdout",
          "output_type": "stream",
          "text": [
            "(190678, 5, 300) (190678, 9)\n"
          ]
        }
      ],
      "source": [
        "print(cnn.train.x.shape, cnn.train.y.shape)"
      ]
    },
    {
      "cell_type": "code",
      "execution_count": 133,
      "metadata": {},
      "outputs": [
        {
          "name": "stdout",
          "output_type": "stream",
          "text": [
            "Model: \"sequential_7\"\n",
            "_________________________________________________________________\n",
            " Layer (type)                Output Shape              Param #   \n",
            "=================================================================\n",
            " conv1d (Conv1D)             (None, 5, 128)            115328    \n",
            "                                                                 \n",
            " dropout (Dropout)           (None, 5, 128)            0         \n",
            "                                                                 \n",
            " conv1d_1 (Conv1D)           (None, 5, 64)             24640     \n",
            "                                                                 \n",
            " dropout_1 (Dropout)         (None, 5, 64)             0         \n",
            "                                                                 \n",
            " conv1d_2 (Conv1D)           (None, 5, 32)             6176      \n",
            "                                                                 \n",
            " dropout_2 (Dropout)         (None, 5, 32)             0         \n",
            "                                                                 \n",
            " dense_2 (Dense)             (None, 5, 9)              297       \n",
            "                                                                 \n",
            "=================================================================\n",
            "Total params: 146,441\n",
            "Trainable params: 146,441\n",
            "Non-trainable params: 0\n",
            "_________________________________________________________________\n"
          ]
        }
      ],
      "source": [
        "cnn.architecture()\n",
        "cnn.summary()"
      ]
    },
    {
      "attachments": {},
      "cell_type": "markdown",
      "metadata": {
        "id": "PEctuVg7HirO"
      },
      "source": [
        "### Model LSTM"
      ]
    },
    {
      "attachments": {},
      "cell_type": "markdown",
      "metadata": {
        "id": "AbhO6LKDbEhf"
      },
      "source": [
        "#### Class model LSTM"
      ]
    },
    {
      "cell_type": "code",
      "execution_count": 128,
      "metadata": {
        "id": "hW0Culvw7fm5"
      },
      "outputs": [],
      "source": [
        "class Model_LSTM(Base_Model):\n",
        "    def __init__(self, train=True, test=True, valid=True):\n",
        "        super().__init__(train=train, test=test, valid=valid)\n",
        "    \n",
        "    def architecture(self):\n",
        "        # Define the model architecture\n",
        "        self.model = Sequential()\n",
        "        self.model.add(\n",
        "            LSTM(\n",
        "                256,\n",
        "                input_shape=(Data.BATCH_SIZE, Data.VOCAB_SIZE),\n",
        "                return_sequences=True,\n",
        "                dropout=DROPOUT_RATE,\n",
        "            )\n",
        "        )\n",
        "        self.model.add(LSTM(128, return_sequences=True, dropout=DROPOUT_RATE))\n",
        "        self.model.add(LSTM(64, return_sequences=True, dropout=DROPOUT_RATE))\n",
        "        self.model.add(LSTM(32, return_sequences=True, dropout=DROPOUT_RATE))\n",
        "        self.model.add(Dense(len(Data.unique_ner_tags), activation=\"sigmoid\"))\n",
        "\n",
        "    # def model_1D(self):\n",
        "    #     # self.model.add(\n",
        "    #     #     LSTM(\n",
        "    #     #         256,\n",
        "    #     #         input_shape=(Data.VOCAB_SIZE,), return_state=True\n",
        "    #     #     )\n",
        "    #     # )\n",
        "    #     # # self.model.add(LSTM(128))\n",
        "    #     # # self.model.add(LSTM(64))\n",
        "    #     # # self.model.add(LSTM(32))\n",
        "    #     # self.model.add(Dense(len(Data.unique_ner_tags), activation=\"sigmoid\"))\n",
        "\n",
        "    #     input = tf.keras.Input(shape=(Data.VOCAB_SIZE,))\n",
        "    #     # model = Dropout(0.5)(model)\n",
        "    #     model = tf.keras.layers.Bidirectional(LSTM(units=100, return_sequences=True, recurrent_dropout=0.1))(input)\n",
        "    #     out = tf.keras.layers.TimeDistributed(Dense(9, activation=\"softmax\"))(model)  # softmax output layer\n",
        "    #     self.model = tf.keras.Model(input, out)"
      ]
    },
    {
      "attachments": {},
      "cell_type": "markdown",
      "metadata": {
        "id": "Ma8R8LJybJpF"
      },
      "source": [
        "#### Test model LSTM"
      ]
    },
    {
      "cell_type": "code",
      "execution_count": 126,
      "metadata": {},
      "outputs": [],
      "source": [
        "lstm = Model_LSTM()\n",
        "lstm.change(50, 300, 5)\n",
        "lstm.compress()\n",
        "model_wv = Model_Word2Vec(lstm.train.sentences)\n",
        "lstm.train.features_level()\n",
        "lstm.preprocessing()\n",
        "lstm.vectorization(model_wv=model_wv)"
      ]
    },
    {
      "cell_type": "code",
      "execution_count": 127,
      "metadata": {},
      "outputs": [
        {
          "name": "stdout",
          "output_type": "stream",
          "text": [
            "(190678, 5, 300) (190678, 9)\n"
          ]
        }
      ],
      "source": [
        "print(lstm.train.x.shape, lstm.train.y.shape)"
      ]
    },
    {
      "cell_type": "code",
      "execution_count": 129,
      "metadata": {},
      "outputs": [
        {
          "name": "stdout",
          "output_type": "stream",
          "text": [
            "Model: \"sequential_6\"\n",
            "_________________________________________________________________\n",
            " Layer (type)                Output Shape              Param #   \n",
            "=================================================================\n",
            " lstm_4 (LSTM)               (None, 5, 256)            570368    \n",
            "                                                                 \n",
            " lstm_5 (LSTM)               (None, 5, 128)            197120    \n",
            "                                                                 \n",
            " lstm_6 (LSTM)               (None, 5, 64)             49408     \n",
            "                                                                 \n",
            " lstm_7 (LSTM)               (None, 5, 32)             12416     \n",
            "                                                                 \n",
            " dense_1 (Dense)             (None, 5, 9)              297       \n",
            "                                                                 \n",
            "=================================================================\n",
            "Total params: 829,609\n",
            "Trainable params: 829,609\n",
            "Non-trainable params: 0\n",
            "_________________________________________________________________\n"
          ]
        }
      ],
      "source": [
        "lstm.architecture()\n",
        "lstm.summary()"
      ]
    },
    {
      "attachments": {},
      "cell_type": "markdown",
      "metadata": {
        "id": "qOUNEjNd5moi"
      },
      "source": [
        "### TF-IDF"
      ]
    },
    {
      "cell_type": "code",
      "execution_count": null,
      "metadata": {
        "id": "HizEJd4x5YIL"
      },
      "outputs": [],
      "source": [
        "# from keras.optimizers import Adam\n",
        "# from imblearn.over_sampling import SMOTE\n",
        "\n",
        "\n",
        "# def balanceData(data):\n",
        "#     x_train = np.array(data.sentences_num, dtype=\"float32\")\n",
        "#     y_train = np.array(data.ner_tags_num, dtype=\"float32\")\n",
        "#     print(x_train.shape, y_train.shape)\n",
        "#     input_dim = x_train.shape[1]\n",
        "\n",
        "#     # Encoder\n",
        "#     encoder_input = tf.keras.Input(shape=(input_dim,))\n",
        "#     encoder_dense = tf.keras.layers.Dense(400, activation=\"relu\")(encoder_input)\n",
        "#     encoder_output = tf.keras.layers.Dense(input_dim, activation=\"relu\")(encoder_dense)\n",
        "\n",
        "#     # Decoder\n",
        "#     decoder_dense = tf.keras.layers.Dense(400, activation=\"relu\")(encoder_output)\n",
        "#     decoder_output = tf.keras.layers.Dense(input_dim, activation=\"sigmoid\")(\n",
        "#         decoder_dense\n",
        "#     )\n",
        "\n",
        "#     # Autoencoder\n",
        "#     autoencoder = tf.keras.Model(encoder_input, decoder_output)\n",
        "#     autoencoder.compile(\n",
        "#         optimizer=Adam(learning_rate=0.001), loss=\"mse\", metrics=[\"accuracy\"]\n",
        "#     )\n",
        "#     # print(autoencoder.summary())\n",
        "\n",
        "#     # Train the autoencoder\n",
        "#     autoencoder.fit(x_train, x_train, epochs=10, batch_size=32)\n",
        "\n",
        "#     # Extract latent space representation\n",
        "#     encoder = tf.keras.Model(encoder_input, encoder_output)\n",
        "#     x_train_predict = encoder.predict(x_train)\n",
        "\n",
        "#     # Class balancing with SMOTE or any other technique adadelta\n",
        "#     smote = SMOTE()\n",
        "#     x_train_balanced, y_train_balanced = smote.fit_resample(x_train_predict, y_train)\n",
        "#     return x_train_balanced, y_train_balanced"
      ]
    },
    {
      "attachments": {},
      "cell_type": "markdown",
      "metadata": {
        "id": "OxXGAcX1NRL_"
      },
      "source": [
        "#### train set"
      ]
    },
    {
      "cell_type": "code",
      "execution_count": null,
      "metadata": {
        "colab": {
          "base_uri": "https://localhost:8080/"
        },
        "id": "o0NAWSgNEhsQ",
        "outputId": "63288413-1e27-4d4d-ffe0-fe72fddb5037"
      },
      "outputs": [],
      "source": [
        "lstm.preprocess(lstm.train)\n",
        "vector = Vectorization(lstm.train)\n",
        "vector.word2vec()\n",
        "# vector.tag2num()\n",
        "# vector.num2oneHotEncoding()\n",
        "# lstm.train.flatten()\n",
        "# lstm.train.x, lstm.train.y = balanceData(lstm.train)"
      ]
    },
    {
      "cell_type": "code",
      "execution_count": null,
      "metadata": {},
      "outputs": [],
      "source": [
        "print(len(lstm.train.sentences),len(lstm.train.sentences_num))"
      ]
    },
    {
      "cell_type": "code",
      "execution_count": null,
      "metadata": {
        "colab": {
          "base_uri": "https://localhost:8080/"
        },
        "id": "Xv6jjKD6oNDA",
        "outputId": "6786f32a-028e-4960-d4a6-50e819d4de76"
      },
      "outputs": [],
      "source": [
        "lstm.train.gather()\n",
        "lstm.train.x = np.array(lstm.train.x, dtype=\"float32\")\n",
        "lstm.train.ner_tags_num = lstm.train.y\n",
        "lstm.train.y = np.array(lstm.train.ner_tags_num, dtype=\"float32\")\n",
        "print(lstm.train.x.shape, lstm.train.y.shape)"
      ]
    },
    {
      "attachments": {},
      "cell_type": "markdown",
      "metadata": {
        "id": "Egxil5CRNaOu"
      },
      "source": [
        "#### valid set"
      ]
    },
    {
      "cell_type": "code",
      "execution_count": null,
      "metadata": {
        "id": "zA3YPsOUsGYi"
      },
      "outputs": [],
      "source": [
        "lstm.valid = Loading(\"valid.txt\").data"
      ]
    },
    {
      "cell_type": "code",
      "execution_count": null,
      "metadata": {
        "colab": {
          "base_uri": "https://localhost:8080/"
        },
        "id": "MZgnkYMMHibf",
        "outputId": "d7050093-e6ff-43e9-c362-ced3589aa8a2"
      },
      "outputs": [],
      "source": [
        "lstm.preprocess(lstm.valid)\n",
        "vector = Vectorization(lstm.valid)\n",
        "vector.word2vec()\n",
        "vector.tag2num()\n",
        "vector.num2oneHotEncoding()\n",
        "lstm.valid.flatten()\n",
        "lstm.valid.x, lstm.valid.y = balanceData(lstm.valid)\n",
        "lstm.valid.gather()\n",
        "lstm.valid.x = np.array(lstm.valid.x, dtype=\"float32\")\n",
        "lstm.valid.ner_tags_num = lstm.valid.y\n",
        "lstm.valid.y = np.array(lstm.valid.ner_tags_num, dtype=\"float32\")\n",
        "print(lstm.valid.x.shape, lstm.valid.y.shape)"
      ]
    },
    {
      "attachments": {},
      "cell_type": "markdown",
      "metadata": {
        "id": "1I7afWv3QP8f"
      },
      "source": [
        "#### Test set"
      ]
    },
    {
      "cell_type": "code",
      "execution_count": null,
      "metadata": {
        "id": "sFb1s9A7-0WL"
      },
      "outputs": [],
      "source": [
        "lstm.preprocess(lstm.test)\n",
        "padding(lstm.test)\n",
        "lstm.vectorize(lstm.test)"
      ]
    },
    {
      "cell_type": "code",
      "execution_count": null,
      "metadata": {
        "colab": {
          "base_uri": "https://localhost:8080/"
        },
        "id": "n-5K2vy18gf6",
        "outputId": "eacf4934-d417-4a56-a7b5-3fa45b37fc51"
      },
      "outputs": [],
      "source": [
        "# checkDataset(lstm.train, lstm.test, lstm.valid)"
      ]
    },
    {
      "cell_type": "code",
      "execution_count": null,
      "metadata": {
        "id": "n-801HqfMxVs"
      },
      "outputs": [],
      "source": [
        "# lstm.model=Sequential()"
      ]
    },
    {
      "cell_type": "code",
      "execution_count": null,
      "metadata": {
        "colab": {
          "base_uri": "https://localhost:8080/"
        },
        "id": "SO4kJy_5_Yp5",
        "outputId": "8102cecc-58f3-4dff-f5e6-508a9e0c3226"
      },
      "outputs": [],
      "source": [
        "lstm.model_2D()\n",
        "lstm.summary()"
      ]
    },
    {
      "cell_type": "code",
      "execution_count": null,
      "metadata": {
        "colab": {
          "base_uri": "https://localhost:8080/"
        },
        "id": "g-CpDHRdA0kS",
        "outputId": "126e7b5a-204e-42bd-96a5-4a3f58c96f19"
      },
      "outputs": [],
      "source": [
        "lstm.valid=None\n",
        "lstm.trainning()\n",
        "lstm.predicting()"
      ]
    },
    {
      "cell_type": "code",
      "execution_count": null,
      "metadata": {
        "id": "cd7STF-I8bN5"
      },
      "outputs": [],
      "source": [
        "# import numpy as np\n",
        "# from gensim.models import Word2Vec\n",
        "# from keras.models import Sequential\n",
        "# from keras.layers import Dense, LSTM\n",
        "# from keras.preprocessing.sequence import pad_sequences\n",
        "# from sklearn.model_selection import train_test_split\n",
        "# from sklearn.utils import class_weight\n",
        "\n",
        "# # Step 1: Load and preprocess the data\n",
        "\n",
        "# # Assuming you have a list of sentences and their corresponding labels\n",
        "# sentences = [\"This is sentence 1\", \"Another sentence\", \"Yet another sentence\"]\n",
        "# labels = [1, 0, 1]  # Assuming binary labels (e.g., 0 - non-NER, 1 - NER)\n",
        "\n",
        "# # Step 2: Train Word2Vec model\n",
        "\n",
        "# # Tokenize the sentences\n",
        "# tokenized_sentences = [sentence.lower().split() for sentence in sentences]\n",
        "\n",
        "# # Train Word2Vec model\n",
        "# word2vec_model = Word2Vec(tokenized_sentences, size=100, window=5, min_count=1)\n",
        "\n",
        "# # Step 3: Encode sentences using Word2Vec embeddings\n",
        "\n",
        "# # Encode sentences into Word2Vec embeddings\n",
        "# encoded_sentences = []\n",
        "# for sentence in tokenized_sentences:\n",
        "#     sentence_encoding = []\n",
        "#     for word in sentence:\n",
        "#         if word in word2vec_model.wv.vocab:\n",
        "#             sentence_encoding.append(word2vec_model.wv[word])\n",
        "#     encoded_sentences.append(sentence_encoding)\n",
        "\n",
        "# # Pad sequences to the same length\n",
        "# padded_sentences = pad_sequences(encoded_sentences, maxlen=max_length, padding='post')\n",
        "\n",
        "# # Step 4: Build and train the autoencoder for imbalanced data\n",
        "\n",
        "# # Split the data into training and testing sets\n",
        "# X_train, X_test, y_train, y_test = train_test_split(padded_sentences, labels, test_size=0.2, random_state=42)\n",
        "\n",
        "# # Calculate class weights to address class imbalance\n",
        "# class_weights = class_weight.compute_class_weight('balanced', np.unique(y_train), y_train)\n",
        "\n",
        "# # Build the autoencoder model\n",
        "# autoencoder = Sequential()\n",
        "# autoencoder.add(Dense(64, activation='relu', input_shape=(max_length, 100)))\n",
        "# autoencoder.add(Dense(32, activation='relu'))\n",
        "# autoencoder.add(Dense(64, activation='relu'))\n",
        "# autoencoder.add(Dense(100, activation='relu'))\n",
        "\n",
        "# # Compile and train the autoencoder\n",
        "# autoencoder.compile(optimizer='adam', loss='mse')\n",
        "# autoencoder.fit(X_train, X_train, epochs=10, batch_size=16, class_weight=class_weights)\n",
        "\n",
        "# # Step 5: Extract features using LSTM\n",
        "\n",
        "# # Build the LSTM model\n",
        "# lstm_model = Sequential()\n",
        "# lstm_model.add(LSTM(64, input_shape=(max_length, 100)))\n",
        "# lstm_model.add(Dense(1, activation='sigmoid'))\n",
        "\n",
        "# # Compile and train the LSTM model\n",
        "# lstm_model.compile(optimizer='adam', loss='binary_crossentropy')\n",
        "# lstm_model.fit(X_train, y_train, epochs=10, batch_size=16, class_weight=class_weights)\n",
        "\n",
        "# # Step 6: Make predictions\n",
        "\n",
        "# # Predict on test data\n",
        "# y_pred = lstm_model.predict(X_test)\n",
        "\n",
        "# # Convert predictions to labels\n",
        "# y_pred_labels = [1 if pred > 0.5 else 0 for pred in y_pred]\n",
        "\n",
        "# # Evaluate the model\n",
        "# accuracy = np.mean(np.array(y_pred_labels) == np.array(y_test))\n",
        "# print(\"Accuracy:\", accuracy)\n"
      ]
    },
    {
      "cell_type": "code",
      "execution_count": null,
      "metadata": {
        "id": "hTJqiFMqrwxA"
      },
      "outputs": [],
      "source": [
        "visualisation1 = Visualisation(train = (x_train_balanced, y_train_balanced), dim=1)"
      ]
    },
    {
      "cell_type": "code",
      "execution_count": null,
      "metadata": {
        "colab": {
          "base_uri": "https://localhost:8080/",
          "height": 363
        },
        "id": "o-0LaGTsxRvS",
        "outputId": "a7607a13-2c9e-4672-8f18-547e83d7b015"
      },
      "outputs": [],
      "source": [
        "visualisation1.classNumber()"
      ]
    },
    {
      "cell_type": "code",
      "execution_count": null,
      "metadata": {
        "id": "6hya4IeXZAIq"
      },
      "outputs": [],
      "source": [
        "# import numpy as np\n",
        "# from sklearn.model_selection import train_test_split\n",
        "# from keras.layers import Input, Dense\n",
        "# from keras.models import Model\n",
        "# from keras.optimizers import Adam\n",
        "\n",
        "# # Generate synthetic balanced multilabel data\n",
        "# num_samples = 1000\n",
        "# num_features = 50\n",
        "# num_labels = 10\n",
        "# data = np.random.rand(num_samples, num_features)\n",
        "# labels = np.random.randint(2, size=(num_samples, num_labels))\n",
        "# labels_balanced = np.column_stack((labels[:, :5], np.logical_not(labels[:, :5])))\n",
        "# print(labels_balanced[0])\n",
        "# # Split the data into training and testing sets\n",
        "# train_data, test_data, train_labels, test_labels = train_test_split(data, labels_balanced, test_size=0.2, random_state=42)\n",
        "# print(train_data.shape, test_data.shape, train_labels.shape, test_labels.shape)\n",
        "# # Autoencoder architecture\n",
        "# input_dim = num_features\n",
        "# encoding_dim = 20\n",
        "\n",
        "# input_layer = Input(shape=(input_dim,))\n",
        "# encoder = Dense(encoding_dim, activation='relu')(input_layer)\n",
        "# decoder = Dense(input_dim, activation='sigmoid')(encoder)\n",
        "\n",
        "# # Create the autoencoder model\n",
        "# autoencoder = Model(inputs=input_layer, outputs=decoder)\n",
        "\n",
        "# # Compile the model\n",
        "# autoencoder.compile(optimizer=Adam(learning_rate=0.001), loss='binary_crossentropy')\n",
        "\n",
        "# # Train the autoencoder\n",
        "# autoencoder.fit(train_data, train_data, epochs=10, batch_size=32, shuffle=True, validation_data=(test_data, test_data))\n",
        "# autoencoder.summary()\n",
        "# # Extract the encoder part for feature representation\n",
        "# encoder_model = Model(inputs=input_layer, outputs=encoder)\n",
        "\n",
        "# # Get the encoded features\n",
        "# encoded_train_features = encoder_model.predict(train_data)\n",
        "# encoded_test_features = encoder_model.predict(test_data)\n"
      ]
    },
    {
      "cell_type": "code",
      "execution_count": null,
      "metadata": {
        "id": "31laKiUWggb8"
      },
      "outputs": [],
      "source": [
        "# import numpy as np\n",
        "# import tensorflow as tf\n",
        "# from keras import layers\n",
        "# from keras.utils import to_categorical\n",
        "\n",
        "# # Define your autoencoder model\n",
        "# input_dim = 200\n",
        "# encoding_dim = 64\n",
        "\n",
        "# autoencoder_input = tf.keras.Input(shape=(input_dim,))\n",
        "# encoded = layers.Dense(encoding_dim, activation='relu')(autoencoder_input)\n",
        "# decoded = layers.Dense(input_dim, activation='sigmoid')(encoded)\n",
        "\n",
        "# autoencoder = tf.keras.Model(autoencoder_input, decoded)\n",
        "\n",
        "# # Compile the model\n",
        "# autoencoder.compile(optimizer='adam', loss='binary_crossentropy')\n",
        "\n",
        "# # Generate imbalanced training data\n",
        "# x_train = np.random.rand(1000, 200)\n",
        "# y_train = np.random.choice([0, 1], size=(1000,), p=[0.9, 0.1])\n",
        "# y_train = to_categorical(y_train, num_classes=2)  # Convert labels to one-hot encoding\n",
        "\n",
        "# print(autoencoder.summary())\n",
        "# print(\"train\", x_train.shape, y_train.shape)\n",
        "\n",
        "# # Train the autoencoder\n",
        "# autoencoder.fit(x_train, x_train, epochs=10, batch_size=32, shuffle=True)\n",
        "\n",
        "# # Obtain the encoded representations\n",
        "# encoder = tf.keras.Model(autoencoder_input, encoded)\n",
        "# encoded_train = encoder.predict(x_train)\n",
        "# print(encoded_train.shape)"
      ]
    },
    {
      "attachments": {},
      "cell_type": "markdown",
      "metadata": {
        "id": "vzsoZFW4baPv"
      },
      "source": [
        "#### Class model TF-IDF"
      ]
    },
    {
      "cell_type": "code",
      "execution_count": null,
      "metadata": {
        "id": "hIppRirQ5mpF"
      },
      "outputs": [],
      "source": [
        "from sklearn.feature_extraction.text import TfidfVectorizer\n",
        "\n",
        "class TF_IDF:\n",
        "    def __init__(self, train:Data=None, test:Data=None, valid:Data=None):\n",
        "        if train == None:\n",
        "          self.train = Loading(\"train.txt\").data\n",
        "        else:\n",
        "          self.train = train\n",
        "        if test == None:\n",
        "          self.test = Loading(\"test.txt\").data\n",
        "        else:\n",
        "          self.test = test\n",
        "        if valid == None:\n",
        "          self.valid = Loading(\"valid.txt\").data\n",
        "        else:\n",
        "          self.valid = valid\n",
        "\n",
        "    def __preprocess_tfidf(self, data: Data):\n",
        "        preprocessing = Preprocessing(data=data)\n",
        "        preprocessing.lowercasing()\n",
        "        preprocessing.lemmatize()\n",
        "        preprocessing.remove_stopword()\n",
        "        data.unicity()\n",
        "\n",
        "    def preprocessing(self):\n",
        "        self.__preprocess_tfidf(self.train)\n",
        "        self.__preprocess_tfidf(self.test)\n",
        "        self.__preprocess_tfidf(self.valid)\n",
        "\n",
        "    def __getMatrix(self, max_length, tfidf_matrix, data: Data, feature_names):\n",
        "        entities_data = []\n",
        "        for doc_index in range(len(data.sentences_num)):\n",
        "            doc_tfidf_scores = tfidf_matrix[doc_index].toarray().flatten()\n",
        "            top_indices = doc_tfidf_scores.argsort()[: -doc_tfidf_scores.shape[0] - 1 : -1]\n",
        "            top_entities = [feature_names[i] for i in top_indices if feature_names[i].split(\"__\")[1] != \"O\"]\n",
        "            doc_entities = [entitie for entitie in list(top_entities)[:max_length]]\n",
        "            entities_data.append(doc_entities)\n",
        "        data.sentences_num = entities_data\n",
        "\n",
        "    def __formalize_tfidf(self, data: Data):\n",
        "        return [\n",
        "            \" \".join([\"\".join([word, \"__\", tag]) for word, tag in zip(words, tags)])\n",
        "            for words, tags in zip(data.sentences_num, data.ner_tags_num)\n",
        "        ]\n",
        "\n",
        "    def __deformalize_tfidf(self, data: Data):\n",
        "        sentences_tags = data.sentences_num\n",
        "        data.sentences_num = [[sent_tag.split(\"__\")[0] for sent_tag in sentences_tags] for sentences_tags in sentences_tags]\n",
        "        data.ner_tags_num = [[sent_tag.split(\"__\")[1] for sent_tag in sentences_tags] for sentences_tags in sentences_tags]\n",
        "\n",
        "    def vectorization(self):\n",
        "        vectorizer = TfidfVectorizer(\n",
        "            lowercase=False,\n",
        "            analyzer=\"word\",\n",
        "            stop_words=None,\n",
        "            token_pattern=\"[\\S]+\",\n",
        "            tokenizer=None,\n",
        "            preprocessor=None,\n",
        "        )\n",
        "        # formatted\n",
        "        data_train = self.__formalize_tfidf(self.train)\n",
        "        data_test = self.__formalize_tfidf(self.test)\n",
        "        data_valid = self.__formalize_tfidf(self.valid)\n",
        "        # Tf-idf vectorization\n",
        "        tfidf_matrix_train = vectorizer.fit_transform(data_train)\n",
        "        tfidf_matrix_test = vectorizer.transform(data_test)\n",
        "        tfidf_matrix_valid = vectorizer.transform(data_valid)\n",
        "        feature_names = vectorizer.get_feature_names_out()\n",
        "        # Generation of the matrix\n",
        "        self.__getMatrix(Data.MAX_LENGTH, tfidf_matrix_train, self.train, feature_names)\n",
        "        self.__getMatrix(Data.MAX_LENGTH, tfidf_matrix_test, self.test, feature_names)\n",
        "        self.__getMatrix(Data.MAX_LENGTH, tfidf_matrix_valid, self.valid, feature_names)\n",
        "        # unformatted\n",
        "        self.__deformalize_tfidf(self.train)\n",
        "        self.__deformalize_tfidf(self.test)\n",
        "        self.__deformalize_tfidf(self.valid)"
      ]
    },
    {
      "attachments": {},
      "cell_type": "markdown",
      "metadata": {
        "id": "X-5xAyf4bgyZ"
      },
      "source": [
        "#### Test model TF-IDF"
      ]
    },
    {
      "cell_type": "code",
      "execution_count": null,
      "metadata": {
        "id": "AIFkBA7S5mpG"
      },
      "outputs": [],
      "source": [
        "tfidf = TF_IDF()\n",
        "tfidf.preprocessing()\n",
        "tfidf.vectorization()"
      ]
    },
    {
      "cell_type": "code",
      "execution_count": null,
      "metadata": {
        "colab": {
          "base_uri": "https://localhost:8080/"
        },
        "id": "nudUKWa_kj6q",
        "outputId": "e7ace619-056c-4474-f0fe-3358059ff590"
      },
      "outputs": [],
      "source": [
        "i = 150\n",
        "list(zip(tfidf.test.sentences_num[i], tfidf.test.ner_tags_num[i]))"
      ]
    },
    {
      "cell_type": "code",
      "execution_count": null,
      "metadata": {
        "id": "cmB-gCiPONOX",
        "outputId": "c96805bc-4ecb-4eed-8f3d-75016c5c6395"
      },
      "outputs": [],
      "source": [
        "train = Loading(\"train.txt\").data\n",
        "test = Loading(\"test.txt\").data\n",
        "valid = Loading(\"valid.txt\").data\n",
        "visualisation = Visualisation(train, test, valid, 0)\n",
        "visualisation.classNumber()"
      ]
    },
    {
      "cell_type": "code",
      "execution_count": null,
      "metadata": {
        "colab": {
          "base_uri": "https://localhost:8080/",
          "height": 331
        },
        "id": "TPtX0U2qONOX",
        "outputId": "17f04dd5-317a-40c9-d6c1-269edd7b27df"
      },
      "outputs": [],
      "source": [
        "visualisation2 = Visualisation(tfidf.train, tfidf.test, tfidf.valid, 1)\n",
        "visualisation2.classNumber()"
      ]
    },
    {
      "cell_type": "code",
      "execution_count": null,
      "metadata": {
        "colab": {
          "base_uri": "https://localhost:8080/",
          "height": 449
        },
        "id": "DQ8tSVE6ONOY",
        "outputId": "ed50348a-7f4d-4247-9d6b-f5395c62b2a9"
      },
      "outputs": [],
      "source": [
        "visualisation2.classNumberHistogram()"
      ]
    },
    {
      "attachments": {},
      "cell_type": "markdown",
      "metadata": {
        "id": "HwS7GyBk5moe"
      },
      "source": [
        "## Tools"
      ]
    },
    {
      "cell_type": "code",
      "execution_count": null,
      "metadata": {
        "id": "bO0kqmRDONOZ"
      },
      "outputs": [],
      "source": [
        "# import gensim.downloader as api\n",
        "# path = api.load(\"word2vec-google-news-300\", return_path=True)\n",
        "# print(path)"
      ]
    },
    {
      "cell_type": "code",
      "execution_count": null,
      "metadata": {
        "id": "IPZEvRTT5mpH"
      },
      "outputs": [],
      "source": [
        "# import numpy as np\n",
        "# import pandas as pd\n",
        "# from sklearn.feature_extraction.text import TfidfVectorizer\n",
        "# from keras.preprocessing.text import Tokenizer\n",
        "# from keras.preprocessing.sequence import pad_sequences\n",
        "# from keras.models import Sequential\n",
        "# from keras.layers import Dense, Dropout, Activation, Embedding, Conv1D, GlobalMaxPooling1D\n",
        "\n",
        "# # Load data\n",
        "# df = pd.read_csv(\"ner_data.csv\", encoding=\"ISO-8859-1\", error_bad_lines=False)\n",
        "# df = df.fillna(method=\"ffill\")\n",
        "# sentences = df.groupby(\"Sentence #\")[\"Word\"].apply(list).values\n",
        "# tags = df.groupby(\"Sentence #\")[\"Tag\"].apply(list).values\n",
        "\n",
        "# # Perform TF-IDF\n",
        "# vectorizer = TfidfVectorizer(ngram_range=(1,2))\n",
        "# X_tfidf = vectorizer.fit_transform([\" \".join(sent) for sent in sentences])\n",
        "# tfidf_vocab = vectorizer.vocabulary_\n",
        "# tfidf_vocab_inv = {v:k for k,v in tfidf_vocab.items()}\n",
        "# tfidf_weights = np.asarray(X_tfidf.mean(axis=0)).ravel()\n",
        "\n",
        "# # Tokenize words\n",
        "# MAX_NB_WORDS = 20000\n",
        "# MAX_SEQ_LENGTH = 100\n",
        "# tokenizer = Tokenizer(num_words=MAX_NB_WORDS)\n",
        "# tokenizer.fit_on_texts(sentences)\n",
        "# word_index = tokenizer.word_index\n",
        "\n",
        "# # Convert words to sequences\n",
        "# X = tokenizer.texts_to_sequences(sentences)\n",
        "# X = pad_sequences(X, maxlen=MAX_SEQ_LENGTH)\n",
        "\n",
        "# # Convert tags to sequences\n",
        "# tags_index = {\"O\": 0, \"B-LOC\": 1, \"I-LOC\": 2, \"B-PER\": 3, \"I-PER\": 4, \"B-ORG\": 5, \"I-ORG\": 6}\n",
        "# y = [[tags_index[tag] for tag in sent] for sent in tags]\n",
        "# y = pad_sequences(y, maxlen=MAX_SEQ_LENGTH)\n",
        "\n",
        "# # Split data into train and test sets\n",
        "# VALIDATION_SPLIT = 0.2\n",
        "# nb_validation_samples = int(VALIDATION_SPLIT * len(X))\n",
        "# X_train = X[:-nb_validation_samples]\n",
        "# y_train = y[:-nb_validation_samples]\n",
        "# X_test = X[-nb_validation_samples:]\n",
        "# y_test = y[-nb_validation_samples:]\n",
        "\n",
        "# # Define CNN model\n",
        "# model = Sequential()\n",
        "# model.add(Embedding(MAX_NB_WORDS, Data.VOCAB_SIZE, input_length=MAX_SEQ_LENGTH))\n",
        "# model.add(Conv1D(128, 5, activation=\"relu\"))\n",
        "# model.add(GlobalMaxPooling1D())\n",
        "# model.add(Dense(7, activation=\"softmax\"))\n",
        "# model.compile(loss=\"categorical_crossentropy\", optimizer=\"adam\", metrics=[\"accuracy\"])\n",
        "\n",
        "# # Train model\n",
        "# model.fit(X_train, y_train, validation_data=(X_test, y_test), epochs=10, batch_size=128)\n",
        "\n",
        "# # Predict tags for new sentences\n",
        "# def predict_tags(sentences):\n",
        "#     X = tokenizer.texts_to_sequences(sentences)\n",
        "#     X = pad_sequences(X, maxlen=MAX_SEQ_LENGTH)\n",
        "#     y_pred = model.predict(X)\n",
        "#     return [[tfidf_vocab_inv[np.argmax(tfidf_weights * y)] if np.max(tfidf_weights * y) > 0.2 else \"O\" for y in sent] for sent in y_pred]\n",
        "\n",
        "# # Test predictions\n",
        "# sentences_test = [\"John lives in New York City.\", \"Steve Jobs was the founder of Apple.\"]\n",
        "# tags_pred = predict_tags(sentences_test)\n",
        "# print(tags_pred)"
      ]
    },
    {
      "cell_type": "code",
      "execution_count": null,
      "metadata": {
        "id": "K7eHuf96nXDm"
      },
      "outputs": [],
      "source": [
        "# !pip install tensorflow-addons"
      ]
    },
    {
      "cell_type": "code",
      "execution_count": null,
      "metadata": {
        "id": "Tqp60CTqGqzV"
      },
      "outputs": [],
      "source": [
        "# model_LSTM.save(\"../Data/model_lstm.keras\")"
      ]
    },
    {
      "cell_type": "code",
      "execution_count": null,
      "metadata": {
        "id": "itvrF6SvFmUg"
      },
      "outputs": [],
      "source": [
        "# model_LSTM = tf.keras.models.load_model(\"../Data/model_lstm.keras\")"
      ]
    },
    {
      "cell_type": "code",
      "execution_count": null,
      "metadata": {
        "id": "8x5O84rzHU9m"
      },
      "outputs": [],
      "source": [
        "# # np.quantile(sort([1, 2, 3, 8, 7]), 0.50)\n",
        "# dico = {}\n",
        "# for tags in test.sentences + train.sentences + valid.sentences:\n",
        "#   if dico.get(len(tags), None) == None:\n",
        "#     dico[len(tags)] = 1\n",
        "#   dico[len(tags)] += 1\n",
        "# sorted(list(dico.items()), key= lambda x: x[1])"
      ]
    },
    {
      "cell_type": "code",
      "execution_count": null,
      "metadata": {
        "id": "0QGhljfiC5gG"
      },
      "outputs": [],
      "source": [
        "# entities = dict(zip(Data.unique_ner_tags.keys(), [0 for i in range(len(Data.unique_ner_tags))]))\n",
        "# for tags in test.ner_tags:\n",
        "#     for tag in tags:\n",
        "#         entities[tag] += 1\n",
        "# is_entities = 0\n",
        "# is_not_entities = 0\n",
        "# for tag, nbr in entities.items():\n",
        "#     if tag != 'O': is_entities += nbr\n",
        "#     else: is_not_entities += nbr\n",
        "# print(entities)\n",
        "# print(is_entities, is_not_entities)"
      ]
    },
    {
      "attachments": {},
      "cell_type": "markdown",
      "metadata": {},
      "source": [
        "# Brouillon"
      ]
    },
    {
      "cell_type": "code",
      "execution_count": null,
      "metadata": {},
      "outputs": [],
      "source": [
        "# Build CNN model\n",
        "model = Sequential()\n",
        "model.add(Conv1D(NUM_FILTERS, KERNEL_SIZE, activation='relu', input_shape=(MAX_SEQ_LENGTH, EMBEDDING_DIM)))\n",
        "model.add(MaxPooling1D(2))\n",
        "model.add(Dropout(DROPOUT_RATE))\n",
        "model.add(Conv1D(NUM_FILTERS, KERNEL_SIZE, activation='relu'))\n",
        "model.add(MaxPooling1D(2))\n",
        "model.add(Dropout(DROPOUT_RATE))\n",
        "model.add(Dense(HIDDEN_DIM, activation='relu'))\n",
        "model.add(Dropout(DROPOUT_RATE))\n",
        "model.add(Dense(len(labels), activation='softmax'))\n",
        "model.compile(loss='categorical_crossentropy', optimizer='adam', metrics=['accuracy'])"
      ]
    },
    {
      "cell_type": "code",
      "execution_count": null,
      "metadata": {},
      "outputs": [],
      "source": [
        "from keras import Input, Model\n",
        "from keras.layers import concatenate, Dense\n",
        "\n",
        "# define two sets of inputs\n",
        "inputA = Input(shape=(32,), name=\"x_input\")\n",
        "inputB = Input(shape=(128,), name=\"y_input\")\n",
        "# the first branch operates on the first input\n",
        "x = Dense(8, name=\"x1\", activation=\"relu\")(inputA)\n",
        "x = Dense(4, name=\"x2\", activation=\"relu\")(x)\n",
        "x = Model(inputs=inputA, outputs=x)\n",
        "# the second branch opreates on the second input\n",
        "y = Dense(64,name=\"y1\",  activation=\"relu\")(inputB)\n",
        "y = Dense(32,name=\"y2\",  activation=\"relu\")(y)\n",
        "y = Dense(4, name=\"y3\", activation=\"relu\")(y)\n",
        "y = Model(inputs=inputB, outputs=y)\n",
        "# combine the output of the two branches\n",
        "combined = concatenate([x.output, y.output])\n",
        "# apply a FC layer and then a regression prediction on the\n",
        "# combined outputs\n",
        "z = Dense(2, name=\"z1\", activation=\"relu\")(combined)\n",
        "z = Dense(1, name=\"z2\", activation=\"linear\")(z)\n",
        "# our model will accept the inputs of the two branches and\n",
        "# then output a single value\n",
        "model = Model(inputs=[x.input, y.input], outputs=z)"
      ]
    },
    {
      "cell_type": "code",
      "execution_count": null,
      "metadata": {},
      "outputs": [],
      "source": [
        "model.summary()"
      ]
    }
  ],
  "metadata": {
    "accelerator": "GPU",
    "colab": {
      "collapsed_sections": [
        "hWBc46_ZTK5u",
        "YMfHyYuHTDud",
        "3fcvRYZ97fmq",
        "mkK1C7mp7fmu",
        "VxLQFuLO7fmv",
        "I9vvnsDR7fmv",
        "T0yl2FQm7fmw",
        "N-2jPEd6TZ6I",
        "gPCrQ6VwmV03",
        "2NFpti3H7fm0",
        "rVKzq06h5moN",
        "u6IUaT76g8Ja",
        "-azndnf3Z0Ci",
        "AbhO6LKDbEhf",
        "Ma8R8LJybJpF",
        "vzsoZFW4baPv",
        "X-5xAyf4bgyZ",
        "HwS7GyBk5moe"
      ],
      "gpuType": "T4",
      "provenance": []
    },
    "gpuClass": "standard",
    "kernelspec": {
      "display_name": "Python 3",
      "language": "python",
      "name": "python3"
    },
    "language_info": {
      "codemirror_mode": {
        "name": "ipython",
        "version": 3
      },
      "file_extension": ".py",
      "mimetype": "text/x-python",
      "name": "python",
      "nbconvert_exporter": "python",
      "pygments_lexer": "ipython3",
      "version": "3.9.13"
    }
  },
  "nbformat": 4,
  "nbformat_minor": 0
}

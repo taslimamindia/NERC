{
  "cells": [
    {
      "cell_type": "code",
      "execution_count": null,
      "metadata": {
        "colab": {
          "base_uri": "https://localhost:8080/"
        },
        "id": "lJ-tKnxA74KU",
        "outputId": "6a3d2ad2-1744-45cd-9de9-8cd7b8de3dd9"
      },
      "outputs": [
        {
          "name": "stdout",
          "output_type": "stream",
          "text": [
            "Cloning into 'NERC'...\n",
            "remote: Enumerating objects: 143, done.\u001b[K\n",
            "remote: Counting objects: 100% (143/143), done.\u001b[K\n",
            "remote: Compressing objects: 100% (104/104), done.\u001b[K\n",
            "remote: Total 143 (delta 44), reused 128 (delta 31), pack-reused 0\u001b[K\n",
            "Receiving objects: 100% (143/143), 3.31 MiB | 5.07 MiB/s, done.\n",
            "Resolving deltas: 100% (44/44), done.\n"
          ]
        }
      ],
      "source": [
        "!git clone https://github.com/taslimamindia/NERC.git"
      ]
    },
    {
      "cell_type": "markdown",
      "metadata": {
        "id": "3fcvRYZ97fmq"
      },
      "source": [
        "# Importation"
      ]
    },
    {
      "cell_type": "code",
      "execution_count": 1,
      "metadata": {
        "id": "tou31yST7fmt"
      },
      "outputs": [],
      "source": [
        "import pandas as pd\n",
        "import seaborn as sns\n",
        "import numpy as np\n",
        "\n",
        "import matplotlib.pyplot as plt\n",
        "\n",
        "from nltk import word_tokenize, sent_tokenize, download\n",
        "from nltk.corpus import stopwords\n",
        "from nltk.stem import WordNetLemmatizer\n",
        "\n",
        "from gensim.models import Word2Vec\n",
        "\n",
        "import tensorflow as tf\n",
        "import os\n",
        "\n",
        "from keras.utils import to_categorical, pad_sequences"
      ]
    },
    {
      "cell_type": "code",
      "execution_count": 17,
      "metadata": {
        "colab": {
          "base_uri": "https://localhost:8080/"
        },
        "id": "qZ9h38D29wUb",
        "outputId": "2db28e91-20d4-4280-a67d-f0b5597f8ecb"
      },
      "outputs": [],
      "source": [
        "# download('wordnet') # for google colab\n",
        "# download('stopwords')"
      ]
    },
    {
      "cell_type": "markdown",
      "metadata": {
        "id": "mkK1C7mp7fmu"
      },
      "source": [
        "# Class define form data."
      ]
    },
    {
      "cell_type": "code",
      "execution_count": 2,
      "metadata": {
        "id": "tsvoLVPY7fmu"
      },
      "outputs": [],
      "source": [
        "class Data(object):\n",
        "    unique_words = {\"<PAD>\":0}\n",
        "    unique_ner_tags = {\"O\":0}\n",
        "    MAX_LENGTH = 50\n",
        "    VOCAB_SIZE = 100\n",
        "    def __init__(self):\n",
        "        self.sentences = []\n",
        "        self.sentences_num = None\n",
        "        self.ner_tags = []\n",
        "        self.ner_tags_num = None\n",
        "        self.chunk_tags = []\n",
        "        self.pos_tags = []\n",
        "        self.x, self.y = None, None\n",
        "    def word2idx(self, word:str):\n",
        "        return Data.unique_words.get(word, None)\n",
        "    def idx2word(self, index:int):\n",
        "        for word, value in Data.unique_words.items():\n",
        "            if index is value: return word\n",
        "        return None    \n",
        "    def tag2idx(self, tag):\n",
        "        return Data.unique_ner_tags.get(tag, None)\n",
        "    def idx2tag(self, index):\n",
        "        for tag, value in Data.unique_ner_tags.items():\n",
        "            if index == value: return tag\n",
        "        return None\n",
        "    def unicity(self):\n",
        "        unique_sent, unique_tag = set(), set()\n",
        "        [unique_tag.update(tags) for tags in self.ner_tags_num]\n",
        "        [unique_sent.update(tags) for tags in self.sentences_num]\n",
        "        max_tags = len(Data.unique_ner_tags)\n",
        "        max_words = len(Data.unique_words)\n",
        "        for word in list(unique_sent):\n",
        "            if Data.unique_words.get(word, None) == None:\n",
        "                Data.unique_words[word] = max_words\n",
        "                max_words += 1\n",
        "        for tag in list(unique_tag):\n",
        "            if Data.unique_ner_tags.get(tag, None) == None:\n",
        "                Data.unique_ner_tags[tag] = max_tags\n",
        "                max_tags += 1\n"
      ]
    },
    {
      "cell_type": "markdown",
      "metadata": {
        "id": "VxLQFuLO7fmv"
      },
      "source": [
        "# Loading data"
      ]
    },
    {
      "cell_type": "code",
      "execution_count": 3,
      "metadata": {
        "id": "NzjCn5tW7fmv"
      },
      "outputs": [],
      "source": [
        "class Loading():\n",
        "    def __init__(self, path):\n",
        "        if os.path.exists(\"../Data/conll2003_english/\"): \n",
        "            base_file = \"../Data/conll2003_english/\"\n",
        "        else:\n",
        "            base_file = \"/content/NERC/Data/conll2003_english/\"        \n",
        "        self.data = Data()\n",
        "        self.load_sentences(base_file + path)\n",
        "    def load_sentences(self, filepath):\n",
        "        tokens, pos_tags, chunk_tags, ner_tags = [], [], [], []\n",
        "        with open(filepath, 'r') as f:\n",
        "            for line in f.readlines():\n",
        "                if (line == ('-DOCSTART- -X- -X- O\\n') or line == '\\n'):\n",
        "                    if len(tokens) > 0:\n",
        "                        self.data.sentences.append(tokens)\n",
        "                        self.data.pos_tags.append(pos_tags)\n",
        "                        self.data.chunk_tags.append(chunk_tags)\n",
        "                        self.data.ner_tags.append(ner_tags)\n",
        "                        tokens, pos_tags, chunk_tags, ner_tags = [], [], [], []\n",
        "                else:\n",
        "                    l = line.split(' ')\n",
        "                    tokens.append(l[0])\n",
        "                    pos_tags.append(l[1])\n",
        "                    chunk_tags.append(l[2])\n",
        "                    ner_tags.append(l[3].strip('\\n'))"
      ]
    },
    {
      "cell_type": "markdown",
      "metadata": {
        "id": "I9vvnsDR7fmv"
      },
      "source": [
        "# Preprocessing"
      ]
    },
    {
      "cell_type": "code",
      "execution_count": 4,
      "metadata": {
        "id": "3Rbc4nVU7fmw"
      },
      "outputs": [],
      "source": [
        "class Preprocessing():\n",
        "    def __init__(self, data:Data, text=None, lang=\"english\"):\n",
        "        self.data = data\n",
        "        self.text = text\n",
        "        self.lang = lang\n",
        "        if text == None:\n",
        "            self.data.sentences_num = self.data.sentences\n",
        "            self.data.ner_tags_num = self.data.ner_tags\n",
        "    \n",
        "    def tokenize(self):\n",
        "        if self.text != None:\n",
        "            sentenses = [word_tokenize(sentence, language=self.lang) for sentence in sent_tokenize(self.text, language=self.lang)]\n",
        "            self.data.sentences = [[token for token in sentence if token not in stopwords.words(self.lang)] for sentence in sentenses]\n",
        "            self.data.sentences_num = self.data.sentences\n",
        "        \n",
        "    def lowercasing(self):\n",
        "        self.data.sentences_num = [[word.lower() for word in sentence] for sentence in self.data.sentences_num]\n",
        "    \n",
        "    def lemmatize(self):\n",
        "        lemmatizer = WordNetLemmatizer()\n",
        "        self.data.sentences_num = [[lemmatizer.lemmatize(word) for word in sentence] for sentence in self.data.sentences_num]\n",
        "    \n",
        "    def remove_stopword(self):\n",
        "        punctuation = ['!', '\"', '#', '$', '%', '&', \"'\", '(', ')', '*', '+', ',', '-', '.', '/', ':', ';', '<', '=', '>', '?', '@', '[', '\\\\', ']', '^', '_', '`', '{', '|', '}', '~']\n",
        "        punctuations = stopwords.words(self.lang) + punctuation\n",
        "        sentences = [[(self.data.sentences_num[i][j], self.data.ner_tags[i][j]) for j in range(len(self.data.sentences_num[i]))] for i in range(len(self.data.sentences_num))]\n",
        "        sentences = [[(token, tag) for token, tag in sentence if token not in punctuations or tag != \"O\"] for sentence in sentences]\n",
        "        self.data.sentences_num = [[token for token, tag in sentence] for sentence in sentences]\n",
        "        self.data.ner_tags_num = [[tag for token, tag in sentence] for sentence in sentences]"
      ]
    },
    {
      "cell_type": "markdown",
      "metadata": {
        "id": "T0yl2FQm7fmw"
      },
      "source": [
        "# Vectorization"
      ]
    },
    {
      "cell_type": "code",
      "execution_count": 5,
      "metadata": {
        "id": "Arjdv32N7fmw"
      },
      "outputs": [],
      "source": [
        "class Vectorization():\n",
        "    def __init__(self, data:Data):\n",
        "        self.data = data\n",
        "    \n",
        "    def word2vec(self):\n",
        "        word2vec_model = Word2Vec(self.data.sentences_num, min_count=1, vector_size=Data.VOCAB_SIZE, window=5)\n",
        "        self.data.sentences_num = [[word2vec_model.wv[word] for word in sentence] for sentence in self.data.sentences_num]\n",
        "    \n",
        "    def padding_x(self):\n",
        "        self.data.x = pad_sequences(\n",
        "            sequences=self.data.sentences_num, \n",
        "            maxlen=self.data.MAX_LENGTH, \n",
        "            dtype=\"float32\", \n",
        "            padding=\"post\", \n",
        "            value=np.zeros((Data.VOCAB_SIZE,), dtype=\"float32\")\n",
        "        )\n",
        "    \n",
        "    def vectorized_x(self):\n",
        "        self.word2vec()\n",
        "        self.padding_x()\n",
        "        \n",
        "    def tag2num(self):\n",
        "        NUM_CLASSES = len(Data.unique_ner_tags)\n",
        "        self.data.ner_tags_num = [[to_categorical(Data.unique_ner_tags.get(tag), num_classes=NUM_CLASSES) for tag in tags] for tags in self.data.ner_tags_num]\n",
        "    \n",
        "    def padding_y(self):\n",
        "        self.data.y = pad_sequences(\n",
        "            sequences=self.data.ner_tags_num, \n",
        "            maxlen=self.data.MAX_LENGTH,\n",
        "            padding=\"post\", \n",
        "            dtype=\"float32\",\n",
        "            value=to_categorical(Data.unique_ner_tags.get(\"O\"), num_classes=len(Data.unique_ner_tags))\n",
        "        )\n",
        "    \n",
        "    def vectorized_y(self):\n",
        "        self.tag2num()\n",
        "        self.padding_y()"
      ]
    },
    {
      "cell_type": "markdown",
      "metadata": {
        "id": "uMdxz6YR7fmx"
      },
      "source": [
        "# Main"
      ]
    },
    {
      "cell_type": "markdown",
      "metadata": {
        "id": "gPCrQ6VwmV03"
      },
      "source": [
        "### Visualization"
      ]
    },
    {
      "cell_type": "code",
      "execution_count": 8,
      "metadata": {
        "id": "SGCDK7Nxmb3f"
      },
      "outputs": [],
      "source": [
        "train = Loading(\"train.txt\").data\n",
        "test = Loading(\"test.txt\").data\n",
        "valid = Loading(\"valid.txt\").data"
      ]
    },
    {
      "cell_type": "code",
      "execution_count": 61,
      "metadata": {
        "id": "HVvfZZfsmfIv"
      },
      "outputs": [],
      "source": [
        "class Visualisation:\n",
        "    def __init__(self, train: Data, test: Data, valid: Data, pos: int):\n",
        "        if pos == 0:\n",
        "            Sentences = train.sentences + test.sentences + valid.sentences\n",
        "            Tags = train.ner_tags + test.ner_tags + valid.ner_tags\n",
        "        elif pos == 1:\n",
        "            Sentences = train.sentences_num + test.sentences_num + valid.sentences_num\n",
        "            Tags = train.ner_tags_num + test.ner_tags_num + valid.ner_tags_num\n",
        "        X, y = [], []\n",
        "        [\n",
        "            [X.append(word) for word in sentence]\n",
        "            for sentence in Sentences\n",
        "        ]\n",
        "        [\n",
        "            [y.append(tag) for tag in tags]\n",
        "            for tags in Tags\n",
        "        ]\n",
        "        self.df = pd.DataFrame({\"word\": X, \"label\": y})\n",
        "    def classNumber(self):\n",
        "        hist = self.df.groupby(\"label\").count()\n",
        "        return hist\n",
        "    def classNumberHistogram(self):\n",
        "        hist = self.df.groupby(\"label\").count()\n",
        "        hist = pd.DataFrame({\"class\":hist.index, \"count\": hist[\"word\"]})\n",
        "        hist = hist.to_numpy().tolist()\n",
        "        cl = [t[0] for t in hist]\n",
        "        nbr = [t[1] for t in hist]\n",
        "        sns.barplot(data=pd.DataFrame({\"class\":cl, \"count\":nbr}), x=\"class\", y=\"count\")"
      ]
    },
    {
      "cell_type": "code",
      "execution_count": 62,
      "metadata": {
        "colab": {
          "base_uri": "https://localhost:8080/",
          "height": 363
        },
        "id": "VQ1XVZjL0Fbx",
        "outputId": "1325c5e6-be57-400d-a21f-ccc84321dbb0"
      },
      "outputs": [],
      "source": [
        "visualisation = Visualisation(train, test, valid, 0)"
      ]
    },
    {
      "cell_type": "code",
      "execution_count": 63,
      "metadata": {},
      "outputs": [
        {
          "data": {
            "text/html": [
              "<div>\n",
              "<style scoped>\n",
              "    .dataframe tbody tr th:only-of-type {\n",
              "        vertical-align: middle;\n",
              "    }\n",
              "\n",
              "    .dataframe tbody tr th {\n",
              "        vertical-align: top;\n",
              "    }\n",
              "\n",
              "    .dataframe thead th {\n",
              "        text-align: right;\n",
              "    }\n",
              "</style>\n",
              "<table border=\"1\" class=\"dataframe\">\n",
              "  <thead>\n",
              "    <tr style=\"text-align: right;\">\n",
              "      <th></th>\n",
              "      <th>word</th>\n",
              "    </tr>\n",
              "    <tr>\n",
              "      <th>label</th>\n",
              "      <th></th>\n",
              "    </tr>\n",
              "  </thead>\n",
              "  <tbody>\n",
              "    <tr>\n",
              "      <th>B-LOC</th>\n",
              "      <td>10645</td>\n",
              "    </tr>\n",
              "    <tr>\n",
              "      <th>B-MISC</th>\n",
              "      <td>5062</td>\n",
              "    </tr>\n",
              "    <tr>\n",
              "      <th>B-ORG</th>\n",
              "      <td>9323</td>\n",
              "    </tr>\n",
              "    <tr>\n",
              "      <th>B-PER</th>\n",
              "      <td>10059</td>\n",
              "    </tr>\n",
              "    <tr>\n",
              "      <th>I-LOC</th>\n",
              "      <td>1671</td>\n",
              "    </tr>\n",
              "    <tr>\n",
              "      <th>I-MISC</th>\n",
              "      <td>1717</td>\n",
              "    </tr>\n",
              "    <tr>\n",
              "      <th>I-ORG</th>\n",
              "      <td>5290</td>\n",
              "    </tr>\n",
              "    <tr>\n",
              "      <th>I-PER</th>\n",
              "      <td>6991</td>\n",
              "    </tr>\n",
              "    <tr>\n",
              "      <th>O</th>\n",
              "      <td>250660</td>\n",
              "    </tr>\n",
              "  </tbody>\n",
              "</table>\n",
              "</div>"
            ],
            "text/plain": [
              "          word\n",
              "label         \n",
              "B-LOC    10645\n",
              "B-MISC    5062\n",
              "B-ORG     9323\n",
              "B-PER    10059\n",
              "I-LOC     1671\n",
              "I-MISC    1717\n",
              "I-ORG     5290\n",
              "I-PER     6991\n",
              "O       250660"
            ]
          },
          "execution_count": 63,
          "metadata": {},
          "output_type": "execute_result"
        }
      ],
      "source": [
        "visualisation.classNumber()"
      ]
    },
    {
      "cell_type": "code",
      "execution_count": 64,
      "metadata": {
        "colab": {
          "base_uri": "https://localhost:8080/",
          "height": 466
        },
        "id": "m7hnKPtIpVbQ",
        "outputId": "9884d699-a80f-4cc4-bb88-04a79035bdd2"
      },
      "outputs": [
        {
          "data": {
            "image/png": "[encoded data removed]",
            "text/plain": [
              "<Figure size 640x480 with 1 Axes>"
            ]
          },
          "metadata": {},
          "output_type": "display_data"
        }
      ],
      "source": [
        "visualisation.classNumberHistogram()"
      ]
    },
    {
      "cell_type": "code",
      "execution_count": 18,
      "metadata": {
        "colab": {
          "base_uri": "https://localhost:8080/",
          "height": 175
        },
        "id": "6TEuNuFyqMrZ",
        "outputId": "ed71b705-0d31-4828-e359-e522ae88951d"
      },
      "outputs": [
        {
          "data": {
            "text/html": [
              "<div>\n",
              "<style scoped>\n",
              "    .dataframe tbody tr th:only-of-type {\n",
              "        vertical-align: middle;\n",
              "    }\n",
              "\n",
              "    .dataframe tbody tr th {\n",
              "        vertical-align: top;\n",
              "    }\n",
              "\n",
              "    .dataframe thead th {\n",
              "        text-align: right;\n",
              "    }\n",
              "</style>\n",
              "<table border=\"1\" class=\"dataframe\">\n",
              "  <thead>\n",
              "    <tr style=\"text-align: right;\">\n",
              "      <th></th>\n",
              "      <th>word</th>\n",
              "      <th>label</th>\n",
              "    </tr>\n",
              "  </thead>\n",
              "  <tbody>\n",
              "    <tr>\n",
              "      <th>count</th>\n",
              "      <td>301418</td>\n",
              "      <td>301418</td>\n",
              "    </tr>\n",
              "    <tr>\n",
              "      <th>unique</th>\n",
              "      <td>30289</td>\n",
              "      <td>9</td>\n",
              "    </tr>\n",
              "    <tr>\n",
              "      <th>top</th>\n",
              "      <td>,</td>\n",
              "      <td>O</td>\n",
              "    </tr>\n",
              "    <tr>\n",
              "      <th>freq</th>\n",
              "      <td>10876</td>\n",
              "      <td>250660</td>\n",
              "    </tr>\n",
              "  </tbody>\n",
              "</table>\n",
              "</div>"
            ],
            "text/plain": [
              "          word   label\n",
              "count   301418  301418\n",
              "unique   30289       9\n",
              "top          ,       O\n",
              "freq     10876  250660"
            ]
          },
          "execution_count": 18,
          "metadata": {},
          "output_type": "execute_result"
        }
      ],
      "source": [
        "visualisation.df.describe()"
      ]
    },
    {
      "cell_type": "markdown",
      "metadata": {
        "id": "2NFpti3H7fm0"
      },
      "source": [
        "### New input text"
      ]
    },
    {
      "cell_type": "code",
      "execution_count": null,
      "metadata": {
        "id": "_jGe-JDa7fm1"
      },
      "outputs": [],
      "source": [
        "# test_text = Data()\n",
        "\n",
        "# preprocessing = Preprocessing(data = test_text, text = \"Obama is the president of the United States. I am from Guinea, nice to meet you.\")\n",
        "# preprocessing.tokenize()\n",
        "# preprocessing.lowercasing()\n",
        "# preprocessing.lemmatize()\n",
        "# print(test_text.sentences)\n",
        "\n",
        "# vector = Vectorization(test_text)\n",
        "# vector.vectorized_x()\n",
        "# print(test_text.x.shape)"
      ]
    },
    {
      "cell_type": "markdown",
      "metadata": {
        "id": "F08w-hsB7fm1"
      },
      "source": [
        "### Parameters"
      ]
    },
    {
      "cell_type": "code",
      "execution_count": 6,
      "metadata": {
        "id": "-M4-ULUI7fm1"
      },
      "outputs": [],
      "source": [
        "# Hyperparameters\n",
        "NUM_FILTERS = 256\n",
        "KERNEL_SIZE = 3\n",
        "DROPOUT_RATE = 0.6\n",
        "BATCH_SIZE = 32\n",
        "EPOCHS = 2"
      ]
    },
    {
      "cell_type": "markdown",
      "metadata": {
        "id": "rVKzq06h5moN"
      },
      "source": [
        "## Evaluation"
      ]
    },
    {
      "cell_type": "code",
      "execution_count": 7,
      "metadata": {
        "id": "70grOo_p5moO"
      },
      "outputs": [],
      "source": [
        "def evaluation(test:Data, y_predict):\n",
        "  true, false, total, predict = 0, 0, 0, 0\n",
        "  x, y, z = test.y.shape\n",
        "  for i in range(x):\n",
        "    for j in range(y):\n",
        "      real_tag = np.argmax(test.y[i][j]) \n",
        "      predict_tag = np.argmax(y_predict[i][j])\n",
        "      if predict_tag == 0: predict +=1\n",
        "      if real_tag != 0:\n",
        "        total = total + 1\n",
        "        if real_tag == predict_tag: true = true + 1\n",
        "        else: false = false + 1\n",
        "  print(\"----------------------- Evaluation -------------------------\")\n",
        "  print(test.y.shape)\n",
        "  print(predict, x*y)\n",
        "  print(true, false, total, round(true/total, 3), round(false/total, 3), end=\"\\n\\n\")\n",
        "\n",
        "def checkDataset(train, test, valid):    \n",
        "    print(\"X_train\", train.x.shape, \"y_train\", train.y.shape, \"\\n\")\n",
        "    print(\"X_test\", test.x.shape, \"y_test\", test.y.shape, \"\\n\")    \n",
        "    print(\"X_valid\", valid.x.shape, \"y_valid\", valid.y.shape)"
      ]
    },
    {
      "cell_type": "markdown",
      "metadata": {
        "id": "u6IUaT76g8Ja"
      },
      "source": [
        "## CNN model"
      ]
    },
    {
      "cell_type": "code",
      "execution_count": 32,
      "metadata": {
        "id": "3Z44LAt-5moQ"
      },
      "outputs": [],
      "source": [
        "from keras.models import Sequential\n",
        "from keras.layers import Dense, Dropout, Conv1D, MaxPooling1D\n",
        "\n",
        "\n",
        "class Model_CNN:\n",
        "    def __init__(self):\n",
        "        self.train = Loading(\"train.txt\").data\n",
        "        self.test = Loading(\"test.txt\").data\n",
        "        self.valid = Loading(\"valid.txt\").data\n",
        "        # Define the model architecture\n",
        "        self.model = Sequential()\n",
        "        self.model.add(\n",
        "            Conv1D(\n",
        "                128,\n",
        "                KERNEL_SIZE,\n",
        "                activation=\"relu\",\n",
        "                input_shape=(Data.MAX_LENGTH, Data.VOCAB_SIZE),\n",
        "                padding=\"same\",\n",
        "            )\n",
        "        )\n",
        "        self.model.add(Dropout(DROPOUT_RATE))\n",
        "        self.model.add(Conv1D(64, KERNEL_SIZE, activation=\"relu\", padding=\"same\"))\n",
        "        self.model.add(Dropout(DROPOUT_RATE))\n",
        "        self.model.add(Conv1D(32, KERNEL_SIZE, activation=\"relu\", padding=\"same\"))\n",
        "        self.model.add(Dropout(DROPOUT_RATE))\n",
        "        self.model.add(Dense(len(Data.unique_ner_tags), activation=\"softmax\"))\n",
        "\n",
        "    def change(self, max_length=None, vocab_size=None):\n",
        "        if max_length != None:\n",
        "            Data.MAX_LENGTH = max_length\n",
        "        if vocab_size != None:\n",
        "            Data.VOCAB_SIZE = vocab_size\n",
        "\n",
        "    def preprocess(self, data: Data):\n",
        "        preprocessing = Preprocessing(data=data)\n",
        "        preprocessing.lowercasing()\n",
        "        preprocessing.lemmatize()\n",
        "        preprocessing.remove_stopword()\n",
        "        data.unicity()\n",
        "\n",
        "    def preprocessing(self):\n",
        "        self.preprocess(self.train)\n",
        "        self.preprocess(self.test)\n",
        "        self.preprocess(self.valid)\n",
        "\n",
        "    def vectorize(self, data: Data):\n",
        "        vector = Vectorization(data=data)\n",
        "        vector.vectorized_x()\n",
        "        vector.vectorized_y()\n",
        "\n",
        "    def vectorization(self):\n",
        "        self.vectorize(self.train)\n",
        "        self.vectorize(self.test)\n",
        "        self.vectorize(self.valid)\n",
        "\n",
        "    def summary(self):\n",
        "        self.model.summary()\n",
        "\n",
        "    def trainning(self, optimizer=\"adam\", loss=\"categorical_crossentropy\", metrics=[\"accuracy\"]):\n",
        "        self.model.compile(optimizer=optimizer, loss=loss, metrics=metrics)\n",
        "        if self.valid == None:\n",
        "            self.model.fit(self.train.x, self.train.y, batch_size=BATCH_SIZE, epochs=EPOCHS)\n",
        "        else:\n",
        "            self.model.fit(\n",
        "                self.train.x,\n",
        "                self.train.y,\n",
        "                batch_size=BATCH_SIZE,\n",
        "                epochs=EPOCHS,\n",
        "                validation_data=(self.valid.x, self.valid.y),\n",
        "            )\n",
        "\n",
        "    def testing(self):\n",
        "        return self.model.evaluate(self.test.x, self.test.y)\n",
        "\n",
        "    def predicting(self):\n",
        "        y_predict_cnn = self.model.predict(self.test.x, batch_size=BATCH_SIZE)\n",
        "        evaluation(self.test, y_predict_cnn)"
      ]
    },
    {
      "cell_type": "code",
      "execution_count": 33,
      "metadata": {
        "id": "AsOYiFC_5moR"
      },
      "outputs": [
        {
          "name": "stdout",
          "output_type": "stream",
          "text": [
            "Epoch 1/2\n",
            "439/439 [==============================] - 16s 34ms/step - loss: 0.3374 - accuracy: 0.9460 - val_loss: 0.6809 - val_accuracy: 0.9472\n",
            "Epoch 2/2\n",
            "439/439 [==============================] - 14s 33ms/step - loss: 0.2028 - accuracy: 0.9524 - val_loss: 0.6373 - val_accuracy: 0.9472\n",
            "108/108 [==============================] - 1s 12ms/step - loss: 0.5609 - accuracy: 0.9531\n",
            "108/108 [==============================] - 1s 11ms/step\n",
            "----------------------- Evaluation -------------------------\n",
            "(3453, 50, 9)\n",
            "172650 172650\n",
            "0 8101 8101 0.0 1.0\n",
            "\n"
          ]
        }
      ],
      "source": [
        "model_cnn = Model_CNN()\n",
        "model_cnn.change(max_length=50, vocab_size=200)\n",
        "model_cnn.preprocessing()\n",
        "model_cnn.vectorization()\n",
        "model_cnn.trainning()\n",
        "model_cnn.testing()\n",
        "model_cnn.predicting()"
      ]
    },
    {
      "cell_type": "markdown",
      "metadata": {
        "id": "PEctuVg7HirO"
      },
      "source": [
        "## Model LSTM"
      ]
    },
    {
      "cell_type": "code",
      "execution_count": 8,
      "metadata": {
        "id": "hW0Culvw7fm5"
      },
      "outputs": [],
      "source": [
        "from keras.models import Sequential\n",
        "from keras.layers import LSTM, Dense\n",
        "\n",
        "\n",
        "class Model_LSTM:\n",
        "    def __init__(self):\n",
        "        self.train = Loading(\"train.txt\").data\n",
        "        self.test = Loading(\"test.txt\").data\n",
        "        self.valid = Loading(\"valid.txt\").data\n",
        "        # Define the model architecture\n",
        "        self.model = Sequential()\n",
        "        self.model.add(\n",
        "            LSTM(\n",
        "                256,\n",
        "                input_shape=(Data.MAX_LENGTH, Data.VOCAB_SIZE),\n",
        "                return_sequences=True,\n",
        "                dropout=DROPOUT_RATE,\n",
        "            )\n",
        "        )\n",
        "        self.model.add(LSTM(128, return_sequences=True, dropout=DROPOUT_RATE))\n",
        "        self.model.add(LSTM(64, return_sequences=True, dropout=DROPOUT_RATE))\n",
        "        self.model.add(LSTM(32, return_sequences=True, dropout=DROPOUT_RATE))\n",
        "        self.model.add(Dense(len(Data.unique_ner_tags), activation=\"sigmoid\"))\n",
        "\n",
        "    def change(self, max_length=None, vocab_size=None):\n",
        "        if max_length != None:\n",
        "            Data.MAX_LENGTH = max_length\n",
        "        if vocab_size != None:\n",
        "            Data.VOCAB_SIZE = vocab_size\n",
        "\n",
        "    def preprocess(self, data: Data):\n",
        "        preprocessing = Preprocessing(data=data)\n",
        "        preprocessing.lowercasing()\n",
        "        preprocessing.lemmatize()\n",
        "        preprocessing.remove_stopword()\n",
        "        data.unicity()\n",
        "\n",
        "    def preprocessing(self):\n",
        "        self.preprocess(self.train)\n",
        "        self.preprocess(self.test)\n",
        "        self.preprocess(self.valid)\n",
        "\n",
        "    def vectorize(self, data: Data):\n",
        "        vector = Vectorization(data=data)\n",
        "        vector.vectorized_x()\n",
        "        vector.vectorized_y()\n",
        "\n",
        "    def vectorization(self):\n",
        "        self.vectorize(self.train)\n",
        "        self.vectorize(self.test)\n",
        "        self.vectorize(self.valid)\n",
        "\n",
        "    def summary(self):\n",
        "        self.model.summary()\n",
        "\n",
        "    def trainning(self, optimizer=\"adam\", loss=\"categorical_crossentropy\", metrics=[\"accuracy\"]):\n",
        "        self.model.compile(optimizer=optimizer, loss=loss, metrics=metrics)\n",
        "        if self.valid == None:\n",
        "            self.model.fit(\n",
        "                self.train.x, self.train.y, batch_size=BATCH_SIZE, epochs=EPOCHS\n",
        "            )\n",
        "        else:\n",
        "            self.model.fit(\n",
        "                self.train.x,\n",
        "                self.train.y,\n",
        "                batch_size=BATCH_SIZE,\n",
        "                epochs=EPOCHS,\n",
        "                validation_data=(self.valid.x, self.valid.y),\n",
        "            )\n",
        "\n",
        "    def testing(self):\n",
        "        return self.model.evaluate(self.test.x, self.test.y)\n",
        "\n",
        "    def predicting(self):\n",
        "        y_predict_lstm = self.model.predict(self.test.x, batch_size=BATCH_SIZE)\n",
        "        evaluation(self.test, y_predict_lstm)"
      ]
    },
    {
      "cell_type": "code",
      "execution_count": 9,
      "metadata": {
        "id": "hlCzmkms5mob"
      },
      "outputs": [
        {
          "ename": "KeyboardInterrupt",
          "evalue": "",
          "output_type": "error",
          "traceback": [
            "\u001b[1;31m---------------------------------------------------------------------------\u001b[0m",
            "\u001b[1;31mKeyboardInterrupt\u001b[0m                         Traceback (most recent call last)",
            "\u001b[1;32me:\\PFE\\CoNLL2003\\NERC\\Code\\conll2003_english.ipynb Cell 32\u001b[0m in \u001b[0;36m4\n\u001b[0;32m      <a href='vscode-notebook-cell:/e%3A/PFE/CoNLL2003/NERC/Code/conll2003_english.ipynb#X43sZmlsZQ%3D%3D?line=1'>2</a>\u001b[0m model_lstm\u001b[39m.\u001b[39mchange(max_length\u001b[39m=\u001b[39m\u001b[39m50\u001b[39m, vocab_size\u001b[39m=\u001b[39m\u001b[39m200\u001b[39m)\n\u001b[0;32m      <a href='vscode-notebook-cell:/e%3A/PFE/CoNLL2003/NERC/Code/conll2003_english.ipynb#X43sZmlsZQ%3D%3D?line=2'>3</a>\u001b[0m model_lstm\u001b[39m.\u001b[39mpreprocessing()\n\u001b[1;32m----> <a href='vscode-notebook-cell:/e%3A/PFE/CoNLL2003/NERC/Code/conll2003_english.ipynb#X43sZmlsZQ%3D%3D?line=3'>4</a>\u001b[0m model_lstm\u001b[39m.\u001b[39mvectorization()\n\u001b[0;32m      <a href='vscode-notebook-cell:/e%3A/PFE/CoNLL2003/NERC/Code/conll2003_english.ipynb#X43sZmlsZQ%3D%3D?line=4'>5</a>\u001b[0m model_lstm\u001b[39m.\u001b[39msummary()\n\u001b[0;32m      <a href='vscode-notebook-cell:/e%3A/PFE/CoNLL2003/NERC/Code/conll2003_english.ipynb#X43sZmlsZQ%3D%3D?line=5'>6</a>\u001b[0m model_lstm\u001b[39m.\u001b[39mtrainning()\n",
            "\u001b[1;32me:\\PFE\\CoNLL2003\\NERC\\Code\\conll2003_english.ipynb Cell 32\u001b[0m in \u001b[0;36m4\n\u001b[0;32m     <a href='vscode-notebook-cell:/e%3A/PFE/CoNLL2003/NERC/Code/conll2003_english.ipynb#X43sZmlsZQ%3D%3D?line=47'>48</a>\u001b[0m \u001b[39mdef\u001b[39;00m \u001b[39mvectorization\u001b[39m(\u001b[39mself\u001b[39m):\n\u001b[1;32m---> <a href='vscode-notebook-cell:/e%3A/PFE/CoNLL2003/NERC/Code/conll2003_english.ipynb#X43sZmlsZQ%3D%3D?line=48'>49</a>\u001b[0m     \u001b[39mself\u001b[39;49m\u001b[39m.\u001b[39;49mvectorize(\u001b[39mself\u001b[39;49m\u001b[39m.\u001b[39;49mtrain)\n\u001b[0;32m     <a href='vscode-notebook-cell:/e%3A/PFE/CoNLL2003/NERC/Code/conll2003_english.ipynb#X43sZmlsZQ%3D%3D?line=49'>50</a>\u001b[0m     \u001b[39mself\u001b[39m\u001b[39m.\u001b[39mvectorize(\u001b[39mself\u001b[39m\u001b[39m.\u001b[39mtest)\n\u001b[0;32m     <a href='vscode-notebook-cell:/e%3A/PFE/CoNLL2003/NERC/Code/conll2003_english.ipynb#X43sZmlsZQ%3D%3D?line=50'>51</a>\u001b[0m     \u001b[39mself\u001b[39m\u001b[39m.\u001b[39mvectorize(\u001b[39mself\u001b[39m\u001b[39m.\u001b[39mvalid)\n",
            "\u001b[1;32me:\\PFE\\CoNLL2003\\NERC\\Code\\conll2003_english.ipynb Cell 32\u001b[0m in \u001b[0;36m4\n\u001b[0;32m     <a href='vscode-notebook-cell:/e%3A/PFE/CoNLL2003/NERC/Code/conll2003_english.ipynb#X43sZmlsZQ%3D%3D?line=42'>43</a>\u001b[0m \u001b[39mdef\u001b[39;00m \u001b[39mvectorize\u001b[39m(\u001b[39mself\u001b[39m, data: Data):\n\u001b[0;32m     <a href='vscode-notebook-cell:/e%3A/PFE/CoNLL2003/NERC/Code/conll2003_english.ipynb#X43sZmlsZQ%3D%3D?line=43'>44</a>\u001b[0m     vector \u001b[39m=\u001b[39m Vectorization(data\u001b[39m=\u001b[39mdata)\n\u001b[1;32m---> <a href='vscode-notebook-cell:/e%3A/PFE/CoNLL2003/NERC/Code/conll2003_english.ipynb#X43sZmlsZQ%3D%3D?line=44'>45</a>\u001b[0m     vector\u001b[39m.\u001b[39;49mvectorized_x()\n\u001b[0;32m     <a href='vscode-notebook-cell:/e%3A/PFE/CoNLL2003/NERC/Code/conll2003_english.ipynb#X43sZmlsZQ%3D%3D?line=45'>46</a>\u001b[0m     vector\u001b[39m.\u001b[39mvectorized_y()\n",
            "\u001b[1;32me:\\PFE\\CoNLL2003\\NERC\\Code\\conll2003_english.ipynb Cell 32\u001b[0m in \u001b[0;36m1\n\u001b[0;32m     <a href='vscode-notebook-cell:/e%3A/PFE/CoNLL2003/NERC/Code/conll2003_english.ipynb#X43sZmlsZQ%3D%3D?line=17'>18</a>\u001b[0m \u001b[39mdef\u001b[39;00m \u001b[39mvectorized_x\u001b[39m(\u001b[39mself\u001b[39m):\n\u001b[1;32m---> <a href='vscode-notebook-cell:/e%3A/PFE/CoNLL2003/NERC/Code/conll2003_english.ipynb#X43sZmlsZQ%3D%3D?line=18'>19</a>\u001b[0m     \u001b[39mself\u001b[39;49m\u001b[39m.\u001b[39;49mword2vec()\n\u001b[0;32m     <a href='vscode-notebook-cell:/e%3A/PFE/CoNLL2003/NERC/Code/conll2003_english.ipynb#X43sZmlsZQ%3D%3D?line=19'>20</a>\u001b[0m     \u001b[39mself\u001b[39m\u001b[39m.\u001b[39mpadding_x()\n",
            "\u001b[1;32me:\\PFE\\CoNLL2003\\NERC\\Code\\conll2003_english.ipynb Cell 32\u001b[0m in \u001b[0;36m7\n\u001b[0;32m      <a href='vscode-notebook-cell:/e%3A/PFE/CoNLL2003/NERC/Code/conll2003_english.ipynb#X43sZmlsZQ%3D%3D?line=4'>5</a>\u001b[0m \u001b[39mdef\u001b[39;00m \u001b[39mword2vec\u001b[39m(\u001b[39mself\u001b[39m):\n\u001b[0;32m      <a href='vscode-notebook-cell:/e%3A/PFE/CoNLL2003/NERC/Code/conll2003_english.ipynb#X43sZmlsZQ%3D%3D?line=5'>6</a>\u001b[0m     word2vec_model \u001b[39m=\u001b[39m Word2Vec(\u001b[39mself\u001b[39m\u001b[39m.\u001b[39mdata\u001b[39m.\u001b[39msentences_num, min_count\u001b[39m=\u001b[39m\u001b[39m1\u001b[39m, vector_size\u001b[39m=\u001b[39mData\u001b[39m.\u001b[39mVOCAB_SIZE, window\u001b[39m=\u001b[39m\u001b[39m5\u001b[39m)\n\u001b[1;32m----> <a href='vscode-notebook-cell:/e%3A/PFE/CoNLL2003/NERC/Code/conll2003_english.ipynb#X43sZmlsZQ%3D%3D?line=6'>7</a>\u001b[0m     \u001b[39mself\u001b[39m\u001b[39m.\u001b[39mdata\u001b[39m.\u001b[39msentences_num \u001b[39m=\u001b[39m [[word2vec_model\u001b[39m.\u001b[39mwv[word] \u001b[39mfor\u001b[39;00m word \u001b[39min\u001b[39;00m sentence] \u001b[39mfor\u001b[39;00m sentence \u001b[39min\u001b[39;00m \u001b[39mself\u001b[39m\u001b[39m.\u001b[39mdata\u001b[39m.\u001b[39msentences_num]\n",
            "\u001b[1;32me:\\PFE\\CoNLL2003\\NERC\\Code\\conll2003_english.ipynb Cell 32\u001b[0m in \u001b[0;36m7\n\u001b[0;32m      <a href='vscode-notebook-cell:/e%3A/PFE/CoNLL2003/NERC/Code/conll2003_english.ipynb#X43sZmlsZQ%3D%3D?line=4'>5</a>\u001b[0m \u001b[39mdef\u001b[39;00m \u001b[39mword2vec\u001b[39m(\u001b[39mself\u001b[39m):\n\u001b[0;32m      <a href='vscode-notebook-cell:/e%3A/PFE/CoNLL2003/NERC/Code/conll2003_english.ipynb#X43sZmlsZQ%3D%3D?line=5'>6</a>\u001b[0m     word2vec_model \u001b[39m=\u001b[39m Word2Vec(\u001b[39mself\u001b[39m\u001b[39m.\u001b[39mdata\u001b[39m.\u001b[39msentences_num, min_count\u001b[39m=\u001b[39m\u001b[39m1\u001b[39m, vector_size\u001b[39m=\u001b[39mData\u001b[39m.\u001b[39mVOCAB_SIZE, window\u001b[39m=\u001b[39m\u001b[39m5\u001b[39m)\n\u001b[1;32m----> <a href='vscode-notebook-cell:/e%3A/PFE/CoNLL2003/NERC/Code/conll2003_english.ipynb#X43sZmlsZQ%3D%3D?line=6'>7</a>\u001b[0m     \u001b[39mself\u001b[39m\u001b[39m.\u001b[39mdata\u001b[39m.\u001b[39msentences_num \u001b[39m=\u001b[39m [[word2vec_model\u001b[39m.\u001b[39mwv[word] \u001b[39mfor\u001b[39;00m word \u001b[39min\u001b[39;00m sentence] \u001b[39mfor\u001b[39;00m sentence \u001b[39min\u001b[39;00m \u001b[39mself\u001b[39m\u001b[39m.\u001b[39mdata\u001b[39m.\u001b[39msentences_num]\n",
            "\u001b[1;32me:\\PFE\\CoNLL2003\\NERC\\Code\\conll2003_english.ipynb Cell 32\u001b[0m in \u001b[0;36m7\n\u001b[0;32m      <a href='vscode-notebook-cell:/e%3A/PFE/CoNLL2003/NERC/Code/conll2003_english.ipynb#X43sZmlsZQ%3D%3D?line=4'>5</a>\u001b[0m \u001b[39mdef\u001b[39;00m \u001b[39mword2vec\u001b[39m(\u001b[39mself\u001b[39m):\n\u001b[0;32m      <a href='vscode-notebook-cell:/e%3A/PFE/CoNLL2003/NERC/Code/conll2003_english.ipynb#X43sZmlsZQ%3D%3D?line=5'>6</a>\u001b[0m     word2vec_model \u001b[39m=\u001b[39m Word2Vec(\u001b[39mself\u001b[39m\u001b[39m.\u001b[39mdata\u001b[39m.\u001b[39msentences_num, min_count\u001b[39m=\u001b[39m\u001b[39m1\u001b[39m, vector_size\u001b[39m=\u001b[39mData\u001b[39m.\u001b[39mVOCAB_SIZE, window\u001b[39m=\u001b[39m\u001b[39m5\u001b[39m)\n\u001b[1;32m----> <a href='vscode-notebook-cell:/e%3A/PFE/CoNLL2003/NERC/Code/conll2003_english.ipynb#X43sZmlsZQ%3D%3D?line=6'>7</a>\u001b[0m     \u001b[39mself\u001b[39m\u001b[39m.\u001b[39mdata\u001b[39m.\u001b[39msentences_num \u001b[39m=\u001b[39m [[word2vec_model\u001b[39m.\u001b[39;49mwv[word] \u001b[39mfor\u001b[39;00m word \u001b[39min\u001b[39;00m sentence] \u001b[39mfor\u001b[39;00m sentence \u001b[39min\u001b[39;00m \u001b[39mself\u001b[39m\u001b[39m.\u001b[39mdata\u001b[39m.\u001b[39msentences_num]\n",
            "File \u001b[1;32mc:\\Pythons\\Python39\\lib\\site-packages\\gensim\\models\\keyedvectors.py:403\u001b[0m, in \u001b[0;36mKeyedVectors.__getitem__\u001b[1;34m(self, key_or_keys)\u001b[0m\n\u001b[0;32m    389\u001b[0m \u001b[39m\"\"\"Get vector representation of `key_or_keys`.\u001b[39;00m\n\u001b[0;32m    390\u001b[0m \n\u001b[0;32m    391\u001b[0m \u001b[39mParameters\u001b[39;00m\n\u001b[1;32m   (...)\u001b[0m\n\u001b[0;32m    400\u001b[0m \n\u001b[0;32m    401\u001b[0m \u001b[39m\"\"\"\u001b[39;00m\n\u001b[0;32m    402\u001b[0m \u001b[39mif\u001b[39;00m \u001b[39misinstance\u001b[39m(key_or_keys, _KEY_TYPES):\n\u001b[1;32m--> 403\u001b[0m     \u001b[39mreturn\u001b[39;00m \u001b[39mself\u001b[39;49m\u001b[39m.\u001b[39;49mget_vector(key_or_keys)\n\u001b[0;32m    405\u001b[0m \u001b[39mreturn\u001b[39;00m vstack([\u001b[39mself\u001b[39m\u001b[39m.\u001b[39mget_vector(key) \u001b[39mfor\u001b[39;00m key \u001b[39min\u001b[39;00m key_or_keys])\n",
            "File \u001b[1;32mc:\\Pythons\\Python39\\lib\\site-packages\\gensim\\models\\keyedvectors.py:451\u001b[0m, in \u001b[0;36mKeyedVectors.get_vector\u001b[1;34m(self, key, norm)\u001b[0m\n\u001b[0;32m    449\u001b[0m     result \u001b[39m=\u001b[39m \u001b[39mself\u001b[39m\u001b[39m.\u001b[39mvectors[index] \u001b[39m/\u001b[39m \u001b[39mself\u001b[39m\u001b[39m.\u001b[39mnorms[index]\n\u001b[0;32m    450\u001b[0m \u001b[39melse\u001b[39;00m:\n\u001b[1;32m--> 451\u001b[0m     result \u001b[39m=\u001b[39m \u001b[39mself\u001b[39;49m\u001b[39m.\u001b[39;49mvectors[index]\n\u001b[0;32m    453\u001b[0m result\u001b[39m.\u001b[39msetflags(write\u001b[39m=\u001b[39m\u001b[39mFalse\u001b[39;00m)  \u001b[39m# disallow direct tampering that would invalidate `norms` etc\u001b[39;00m\n\u001b[0;32m    454\u001b[0m \u001b[39mreturn\u001b[39;00m result\n",
            "\u001b[1;31mKeyboardInterrupt\u001b[0m: "
          ]
        }
      ],
      "source": [
        "model_lstm = Model_LSTM()\n",
        "model_lstm.change(max_length=50, vocab_size=200)\n",
        "model_lstm.preprocessing()\n",
        "model_lstm.vectorization()\n",
        "model_lstm.summary()\n",
        "model_lstm.trainning()\n",
        "model_lstm.testing()\n",
        "model_lstm.predicting()"
      ]
    },
    {
      "cell_type": "markdown",
      "metadata": {
        "id": "HwS7GyBk5moe"
      },
      "source": [
        "## Tools"
      ]
    },
    {
      "cell_type": "code",
      "execution_count": null,
      "metadata": {
        "id": "K7eHuf96nXDm"
      },
      "outputs": [],
      "source": [
        "# !pip install tensorflow-addons"
      ]
    },
    {
      "cell_type": "code",
      "execution_count": null,
      "metadata": {
        "id": "Tqp60CTqGqzV"
      },
      "outputs": [],
      "source": [
        "# model_LSTM.save(\"../Data/model_lstm.keras\")"
      ]
    },
    {
      "cell_type": "code",
      "execution_count": null,
      "metadata": {
        "id": "itvrF6SvFmUg"
      },
      "outputs": [],
      "source": [
        "# model_LSTM = tf.keras.models.load_model(\"../Data/model_lstm.keras\")"
      ]
    },
    {
      "cell_type": "code",
      "execution_count": null,
      "metadata": {
        "id": "8x5O84rzHU9m"
      },
      "outputs": [],
      "source": [
        "# # np.quantile(sort([1, 2, 3, 8, 7]), 0.50)\n",
        "# dico = {}\n",
        "# for tags in test.sentences + train.sentences + valid.sentences:\n",
        "#   if dico.get(len(tags), None) == None:\n",
        "#     dico[len(tags)] = 1\n",
        "#   dico[len(tags)] += 1\n",
        "# sorted(list(dico.items()), key= lambda x: x[1])"
      ]
    },
    {
      "cell_type": "code",
      "execution_count": null,
      "metadata": {
        "id": "0QGhljfiC5gG"
      },
      "outputs": [],
      "source": [
        "# entities = dict(zip(Data.unique_ner_tags.keys(), [0 for i in range(len(Data.unique_ner_tags))]))\n",
        "# for tags in test.ner_tags:\n",
        "#     for tag in tags:\n",
        "#         entities[tag] += 1\n",
        "# is_entities = 0\n",
        "# is_not_entities = 0\n",
        "# for tag, nbr in entities.items():\n",
        "#     if tag != 'O': is_entities += nbr\n",
        "#     else: is_not_entities += nbr\n",
        "# print(entities)\n",
        "# print(is_entities, is_not_entities)"
      ]
    },
    {
      "cell_type": "markdown",
      "metadata": {
        "id": "qOUNEjNd5moi"
      },
      "source": [
        "## TF-IDF"
      ]
    },
    {
      "cell_type": "code",
      "execution_count": 30,
      "metadata": {
        "id": "pBG1rsZf5mpD"
      },
      "outputs": [],
      "source": [
        "from sklearn.feature_extraction.text import TfidfVectorizer"
      ]
    },
    {
      "cell_type": "code",
      "execution_count": 52,
      "metadata": {
        "id": "hIppRirQ5mpF"
      },
      "outputs": [],
      "source": [
        "class TF_IDF:\n",
        "    def __init__(self):\n",
        "        self.train = Loading(\"train.txt\").data\n",
        "        self.test = Loading(\"test.txt\").data\n",
        "        self.valid = Loading(\"valid.txt\").data\n",
        "\n",
        "    def __preprocess_tfidf(self, data: Data):\n",
        "        preprocessing = Preprocessing(data=data)\n",
        "        preprocessing.lowercasing()\n",
        "        preprocessing.lemmatize()\n",
        "        preprocessing.remove_stopword()\n",
        "        data.unicity()\n",
        "\n",
        "    def preprocessing(self):\n",
        "        self.__preprocess_tfidf(self.train)\n",
        "        self.__preprocess_tfidf(self.test)\n",
        "        self.__preprocess_tfidf(self.valid)\n",
        "\n",
        "    def __getMatrix(self, max_length, tfidf_matrix, data: Data, feature_names):\n",
        "        entities_data = []\n",
        "        for doc_index in range(len(data.sentences_num)):\n",
        "            doc_tfidf_scores = tfidf_matrix[doc_index].toarray().flatten()\n",
        "            top_indices = doc_tfidf_scores.argsort()[: -max_length - 1 : -1]\n",
        "            doc_entities = [feature_names[i] for i in top_indices]\n",
        "            entities_data.append(doc_entities)\n",
        "        data.sentences_num = entities_data\n",
        "\n",
        "    def __formalize_tfidf(self, data: Data):\n",
        "        return [\n",
        "            \" \".join([\"\".join([word, \"__\", tag]) for word, tag in zip(words, tags)])\n",
        "            for words, tags in zip(data.sentences_num, data.ner_tags_num)\n",
        "        ]\n",
        "\n",
        "    def __deformalize_tfidf(self, data: Data):\n",
        "        sentences_tags = data.sentences_num\n",
        "        data.ner_tags_num = [[sent_tag.split(\"__\")[1] for sent_tag in sentences_tags] for sentences_tags in sentences_tags]\n",
        "        data.sentences_num = [[sent_tag.split(\"__\")[0] for sent_tag in sentences_tags] for sentences_tags in sentences_tags]\n",
        "\n",
        "    def vectorization(self):\n",
        "        vectorizer = TfidfVectorizer(\n",
        "            lowercase=False,\n",
        "            analyzer=\"word\",\n",
        "            stop_words=None,\n",
        "            token_pattern=\"[\\S]+\",\n",
        "            tokenizer=None,\n",
        "            preprocessor=None,\n",
        "        )\n",
        "        # formatted\n",
        "        data_train = self.__formalize_tfidf(self.train)\n",
        "        data_test = self.__formalize_tfidf(self.test)\n",
        "        data_valid = self.__formalize_tfidf(self.valid)\n",
        "        # Tf-idf vectorization\n",
        "        tfidf_matrix_train = vectorizer.fit_transform(data_train)\n",
        "        tfidf_matrix_test = vectorizer.transform(data_test)\n",
        "        tfidf_matrix_valid = vectorizer.transform(data_valid)\n",
        "        feature_names = vectorizer.get_feature_names_out()\n",
        "        # Generation of the matrix\n",
        "        self.__getMatrix(Data.MAX_LENGTH, tfidf_matrix_train, self.train, feature_names)\n",
        "        self.__getMatrix(Data.MAX_LENGTH, tfidf_matrix_test, self.test, feature_names)\n",
        "        self.__getMatrix(Data.MAX_LENGTH, tfidf_matrix_valid, self.valid, feature_names)\n",
        "        # unformatted\n",
        "        self.__deformalize_tfidf(self.train)\n",
        "        self.__deformalize_tfidf(self.test)\n",
        "        self.__deformalize_tfidf(self.valid)"
      ]
    },
    {
      "cell_type": "code",
      "execution_count": 68,
      "metadata": {
        "colab": {
          "base_uri": "https://localhost:8080/"
        },
        "id": "AIFkBA7S5mpG",
        "outputId": "42ffb18a-41c6-4578-db7e-3a58b6e9fada"
      },
      "outputs": [],
      "source": [
        "tfidf = TF_IDF()\n",
        "tfidf.preprocessing()\n",
        "# tfidf.vectorization()"
      ]
    },
    {
      "cell_type": "code",
      "execution_count": 65,
      "metadata": {},
      "outputs": [
        {
          "data": {
            "text/html": [
              "<div>\n",
              "<style scoped>\n",
              "    .dataframe tbody tr th:only-of-type {\n",
              "        vertical-align: middle;\n",
              "    }\n",
              "\n",
              "    .dataframe tbody tr th {\n",
              "        vertical-align: top;\n",
              "    }\n",
              "\n",
              "    .dataframe thead th {\n",
              "        text-align: right;\n",
              "    }\n",
              "</style>\n",
              "<table border=\"1\" class=\"dataframe\">\n",
              "  <thead>\n",
              "    <tr style=\"text-align: right;\">\n",
              "      <th></th>\n",
              "      <th>word</th>\n",
              "    </tr>\n",
              "    <tr>\n",
              "      <th>label</th>\n",
              "      <th></th>\n",
              "    </tr>\n",
              "  </thead>\n",
              "  <tbody>\n",
              "    <tr>\n",
              "      <th>B-LOC</th>\n",
              "      <td>10645</td>\n",
              "    </tr>\n",
              "    <tr>\n",
              "      <th>B-MISC</th>\n",
              "      <td>5062</td>\n",
              "    </tr>\n",
              "    <tr>\n",
              "      <th>B-ORG</th>\n",
              "      <td>9323</td>\n",
              "    </tr>\n",
              "    <tr>\n",
              "      <th>B-PER</th>\n",
              "      <td>10059</td>\n",
              "    </tr>\n",
              "    <tr>\n",
              "      <th>I-LOC</th>\n",
              "      <td>1671</td>\n",
              "    </tr>\n",
              "    <tr>\n",
              "      <th>I-MISC</th>\n",
              "      <td>1717</td>\n",
              "    </tr>\n",
              "    <tr>\n",
              "      <th>I-ORG</th>\n",
              "      <td>5290</td>\n",
              "    </tr>\n",
              "    <tr>\n",
              "      <th>I-PER</th>\n",
              "      <td>6991</td>\n",
              "    </tr>\n",
              "    <tr>\n",
              "      <th>O</th>\n",
              "      <td>250660</td>\n",
              "    </tr>\n",
              "  </tbody>\n",
              "</table>\n",
              "</div>"
            ],
            "text/plain": [
              "          word\n",
              "label         \n",
              "B-LOC    10645\n",
              "B-MISC    5062\n",
              "B-ORG     9323\n",
              "B-PER    10059\n",
              "I-LOC     1671\n",
              "I-MISC    1717\n",
              "I-ORG     5290\n",
              "I-PER     6991\n",
              "O       250660"
            ]
          },
          "execution_count": 65,
          "metadata": {},
          "output_type": "execute_result"
        }
      ],
      "source": [
        "train = Loading(\"train.txt\").data\n",
        "test = Loading(\"test.txt\").data\n",
        "valid = Loading(\"valid.txt\").data\n",
        "visualisation = Visualisation(train, test, valid, 0)\n",
        "visualisation.classNumber()"
      ]
    },
    {
      "cell_type": "code",
      "execution_count": 69,
      "metadata": {},
      "outputs": [
        {
          "data": {
            "text/html": [
              "<div>\n",
              "<style scoped>\n",
              "    .dataframe tbody tr th:only-of-type {\n",
              "        vertical-align: middle;\n",
              "    }\n",
              "\n",
              "    .dataframe tbody tr th {\n",
              "        vertical-align: top;\n",
              "    }\n",
              "\n",
              "    .dataframe thead th {\n",
              "        text-align: right;\n",
              "    }\n",
              "</style>\n",
              "<table border=\"1\" class=\"dataframe\">\n",
              "  <thead>\n",
              "    <tr style=\"text-align: right;\">\n",
              "      <th></th>\n",
              "      <th>word</th>\n",
              "    </tr>\n",
              "    <tr>\n",
              "      <th>label</th>\n",
              "      <th></th>\n",
              "    </tr>\n",
              "  </thead>\n",
              "  <tbody>\n",
              "    <tr>\n",
              "      <th>B-LOC</th>\n",
              "      <td>10645</td>\n",
              "    </tr>\n",
              "    <tr>\n",
              "      <th>B-MISC</th>\n",
              "      <td>5062</td>\n",
              "    </tr>\n",
              "    <tr>\n",
              "      <th>B-ORG</th>\n",
              "      <td>9323</td>\n",
              "    </tr>\n",
              "    <tr>\n",
              "      <th>B-PER</th>\n",
              "      <td>10059</td>\n",
              "    </tr>\n",
              "    <tr>\n",
              "      <th>I-LOC</th>\n",
              "      <td>1671</td>\n",
              "    </tr>\n",
              "    <tr>\n",
              "      <th>I-MISC</th>\n",
              "      <td>1717</td>\n",
              "    </tr>\n",
              "    <tr>\n",
              "      <th>I-ORG</th>\n",
              "      <td>5290</td>\n",
              "    </tr>\n",
              "    <tr>\n",
              "      <th>I-PER</th>\n",
              "      <td>6991</td>\n",
              "    </tr>\n",
              "    <tr>\n",
              "      <th>O</th>\n",
              "      <td>136593</td>\n",
              "    </tr>\n",
              "  </tbody>\n",
              "</table>\n",
              "</div>"
            ],
            "text/plain": [
              "          word\n",
              "label         \n",
              "B-LOC    10645\n",
              "B-MISC    5062\n",
              "B-ORG     9323\n",
              "B-PER    10059\n",
              "I-LOC     1671\n",
              "I-MISC    1717\n",
              "I-ORG     5290\n",
              "I-PER     6991\n",
              "O       136593"
            ]
          },
          "execution_count": 69,
          "metadata": {},
          "output_type": "execute_result"
        }
      ],
      "source": [
        "visualisation2 = Visualisation(tfidf.train, tfidf.test, tfidf.valid, 1)\n",
        "visualisation2.classNumber()"
      ]
    },
    {
      "cell_type": "code",
      "execution_count": 70,
      "metadata": {},
      "outputs": [
        {
          "data": {
            "image/png": "[encoded data removed]",
            "text/plain": [
              "<Figure size 640x480 with 1 Axes>"
            ]
          },
          "metadata": {},
          "output_type": "display_data"
        }
      ],
      "source": [
        "visualisation.classNumberHistogram()"
      ]
    },
    {
      "cell_type": "code",
      "execution_count": 1,
      "metadata": {},
      "outputs": [
        {
          "name": "stdout",
          "output_type": "stream",
          "text": [
            "[==================================================] 100.0% 1662.8/1662.8MB downloaded\n",
            "C:\\Users\\tasli/gensim-data\\word2vec-google-news-300\\word2vec-google-news-300.gz\n"
          ]
        }
      ],
      "source": [
        "import gensim.downloader as api\n",
        "path = api.load(\"word2vec-google-news-300\", return_path=True)\n",
        "print(path)"
      ]
    },
    {
      "cell_type": "code",
      "execution_count": null,
      "metadata": {
        "id": "IPZEvRTT5mpH"
      },
      "outputs": [],
      "source": [
        "# import numpy as np\n",
        "# import pandas as pd\n",
        "# from sklearn.feature_extraction.text import TfidfVectorizer\n",
        "# from keras.preprocessing.text import Tokenizer\n",
        "# from keras.preprocessing.sequence import pad_sequences\n",
        "# from keras.models import Sequential\n",
        "# from keras.layers import Dense, Dropout, Activation, Embedding, Conv1D, GlobalMaxPooling1D\n",
        "\n",
        "# # Load data\n",
        "# df = pd.read_csv(\"ner_data.csv\", encoding=\"ISO-8859-1\", error_bad_lines=False)\n",
        "# df = df.fillna(method=\"ffill\")\n",
        "# sentences = df.groupby(\"Sentence #\")[\"Word\"].apply(list).values\n",
        "# tags = df.groupby(\"Sentence #\")[\"Tag\"].apply(list).values\n",
        "\n",
        "# # Perform TF-IDF\n",
        "# vectorizer = TfidfVectorizer(ngram_range=(1,2))\n",
        "# X_tfidf = vectorizer.fit_transform([\" \".join(sent) for sent in sentences])\n",
        "# tfidf_vocab = vectorizer.vocabulary_\n",
        "# tfidf_vocab_inv = {v:k for k,v in tfidf_vocab.items()}\n",
        "# tfidf_weights = np.asarray(X_tfidf.mean(axis=0)).ravel()\n",
        "\n",
        "# # Tokenize words\n",
        "# MAX_NB_WORDS = 20000\n",
        "# MAX_SEQ_LENGTH = 100\n",
        "# tokenizer = Tokenizer(num_words=MAX_NB_WORDS)\n",
        "# tokenizer.fit_on_texts(sentences)\n",
        "# word_index = tokenizer.word_index\n",
        "\n",
        "# # Convert words to sequences\n",
        "# X = tokenizer.texts_to_sequences(sentences)\n",
        "# X = pad_sequences(X, maxlen=MAX_SEQ_LENGTH)\n",
        "\n",
        "# # Convert tags to sequences\n",
        "# tags_index = {\"O\": 0, \"B-LOC\": 1, \"I-LOC\": 2, \"B-PER\": 3, \"I-PER\": 4, \"B-ORG\": 5, \"I-ORG\": 6}\n",
        "# y = [[tags_index[tag] for tag in sent] for sent in tags]\n",
        "# y = pad_sequences(y, maxlen=MAX_SEQ_LENGTH)\n",
        "\n",
        "# # Split data into train and test sets\n",
        "# VALIDATION_SPLIT = 0.2\n",
        "# nb_validation_samples = int(VALIDATION_SPLIT * len(X))\n",
        "# X_train = X[:-nb_validation_samples]\n",
        "# y_train = y[:-nb_validation_samples]\n",
        "# X_test = X[-nb_validation_samples:]\n",
        "# y_test = y[-nb_validation_samples:]\n",
        "\n",
        "# # Define CNN model\n",
        "# model = Sequential()\n",
        "# model.add(Embedding(MAX_NB_WORDS, Data.VOCAB_SIZE, input_length=MAX_SEQ_LENGTH))\n",
        "# model.add(Conv1D(128, 5, activation=\"relu\"))\n",
        "# model.add(GlobalMaxPooling1D())\n",
        "# model.add(Dense(7, activation=\"softmax\"))\n",
        "# model.compile(loss=\"categorical_crossentropy\", optimizer=\"adam\", metrics=[\"accuracy\"])\n",
        "\n",
        "# # Train model\n",
        "# model.fit(X_train, y_train, validation_data=(X_test, y_test), epochs=10, batch_size=128)\n",
        "\n",
        "# # Predict tags for new sentences\n",
        "# def predict_tags(sentences):\n",
        "#     X = tokenizer.texts_to_sequences(sentences)\n",
        "#     X = pad_sequences(X, maxlen=MAX_SEQ_LENGTH)\n",
        "#     y_pred = model.predict(X)\n",
        "#     return [[tfidf_vocab_inv[np.argmax(tfidf_weights * y)] if np.max(tfidf_weights * y) > 0.2 else \"O\" for y in sent] for sent in y_pred]\n",
        "\n",
        "# # Test predictions\n",
        "# sentences_test = [\"John lives in New York City.\", \"Steve Jobs was the founder of Apple.\"]\n",
        "# tags_pred = predict_tags(sentences_test)\n",
        "# print(tags_pred)"
      ]
    }
  ],
  "metadata": {
    "accelerator": "GPU",
    "colab": {
      "collapsed_sections": [
        "2NFpti3H7fm0",
        "rVKzq06h5moN",
        "u6IUaT76g8Ja",
        "HwS7GyBk5moe",
        "qOUNEjNd5moi"
      ],
      "gpuType": "T4",
      "provenance": []
    },
    "gpuClass": "standard",
    "kernelspec": {
      "display_name": "Python 3",
      "language": "python",
      "name": "python3"
    },
    "language_info": {
      "codemirror_mode": {
        "name": "ipython",
        "version": 3
      },
      "file_extension": ".py",
      "mimetype": "text/x-python",
      "name": "python",
      "nbconvert_exporter": "python",
      "pygments_lexer": "ipython3",
      "version": "3.9.13"
    }
  },
  "nbformat": 4,
  "nbformat_minor": 0
}

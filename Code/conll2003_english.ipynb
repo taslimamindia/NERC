{
  "cells": [
    {
      "cell_type": "code",
      "execution_count": 18,
      "metadata": {
        "id": "lJ-tKnxA74KU",
        "colab": {
          "base_uri": "https://localhost:8080/"
        },
        "outputId": "6a3d2ad2-1744-45cd-9de9-8cd7b8de3dd9"
      },
      "outputs": [
        {
          "output_type": "stream",
          "name": "stdout",
          "text": [
            "Cloning into 'NERC'...\n",
            "remote: Enumerating objects: 143, done.\u001b[K\n",
            "remote: Counting objects: 100% (143/143), done.\u001b[K\n",
            "remote: Compressing objects: 100% (104/104), done.\u001b[K\n",
            "remote: Total 143 (delta 44), reused 128 (delta 31), pack-reused 0\u001b[K\n",
            "Receiving objects: 100% (143/143), 3.31 MiB | 5.07 MiB/s, done.\n",
            "Resolving deltas: 100% (44/44), done.\n"
          ]
        }
      ],
      "source": [
        "!git clone https://github.com/taslimamindia/NERC.git"
      ]
    },
    {
      "cell_type": "markdown",
      "metadata": {
        "id": "3fcvRYZ97fmq"
      },
      "source": [
        "# Importation"
      ]
    },
    {
      "cell_type": "code",
      "execution_count": 1,
      "metadata": {
        "id": "tou31yST7fmt"
      },
      "outputs": [],
      "source": [
        "import pandas as pd\n",
        "import seaborn as sns\n",
        "import numpy as np\n",
        "\n",
        "import matplotlib.pyplot as plt\n",
        "\n",
        "from nltk import word_tokenize, sent_tokenize, download\n",
        "from nltk.corpus import stopwords\n",
        "from nltk.stem import WordNetLemmatizer\n",
        "\n",
        "from gensim.models import Word2Vec\n",
        "\n",
        "import tensorflow as tf\n",
        "import os\n",
        "\n",
        "from keras.utils import to_categorical, pad_sequences"
      ]
    },
    {
      "cell_type": "code",
      "execution_count": 16,
      "metadata": {
        "id": "qZ9h38D29wUb",
        "colab": {
          "base_uri": "https://localhost:8080/"
        },
        "outputId": "2db28e91-20d4-4280-a67d-f0b5597f8ecb"
      },
      "outputs": [
        {
          "output_type": "stream",
          "name": "stderr",
          "text": [
            "[nltk_data] Downloading package wordnet to /root/nltk_data...\n",
            "[nltk_data]   Package wordnet is already up-to-date!\n",
            "[nltk_data] Downloading package stopwords to /root/nltk_data...\n",
            "[nltk_data]   Package stopwords is already up-to-date!\n"
          ]
        },
        {
          "output_type": "execute_result",
          "data": {
            "text/plain": [
              "True"
            ]
          },
          "metadata": {},
          "execution_count": 16
        }
      ],
      "source": [
        "download('wordnet') # for google colab\n",
        "download('stopwords')"
      ]
    },
    {
      "cell_type": "markdown",
      "metadata": {
        "id": "mkK1C7mp7fmu"
      },
      "source": [
        "# Class define form data."
      ]
    },
    {
      "cell_type": "code",
      "execution_count": 17,
      "metadata": {
        "id": "tsvoLVPY7fmu"
      },
      "outputs": [],
      "source": [
        "class Data(object):\n",
        "    unique_words = {\"<PAD>\":0}\n",
        "    unique_ner_tags = {\"O\":0}\n",
        "    MAX_LENGTH = 50\n",
        "    VOCAB_SIZE = 100\n",
        "    def __init__(self):\n",
        "        self.sentences = []\n",
        "        self.sentences_num = None\n",
        "        self.ner_tags = []\n",
        "        self.ner_tags_num = None\n",
        "        self.chunk_tags = []\n",
        "        self.pos_tags = []\n",
        "        self.x, self.y = None, None\n",
        "    def word2idx(self, word:str):\n",
        "        return Data.unique_words.get(word, None)\n",
        "    def idx2word(self, index:int):\n",
        "        for word, value in Data.unique_words.items():\n",
        "            if index is value: return word\n",
        "        return None    \n",
        "    def tag2idx(self, tag):\n",
        "        return Data.unique_ner_tags.get(tag, None)\n",
        "    def idx2tag(self, index):\n",
        "        for tag, value in Data.unique_ner_tags.items():\n",
        "            if index == value: return tag\n",
        "        return None\n",
        "    def unicity(self):\n",
        "        unique_sent, unique_tag = set(), set()\n",
        "        [unique_tag.update(tags) for tags in self.ner_tags_num]\n",
        "        [unique_sent.update(tags) for tags in self.sentences_num]\n",
        "        max_tags = len(Data.unique_ner_tags)\n",
        "        max_words = len(Data.unique_words)\n",
        "        for word in list(unique_sent):\n",
        "            if Data.unique_words.get(word, None) == None:\n",
        "                Data.unique_words[word] = max_words\n",
        "                max_words += 1\n",
        "        for tag in list(unique_tag):\n",
        "            if Data.unique_ner_tags.get(tag, None) == None:\n",
        "                Data.unique_ner_tags[tag] = max_tags\n",
        "                max_tags += 1\n"
      ]
    },
    {
      "cell_type": "markdown",
      "metadata": {
        "id": "VxLQFuLO7fmv"
      },
      "source": [
        "# Loading data"
      ]
    },
    {
      "cell_type": "code",
      "execution_count": 4,
      "metadata": {
        "id": "NzjCn5tW7fmv"
      },
      "outputs": [],
      "source": [
        "class Loading():\n",
        "    def __init__(self, path):\n",
        "        if os.path.exists(\"../Data/conll2003_english/\"): \n",
        "            base_file = \"../Data/conll2003_english/\"\n",
        "        else:\n",
        "            base_file = \"/content/NERC/Data/conll2003_english/\"        \n",
        "        self.data = Data()\n",
        "        self.load_sentences(base_file + path)\n",
        "    def load_sentences(self, filepath):\n",
        "        tokens, pos_tags, chunk_tags, ner_tags = [], [], [], []\n",
        "        with open(filepath, 'r') as f:\n",
        "            for line in f.readlines():\n",
        "                if (line == ('-DOCSTART- -X- -X- O\\n') or line == '\\n'):\n",
        "                    if len(tokens) > 0:\n",
        "                        self.data.sentences.append(tokens)\n",
        "                        self.data.pos_tags.append(pos_tags)\n",
        "                        self.data.chunk_tags.append(chunk_tags)\n",
        "                        self.data.ner_tags.append(ner_tags)\n",
        "                        tokens, pos_tags, chunk_tags, ner_tags = [], [], [], []\n",
        "                else:\n",
        "                    l = line.split(' ')\n",
        "                    tokens.append(l[0])\n",
        "                    pos_tags.append(l[1])\n",
        "                    chunk_tags.append(l[2])\n",
        "                    ner_tags.append(l[3].strip('\\n'))"
      ]
    },
    {
      "cell_type": "markdown",
      "metadata": {
        "id": "I9vvnsDR7fmv"
      },
      "source": [
        "# Preprocessing"
      ]
    },
    {
      "cell_type": "code",
      "execution_count": 7,
      "metadata": {
        "id": "3Rbc4nVU7fmw"
      },
      "outputs": [],
      "source": [
        "class Preprocessing():\n",
        "    def __init__(self, data:Data, text=None, lang=\"english\"):\n",
        "        self.data = data\n",
        "        self.text = text\n",
        "        self.lang = lang\n",
        "        if text == None:\n",
        "            self.data.sentences_num = self.data.sentences\n",
        "            self.data.ner_tags_num = self.data.ner_tags\n",
        "    \n",
        "    def tokenize(self):\n",
        "        if self.text != None:\n",
        "            sentenses = [word_tokenize(sentence, language=self.lang) for sentence in sent_tokenize(self.text, language=self.lang)]\n",
        "            self.data.sentences = [[token for token in sentence if token not in stopwords.words(self.lang)] for sentence in sentenses]\n",
        "            self.data.sentences_num = self.data.sentences\n",
        "        \n",
        "    def lowercasing(self):\n",
        "        self.data.sentences_num = [[word.lower() for word in sentence] for sentence in self.data.sentences_num]\n",
        "    \n",
        "    def lemmatize(self):\n",
        "        lemmatizer = WordNetLemmatizer()\n",
        "        self.data.sentences_num = [[lemmatizer.lemmatize(word) for word in sentence] for sentence in self.data.sentences_num]\n",
        "    \n",
        "    def remove_stopword(self):\n",
        "        punctuation = ['!', '\"', '#', '$', '%', '&', \"'\", '(', ')', '*', '+', ',', '-', '.', '/', ':', ';', '<', '=', '>', '?', '@', '[', '\\\\', ']', '^', '_', '`', '{', '|', '}', '~']\n",
        "        punctuations = stopwords.words(self.lang) + punctuation\n",
        "        sentences = [[(self.data.sentences_num[i][j], self.data.ner_tags[i][j]) for j in range(len(self.data.sentences_num[i]))] for i in range(len(self.data.sentences_num))]\n",
        "        sentences = [[(token, tag) for token, tag in sentence if token not in punctuations or tag != \"O\"] for sentence in sentences]\n",
        "        self.data.sentences_num = [[token for token, tag in sentence] for sentence in sentences]\n",
        "        self.data.ner_tags_num = [[tag for token, tag in sentence] for sentence in sentences]"
      ]
    },
    {
      "cell_type": "markdown",
      "metadata": {
        "id": "T0yl2FQm7fmw"
      },
      "source": [
        "# Vectorization"
      ]
    },
    {
      "cell_type": "code",
      "execution_count": 8,
      "metadata": {
        "id": "Arjdv32N7fmw"
      },
      "outputs": [],
      "source": [
        "class Vectorization():\n",
        "    def __init__(self, data:Data):\n",
        "        self.data = data\n",
        "    \n",
        "    def word2vec(self):\n",
        "        word2vec_model = Word2Vec(self.data.sentences_num, min_count=1, vector_size=Data.VOCAB_SIZE, window=5)\n",
        "        self.data.sentences_num = [[word2vec_model.wv[word] for word in sentence] for sentence in self.data.sentences_num]\n",
        "    \n",
        "    def padding_x(self):\n",
        "        self.data.x = pad_sequences(\n",
        "            sequences=self.data.sentences_num, \n",
        "            maxlen=self.data.MAX_LENGTH, \n",
        "            dtype=\"float32\", \n",
        "            padding=\"post\", \n",
        "            value=np.zeros((Data.VOCAB_SIZE,), dtype=\"float32\")\n",
        "        )\n",
        "    \n",
        "    def vectorized_x(self):\n",
        "        self.word2vec()\n",
        "        self.padding_x()\n",
        "        \n",
        "    def tag2num(self):\n",
        "        NUM_CLASSES = len(Data.unique_ner_tags)\n",
        "        self.data.ner_tags_num = [[to_categorical(Data.unique_ner_tags.get(tag), num_classes=NUM_CLASSES) for tag in tags] for tags in self.data.ner_tags_num]\n",
        "    \n",
        "    def padding_y(self):\n",
        "        self.data.y = pad_sequences(\n",
        "            sequences=self.data.ner_tags_num, \n",
        "            maxlen=self.data.MAX_LENGTH,\n",
        "            padding=\"post\", \n",
        "            dtype=\"float32\",\n",
        "            value=to_categorical(Data.unique_ner_tags.get(\"O\"), num_classes=len(Data.unique_ner_tags))\n",
        "        )\n",
        "    \n",
        "    def vectorized_y(self):\n",
        "        self.tag2num()\n",
        "        self.padding_y()"
      ]
    },
    {
      "cell_type": "markdown",
      "metadata": {
        "id": "uMdxz6YR7fmx"
      },
      "source": [
        "# Main"
      ]
    },
    {
      "cell_type": "markdown",
      "source": [
        "### Visualization"
      ],
      "metadata": {
        "id": "gPCrQ6VwmV03"
      }
    },
    {
      "cell_type": "code",
      "source": [
        "train = Loading(\"train.txt\").data\n",
        "test = Loading(\"test.txt\").data\n",
        "valid = Loading(\"valid.txt\").data"
      ],
      "metadata": {
        "id": "SGCDK7Nxmb3f"
      },
      "execution_count": 8,
      "outputs": []
    },
    {
      "cell_type": "code",
      "source": [
        "X = []\n",
        "y = []\n",
        "[[X.append(word) for word in sentence] for sentence in train.sentences + test.sentences + valid.sentences]\n",
        "[[y.append(tag) for tag in tags] for tags in train.ner_tags + test.ner_tags + valid.ner_tags]\n",
        "df = pd.DataFrame({\"word\":X, \"label\":y})"
      ],
      "metadata": {
        "id": "HVvfZZfsmfIv"
      },
      "execution_count": 9,
      "outputs": []
    },
    {
      "cell_type": "code",
      "source": [
        "hist = df.groupby(\"label\").count()\n",
        "hist"
      ],
      "metadata": {
        "id": "VQ1XVZjL0Fbx",
        "colab": {
          "base_uri": "https://localhost:8080/",
          "height": 363
        },
        "outputId": "1325c5e6-be57-400d-a21f-ccc84321dbb0"
      },
      "execution_count": 10,
      "outputs": [
        {
          "output_type": "execute_result",
          "data": {
            "text/plain": [
              "          word\n",
              "label         \n",
              "B-LOC    10645\n",
              "B-MISC    5062\n",
              "B-ORG     9323\n",
              "B-PER    10059\n",
              "I-LOC     1671\n",
              "I-MISC    1717\n",
              "I-ORG     5290\n",
              "I-PER     6991\n",
              "O       250660"
            ],
            "text/html": [
              "\n",
              "  <div id=\"df-f9b508ac-736c-42b2-879c-cab5c595333f\">\n",
              "    <div class=\"colab-df-container\">\n",
              "      <div>\n",
              "<style scoped>\n",
              "    .dataframe tbody tr th:only-of-type {\n",
              "        vertical-align: middle;\n",
              "    }\n",
              "\n",
              "    .dataframe tbody tr th {\n",
              "        vertical-align: top;\n",
              "    }\n",
              "\n",
              "    .dataframe thead th {\n",
              "        text-align: right;\n",
              "    }\n",
              "</style>\n",
              "<table border=\"1\" class=\"dataframe\">\n",
              "  <thead>\n",
              "    <tr style=\"text-align: right;\">\n",
              "      <th></th>\n",
              "      <th>word</th>\n",
              "    </tr>\n",
              "    <tr>\n",
              "      <th>label</th>\n",
              "      <th></th>\n",
              "    </tr>\n",
              "  </thead>\n",
              "  <tbody>\n",
              "    <tr>\n",
              "      <th>B-LOC</th>\n",
              "      <td>10645</td>\n",
              "    </tr>\n",
              "    <tr>\n",
              "      <th>B-MISC</th>\n",
              "      <td>5062</td>\n",
              "    </tr>\n",
              "    <tr>\n",
              "      <th>B-ORG</th>\n",
              "      <td>9323</td>\n",
              "    </tr>\n",
              "    <tr>\n",
              "      <th>B-PER</th>\n",
              "      <td>10059</td>\n",
              "    </tr>\n",
              "    <tr>\n",
              "      <th>I-LOC</th>\n",
              "      <td>1671</td>\n",
              "    </tr>\n",
              "    <tr>\n",
              "      <th>I-MISC</th>\n",
              "      <td>1717</td>\n",
              "    </tr>\n",
              "    <tr>\n",
              "      <th>I-ORG</th>\n",
              "      <td>5290</td>\n",
              "    </tr>\n",
              "    <tr>\n",
              "      <th>I-PER</th>\n",
              "      <td>6991</td>\n",
              "    </tr>\n",
              "    <tr>\n",
              "      <th>O</th>\n",
              "      <td>250660</td>\n",
              "    </tr>\n",
              "  </tbody>\n",
              "</table>\n",
              "</div>\n",
              "      <button class=\"colab-df-convert\" onclick=\"convertToInteractive('df-f9b508ac-736c-42b2-879c-cab5c595333f')\"\n",
              "              title=\"Convert this dataframe to an interactive table.\"\n",
              "              style=\"display:none;\">\n",
              "        \n",
              "  <svg xmlns=\"http://www.w3.org/2000/svg\" height=\"24px\"viewBox=\"0 0 24 24\"\n",
              "       width=\"24px\">\n",
              "    <path d=\"M0 0h24v24H0V0z\" fill=\"none\"/>\n",
              "    <path d=\"M18.56 5.44l.94 2.06.94-2.06 2.06-.94-2.06-.94-.94-2.06-.94 2.06-2.06.94zm-11 1L8.5 8.5l.94-2.06 2.06-.94-2.06-.94L8.5 2.5l-.94 2.06-2.06.94zm10 10l.94 2.06.94-2.06 2.06-.94-2.06-.94-.94-2.06-.94 2.06-2.06.94z\"/><path d=\"M17.41 7.96l-1.37-1.37c-.4-.4-.92-.59-1.43-.59-.52 0-1.04.2-1.43.59L10.3 9.45l-7.72 7.72c-.78.78-.78 2.05 0 2.83L4 21.41c.39.39.9.59 1.41.59.51 0 1.02-.2 1.41-.59l7.78-7.78 2.81-2.81c.8-.78.8-2.07 0-2.86zM5.41 20L4 18.59l7.72-7.72 1.47 1.35L5.41 20z\"/>\n",
              "  </svg>\n",
              "      </button>\n",
              "      \n",
              "  <style>\n",
              "    .colab-df-container {\n",
              "      display:flex;\n",
              "      flex-wrap:wrap;\n",
              "      gap: 12px;\n",
              "    }\n",
              "\n",
              "    .colab-df-convert {\n",
              "      background-color: #E8F0FE;\n",
              "      border: none;\n",
              "      border-radius: 50%;\n",
              "      cursor: pointer;\n",
              "      display: none;\n",
              "      fill: #1967D2;\n",
              "      height: 32px;\n",
              "      padding: 0 0 0 0;\n",
              "      width: 32px;\n",
              "    }\n",
              "\n",
              "    .colab-df-convert:hover {\n",
              "      background-color: #E2EBFA;\n",
              "      box-shadow: 0px 1px 2px rgba(60, 64, 67, 0.3), 0px 1px 3px 1px rgba(60, 64, 67, 0.15);\n",
              "      fill: #174EA6;\n",
              "    }\n",
              "\n",
              "    [theme=dark] .colab-df-convert {\n",
              "      background-color: #3B4455;\n",
              "      fill: #D2E3FC;\n",
              "    }\n",
              "\n",
              "    [theme=dark] .colab-df-convert:hover {\n",
              "      background-color: #434B5C;\n",
              "      box-shadow: 0px 1px 3px 1px rgba(0, 0, 0, 0.15);\n",
              "      filter: drop-shadow(0px 1px 2px rgba(0, 0, 0, 0.3));\n",
              "      fill: #FFFFFF;\n",
              "    }\n",
              "  </style>\n",
              "\n",
              "      <script>\n",
              "        const buttonEl =\n",
              "          document.querySelector('#df-f9b508ac-736c-42b2-879c-cab5c595333f button.colab-df-convert');\n",
              "        buttonEl.style.display =\n",
              "          google.colab.kernel.accessAllowed ? 'block' : 'none';\n",
              "\n",
              "        async function convertToInteractive(key) {\n",
              "          const element = document.querySelector('#df-f9b508ac-736c-42b2-879c-cab5c595333f');\n",
              "          const dataTable =\n",
              "            await google.colab.kernel.invokeFunction('convertToInteractive',\n",
              "                                                     [key], {});\n",
              "          if (!dataTable) return;\n",
              "\n",
              "          const docLinkHtml = 'Like what you see? Visit the ' +\n",
              "            '<a target=\"_blank\" href=https://colab.research.google.com/notebooks/data_table.ipynb>data table notebook</a>'\n",
              "            + ' to learn more about interactive tables.';\n",
              "          element.innerHTML = '';\n",
              "          dataTable['output_type'] = 'display_data';\n",
              "          await google.colab.output.renderOutput(dataTable, element);\n",
              "          const docLink = document.createElement('div');\n",
              "          docLink.innerHTML = docLinkHtml;\n",
              "          element.appendChild(docLink);\n",
              "        }\n",
              "      </script>\n",
              "    </div>\n",
              "  </div>\n",
              "  "
            ]
          },
          "metadata": {},
          "execution_count": 10
        }
      ]
    },
    {
      "cell_type": "code",
      "source": [
        "hist = pd.DataFrame({\"class\":hist.index, \"count\": hist[\"word\"]})\n",
        "hist = hist.to_numpy().tolist()\n",
        "cl = [t[0] for t in hist]\n",
        "nbr = [t[1] for t in hist]\n",
        "sns.barplot(data=pd.DataFrame({\"class\":cl, \"count\":nbr}), x=\"class\", y=\"count\")"
      ],
      "metadata": {
        "colab": {
          "base_uri": "https://localhost:8080/",
          "height": 466
        },
        "id": "m7hnKPtIpVbQ",
        "outputId": "9884d699-a80f-4cc4-bb88-04a79035bdd2"
      },
      "execution_count": 11,
      "outputs": [
        {
          "output_type": "execute_result",
          "data": {
            "text/plain": [
              "<Axes: xlabel='class', ylabel='count'>"
            ]
          },
          "metadata": {},
          "execution_count": 11
        },
        {
          "output_type": "display_data",
          "data": {
            "text/plain": [
              "<Figure size 640x480 with 1 Axes>"
            ],
            "image/png": "[encoded data removed]"
          },
          "metadata": {}
        }
      ]
    },
    {
      "cell_type": "code",
      "source": [
        "df.describe()"
      ],
      "metadata": {
        "colab": {
          "base_uri": "https://localhost:8080/",
          "height": 175
        },
        "id": "6TEuNuFyqMrZ",
        "outputId": "ed71b705-0d31-4828-e359-e522ae88951d"
      },
      "execution_count": 12,
      "outputs": [
        {
          "output_type": "execute_result",
          "data": {
            "text/plain": [
              "          word   label\n",
              "count   301418  301418\n",
              "unique   30289       9\n",
              "top          ,       O\n",
              "freq     10876  250660"
            ],
            "text/html": [
              "\n",
              "  <div id=\"df-4424a75c-5d39-4551-a446-3dc81fac4c1f\">\n",
              "    <div class=\"colab-df-container\">\n",
              "      <div>\n",
              "<style scoped>\n",
              "    .dataframe tbody tr th:only-of-type {\n",
              "        vertical-align: middle;\n",
              "    }\n",
              "\n",
              "    .dataframe tbody tr th {\n",
              "        vertical-align: top;\n",
              "    }\n",
              "\n",
              "    .dataframe thead th {\n",
              "        text-align: right;\n",
              "    }\n",
              "</style>\n",
              "<table border=\"1\" class=\"dataframe\">\n",
              "  <thead>\n",
              "    <tr style=\"text-align: right;\">\n",
              "      <th></th>\n",
              "      <th>word</th>\n",
              "      <th>label</th>\n",
              "    </tr>\n",
              "  </thead>\n",
              "  <tbody>\n",
              "    <tr>\n",
              "      <th>count</th>\n",
              "      <td>301418</td>\n",
              "      <td>301418</td>\n",
              "    </tr>\n",
              "    <tr>\n",
              "      <th>unique</th>\n",
              "      <td>30289</td>\n",
              "      <td>9</td>\n",
              "    </tr>\n",
              "    <tr>\n",
              "      <th>top</th>\n",
              "      <td>,</td>\n",
              "      <td>O</td>\n",
              "    </tr>\n",
              "    <tr>\n",
              "      <th>freq</th>\n",
              "      <td>10876</td>\n",
              "      <td>250660</td>\n",
              "    </tr>\n",
              "  </tbody>\n",
              "</table>\n",
              "</div>\n",
              "      <button class=\"colab-df-convert\" onclick=\"convertToInteractive('df-4424a75c-5d39-4551-a446-3dc81fac4c1f')\"\n",
              "              title=\"Convert this dataframe to an interactive table.\"\n",
              "              style=\"display:none;\">\n",
              "        \n",
              "  <svg xmlns=\"http://www.w3.org/2000/svg\" height=\"24px\"viewBox=\"0 0 24 24\"\n",
              "       width=\"24px\">\n",
              "    <path d=\"M0 0h24v24H0V0z\" fill=\"none\"/>\n",
              "    <path d=\"M18.56 5.44l.94 2.06.94-2.06 2.06-.94-2.06-.94-.94-2.06-.94 2.06-2.06.94zm-11 1L8.5 8.5l.94-2.06 2.06-.94-2.06-.94L8.5 2.5l-.94 2.06-2.06.94zm10 10l.94 2.06.94-2.06 2.06-.94-2.06-.94-.94-2.06-.94 2.06-2.06.94z\"/><path d=\"M17.41 7.96l-1.37-1.37c-.4-.4-.92-.59-1.43-.59-.52 0-1.04.2-1.43.59L10.3 9.45l-7.72 7.72c-.78.78-.78 2.05 0 2.83L4 21.41c.39.39.9.59 1.41.59.51 0 1.02-.2 1.41-.59l7.78-7.78 2.81-2.81c.8-.78.8-2.07 0-2.86zM5.41 20L4 18.59l7.72-7.72 1.47 1.35L5.41 20z\"/>\n",
              "  </svg>\n",
              "      </button>\n",
              "      \n",
              "  <style>\n",
              "    .colab-df-container {\n",
              "      display:flex;\n",
              "      flex-wrap:wrap;\n",
              "      gap: 12px;\n",
              "    }\n",
              "\n",
              "    .colab-df-convert {\n",
              "      background-color: #E8F0FE;\n",
              "      border: none;\n",
              "      border-radius: 50%;\n",
              "      cursor: pointer;\n",
              "      display: none;\n",
              "      fill: #1967D2;\n",
              "      height: 32px;\n",
              "      padding: 0 0 0 0;\n",
              "      width: 32px;\n",
              "    }\n",
              "\n",
              "    .colab-df-convert:hover {\n",
              "      background-color: #E2EBFA;\n",
              "      box-shadow: 0px 1px 2px rgba(60, 64, 67, 0.3), 0px 1px 3px 1px rgba(60, 64, 67, 0.15);\n",
              "      fill: #174EA6;\n",
              "    }\n",
              "\n",
              "    [theme=dark] .colab-df-convert {\n",
              "      background-color: #3B4455;\n",
              "      fill: #D2E3FC;\n",
              "    }\n",
              "\n",
              "    [theme=dark] .colab-df-convert:hover {\n",
              "      background-color: #434B5C;\n",
              "      box-shadow: 0px 1px 3px 1px rgba(0, 0, 0, 0.15);\n",
              "      filter: drop-shadow(0px 1px 2px rgba(0, 0, 0, 0.3));\n",
              "      fill: #FFFFFF;\n",
              "    }\n",
              "  </style>\n",
              "\n",
              "      <script>\n",
              "        const buttonEl =\n",
              "          document.querySelector('#df-4424a75c-5d39-4551-a446-3dc81fac4c1f button.colab-df-convert');\n",
              "        buttonEl.style.display =\n",
              "          google.colab.kernel.accessAllowed ? 'block' : 'none';\n",
              "\n",
              "        async function convertToInteractive(key) {\n",
              "          const element = document.querySelector('#df-4424a75c-5d39-4551-a446-3dc81fac4c1f');\n",
              "          const dataTable =\n",
              "            await google.colab.kernel.invokeFunction('convertToInteractive',\n",
              "                                                     [key], {});\n",
              "          if (!dataTable) return;\n",
              "\n",
              "          const docLinkHtml = 'Like what you see? Visit the ' +\n",
              "            '<a target=\"_blank\" href=https://colab.research.google.com/notebooks/data_table.ipynb>data table notebook</a>'\n",
              "            + ' to learn more about interactive tables.';\n",
              "          element.innerHTML = '';\n",
              "          dataTable['output_type'] = 'display_data';\n",
              "          await google.colab.output.renderOutput(dataTable, element);\n",
              "          const docLink = document.createElement('div');\n",
              "          docLink.innerHTML = docLinkHtml;\n",
              "          element.appendChild(docLink);\n",
              "        }\n",
              "      </script>\n",
              "    </div>\n",
              "  </div>\n",
              "  "
            ]
          },
          "metadata": {},
          "execution_count": 12
        }
      ]
    },
    {
      "cell_type": "markdown",
      "metadata": {
        "id": "2NFpti3H7fm0"
      },
      "source": [
        "### New input text"
      ]
    },
    {
      "cell_type": "code",
      "execution_count": null,
      "metadata": {
        "id": "_jGe-JDa7fm1"
      },
      "outputs": [],
      "source": [
        "# test_text = Data()\n",
        "\n",
        "# preprocessing = Preprocessing(data = test_text, text = \"Obama is the president of the United States. I am from Guinea, nice to meet you.\")\n",
        "# preprocessing.tokenize()\n",
        "# preprocessing.lowercasing()\n",
        "# preprocessing.lemmatize()\n",
        "# print(test_text.sentences)\n",
        "\n",
        "# vector = Vectorization(test_text)\n",
        "# vector.vectorized_x()\n",
        "# print(test_text.x.shape)"
      ]
    },
    {
      "cell_type": "markdown",
      "metadata": {
        "id": "F08w-hsB7fm1"
      },
      "source": [
        "### Parameters"
      ]
    },
    {
      "cell_type": "code",
      "execution_count": 10,
      "metadata": {
        "id": "-M4-ULUI7fm1"
      },
      "outputs": [],
      "source": [
        "# Hyperparameters\n",
        "NUM_FILTERS = 256\n",
        "KERNEL_SIZE = 3\n",
        "DROPOUT_RATE = 0.6\n",
        "BATCH_SIZE = 32\n",
        "EPOCHS = 20"
      ]
    },
    {
      "cell_type": "markdown",
      "metadata": {
        "id": "rVKzq06h5moN"
      },
      "source": [
        "## Evaluation"
      ]
    },
    {
      "cell_type": "code",
      "execution_count": 15,
      "metadata": {
        "id": "70grOo_p5moO"
      },
      "outputs": [],
      "source": [
        "def evaluation(test:Data, y_predict):\n",
        "  true, false, total, predict = 0, 0, 0, 0\n",
        "  x, y, z = test.y.shape\n",
        "  for i in range(x):\n",
        "    for j in range(y):\n",
        "      real_tag = np.argmax(test.y[i][j]) \n",
        "      predict_tag = np.argmax(y_predict[i][j])\n",
        "      if predict_tag == 0: predict +=1\n",
        "      if real_tag != 0:\n",
        "        total = total + 1\n",
        "        if real_tag == predict_tag: true = true + 1\n",
        "        else: false = false + 1\n",
        "  print(\"----------------------- Evaluation -------------------------\")\n",
        "  print(test.y.shape)\n",
        "  print(predict, x*y)\n",
        "  print(true, false, total, round(true/total, 3), round(false/total, 3), end=\"\\n\\n\")\n",
        "\n",
        "def checkDataset(train, test, valid):    \n",
        "    print(\"X_train\", train.x.shape)\n",
        "    print(\"y_train\", train.y.shape, \"\\n\")\n",
        "    print(\"X_test\", test.x.shape)\n",
        "    print(\"y_test\", test.y.shape, \"\\n\")    \n",
        "    print(\"X_valid\", valid.x.shape)\n",
        "    print(\"y_valid\", valid.y.shape)\n",
        "\n",
        "def preprocess(data: Data):\n",
        "    preprocessing = Preprocessing(data=data)\n",
        "    preprocessing.lowercasing()\n",
        "    preprocessing.lemmatize()\n",
        "    preprocessing.remove_stopword()\n",
        "    data.unicity()\n",
        "    \n",
        "def vectorize(data: Data):\n",
        "    # treat sentences\n",
        "    vector = Vectorization(data=data)\n",
        "    vector.vectorized_x()\n",
        "    vector.vectorized_y()\n",
        "\n",
        "def main():\n",
        "    train = Loading(\"train.txt\").data\n",
        "    test = Loading(\"test.txt\").data\n",
        "    valid = Loading(\"valid.txt\").data\n",
        "    preprocess(train)\n",
        "    preprocess(test)\n",
        "    preprocess(valid)\n",
        "    # dico = {}\n",
        "    # for tags in test.sentences_num + train.sentences_num + valid.sentences_num:\n",
        "    #   if dico.get(len(tags), None) == None:\n",
        "    #     dico[len(tags)] = 1\n",
        "    #   dico[len(tags)] += 1\n",
        "    # print(sorted(list(dico.items()), key= lambda x: x[1]))\n",
        "    vectorize(train)\n",
        "    vectorize(test)\n",
        "    vectorize(valid)\n",
        "    checkDataset(train, test, valid)\n",
        "    return train, test, valid"
      ]
    },
    {
      "cell_type": "markdown",
      "metadata": {
        "id": "u6IUaT76g8Ja"
      },
      "source": [
        "## CNN model"
      ]
    },
    {
      "cell_type": "code",
      "execution_count": 15,
      "metadata": {
        "id": "3Z44LAt-5moQ"
      },
      "outputs": [],
      "source": [
        "from keras.models import Sequential\n",
        "from keras.layers import Dense, Dropout, Conv1D, MaxPooling1D\n",
        "\n",
        "class Model_CNN:\n",
        "  def __init__(self):\n",
        "    # Define the model architecture\n",
        "    self.model = Sequential()\n",
        "    self.model.add(Conv1D(128, KERNEL_SIZE, activation='relu', input_shape=(Data.MAX_LENGTH, Data.VOCAB_SIZE), padding='same'))\n",
        "    self.model.add(Dropout(DROPOUT_RATE))\n",
        "    self.model.add(Conv1D(64, KERNEL_SIZE, activation='relu', padding='same'))\n",
        "    self.model.add(Dropout(DROPOUT_RATE))\n",
        "    self.model.add(Conv1D(32, KERNEL_SIZE, activation='relu', padding='same'))\n",
        "    self.model.add(Dropout(DROPOUT_RATE))\n",
        "    self.model.add(Dense(len(Data.unique_ner_tags), activation='softmax'))\n",
        "    \n",
        "  def summary(self):\n",
        "    self.model.summary()\n",
        "    \n",
        "  def trainning(self, train:Data, valid:Data=None):\n",
        "    self.model.compile(loss=\"categorical_crossentropy\", optimizer=\"adam\", metrics=[\"accuracy\"])\n",
        "    if valid == None:\n",
        "      self.model.fit(train.x, train.y, batch_size=BATCH_SIZE, epochs=EPOCHS)\n",
        "    else:\n",
        "      self.model.fit(train.x, train.y, batch_size=BATCH_SIZE, epochs=EPOCHS, validation_data=(valid.x, valid.y))\n",
        "      \n",
        "  def testing(self, test:Data):\n",
        "    return self.model.evaluate(test.x, test.y)\n",
        "  \n",
        "  def predicting(self, test:Data):\n",
        "    return self.model.predict(test.x, batch_size=BATCH_SIZE)"
      ]
    },
    {
      "cell_type": "code",
      "execution_count": 21,
      "metadata": {
        "id": "AsOYiFC_5moR"
      },
      "outputs": [],
      "source": [
        "def main_cnn(max_length=None, vocab_size=None):\n",
        "    if max_length != None: Data.MAX_LENGTH = max_length\n",
        "    if vocab_size != None : Data.VOCAB_SIZE = vocab_size     \n",
        "    train, test, valid = main()\n",
        "    model_cnn = Model_CNN()\n",
        "    model_cnn.trainning(train, valid)\n",
        "    model_cnn.testing(test)\n",
        "    y_predict_cnn = model_cnn.predicting(test)\n",
        "    evaluation(test, y_predict_cnn)"
      ]
    },
    {
      "cell_type": "code",
      "execution_count": 23,
      "metadata": {
        "id": "H74Sm0vE5moS",
        "outputId": "df92cc2b-9c2c-48f9-df1b-ce8cfd4322bc",
        "colab": {
          "base_uri": "https://localhost:8080/"
        }
      },
      "outputs": [
        {
          "output_type": "stream",
          "name": "stdout",
          "text": [
            "X_train (14041, 100, 300)\n",
            "y_train (14041, 100, 9) \n",
            "\n",
            "X_test (3453, 100, 300)\n",
            "y_test (3453, 100, 9) \n",
            "\n",
            "X_valid (3250, 100, 300)\n",
            "y_valid (3250, 100, 9)\n",
            "Epoch 1/20\n",
            "439/439 [==============================] - 7s 11ms/step - loss: 0.2315 - accuracy: 0.9712 - val_loss: 0.4304 - val_accuracy: 0.9735\n",
            "Epoch 2/20\n",
            "439/439 [==============================] - 3s 8ms/step - loss: 0.1060 - accuracy: 0.9761 - val_loss: 0.4477 - val_accuracy: 0.9735\n",
            "Epoch 3/20\n",
            "439/439 [==============================] - 5s 11ms/step - loss: 0.1007 - accuracy: 0.9761 - val_loss: 0.3775 - val_accuracy: 0.9735\n",
            "Epoch 4/20\n",
            "439/439 [==============================] - 5s 11ms/step - loss: 0.0974 - accuracy: 0.9763 - val_loss: 0.3722 - val_accuracy: 0.9735\n",
            "Epoch 5/20\n",
            "439/439 [==============================] - 4s 9ms/step - loss: 0.0961 - accuracy: 0.9764 - val_loss: 0.3266 - val_accuracy: 0.9735\n",
            "Epoch 6/20\n",
            "439/439 [==============================] - 6s 13ms/step - loss: 0.0946 - accuracy: 0.9765 - val_loss: 0.3068 - val_accuracy: 0.9735\n",
            "Epoch 7/20\n",
            "439/439 [==============================] - 4s 8ms/step - loss: 0.0936 - accuracy: 0.9764 - val_loss: 0.3143 - val_accuracy: 0.9735\n",
            "Epoch 8/20\n",
            "439/439 [==============================] - 4s 9ms/step - loss: 0.0927 - accuracy: 0.9765 - val_loss: 0.2780 - val_accuracy: 0.9735\n",
            "Epoch 9/20\n",
            "439/439 [==============================] - 4s 9ms/step - loss: 0.0918 - accuracy: 0.9765 - val_loss: 0.2935 - val_accuracy: 0.9735\n",
            "Epoch 10/20\n",
            "439/439 [==============================] - 4s 8ms/step - loss: 0.0914 - accuracy: 0.9765 - val_loss: 0.2938 - val_accuracy: 0.9735\n",
            "Epoch 11/20\n",
            "439/439 [==============================] - 4s 8ms/step - loss: 0.0907 - accuracy: 0.9765 - val_loss: 0.2962 - val_accuracy: 0.9735\n",
            "Epoch 12/20\n",
            "439/439 [==============================] - 4s 8ms/step - loss: 0.0901 - accuracy: 0.9766 - val_loss: 0.3197 - val_accuracy: 0.9735\n",
            "Epoch 13/20\n",
            "439/439 [==============================] - 4s 9ms/step - loss: 0.0899 - accuracy: 0.9765 - val_loss: 0.3074 - val_accuracy: 0.9735\n",
            "Epoch 14/20\n",
            "439/439 [==============================] - 4s 8ms/step - loss: 0.0891 - accuracy: 0.9766 - val_loss: 0.3119 - val_accuracy: 0.9735\n",
            "Epoch 15/20\n",
            "439/439 [==============================] - 3s 8ms/step - loss: 0.0887 - accuracy: 0.9766 - val_loss: 0.2783 - val_accuracy: 0.9735\n",
            "Epoch 16/20\n",
            "439/439 [==============================] - 4s 10ms/step - loss: 0.0883 - accuracy: 0.9766 - val_loss: 0.3103 - val_accuracy: 0.9735\n",
            "Epoch 17/20\n",
            "439/439 [==============================] - 3s 8ms/step - loss: 0.0879 - accuracy: 0.9766 - val_loss: 0.3174 - val_accuracy: 0.9735\n",
            "Epoch 18/20\n",
            "439/439 [==============================] - 3s 8ms/step - loss: 0.0874 - accuracy: 0.9766 - val_loss: 0.3665 - val_accuracy: 0.9735\n",
            "Epoch 19/20\n",
            "439/439 [==============================] - 4s 10ms/step - loss: 0.0870 - accuracy: 0.9766 - val_loss: 0.3629 - val_accuracy: 0.9735\n",
            "Epoch 20/20\n",
            "439/439 [==============================] - 3s 8ms/step - loss: 0.0868 - accuracy: 0.9767 - val_loss: 0.3887 - val_accuracy: 0.9735\n",
            "108/108 [==============================] - 1s 5ms/step - loss: 0.3627 - accuracy: 0.9765\n",
            "108/108 [==============================] - 1s 4ms/step\n",
            "----------------------- Evaluation -------------------------\n",
            "(3453, 100, 9)\n",
            "345300 345300\n",
            "0 8112 8112 0.0 1.0\n",
            "\n"
          ]
        }
      ],
      "source": [
        "model_cnn = main_cnn(max_length=100, vocab_size=300)"
      ]
    },
    {
      "cell_type": "markdown",
      "metadata": {
        "id": "PEctuVg7HirO"
      },
      "source": [
        "## Model LSTM"
      ]
    },
    {
      "cell_type": "code",
      "execution_count": 19,
      "metadata": {
        "id": "hW0Culvw7fm5"
      },
      "outputs": [],
      "source": [
        "from keras.models import Sequential\n",
        "from keras.layers import LSTM, Dense\n",
        "\n",
        "class Model_LSTM:\n",
        "  def __init__(self):\n",
        "    # Define the model architecture\n",
        "    self.model_LSTM = Sequential()\n",
        "    self.model_LSTM.add(LSTM(256, input_shape=(Data.MAX_LENGTH, Data.VOCAB_SIZE), return_sequences=True, dropout=DROPOUT_RATE))\n",
        "    self.model_LSTM.add(LSTM(128, return_sequences=True, dropout=DROPOUT_RATE))\n",
        "    self.model_LSTM.add(LSTM(64, return_sequences=True, dropout=DROPOUT_RATE))\n",
        "    self.model_LSTM.add(LSTM(32, return_sequences=True, dropout=DROPOUT_RATE))\n",
        "    self.model_LSTM.add(Dense(len(Data.unique_ner_tags), activation='softmax'))\n",
        "\n",
        "  def summary(self):\n",
        "    self.model_LSTM.summary()\n",
        "\n",
        "  def trainning(self, train:Data, valid:Data=None):\n",
        "    self.model_LSTM.compile(optimizer=\"adam\", loss=\"categorical_crossentropy\", metrics=[\"accuracy\"])\n",
        "    if valid == None:\n",
        "      self.model_LSTM.fit(train.x, train.y, batch_size=BATCH_SIZE, epochs=EPOCHS)\n",
        "    else:\n",
        "      self.model_LSTM.fit(train.x, train.y, batch_size=BATCH_SIZE, epochs=EPOCHS, validation_data=(valid.x, valid.y))\n",
        "\n",
        "  def testing(self, test:Data):\n",
        "    return self.model_LSTM.evaluate(test.x, test.y)\n",
        "\n",
        "  def predicting(self, test:Data):\n",
        "    return self.model_LSTM.predict(test.x, batch_size=BATCH_SIZE)\n",
        "    "
      ]
    },
    {
      "cell_type": "code",
      "execution_count": 13,
      "metadata": {
        "id": "hlCzmkms5mob"
      },
      "outputs": [],
      "source": [
        "def main_lstm(max_length=None, vocab_size=None):\n",
        "    if max_length != None: Data.MAX_LENGTH = max_length\n",
        "    if vocab_size != None : Data.VOCAB_SIZE = vocab_size     \n",
        "    train, test, valid = main()\n",
        "    model_lstm = Model_LSTM()\n",
        "    model_lstm.summary()\n",
        "    model_lstm.trainning(train, valid)\n",
        "    model_lstm.testing(test)\n",
        "    y_predict_lstm = model_lstm.predicting(test)\n",
        "    evaluation(test, y_predict_lstm)\n",
        "    return model_lstm"
      ]
    },
    {
      "cell_type": "code",
      "execution_count": null,
      "metadata": {
        "colab": {
          "base_uri": "https://localhost:8080/"
        },
        "id": "chYF5-l2CvEB",
        "outputId": "8ce142ff-ee2d-4b0a-a74a-7d3a6356e76a"
      },
      "outputs": [
        {
          "output_type": "stream",
          "name": "stdout",
          "text": [
            "X_train (14041, 200, 250)\n",
            "y_train (14041, 200, 9) \n",
            "\n",
            "X_test (3453, 200, 250)\n",
            "y_test (3453, 200, 9) \n",
            "\n",
            "X_valid (3250, 200, 250)\n",
            "y_valid (3250, 200, 9)\n",
            "Model: \"sequential\"\n",
            "_________________________________________________________________\n",
            " Layer (type)                Output Shape              Param #   \n",
            "=================================================================\n",
            " lstm (LSTM)                 (None, 200, 256)          519168    \n",
            "                                                                 \n",
            " lstm_1 (LSTM)               (None, 200, 128)          197120    \n",
            "                                                                 \n",
            " lstm_2 (LSTM)               (None, 200, 64)           49408     \n",
            "                                                                 \n",
            " lstm_3 (LSTM)               (None, 200, 32)           12416     \n",
            "                                                                 \n",
            " dense (Dense)               (None, 200, 9)            297       \n",
            "                                                                 \n",
            "=================================================================\n",
            "Total params: 778,409\n",
            "Trainable params: 778,409\n",
            "Non-trainable params: 0\n",
            "_________________________________________________________________\n",
            "Epoch 1/20\n",
            " 33/439 [=>............................] - ETA: 9:53 - loss: 0.5047 - accuracy: 0.9728"
          ]
        }
      ],
      "source": [
        "model_lstm = main_lstm(max_length=200, vocab_size=250)"
      ]
    },
    {
      "cell_type": "code",
      "execution_count": null,
      "metadata": {
        "id": "IgS5eRZ07fmy"
      },
      "outputs": [],
      "source": [
        "# def vectorize(data:Data):\n",
        "#     vector = Vectorization(data=data)\n",
        "    \n",
        "#     # # treat sentences\n",
        "#     # vector.vectorized_x()\n",
        "#     # vector.vectorized_y()\n",
        "    \n",
        "#     # # treat words\n",
        "#     # vector.word2vec()\n",
        "#     # vector.tag2num()\n",
        "#     # Sentences, Tags = [], []\n",
        "#     # [[Sentences.append(word) for word in sentence] for sentence in data.sentences_num]\n",
        "#     # [[Tags.append(tag) for tag in tags] for tags in data.ner_tags_num]\n",
        "#     # data.x, data.y = np.array(Sentences, dtype=\"float32\"), np.array(Tags, dtype=\"float32\")\n",
        "#     # print(data.x.shape, data.y.shape)"
      ]
    },
    {
      "cell_type": "markdown",
      "metadata": {
        "id": "HwS7GyBk5moe"
      },
      "source": [
        "## Tools"
      ]
    },
    {
      "cell_type": "code",
      "execution_count": null,
      "metadata": {
        "id": "K7eHuf96nXDm"
      },
      "outputs": [],
      "source": [
        "# !pip install tensorflow-addons"
      ]
    },
    {
      "cell_type": "code",
      "execution_count": null,
      "metadata": {
        "id": "Tqp60CTqGqzV"
      },
      "outputs": [],
      "source": [
        "# model_LSTM.save(\"../Data/model_lstm.keras\")"
      ]
    },
    {
      "cell_type": "code",
      "execution_count": null,
      "metadata": {
        "id": "itvrF6SvFmUg"
      },
      "outputs": [],
      "source": [
        "# model_LSTM = tf.keras.models.load_model(\"../Data/model_lstm.keras\")"
      ]
    },
    {
      "cell_type": "code",
      "execution_count": null,
      "metadata": {
        "id": "8x5O84rzHU9m"
      },
      "outputs": [],
      "source": [
        "# # np.quantile(sort([1, 2, 3, 8, 7]), 0.50)\n",
        "# dico = {}\n",
        "# for tags in test.sentences + train.sentences + valid.sentences:\n",
        "#   if dico.get(len(tags), None) == None:\n",
        "#     dico[len(tags)] = 1\n",
        "#   dico[len(tags)] += 1\n",
        "# sorted(list(dico.items()), key= lambda x: x[1])"
      ]
    },
    {
      "cell_type": "code",
      "execution_count": null,
      "metadata": {
        "id": "0QGhljfiC5gG"
      },
      "outputs": [],
      "source": [
        "# entities = dict(zip(Data.unique_ner_tags.keys(), [0 for i in range(len(Data.unique_ner_tags))]))\n",
        "# for tags in test.ner_tags:\n",
        "#     for tag in tags:\n",
        "#         entities[tag] += 1\n",
        "# is_entities = 0\n",
        "# is_not_entities = 0\n",
        "# for tag, nbr in entities.items():\n",
        "#     if tag != 'O': is_entities += nbr\n",
        "#     else: is_not_entities += nbr\n",
        "# print(entities)\n",
        "# print(is_entities, is_not_entities)"
      ]
    },
    {
      "cell_type": "markdown",
      "metadata": {
        "id": "qOUNEjNd5moi"
      },
      "source": [
        "## TF-IDF"
      ]
    },
    {
      "cell_type": "code",
      "execution_count": 57,
      "metadata": {
        "id": "pBG1rsZf5mpD"
      },
      "outputs": [],
      "source": [
        "from sklearn.feature_extraction.text import TfidfVectorizer"
      ]
    },
    {
      "cell_type": "code",
      "execution_count": 79,
      "metadata": {
        "id": "hIppRirQ5mpF"
      },
      "outputs": [],
      "source": [
        "def load_tf_idf():\n",
        "    train = Loading(\"train.txt\").data\n",
        "    test = Loading(\"test.txt\").data\n",
        "    valid = Loading(\"valid.txt\").data\n",
        "    return train, test, valid\n",
        "\n",
        "def preprocess_tfidf(data:Data):\n",
        "    preprocessing = Preprocessing(data=data)\n",
        "    preprocessing.lowercasing()\n",
        "    preprocessing.lemmatize()\n",
        "    preprocessing.remove_stopword()\n",
        "    data.unicity()\n",
        "    # sentences = [\" \".join(sentence) for sentence in data.sentences_num]\n",
        "    # vectorizer = TfidfVectorizer(max_features=Data.MAX_LENGTH)\n",
        "    # data.x = vectorizer.fit_transform(sentences).toarray()\n",
        "    # y = []\n",
        "    # [[y.append(to_categorical(Data.unique_ner_tags[tag], num_classes=NUM_CLASSES)) for tag in tags] for tags in data.ner_tags]\n",
        "    # data.y = np.array(y, dtype=\"float32\")\n",
        "\n",
        "def vectorize_tf_idf(data:Data):\n",
        "    vectorize = Vectorization(data=data)\n",
        "    vectorize.padding_x(value=\"<PAD>\", dtype=\"str\")\n",
        "    vectorize.padding_y(value=\"O\")\n",
        "\n",
        "def formalize_tfidf(data:Data):\n",
        "    data.x = data.sentences_num\n",
        "    data.y = data.ner_tags_num\n",
        "    x = len(data.x)\n",
        "    return [\" \".join([\"\".join([data.x[i][j], \"__\", data.y[i][j]]) for j in range(len(data.x[i]))]) for i in range(x)]\n",
        "\n",
        "def tf(train:Data, test:Data, valid:Data):\n",
        "    vectorizer = TfidfVectorizer(\n",
        "        lowercase=False,\n",
        "        analyzer=\"word\",\n",
        "        stop_words=None,\n",
        "        token_pattern=\"[\\S]+\",\n",
        "        tokenizer=None,\n",
        "        preprocessor=None    \n",
        "        )\n",
        "    data_train = formalize_tfidf(train)\n",
        "    data_test = formalize_tfidf(test)\n",
        "    data_valid = formalize_tfidf(valid)\n",
        "    tfidf_matrix_train = vectorizer.fit_transform(data_train)\n",
        "    tfidf_matrix_test = vectorizer.transform(data_test)\n",
        "    tfidf_matrix_valid = vectorizer.transform(data_valid)\n",
        "    feature_names = vectorizer.get_feature_names_out()\n",
        "    entities_train = []\n",
        "    num_keywords = 20\n",
        "    for doc_index in range(len(data_train)):\n",
        "        doc_tfidf_scores = tfidf_matrix_train[doc_index].toarray().flatten()\n",
        "        top_indices = doc_tfidf_scores.argsort()[:-num_keywords - 1:-1]\n",
        "        doc_entities = [feature_names[i] for i in top_indices]\n",
        "        entities_train.append(doc_entities)\n",
        "    print(len(entities_train), len(data_train))\n",
        "    for i in range(5):\n",
        "      print(data_train[i])\n",
        "      print(entities_train[i], \"\\n\")\n",
        "    "
      ]
    },
    {
      "cell_type": "code",
      "execution_count": 80,
      "metadata": {
        "id": "AIFkBA7S5mpG",
        "colab": {
          "base_uri": "https://localhost:8080/"
        },
        "outputId": "42ffb18a-41c6-4578-db7e-3a58b6e9fada"
      },
      "outputs": [
        {
          "output_type": "stream",
          "name": "stdout",
          "text": [
            "14041 14041\n",
            "eu__B-ORG reject__O german__B-MISC call__O boycott__O british__B-MISC lamb__O\n",
            "['lamb__O', 'reject__O', 'boycott__O', 'eu__B-ORG', 'call__O', 'british__B-MISC', 'german__B-MISC', 'corn__O', 'corina__B-PER', 'corini__I-PER', 'corinthian__B-ORG', 'coritiba__B-ORG', 'cork__B-PER', 'cork__I-PER', 'corp__I-ORG', 'corner__O', 'corp.__I-ORG', 'core__O', 'corp__O', 'corporacion__B-ORG'] \n",
            "\n",
            "peter__B-PER blackburn__I-PER\n",
            "['blackburn__I-PER', 'peter__B-PER', 'zyrecha__I-PER', 'corp.__I-ORG', 'corina__B-PER', 'corini__I-PER', 'corinthian__B-ORG', 'coritiba__B-ORG', 'cork__B-PER', 'cork__I-PER', 'corn__O', 'corner__O', 'corp__I-ORG', 'core__O', 'corp__O', 'corporacion__B-ORG', 'corporate__O', 'corporates__O', 'corporation__I-ORG', 'corporation__O'] \n",
            "\n",
            "brussels__B-LOC 1996-08-22__O\n",
            "['brussels__B-LOC', '1996-08-22__O', 'corp.__I-ORG', 'corina__B-PER', 'corini__I-PER', 'corinthian__B-ORG', 'coritiba__B-ORG', 'cork__B-PER', 'cork__I-PER', 'corn__O', 'corner__O', 'zyrecha__I-PER', 'correction__B-ORG', 'corp__O', 'corporacion__B-ORG', 'corporate__O', 'corporates__O', 'corporation__I-ORG', 'corporation__O', 'corps__O'] \n",
            "\n",
            "european__B-ORG commission__I-ORG said__O thursday__O disagreed__O german__B-MISC advice__O consumer__O shun__O british__B-MISC lamb__O scientist__O determine__O whether__O mad__O cow__O disease__O transmitted__O sheep__O\n",
            "['shun__O', 'disagreed__O', 'transmitted__O', 'lamb__O', 'advice__O', 'determine__O', 'scientist__O', 'cow__O', 'sheep__O', 'mad__O', 'consumer__O', 'european__B-ORG', 'commission__I-ORG', 'disease__O', 'whether__O', 'british__B-MISC', 'german__B-MISC', 'thursday__O', 'said__O', 'corini__I-PER'] \n",
            "\n",
            "germany__B-LOC 's__O representative__O european__B-ORG union__I-ORG 's__O veterinary__O committee__O werner__B-PER zwingmann__I-PER said__O wednesday__O consumer__O buy__O sheepmeat__O country__O britain__B-LOC scientific__O advice__O wa__O clearer__O\n",
            "['clearer__O', 'sheepmeat__O', 'werner__B-PER', 'zwingmann__I-PER', 'advice__O', 'veterinary__O', 'scientific__O', 'representative__O', 'consumer__O', 'committee__O', 'buy__O', 'european__B-ORG', 'union__I-ORG', \"'s__O\", 'country__O', 'britain__B-LOC', 'germany__B-LOC', 'wednesday__O', 'wa__O', 'said__O'] \n",
            "\n"
          ]
        }
      ],
      "source": [
        "class TF_IDF:\n",
        "  def __init__(self):\n",
        "    self.train, self.test, self.valid = load_tf_idf()\n",
        "    # # Preprocessing\n",
        "    preprocess_tfidf(self.train)\n",
        "    preprocess_tfidf(self.test)\n",
        "    preprocess_tfidf(self.valid)\n",
        "    # # Vectorization\n",
        "    # vectorize_tf_idf(self.train)\n",
        "    # vectorize_tf_idf(self.test)\n",
        "    # vectorize_tf_idf(self.valid)\n",
        "    tf(self.train, self.test, self.valid)\n",
        "tfidf = TF_IDF()"
      ]
    },
    {
      "cell_type": "code",
      "execution_count": null,
      "metadata": {
        "id": "IPZEvRTT5mpH"
      },
      "outputs": [],
      "source": [
        "# import numpy as np\n",
        "# import pandas as pd\n",
        "# from sklearn.feature_extraction.text import TfidfVectorizer\n",
        "# from keras.preprocessing.text import Tokenizer\n",
        "# from keras.preprocessing.sequence import pad_sequences\n",
        "# from keras.models import Sequential\n",
        "# from keras.layers import Dense, Dropout, Activation, Embedding, Conv1D, GlobalMaxPooling1D\n",
        "\n",
        "# # Load data\n",
        "# df = pd.read_csv(\"ner_data.csv\", encoding=\"ISO-8859-1\", error_bad_lines=False)\n",
        "# df = df.fillna(method=\"ffill\")\n",
        "# sentences = df.groupby(\"Sentence #\")[\"Word\"].apply(list).values\n",
        "# tags = df.groupby(\"Sentence #\")[\"Tag\"].apply(list).values\n",
        "\n",
        "# # Perform TF-IDF\n",
        "# vectorizer = TfidfVectorizer(ngram_range=(1,2))\n",
        "# X_tfidf = vectorizer.fit_transform([\" \".join(sent) for sent in sentences])\n",
        "# tfidf_vocab = vectorizer.vocabulary_\n",
        "# tfidf_vocab_inv = {v:k for k,v in tfidf_vocab.items()}\n",
        "# tfidf_weights = np.asarray(X_tfidf.mean(axis=0)).ravel()\n",
        "\n",
        "# # Tokenize words\n",
        "# MAX_NB_WORDS = 20000\n",
        "# MAX_SEQ_LENGTH = 100\n",
        "# tokenizer = Tokenizer(num_words=MAX_NB_WORDS)\n",
        "# tokenizer.fit_on_texts(sentences)\n",
        "# word_index = tokenizer.word_index\n",
        "\n",
        "# # Convert words to sequences\n",
        "# X = tokenizer.texts_to_sequences(sentences)\n",
        "# X = pad_sequences(X, maxlen=MAX_SEQ_LENGTH)\n",
        "\n",
        "# # Convert tags to sequences\n",
        "# tags_index = {\"O\": 0, \"B-LOC\": 1, \"I-LOC\": 2, \"B-PER\": 3, \"I-PER\": 4, \"B-ORG\": 5, \"I-ORG\": 6}\n",
        "# y = [[tags_index[tag] for tag in sent] for sent in tags]\n",
        "# y = pad_sequences(y, maxlen=MAX_SEQ_LENGTH)\n",
        "\n",
        "# # Split data into train and test sets\n",
        "# VALIDATION_SPLIT = 0.2\n",
        "# nb_validation_samples = int(VALIDATION_SPLIT * len(X))\n",
        "# X_train = X[:-nb_validation_samples]\n",
        "# y_train = y[:-nb_validation_samples]\n",
        "# X_test = X[-nb_validation_samples:]\n",
        "# y_test = y[-nb_validation_samples:]\n",
        "\n",
        "# # Define CNN model\n",
        "# model = Sequential()\n",
        "# model.add(Embedding(MAX_NB_WORDS, Data.VOCAB_SIZE, input_length=MAX_SEQ_LENGTH))\n",
        "# model.add(Conv1D(128, 5, activation=\"relu\"))\n",
        "# model.add(GlobalMaxPooling1D())\n",
        "# model.add(Dense(7, activation=\"softmax\"))\n",
        "# model.compile(loss=\"categorical_crossentropy\", optimizer=\"adam\", metrics=[\"accuracy\"])\n",
        "\n",
        "# # Train model\n",
        "# model.fit(X_train, y_train, validation_data=(X_test, y_test), epochs=10, batch_size=128)\n",
        "\n",
        "# # Predict tags for new sentences\n",
        "# def predict_tags(sentences):\n",
        "#     X = tokenizer.texts_to_sequences(sentences)\n",
        "#     X = pad_sequences(X, maxlen=MAX_SEQ_LENGTH)\n",
        "#     y_pred = model.predict(X)\n",
        "#     return [[tfidf_vocab_inv[np.argmax(tfidf_weights * y)] if np.max(tfidf_weights * y) > 0.2 else \"O\" for y in sent] for sent in y_pred]\n",
        "\n",
        "# # Test predictions\n",
        "# sentences_test = [\"John lives in New York City.\", \"Steve Jobs was the founder of Apple.\"]\n",
        "# tags_pred = predict_tags(sentences_test)\n",
        "# print(tags_pred)"
      ]
    }
  ],
  "metadata": {
    "colab": {
      "provenance": [],
      "gpuType": "T4",
      "collapsed_sections": [
        "2NFpti3H7fm0",
        "rVKzq06h5moN",
        "u6IUaT76g8Ja",
        "HwS7GyBk5moe",
        "qOUNEjNd5moi"
      ]
    },
    "gpuClass": "standard",
    "kernelspec": {
      "display_name": "Python 3",
      "language": "python",
      "name": "python3"
    },
    "language_info": {
      "codemirror_mode": {
        "name": "ipython",
        "version": 3
      },
      "file_extension": ".py",
      "mimetype": "text/x-python",
      "name": "python",
      "nbconvert_exporter": "python",
      "pygments_lexer": "ipython3",
      "version": "3.9.13"
    },
    "accelerator": "GPU"
  },
  "nbformat": 4,
  "nbformat_minor": 0
}
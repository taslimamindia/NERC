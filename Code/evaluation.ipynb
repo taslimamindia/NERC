{
 "cells": [
  {
   "cell_type": "code",
   "execution_count": 8,
   "metadata": {},
   "outputs": [
    {
     "name": "stdout",
     "output_type": "stream",
     "text": [
      "The autoreload extension is already loaded. To reload it, use:\n",
      "  %reload_ext autoreload\n"
     ]
    }
   ],
   "source": [
    "%load_ext autoreload\n",
    "%autoreload all\n",
    "from nerc.data import Data\n",
    "from nerc.parameters import Parameter\n",
    "from nerc.evaluation import Evaluation\n",
    "from nerc.functions import deserialization"
   ]
  },
  {
   "cell_type": "code",
   "execution_count": 44,
   "metadata": {},
   "outputs": [],
   "source": [
    "model = deserialization(\"Model/CNN/cnnmodel.pickle\")\n",
    "# param = deserialization(\"Model/CNN/param.pickle\")\n",
    "# model.data.setParams(param)"
   ]
  },
  {
   "cell_type": "code",
   "execution_count": 45,
   "metadata": {},
   "outputs": [],
   "source": [
    "text = \"Diallo Mamadou Taslima is a professor. He is from the university of Limerick in Ireland\"\n",
    "evaluation = Evaluation(model, text)\n",
    "evaluation.preprocess()"
   ]
  },
  {
   "cell_type": "code",
   "execution_count": 46,
   "metadata": {},
   "outputs": [],
   "source": [
    "evaluation.vectorize()"
   ]
  },
  {
   "cell_type": "code",
   "execution_count": 48,
   "metadata": {},
   "outputs": [
    {
     "name": "stdout",
     "output_type": "stream",
     "text": [
      "1/1 [==============================] - 0s 64ms/step\n"
     ]
    }
   ],
   "source": [
    "y_predict = evaluation.predict()"
   ]
  },
  {
   "cell_type": "code",
   "execution_count": 59,
   "metadata": {},
   "outputs": [],
   "source": [
    "from numpy import argmax\n",
    "\n"
   ]
  },
  {
   "cell_type": "code",
   "execution_count": 60,
   "metadata": {},
   "outputs": [
    {
     "data": {
      "text/plain": [
       "[[['Diallo', 'O'],\n",
       "  ['Mamadou', 'O'],\n",
       "  ['Taslima', 'O'],\n",
       "  'is',\n",
       "  'a',\n",
       "  ['professor', 'O'],\n",
       "  '.'],\n",
       " [['He', 'O'],\n",
       "  'is',\n",
       "  'from',\n",
       "  'the',\n",
       "  ['university', 'O'],\n",
       "  'of',\n",
       "  ['Limerick', 'B-MISC'],\n",
       "  'in',\n",
       "  ['Ireland', 'O']]]"
      ]
     },
     "execution_count": 60,
     "metadata": {},
     "output_type": "execute_result"
    }
   ],
   "source": [
    "text"
   ]
  }
 ],
 "metadata": {
  "kernelspec": {
   "display_name": "venv",
   "language": "python",
   "name": "python3"
  },
  "language_info": {
   "codemirror_mode": {
    "name": "ipython",
    "version": 3
   },
   "file_extension": ".py",
   "mimetype": "text/x-python",
   "name": "python",
   "nbconvert_exporter": "python",
   "pygments_lexer": "ipython3",
   "version": "3.9.13"
  },
  "orig_nbformat": 4
 },
 "nbformat": 4,
 "nbformat_minor": 2
}

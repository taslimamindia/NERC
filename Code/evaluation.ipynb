{
 "cells": [
  {
   "cell_type": "code",
   "execution_count": 1,
   "metadata": {},
   "outputs": [],
   "source": [
    "%load_ext autoreload\n",
    "%autoreload all\n",
    "from nerc.data import Data\n",
    "from nerc.parameters import Parameter\n",
    "from nerc.evaluation import Evaluation\n",
    "from nerc.functions import load_model"
   ]
  },
  {
   "cell_type": "code",
   "execution_count": 3,
   "metadata": {},
   "outputs": [],
   "source": [
    "import tensorflow as tf"
   ]
  },
  {
   "cell_type": "code",
   "execution_count": 5,
   "metadata": {},
   "outputs": [],
   "source": [
    "model1 = tf.keras.models.load_model(\"Model/model_keras.keras\")\n",
    "model2 = tf.keras.models.load_model(\"Model/model_h5.h5\")"
   ]
  },
  {
   "cell_type": "code",
   "execution_count": 6,
   "metadata": {},
   "outputs": [],
   "source": [
    "model = load_model(\"Model/CNN/\", \"model_withoutValidSet_word2vec\")"
   ]
  },
  {
   "cell_type": "code",
   "execution_count": 7,
   "metadata": {},
   "outputs": [],
   "source": [
    "text = \"Diallo Mamadou Taslima is a professor. He is from the university of Limerick in Ireland\"\n",
    "evaluation = Evaluation(model, text)\n",
    "evaluation.preprocess()"
   ]
  },
  {
   "cell_type": "code",
   "execution_count": 8,
   "metadata": {},
   "outputs": [],
   "source": [
    "evaluation.vectorize()"
   ]
  },
  {
   "cell_type": "code",
   "execution_count": 10,
   "metadata": {},
   "outputs": [
    {
     "name": "stdout",
     "output_type": "stream",
     "text": [
      "1/1 [==============================] - 0s 175ms/step\n"
     ]
    },
    {
     "data": {
      "text/plain": [
       "array([[8.1137434e-02, 1.2884709e-02, 6.6065989e-02, 1.4576975e-02,\n",
       "        2.9473312e-02, 5.7761870e-02, 7.4245885e-02, 6.4364302e-01,\n",
       "        3.9399460e-02],\n",
       "       [7.2356120e-02, 1.8051641e-02, 1.0606018e-01, 1.7424311e-02,\n",
       "        3.2512274e-02, 7.6609649e-02, 8.6568736e-02, 6.3570952e-01,\n",
       "        4.2843543e-02],\n",
       "       [1.1589580e-01, 1.8009812e-02, 7.6030381e-02, 1.6273323e-02,\n",
       "        2.4843659e-02, 5.2415755e-02, 6.6721834e-02, 6.3722211e-01,\n",
       "        5.4480910e-02],\n",
       "       [1.2759298e-01, 2.0231441e-02, 5.2096330e-02, 1.7376902e-02,\n",
       "        2.4127847e-02, 3.8990442e-02, 5.1735401e-02, 7.1148962e-01,\n",
       "        5.5098359e-02],\n",
       "       [3.5573584e-03, 8.5947732e-04, 2.8970204e-03, 7.0859893e-04,\n",
       "        3.9052668e-03, 1.3068109e-03, 2.2176870e-03, 9.7595328e-01,\n",
       "        1.4915499e-03],\n",
       "       [6.7797466e-04, 5.6182325e-04, 2.5010452e-02, 2.0177939e-03,\n",
       "        4.3577522e-02, 1.3649689e-02, 1.9440170e-02, 8.9654428e-01,\n",
       "        8.9365127e-04],\n",
       "       [3.0357938e-03, 7.0972187e-03, 4.8863620e-02, 8.3569130e-03,\n",
       "        7.0952751e-02, 3.3309493e-02, 1.1995426e-02, 7.9421031e-01,\n",
       "        1.3236934e-02],\n",
       "       [4.3313312e-03, 3.4824986e-02, 2.6082310e-01, 5.0581165e-02,\n",
       "        9.1092184e-02, 4.3775607e-02, 2.7526436e-02, 4.2465585e-01,\n",
       "        6.9153711e-02]], dtype=float32)"
      ]
     },
     "execution_count": 10,
     "metadata": {},
     "output_type": "execute_result"
    }
   ],
   "source": []
  },
  {
   "cell_type": "code",
   "execution_count": 18,
   "metadata": {},
   "outputs": [
    {
     "name": "stdout",
     "output_type": "stream",
     "text": [
      "1/1 [==============================] - 0s 277ms/step\n"
     ]
    }
   ],
   "source": [
    "y_predict = evaluation.predict()"
   ]
  },
  {
   "cell_type": "code",
   "execution_count": 19,
   "metadata": {},
   "outputs": [
    {
     "data": {
      "text/plain": [
       "{'train_loss': 0.1267,\n",
       " 'train_accuracy': 0.7996,\n",
       " 'test_loss': 0.1169,\n",
       " 'test_accuracy': 0.8158,\n",
       " 'details_metric': {'Entities': {'Correct': {'numbers': 3858,\n",
       "    'pourcent': 0.695},\n",
       "   'Incorrect': {'numbers': 1692, 'pourcent': 0.305}},\n",
       "  'No Entities': {'Correct': {'numbers': 27252, 'pourcent': 0.836},\n",
       "   'Incorrect': {'numbers': 5334, 'pourcent': 0.164}}}}"
      ]
     },
     "execution_count": 19,
     "metadata": {},
     "output_type": "execute_result"
    }
   ],
   "source": [
    "model.metrics"
   ]
  }
 ],
 "metadata": {
  "kernelspec": {
   "display_name": "venv",
   "language": "python",
   "name": "python3"
  },
  "language_info": {
   "codemirror_mode": {
    "name": "ipython",
    "version": 3
   },
   "file_extension": ".py",
   "mimetype": "text/x-python",
   "name": "python",
   "nbconvert_exporter": "python",
   "pygments_lexer": "ipython3",
   "version": "3.9.13"
  },
  "orig_nbformat": 4
 },
 "nbformat": 4,
 "nbformat_minor": 2
}

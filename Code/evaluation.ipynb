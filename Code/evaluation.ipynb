{
 "cells": [
  {
   "cell_type": "code",
   "execution_count": 11,
   "metadata": {},
   "outputs": [
    {
     "name": "stdout",
     "output_type": "stream",
     "text": [
      "The autoreload extension is already loaded. To reload it, use:\n",
      "  %reload_ext autoreload\n"
     ]
    }
   ],
   "source": [
    "%load_ext autoreload\n",
    "%autoreload all\n",
    "from nerc.data import Data\n",
    "from nerc.parameters import Parameter\n",
    "from nerc.evaluation import Evaluation\n",
    "from nerc.functions import load_model"
   ]
  },
  {
   "cell_type": "code",
   "execution_count": 12,
   "metadata": {},
   "outputs": [],
   "source": [
    "import tensorflow as tf"
   ]
  },
  {
   "cell_type": "code",
   "execution_count": 13,
   "metadata": {},
   "outputs": [],
   "source": [
    "model = load_model(\"Model/CNN/\", \"model_withoutValidSet_word2vec\")"
   ]
  },
  {
   "cell_type": "code",
   "execution_count": 14,
   "metadata": {},
   "outputs": [],
   "source": [
    "text = \"Diallo Mamadou Taslima is a professor. He is from the university of Limerick in Ireland\"\n",
    "# text = \"The University of Limerick (UL) (Irish: Ollscoil Luimnigh) is a public research university institution in Limerick, Ireland. Founded in 1972 as the National Institute for Higher Education, Limerick, it became a university in 1989 in accordance with the University of Limerick Act 1989.[2] It was the first university established since Irish independence in 1922, followed by the establishment of Dublin City University later the same day. UL's campus lies along both sides of the River Shannon, on a 137.5-hectare (340-acre) site with 46 hectares (110 acres) on the north bank and 91.5 hectares (226 acres) on the south bank at Plassey, County Limerick, 5 kilometres (3.1 mi) from the city centre. It has over 11,000 full-time undergraduate students,[3] including over 2,400 international students,[4] and 1,500 part-time students. There are over 800 research postgraduates and 1,300 postgraduate students receiving instruction at the university. Its cooperative education programme offers students an up to eight-month work placement as part of their degree; it was Ireland's first such programme.\"\n",
    "evaluation = Evaluation(model, text)\n",
    "evaluation.preprocess()"
   ]
  },
  {
   "cell_type": "code",
   "execution_count": 15,
   "metadata": {},
   "outputs": [],
   "source": [
    "evaluation.vectorize()"
   ]
  },
  {
   "cell_type": "code",
   "execution_count": 4,
   "metadata": {},
   "outputs": [],
   "source": [
    "from nltk.corpus import inaugural\n",
    "text = inaugural.raw('1789-Washington.txt')\n",
    "with open(\"1789-Washington.txt\", mode=\"w+\") as file:\n",
    "    file.write(text)"
   ]
  },
  {
   "cell_type": "code",
   "execution_count": 16,
   "metadata": {},
   "outputs": [
    {
     "name": "stdout",
     "output_type": "stream",
     "text": [
      "1/1 [==============================] - 0s 327ms/step\n"
     ]
    }
   ],
   "source": [
    "y_predict = evaluation.predict()"
   ]
  },
  {
   "cell_type": "code",
   "execution_count": 18,
   "metadata": {},
   "outputs": [
    {
     "data": {
      "text/plain": [
       "[['Diallo', 'O'],\n",
       " ['Mamadou', 'O'],\n",
       " ['Taslima', 'O'],\n",
       " ['professor', 'O'],\n",
       " ['He', 'O'],\n",
       " ['university', 'O'],\n",
       " ['Limerick', 'O'],\n",
       " ['Ireland', 'O']]"
      ]
     },
     "execution_count": 18,
     "metadata": {},
     "output_type": "execute_result"
    }
   ],
   "source": [
    "y_predict"
   ]
  },
  {
   "cell_type": "code",
   "execution_count": null,
   "metadata": {},
   "outputs": [],
   "source": [
    "import numpy as np\n",
    "x = np.load(\"Model/x_test.npy\")\n",
    "y = np.load(\"Model/y_test.npy\")"
   ]
  },
  {
   "cell_type": "code",
   "execution_count": null,
   "metadata": {},
   "outputs": [],
   "source": [
    "model.data.unique_ner_tags"
   ]
  },
  {
   "cell_type": "code",
   "execution_count": null,
   "metadata": {},
   "outputs": [],
   "source": [
    "y_prect = model.model.predict(x)\n",
    "from nerc.functions import evaluation\n",
    "evaluation(y, y_prect, model.data.unique_ner_tags.get(\"O\"))"
   ]
  }
 ],
 "metadata": {
  "kernelspec": {
   "display_name": "venv",
   "language": "python",
   "name": "python3"
  },
  "language_info": {
   "codemirror_mode": {
    "name": "ipython",
    "version": 3
   },
   "file_extension": ".py",
   "mimetype": "text/x-python",
   "name": "python",
   "nbconvert_exporter": "python",
   "pygments_lexer": "ipython3",
   "version": "3.9.13"
  },
  "orig_nbformat": 4
 },
 "nbformat": 4,
 "nbformat_minor": 2
}

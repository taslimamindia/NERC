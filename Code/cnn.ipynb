{
  "cells": [
    {
      "attachments": {},
      "cell_type": "markdown",
      "metadata": {
        "id": "mGBSigXWN6l3"
      },
      "source": [
        "## Google Colab"
      ]
    },
    {
      "cell_type": "code",
      "execution_count": null,
      "metadata": {
        "colab": {
          "base_uri": "https://localhost:8080/"
        },
        "id": "8pcYsqvwNtpo",
        "outputId": "239fbe7c-0354-4d02-8fe2-8b23e9b8ed73"
      },
      "outputs": [],
      "source": [
        "# !git clone https://github.com/taslimamindia/NERC.git"
      ]
    },
    {
      "cell_type": "code",
      "execution_count": null,
      "metadata": {
        "colab": {
          "base_uri": "https://localhost:8080/"
        },
        "id": "GwMxQiR4G0q_",
        "outputId": "07559a19-54be-4e24-d9de-2fbfe1155ae3"
      },
      "outputs": [],
      "source": [
        "# from nltk import download\n",
        "# download('wordnet')\n",
        "# download('stopwords')\n",
        "# download('conll2000')"
      ]
    },
    {
      "attachments": {},
      "cell_type": "markdown",
      "metadata": {},
      "source": [
        "## Import"
      ]
    },
    {
      "cell_type": "code",
      "execution_count": 3,
      "metadata": {
        "id": "6MIc585gGcFH"
      },
      "outputs": [],
      "source": [
        "%load_ext autoreload\n",
        "%autoreload all\n",
        "from nerc.data import Data\n",
        "from nerc.loading import Loading\n",
        "from nerc.word2vec import Model_Word2Vec\n",
        "from nerc.cnn import Model_CNN\n",
        "from nerc.functions import checkDataset, save_model\n",
        "import os"
      ]
    },
    {
      "cell_type": "code",
      "execution_count": 4,
      "metadata": {
        "id": "CWs_O1IyF829"
      },
      "outputs": [],
      "source": [
        "if os.path.exists(\"/content/NERC/Data/conll2003_english/\"): \n",
        "    path = \"/content/NERC/Data/conll2003_english/\"\n",
        "    epochs = 50\n",
        "else: \n",
        "    path = \"E:/PFE/CoNLL2003/NERC/Data/conll2003_english/\"\n",
        "    epochs = 2\n",
        "data = Data(VOCAB_SIZE=300, PADDING_SIZE=10, EPOCHS=epochs)\n",
        "Loading(data, path, names=[\"train.txt\", \"test.txt\", \"valid.txt\"])\n",
        "train, test, valid = Data(), Data(), Data()\n",
        "data.unicity()"
      ]
    },
    {
      "attachments": {},
      "cell_type": "markdown",
      "metadata": {},
      "source": [
        "#### Parametrage"
      ]
    },
    {
      "cell_type": "code",
      "execution_count": 5,
      "metadata": {
        "id": "IHERdP8RF83A"
      },
      "outputs": [],
      "source": [
        "w2v = Model_Word2Vec(data.sentences, data.VOCAB_SIZE)"
      ]
    },
    {
      "cell_type": "markdown",
      "metadata": {
        "id": "YlqXhO_dMO1O"
      },
      "source": [
        "## CNN\n"
      ]
    },
    {
      "cell_type": "code",
      "execution_count": 6,
      "metadata": {
        "id": "MqsD-lt6F83B"
      },
      "outputs": [],
      "source": [
        "model = Model_CNN(data, w2v, train=train, test=test, valid=valid)\n",
        "model.preprocessing()\n",
        "model.vectorization()"
      ]
    },
    {
      "attachments": {},
      "cell_type": "markdown",
      "metadata": {},
      "source": [
        "### Model without validSet"
      ]
    },
    {
      "cell_type": "code",
      "execution_count": 7,
      "metadata": {
        "colab": {
          "base_uri": "https://localhost:8080/"
        },
        "id": "M4MkfphfF83B",
        "outputId": "f070b266-7194-4871-f34f-9fc1223ace27"
      },
      "outputs": [
        {
          "name": "stdout",
          "output_type": "stream",
          "text": [
            "X_train (152542, 10, 300) Features_train (152542, 7) y_train (152542, 9) \n",
            "\n",
            "X_test (38136, 10, 300) Features_test (38136, 7) y_test (38136, 9) \n",
            "\n"
          ]
        }
      ],
      "source": [
        "model.train_test_split()\n",
        "checkDataset(train=model.train, test=model.test)"
      ]
    },
    {
      "attachments": {},
      "cell_type": "markdown",
      "metadata": {},
      "source": [
        "#### Architecture Word2Vec"
      ]
    },
    {
      "attachments": {},
      "cell_type": "markdown",
      "metadata": {},
      "source": [
        "#### Training"
      ]
    },
    {
      "cell_type": "code",
      "execution_count": 8,
      "metadata": {},
      "outputs": [
        {
          "name": "stdout",
          "output_type": "stream",
          "text": [
            "Model: \"model\"\n",
            "_________________________________________________________________\n",
            " Layer (type)                Output Shape              Param #   \n",
            "=================================================================\n",
            " input_1 (InputLayer)        [(None, 10, 300)]         0         \n",
            "                                                                 \n",
            " conv1d (Conv1D)             (None, 10, 64)            57664     \n",
            "                                                                 \n",
            " dropout (Dropout)           (None, 10, 64)            0         \n",
            "                                                                 \n",
            " conv1d_1 (Conv1D)           (None, 10, 32)            6176      \n",
            "                                                                 \n",
            " dropout_1 (Dropout)         (None, 10, 32)            0         \n",
            "                                                                 \n",
            " flatten (Flatten)           (None, 320)               0         \n",
            "                                                                 \n",
            " dense (Dense)               (None, 128)               41088     \n",
            "                                                                 \n",
            " dense_1 (Dense)             (None, 64)                8256      \n",
            "                                                                 \n",
            " dense_2 (Dense)             (None, 32)                2080      \n",
            "                                                                 \n",
            " dense_3 (Dense)             (None, 9)                 297       \n",
            "                                                                 \n",
            "=================================================================\n",
            "Total params: 115,561\n",
            "Trainable params: 115,561\n",
            "Non-trainable params: 0\n",
            "_________________________________________________________________\n"
          ]
        }
      ],
      "source": [
        "model.architecture_word2vec()\n",
        "model.summary()"
      ]
    },
    {
      "cell_type": "code",
      "execution_count": 9,
      "metadata": {},
      "outputs": [
        {
          "name": "stdout",
          "output_type": "stream",
          "text": [
            "Epoch 1/2\n",
            "4767/4767 [==============================] - 108s 20ms/step - loss: 0.1467 - accuracy: 0.7754\n",
            "Epoch 2/2\n",
            "4767/4767 [==============================] - 94s 20ms/step - loss: 0.1271 - accuracy: 0.7984\n"
          ]
        }
      ],
      "source": [
        "model.training(model.train.x, model.train.y)"
      ]
    },
    {
      "cell_type": "code",
      "execution_count": 10,
      "metadata": {},
      "outputs": [
        {
          "name": "stdout",
          "output_type": "stream",
          "text": [
            "1192/1192 [==============================] - 8s 6ms/step - loss: 0.1166 - accuracy: 0.8162\n"
          ]
        }
      ],
      "source": [
        "model.testing(model.test.x, model.test.y)"
      ]
    },
    {
      "cell_type": "code",
      "execution_count": 11,
      "metadata": {},
      "outputs": [
        {
          "name": "stdout",
          "output_type": "stream",
          "text": [
            "1192/1192 [==============================] - 6s 5ms/step\n",
            "----------------------- Evaluation -------------------------\n",
            " Entities: \n",
            "\t[correct=(3715, 0.696%), incorrect=(1622, 0.304%)]\n",
            " No Entities: \n",
            "\t[correct=(27412, 0.836%), incorrect=(5387, 0.164%)]\n"
          ]
        }
      ],
      "source": [
        "model.predicting(model.test.x, model.test.y)"
      ]
    },
    {
      "attachments": {},
      "cell_type": "markdown",
      "metadata": {},
      "source": [
        "#### Save model"
      ]
    },
    {
      "cell_type": "code",
      "execution_count": 12,
      "metadata": {},
      "outputs": [],
      "source": [
        "cmodel = Model_CNN(None, None)\n",
        "save_model(cmodel=cmodel, model=model, status=1, dir=\"CNN\", name=\"model_withoutValidSet_word2vec\")"
      ]
    },
    {
      "cell_type": "markdown",
      "metadata": {},
      "source": [
        "#### Architecture Word2Vec and Features"
      ]
    },
    {
      "attachments": {},
      "cell_type": "markdown",
      "metadata": {},
      "source": [
        "#### Training"
      ]
    },
    {
      "cell_type": "code",
      "execution_count": 13,
      "metadata": {},
      "outputs": [
        {
          "name": "stdout",
          "output_type": "stream",
          "text": [
            "Model: \"model_3\"\n",
            "__________________________________________________________________________________________________\n",
            " Layer (type)                   Output Shape         Param #     Connected to                     \n",
            "==================================================================================================\n",
            " input_1 (InputLayer)           [(None, 10, 300)]    0           []                               \n",
            "                                                                                                  \n",
            " conv1d_2 (Conv1D)              (None, 10, 64)       57664       ['input_1[0][0]']                \n",
            "                                                                                                  \n",
            " dropout_2 (Dropout)            (None, 10, 64)       0           ['conv1d_2[0][0]']               \n",
            "                                                                                                  \n",
            " conv1d_3 (Conv1D)              (None, 10, 32)       6176        ['dropout_2[0][0]']              \n",
            "                                                                                                  \n",
            " dropout_3 (Dropout)            (None, 10, 32)       0           ['conv1d_3[0][0]']               \n",
            "                                                                                                  \n",
            " flatten_1 (Flatten)            (None, 320)          0           ['dropout_3[0][0]']              \n",
            "                                                                                                  \n",
            " dense_4 (Dense)                (None, 128)          41088       ['flatten_1[0][0]']              \n",
            "                                                                                                  \n",
            " dense_5 (Dense)                (None, 64)           8256        ['dense_4[0][0]']                \n",
            "                                                                                                  \n",
            " dense_6 (Dense)                (None, 32)           2080        ['dense_5[0][0]']                \n",
            "                                                                                                  \n",
            " input_2 (InputLayer)           [(None, 7)]          0           []                               \n",
            "                                                                                                  \n",
            " dense_7 (Dense)                (None, 9)            297         ['dense_6[0][0]']                \n",
            "                                                                                                  \n",
            " dense_8 (Dense)                (None, 7)            56          ['input_2[0][0]']                \n",
            "                                                                                                  \n",
            " concatenate (Concatenate)      (None, 16)           0           ['dense_7[0][0]',                \n",
            "                                                                  'dense_8[0][0]']                \n",
            "                                                                                                  \n",
            " dense_9 (Dense)                (None, 16)           272         ['concatenate[0][0]']            \n",
            "                                                                                                  \n",
            " dense_10 (Dense)               (None, 9)            153         ['dense_9[0][0]']                \n",
            "                                                                                                  \n",
            "==================================================================================================\n",
            "Total params: 116,042\n",
            "Trainable params: 116,042\n",
            "Non-trainable params: 0\n",
            "__________________________________________________________________________________________________\n"
          ]
        }
      ],
      "source": [
        "model.architecture_word2vec_features()\n",
        "model.summary()"
      ]
    },
    {
      "cell_type": "code",
      "execution_count": 14,
      "metadata": {},
      "outputs": [
        {
          "name": "stdout",
          "output_type": "stream",
          "text": [
            "Epoch 1/2\n",
            "4767/4767 [==============================] - 55s 11ms/step - loss: 0.1072 - accuracy: 0.8014\n",
            "Epoch 2/2\n",
            "4767/4767 [==============================] - 53s 11ms/step - loss: 0.0797 - accuracy: 0.8494\n"
          ]
        }
      ],
      "source": [
        "model.training([model.train.x, model.train.features], model.train.y)"
      ]
    },
    {
      "cell_type": "code",
      "execution_count": 15,
      "metadata": {},
      "outputs": [
        {
          "name": "stdout",
          "output_type": "stream",
          "text": [
            "1192/1192 [==============================] - 8s 6ms/step - loss: 0.0727 - accuracy: 0.8661\n"
          ]
        }
      ],
      "source": [
        "model.testing([model.test.x, model.test.features], model.test.y)"
      ]
    },
    {
      "cell_type": "code",
      "execution_count": 16,
      "metadata": {},
      "outputs": [
        {
          "name": "stdout",
          "output_type": "stream",
          "text": [
            "1192/1192 [==============================] - 5s 4ms/step\n",
            "----------------------- Evaluation -------------------------\n",
            " Entities: \n",
            "\t[correct=(5577, 0.615%), incorrect=(3490, 0.385%)]\n",
            " No Entities: \n",
            "\t[correct=(27451, 0.944%), incorrect=(1618, 0.056%)]\n"
          ]
        }
      ],
      "source": [
        "model.predicting([model.test.x, model.test.features], model.test.y)"
      ]
    },
    {
      "attachments": {},
      "cell_type": "markdown",
      "metadata": {},
      "source": [
        "#### Save model"
      ]
    },
    {
      "cell_type": "code",
      "execution_count": 17,
      "metadata": {},
      "outputs": [],
      "source": [
        "cmodel = Model_CNN(None, None)\n",
        "save_model(cmodel=cmodel, model=model, status=2, dir=\"CNN\", name=\"model_withoutValidSet_word2vec_features\")"
      ]
    },
    {
      "attachments": {},
      "cell_type": "markdown",
      "metadata": {},
      "source": [
        "### Model with validSet"
      ]
    },
    {
      "cell_type": "code",
      "execution_count": 18,
      "metadata": {},
      "outputs": [
        {
          "name": "stdout",
          "output_type": "stream",
          "text": [
            "X_train (129660, 10, 300) Features_train (129660, 7) y_train (129660, 9) \n",
            "\n",
            "X_test (38136, 10, 300) Features_test (38136, 7) y_test (38136, 9) \n",
            "\n",
            "X_valid (22882, 10, 300) Features_valid (22882, 7) y_valid (22882, 9)\n"
          ]
        }
      ],
      "source": [
        "model.train_test_valid_split()\n",
        "checkDataset(train=model.train, test=model.test, valid=model.valid)"
      ]
    },
    {
      "attachments": {},
      "cell_type": "markdown",
      "metadata": {},
      "source": [
        "#### Architecture Word2Vec"
      ]
    },
    {
      "attachments": {},
      "cell_type": "markdown",
      "metadata": {},
      "source": [
        "#### Training"
      ]
    },
    {
      "cell_type": "code",
      "execution_count": 19,
      "metadata": {},
      "outputs": [
        {
          "name": "stdout",
          "output_type": "stream",
          "text": [
            "Model: \"model_4\"\n",
            "_________________________________________________________________\n",
            " Layer (type)                Output Shape              Param #   \n",
            "=================================================================\n",
            " input_1 (InputLayer)        [(None, 10, 300)]         0         \n",
            "                                                                 \n",
            " conv1d_4 (Conv1D)           (None, 10, 64)            57664     \n",
            "                                                                 \n",
            " dropout_4 (Dropout)         (None, 10, 64)            0         \n",
            "                                                                 \n",
            " conv1d_5 (Conv1D)           (None, 10, 32)            6176      \n",
            "                                                                 \n",
            " dropout_5 (Dropout)         (None, 10, 32)            0         \n",
            "                                                                 \n",
            " flatten_2 (Flatten)         (None, 320)               0         \n",
            "                                                                 \n",
            " dense_11 (Dense)            (None, 128)               41088     \n",
            "                                                                 \n",
            " dense_12 (Dense)            (None, 64)                8256      \n",
            "                                                                 \n",
            " dense_13 (Dense)            (None, 32)                2080      \n",
            "                                                                 \n",
            " dense_14 (Dense)            (None, 9)                 297       \n",
            "                                                                 \n",
            "=================================================================\n",
            "Total params: 115,561\n",
            "Trainable params: 115,561\n",
            "Non-trainable params: 0\n",
            "_________________________________________________________________\n"
          ]
        }
      ],
      "source": [
        "model.architecture_word2vec()\n",
        "model.summary()"
      ]
    },
    {
      "cell_type": "code",
      "execution_count": 20,
      "metadata": {},
      "outputs": [
        {
          "name": "stdout",
          "output_type": "stream",
          "text": [
            "Epoch 1/2\n",
            "4052/4052 [==============================] - 45s 10ms/step - loss: 0.1484 - accuracy: 0.7753 - val_loss: 0.1285 - val_accuracy: 0.7993\n",
            "Epoch 2/2\n",
            "4052/4052 [==============================] - 42s 10ms/step - loss: 0.1295 - accuracy: 0.7960 - val_loss: 0.1193 - val_accuracy: 0.8124\n"
          ]
        }
      ],
      "source": [
        "model.training_valid(model.train.x, model.train.y, model.valid.x, model.valid.y)"
      ]
    },
    {
      "cell_type": "code",
      "execution_count": 21,
      "metadata": {},
      "outputs": [
        {
          "name": "stdout",
          "output_type": "stream",
          "text": [
            "1192/1192 [==============================] - 5s 4ms/step - loss: 0.1202 - accuracy: 0.8092\n"
          ]
        }
      ],
      "source": [
        "model.testing(model.test.x, model.test.y)"
      ]
    },
    {
      "cell_type": "code",
      "execution_count": 22,
      "metadata": {},
      "outputs": [
        {
          "name": "stdout",
          "output_type": "stream",
          "text": [
            "1192/1192 [==============================] - 5s 4ms/step\n",
            "----------------------- Evaluation -------------------------\n",
            " Entities: \n",
            "\t[correct=(3415, 0.751%), incorrect=(1132, 0.249%)]\n",
            " No Entities: \n",
            "\t[correct=(27443, 0.817%), incorrect=(6146, 0.183%)]\n"
          ]
        }
      ],
      "source": [
        "model.predicting(model.test.x, model.test.y)"
      ]
    },
    {
      "attachments": {},
      "cell_type": "markdown",
      "metadata": {},
      "source": [
        "#### Save model"
      ]
    },
    {
      "cell_type": "code",
      "execution_count": 24,
      "metadata": {},
      "outputs": [],
      "source": [
        "cmodel = Model_CNN(None, None)\n",
        "save_model(cmodel=cmodel, model=model, status=1, dir=\"CNN\", name=\"model_withValidSet_word2vec\")"
      ]
    },
    {
      "attachments": {},
      "cell_type": "markdown",
      "metadata": {},
      "source": [
        "#### Architecture Word2Vec and Features"
      ]
    },
    {
      "attachments": {},
      "cell_type": "markdown",
      "metadata": {},
      "source": [
        "#### Training"
      ]
    },
    {
      "cell_type": "code",
      "execution_count": 25,
      "metadata": {
        "id": "EvfSLxmcF83D"
      },
      "outputs": [
        {
          "name": "stdout",
          "output_type": "stream",
          "text": [
            "Model: \"model_7\"\n",
            "__________________________________________________________________________________________________\n",
            " Layer (type)                   Output Shape         Param #     Connected to                     \n",
            "==================================================================================================\n",
            " input_1 (InputLayer)           [(None, 10, 300)]    0           []                               \n",
            "                                                                                                  \n",
            " conv1d_6 (Conv1D)              (None, 10, 64)       57664       ['input_1[0][0]']                \n",
            "                                                                                                  \n",
            " dropout_6 (Dropout)            (None, 10, 64)       0           ['conv1d_6[0][0]']               \n",
            "                                                                                                  \n",
            " conv1d_7 (Conv1D)              (None, 10, 32)       6176        ['dropout_6[0][0]']              \n",
            "                                                                                                  \n",
            " dropout_7 (Dropout)            (None, 10, 32)       0           ['conv1d_7[0][0]']               \n",
            "                                                                                                  \n",
            " flatten_3 (Flatten)            (None, 320)          0           ['dropout_7[0][0]']              \n",
            "                                                                                                  \n",
            " dense_15 (Dense)               (None, 128)          41088       ['flatten_3[0][0]']              \n",
            "                                                                                                  \n",
            " dense_16 (Dense)               (None, 64)           8256        ['dense_15[0][0]']               \n",
            "                                                                                                  \n",
            " dense_17 (Dense)               (None, 32)           2080        ['dense_16[0][0]']               \n",
            "                                                                                                  \n",
            " input_2 (InputLayer)           [(None, 7)]          0           []                               \n",
            "                                                                                                  \n",
            " dense_18 (Dense)               (None, 9)            297         ['dense_17[0][0]']               \n",
            "                                                                                                  \n",
            " dense_19 (Dense)               (None, 7)            56          ['input_2[0][0]']                \n",
            "                                                                                                  \n",
            " concatenate_1 (Concatenate)    (None, 16)           0           ['dense_18[0][0]',               \n",
            "                                                                  'dense_19[0][0]']               \n",
            "                                                                                                  \n",
            " dense_20 (Dense)               (None, 16)           272         ['concatenate_1[0][0]']          \n",
            "                                                                                                  \n",
            " dense_21 (Dense)               (None, 9)            153         ['dense_20[0][0]']               \n",
            "                                                                                                  \n",
            "==================================================================================================\n",
            "Total params: 116,042\n",
            "Trainable params: 116,042\n",
            "Non-trainable params: 0\n",
            "__________________________________________________________________________________________________\n"
          ]
        }
      ],
      "source": [
        "model.architecture_word2vec_features()\n",
        "model.summary()"
      ]
    },
    {
      "cell_type": "code",
      "execution_count": 26,
      "metadata": {
        "colab": {
          "base_uri": "https://localhost:8080/"
        },
        "id": "5tn3U7qpF83E",
        "outputId": "9c778809-a740-48a6-f129-4481c0e77473"
      },
      "outputs": [
        {
          "name": "stdout",
          "output_type": "stream",
          "text": [
            "Epoch 1/2\n",
            "4052/4052 [==============================] - 50s 11ms/step - loss: 0.1143 - accuracy: 0.7867 - val_loss: 0.0873 - val_accuracy: 0.8279\n",
            "Epoch 2/2\n",
            "4052/4052 [==============================] - 56s 14ms/step - loss: 0.0836 - accuracy: 0.8419 - val_loss: 0.0766 - val_accuracy: 0.8563\n"
          ]
        }
      ],
      "source": [
        "model.training_valid([model.train.x, model.train.features], model.train.y, [model.valid.x, model.valid.features], model.valid.y)"
      ]
    },
    {
      "cell_type": "code",
      "execution_count": 27,
      "metadata": {},
      "outputs": [
        {
          "name": "stdout",
          "output_type": "stream",
          "text": [
            "1192/1192 [==============================] - 7s 6ms/step - loss: 0.0772 - accuracy: 0.8570\n"
          ]
        }
      ],
      "source": [
        "model.testing([model.test.x, model.test.features], model.test.y)"
      ]
    },
    {
      "cell_type": "code",
      "execution_count": 28,
      "metadata": {
        "colab": {
          "base_uri": "https://localhost:8080/"
        },
        "id": "nrJAdJI_F83F",
        "outputId": "18012a3d-7a6a-4487-e45f-3f878a3dba65"
      },
      "outputs": [
        {
          "name": "stdout",
          "output_type": "stream",
          "text": [
            "1192/1192 [==============================] - 6s 5ms/step\n",
            "----------------------- Evaluation -------------------------\n",
            " Entities: \n",
            "\t[correct=(5555, 0.577%), incorrect=(4071, 0.423%)]\n",
            " No Entities: \n",
            "\t[correct=(27127, 0.951%), incorrect=(1383, 0.049%)]\n"
          ]
        }
      ],
      "source": [
        "model.predicting([model.test.x, model.test.features], model.test.y)"
      ]
    },
    {
      "attachments": {},
      "cell_type": "markdown",
      "metadata": {},
      "source": [
        "#### Save model"
      ]
    },
    {
      "cell_type": "code",
      "execution_count": null,
      "metadata": {},
      "outputs": [],
      "source": [
        "cmodel = Model_CNN(None, None)\n",
        "save_model(cmodel=cmodel, model=model, status=2, dir=\"CNN\", name=\"model_withValidSet_word2vec_features\")"
      ]
    }
  ],
  "metadata": {
    "accelerator": "GPU",
    "colab": {
      "gpuType": "T4",
      "provenance": []
    },
    "kernelspec": {
      "display_name": "Python 3",
      "name": "python3"
    },
    "language_info": {
      "codemirror_mode": {
        "name": "ipython",
        "version": 3
      },
      "file_extension": ".py",
      "mimetype": "text/x-python",
      "name": "python",
      "nbconvert_exporter": "python",
      "pygments_lexer": "ipython3",
      "version": "3.9.13"
    },
    "orig_nbformat": 4
  },
  "nbformat": 4,
  "nbformat_minor": 0
}

{
  "cells": [
    {
      "cell_type": "markdown",
      "metadata": {
        "id": "mGBSigXWN6l3"
      },
      "source": [
        "## Import"
      ]
    },
    {
      "cell_type": "code",
      "execution_count": 1,
      "metadata": {
        "colab": {
          "base_uri": "https://localhost:8080/"
        },
        "id": "8pcYsqvwNtpo",
        "outputId": "239fbe7c-0354-4d02-8fe2-8b23e9b8ed73"
      },
      "outputs": [],
      "source": [
        "# !git clone https://github.com/taslimamindia/NERC.git"
      ]
    },
    {
      "cell_type": "code",
      "execution_count": 2,
      "metadata": {
        "colab": {
          "base_uri": "https://localhost:8080/"
        },
        "id": "GwMxQiR4G0q_",
        "outputId": "07559a19-54be-4e24-d9de-2fbfe1155ae3"
      },
      "outputs": [],
      "source": [
        "# from nltk import download\n",
        "# download('wordnet')\n",
        "# download('stopwords')"
      ]
    },
    {
      "cell_type": "code",
      "execution_count": 3,
      "metadata": {
        "id": "6MIc585gGcFH"
      },
      "outputs": [],
      "source": [
        "from nerc.loading import Loading\n",
        "from nerc.word2vec import Model_Word2Vec\n",
        "from nerc.cnn import Model_CNN\n",
        "from nerc.functions import checkDataset"
      ]
    },
    {
      "cell_type": "code",
      "execution_count": 4,
      "metadata": {
        "id": "CWs_O1IyF829"
      },
      "outputs": [],
      "source": [
        "# path = \"/content/m/Data/conll2003_english/\"\n",
        "path = \"E:/PFE/CoNLL2003/NERC/Data/conll2003_english/\"\n",
        "load_train = Loading(path + \"train.txt\")\n",
        "load_test = Loading(path + \"test.txt\")\n",
        "load_valid = Loading(path + \"valid.txt\")\n",
        "train, test, valid = load_train.data, load_test.data, load_valid.data\n",
        "data = train + test + valid"
      ]
    },
    {
      "cell_type": "code",
      "execution_count": 5,
      "metadata": {},
      "outputs": [],
      "source": [
        "data.VOCAB_SIZE = 300\n",
        "data.PADDING_SIZE = 10\n",
        "data.EPOCHS = 2"
      ]
    },
    {
      "cell_type": "code",
      "execution_count": 6,
      "metadata": {
        "id": "IHERdP8RF83A"
      },
      "outputs": [],
      "source": [
        "w2v = Model_Word2Vec(data.sentences, data.VOCAB_SIZE)"
      ]
    },
    {
      "cell_type": "markdown",
      "metadata": {
        "id": "YlqXhO_dMO1O"
      },
      "source": [
        "## CNN\n"
      ]
    },
    {
      "cell_type": "code",
      "execution_count": 7,
      "metadata": {
        "id": "MqsD-lt6F83B"
      },
      "outputs": [],
      "source": [
        "model = Model_CNN(data, w2v)\n",
        "model.change(max_length=50, vocab_size=300, padding_size=10)\n",
        "model.preprocessing()\n",
        "model.vectorization()"
      ]
    },
    {
      "attachments": {},
      "cell_type": "markdown",
      "metadata": {},
      "source": [
        "### Model without validSet"
      ]
    },
    {
      "cell_type": "code",
      "execution_count": 8,
      "metadata": {
        "colab": {
          "base_uri": "https://localhost:8080/"
        },
        "id": "M4MkfphfF83B",
        "outputId": "f070b266-7194-4871-f34f-9fc1223ace27"
      },
      "outputs": [
        {
          "name": "stdout",
          "output_type": "stream",
          "text": [
            "X_train (152542, 10, 300) Features_train (152542, 7) y_train (152542, 9) \n",
            "\n",
            "X_test (38136, 10, 300) Features_test (38136, 7) y_test (38136, 9) \n",
            "\n"
          ]
        }
      ],
      "source": [
        "model.train_test_split()\n",
        "checkDataset(train=model.train, test=model.test)"
      ]
    },
    {
      "cell_type": "markdown",
      "metadata": {},
      "source": [
        "#### Architecture Word2Vec"
      ]
    },
    {
      "cell_type": "code",
      "execution_count": 9,
      "metadata": {},
      "outputs": [
        {
          "name": "stdout",
          "output_type": "stream",
          "text": [
            "Model: \"model\"\n",
            "_________________________________________________________________\n",
            " Layer (type)                Output Shape              Param #   \n",
            "=================================================================\n",
            " input_1 (InputLayer)        [(None, 10, 300)]         0         \n",
            "                                                                 \n",
            " conv1d (Conv1D)             (None, 10, 64)            57664     \n",
            "                                                                 \n",
            " max_pooling1d (MaxPooling1D  (None, 5, 64)            0         \n",
            " )                                                               \n",
            "                                                                 \n",
            " dropout (Dropout)           (None, 5, 64)             0         \n",
            "                                                                 \n",
            " conv1d_1 (Conv1D)           (None, 5, 32)             6176      \n",
            "                                                                 \n",
            " max_pooling1d_1 (MaxPooling  (None, 3, 32)            0         \n",
            " 1D)                                                             \n",
            "                                                                 \n",
            " dropout_1 (Dropout)         (None, 3, 32)             0         \n",
            "                                                                 \n",
            " flatten (Flatten)           (None, 96)                0         \n",
            "                                                                 \n",
            " dense (Dense)               (None, 64)                6208      \n",
            "                                                                 \n",
            " dense_1 (Dense)             (None, 32)                2080      \n",
            "                                                                 \n",
            " dense_2 (Dense)             (None, 9)                 297       \n",
            "                                                                 \n",
            "=================================================================\n",
            "Total params: 72,425\n",
            "Trainable params: 72,425\n",
            "Non-trainable params: 0\n",
            "_________________________________________________________________\n"
          ]
        }
      ],
      "source": [
        "model.architecture_word2vec()\n",
        "model.summary()"
      ]
    },
    {
      "cell_type": "code",
      "execution_count": 10,
      "metadata": {},
      "outputs": [
        {
          "name": "stdout",
          "output_type": "stream",
          "text": [
            "Epoch 1/2\n",
            "4767/4767 [==============================] - 53s 9ms/step - loss: 0.1619 - accuracy: 0.7580\n",
            "Epoch 2/2\n",
            "4767/4767 [==============================] - 43s 9ms/step - loss: 0.1441 - accuracy: 0.7782\n"
          ]
        }
      ],
      "source": [
        "model.training(model.train.x, model.train.y)"
      ]
    },
    {
      "cell_type": "code",
      "execution_count": 11,
      "metadata": {},
      "outputs": [
        {
          "name": "stdout",
          "output_type": "stream",
          "text": [
            "1192/1192 [==============================] - 5s 4ms/step\n",
            "----------------------- Evaluation -------------------------\n",
            "(38136, 9)\n",
            "34725 38136\n",
            "2538 7702 10240 0.248 0.752\n",
            "\n"
          ]
        }
      ],
      "source": [
        "model.predicting(model.test.x, model.test.y)"
      ]
    },
    {
      "cell_type": "markdown",
      "metadata": {},
      "source": [
        "#### Architecture Word2Vec and Features"
      ]
    },
    {
      "cell_type": "code",
      "execution_count": 12,
      "metadata": {},
      "outputs": [
        {
          "name": "stdout",
          "output_type": "stream",
          "text": [
            "Model: \"model_3\"\n",
            "__________________________________________________________________________________________________\n",
            " Layer (type)                   Output Shape         Param #     Connected to                     \n",
            "==================================================================================================\n",
            " input_1 (InputLayer)           [(None, 10, 300)]    0           []                               \n",
            "                                                                                                  \n",
            " conv1d_2 (Conv1D)              (None, 10, 64)       57664       ['input_1[0][0]']                \n",
            "                                                                                                  \n",
            " max_pooling1d_2 (MaxPooling1D)  (None, 5, 64)       0           ['conv1d_2[0][0]']               \n",
            "                                                                                                  \n",
            " dropout_2 (Dropout)            (None, 5, 64)        0           ['max_pooling1d_2[0][0]']        \n",
            "                                                                                                  \n",
            " conv1d_3 (Conv1D)              (None, 5, 32)        6176        ['dropout_2[0][0]']              \n",
            "                                                                                                  \n",
            " max_pooling1d_3 (MaxPooling1D)  (None, 3, 32)       0           ['conv1d_3[0][0]']               \n",
            "                                                                                                  \n",
            " dropout_3 (Dropout)            (None, 3, 32)        0           ['max_pooling1d_3[0][0]']        \n",
            "                                                                                                  \n",
            " flatten_1 (Flatten)            (None, 96)           0           ['dropout_3[0][0]']              \n",
            "                                                                                                  \n",
            " dense_3 (Dense)                (None, 64)           6208        ['flatten_1[0][0]']              \n",
            "                                                                                                  \n",
            " dense_4 (Dense)                (None, 32)           2080        ['dense_3[0][0]']                \n",
            "                                                                                                  \n",
            " input_2 (InputLayer)           [(None, 7)]          0           []                               \n",
            "                                                                                                  \n",
            " dense_5 (Dense)                (None, 9)            297         ['dense_4[0][0]']                \n",
            "                                                                                                  \n",
            " dense_6 (Dense)                (None, 7)            56          ['input_2[0][0]']                \n",
            "                                                                                                  \n",
            " concatenate (Concatenate)      (None, 16)           0           ['dense_5[0][0]',                \n",
            "                                                                  'dense_6[0][0]']                \n",
            "                                                                                                  \n",
            " dense_7 (Dense)                (None, 16)           272         ['concatenate[0][0]']            \n",
            "                                                                                                  \n",
            " dense_8 (Dense)                (None, 9)            153         ['dense_7[0][0]']                \n",
            "                                                                                                  \n",
            "==================================================================================================\n",
            "Total params: 72,906\n",
            "Trainable params: 72,906\n",
            "Non-trainable params: 0\n",
            "__________________________________________________________________________________________________\n"
          ]
        }
      ],
      "source": [
        "model.architecture_word2vec_features()\n",
        "model.summary()"
      ]
    },
    {
      "cell_type": "code",
      "execution_count": 13,
      "metadata": {},
      "outputs": [
        {
          "name": "stdout",
          "output_type": "stream",
          "text": [
            "Epoch 1/2\n",
            "4767/4767 [==============================] - 50s 10ms/step - loss: 0.1258 - accuracy: 0.7549\n",
            "Epoch 2/2\n",
            "4767/4767 [==============================] - 46s 10ms/step - loss: 0.1071 - accuracy: 0.7859\n"
          ]
        }
      ],
      "source": [
        "model.training([model.train.x, model.train.features], model.train.y)"
      ]
    },
    {
      "cell_type": "code",
      "execution_count": 14,
      "metadata": {},
      "outputs": [
        {
          "name": "stdout",
          "output_type": "stream",
          "text": [
            "1192/1192 [==============================] - 6s 5ms/step\n",
            "----------------------- Evaluation -------------------------\n",
            "(38136, 9)\n",
            "31044 38136\n",
            "2936 7304 10240 0.287 0.713\n",
            "\n"
          ]
        }
      ],
      "source": [
        "model.predicting([model.test.x, model.test.features], model.test.y)"
      ]
    },
    {
      "attachments": {},
      "cell_type": "markdown",
      "metadata": {},
      "source": [
        "### Model with validSet"
      ]
    },
    {
      "cell_type": "code",
      "execution_count": 15,
      "metadata": {},
      "outputs": [
        {
          "name": "stdout",
          "output_type": "stream",
          "text": [
            "X_train (129660, 10, 300) Features_train (129660, 7) y_train (129660, 9) \n",
            "\n",
            "X_test (38136, 10, 300) Features_test (38136, 7) y_test (38136, 9) \n",
            "\n",
            "X_valid (22882, 10, 300) Features_valid (22882, 7) y_valid (22882, 9)\n"
          ]
        }
      ],
      "source": [
        "model.train_test_valid_split()\n",
        "checkDataset(train=model.train, test=model.test, valid=model.valid)"
      ]
    },
    {
      "attachments": {},
      "cell_type": "markdown",
      "metadata": {},
      "source": [
        "#### Architecture Word2Vec"
      ]
    },
    {
      "cell_type": "code",
      "execution_count": 16,
      "metadata": {},
      "outputs": [
        {
          "name": "stdout",
          "output_type": "stream",
          "text": [
            "Model: \"model_4\"\n",
            "_________________________________________________________________\n",
            " Layer (type)                Output Shape              Param #   \n",
            "=================================================================\n",
            " input_1 (InputLayer)        [(None, 10, 300)]         0         \n",
            "                                                                 \n",
            " conv1d_4 (Conv1D)           (None, 10, 64)            57664     \n",
            "                                                                 \n",
            " max_pooling1d_4 (MaxPooling  (None, 5, 64)            0         \n",
            " 1D)                                                             \n",
            "                                                                 \n",
            " dropout_4 (Dropout)         (None, 5, 64)             0         \n",
            "                                                                 \n",
            " conv1d_5 (Conv1D)           (None, 5, 32)             6176      \n",
            "                                                                 \n",
            " max_pooling1d_5 (MaxPooling  (None, 3, 32)            0         \n",
            " 1D)                                                             \n",
            "                                                                 \n",
            " dropout_5 (Dropout)         (None, 3, 32)             0         \n",
            "                                                                 \n",
            " flatten_2 (Flatten)         (None, 96)                0         \n",
            "                                                                 \n",
            " dense_9 (Dense)             (None, 64)                6208      \n",
            "                                                                 \n",
            " dense_10 (Dense)            (None, 32)                2080      \n",
            "                                                                 \n",
            " dense_11 (Dense)            (None, 9)                 297       \n",
            "                                                                 \n",
            "=================================================================\n",
            "Total params: 72,425\n",
            "Trainable params: 72,425\n",
            "Non-trainable params: 0\n",
            "_________________________________________________________________\n"
          ]
        }
      ],
      "source": [
        "model.architecture_word2vec()\n",
        "model.summary()"
      ]
    },
    {
      "cell_type": "code",
      "execution_count": 17,
      "metadata": {},
      "outputs": [
        {
          "name": "stdout",
          "output_type": "stream",
          "text": [
            "Epoch 1/2\n",
            "4052/4052 [==============================] - 44s 10ms/step - loss: 0.1643 - accuracy: 0.7564 - val_loss: 0.1442 - val_accuracy: 0.7783\n",
            "Epoch 2/2\n",
            "4052/4052 [==============================] - 41s 10ms/step - loss: 0.1456 - accuracy: 0.7764 - val_loss: 0.1357 - val_accuracy: 0.7868\n"
          ]
        }
      ],
      "source": [
        "model.training_valid(model.train.x, model.train.y, model.valid.x, model.valid.y)"
      ]
    },
    {
      "cell_type": "code",
      "execution_count": 18,
      "metadata": {},
      "outputs": [
        {
          "name": "stdout",
          "output_type": "stream",
          "text": [
            "1192/1192 [==============================] - 5s 4ms/step\n",
            "----------------------- Evaluation -------------------------\n",
            "(38136, 9)\n",
            "34897 38136\n",
            "2443 7574 10017 0.244 0.756\n",
            "\n"
          ]
        }
      ],
      "source": [
        "model.predicting(model.test.x, model.test.y)"
      ]
    },
    {
      "attachments": {},
      "cell_type": "markdown",
      "metadata": {},
      "source": [
        "#### Architecture Word2Vec and Features"
      ]
    },
    {
      "cell_type": "code",
      "execution_count": 19,
      "metadata": {
        "id": "EvfSLxmcF83D"
      },
      "outputs": [
        {
          "name": "stdout",
          "output_type": "stream",
          "text": [
            "Model: \"model_7\"\n",
            "__________________________________________________________________________________________________\n",
            " Layer (type)                   Output Shape         Param #     Connected to                     \n",
            "==================================================================================================\n",
            " input_1 (InputLayer)           [(None, 10, 300)]    0           []                               \n",
            "                                                                                                  \n",
            " conv1d_6 (Conv1D)              (None, 10, 64)       57664       ['input_1[0][0]']                \n",
            "                                                                                                  \n",
            " max_pooling1d_6 (MaxPooling1D)  (None, 5, 64)       0           ['conv1d_6[0][0]']               \n",
            "                                                                                                  \n",
            " dropout_6 (Dropout)            (None, 5, 64)        0           ['max_pooling1d_6[0][0]']        \n",
            "                                                                                                  \n",
            " conv1d_7 (Conv1D)              (None, 5, 32)        6176        ['dropout_6[0][0]']              \n",
            "                                                                                                  \n",
            " max_pooling1d_7 (MaxPooling1D)  (None, 3, 32)       0           ['conv1d_7[0][0]']               \n",
            "                                                                                                  \n",
            " dropout_7 (Dropout)            (None, 3, 32)        0           ['max_pooling1d_7[0][0]']        \n",
            "                                                                                                  \n",
            " flatten_3 (Flatten)            (None, 96)           0           ['dropout_7[0][0]']              \n",
            "                                                                                                  \n",
            " dense_12 (Dense)               (None, 64)           6208        ['flatten_3[0][0]']              \n",
            "                                                                                                  \n",
            " dense_13 (Dense)               (None, 32)           2080        ['dense_12[0][0]']               \n",
            "                                                                                                  \n",
            " input_2 (InputLayer)           [(None, 7)]          0           []                               \n",
            "                                                                                                  \n",
            " dense_14 (Dense)               (None, 9)            297         ['dense_13[0][0]']               \n",
            "                                                                                                  \n",
            " dense_15 (Dense)               (None, 7)            56          ['input_2[0][0]']                \n",
            "                                                                                                  \n",
            " concatenate_1 (Concatenate)    (None, 16)           0           ['dense_14[0][0]',               \n",
            "                                                                  'dense_15[0][0]']               \n",
            "                                                                                                  \n",
            " dense_16 (Dense)               (None, 16)           272         ['concatenate_1[0][0]']          \n",
            "                                                                                                  \n",
            " dense_17 (Dense)               (None, 9)            153         ['dense_16[0][0]']               \n",
            "                                                                                                  \n",
            "==================================================================================================\n",
            "Total params: 72,906\n",
            "Trainable params: 72,906\n",
            "Non-trainable params: 0\n",
            "__________________________________________________________________________________________________\n"
          ]
        }
      ],
      "source": [
        "model.architecture_word2vec_features()\n",
        "model.summary()"
      ]
    },
    {
      "cell_type": "code",
      "execution_count": 20,
      "metadata": {
        "colab": {
          "base_uri": "https://localhost:8080/"
        },
        "id": "5tn3U7qpF83E",
        "outputId": "9c778809-a740-48a6-f129-4481c0e77473"
      },
      "outputs": [
        {
          "name": "stdout",
          "output_type": "stream",
          "text": [
            "Epoch 1/2\n",
            "4052/4052 [==============================] - 45s 10ms/step - loss: 0.1271 - accuracy: 0.7477 - val_loss: 0.1125 - val_accuracy: 0.7550\n",
            "Epoch 2/2\n",
            "4052/4052 [==============================] - 40s 10ms/step - loss: 0.1102 - accuracy: 0.7602 - val_loss: 0.1102 - val_accuracy: 0.7550\n"
          ]
        }
      ],
      "source": [
        "model.training_valid([model.train.x, model.train.features], model.train.y, [model.valid.x, model.valid.features], model.valid.y)"
      ]
    },
    {
      "cell_type": "code",
      "execution_count": 21,
      "metadata": {
        "colab": {
          "base_uri": "https://localhost:8080/"
        },
        "id": "nrJAdJI_F83F",
        "outputId": "18012a3d-7a6a-4487-e45f-3f878a3dba65"
      },
      "outputs": [
        {
          "name": "stdout",
          "output_type": "stream",
          "text": [
            "1192/1192 [==============================] - 5s 4ms/step\n",
            "----------------------- Evaluation -------------------------\n",
            "(38136, 9)\n",
            "33374 38136\n",
            "1308 8709 10017 0.131 0.869\n",
            "\n"
          ]
        }
      ],
      "source": [
        "model.predicting([model.test.x, model.test.features], model.test.y)"
      ]
    }
  ],
  "metadata": {
    "accelerator": "GPU",
    "colab": {
      "gpuType": "T4",
      "provenance": []
    },
    "kernelspec": {
      "display_name": "Python 3",
      "name": "python3"
    },
    "language_info": {
      "codemirror_mode": {
        "name": "ipython",
        "version": 3
      },
      "file_extension": ".py",
      "mimetype": "text/x-python",
      "name": "python",
      "nbconvert_exporter": "python",
      "pygments_lexer": "ipython3",
      "version": "3.9.13"
    },
    "orig_nbformat": 4
  },
  "nbformat": 4,
  "nbformat_minor": 0
}

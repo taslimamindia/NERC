{
 "cells": [
  {
   "cell_type": "code",
   "execution_count": 1,
   "metadata": {},
   "outputs": [],
   "source": [
    "from nerc.loading import Loading\n",
    "from nerc.word2vec import Model_Word2Vec\n",
    "from nerc.cnn import Model_CNN\n",
    "\n",
    "load_train = Loading(\"E:/PFE/CoNLL2003/NERC/Data/conll2003_english/train.txt\")\n",
    "load_test = Loading(\"E:/PFE/CoNLL2003/NERC/Data/conll2003_english/test.txt\")\n",
    "load_valid = Loading(\"E:/PFE/CoNLL2003/NERC/Data/conll2003_english/valid.txt\")\n",
    "train, test, valid = load_train.data, load_test.data, load_valid.data\n",
    "data = train + test + valid\n",
    "data.VOCAB_SIZE = 300\n",
    "data.PADDING_SIZE = 10"
   ]
  },
  {
   "cell_type": "code",
   "execution_count": 2,
   "metadata": {},
   "outputs": [],
   "source": [
    "w2v = Model_Word2Vec(data.sentences, data.VOCAB_SIZE)"
   ]
  },
  {
   "cell_type": "code",
   "execution_count": 3,
   "metadata": {},
   "outputs": [],
   "source": [
    "cnn = Model_CNN(data, w2v)\n",
    "cnn.change(max_length=50, vocab_size=300, padding_size=10)\n",
    "cnn.preprocessing()\n",
    "cnn.vectorization()\n",
    "cnn.train_test_split()"
   ]
  },
  {
   "cell_type": "code",
   "execution_count": 4,
   "metadata": {},
   "outputs": [
    {
     "name": "stdout",
     "output_type": "stream",
     "text": [
      "(129660, 10, 300) (129660, 9) (129660, 7)\n",
      "(38136, 10, 300) (38136, 9) (38136, 7)\n",
      "(22882, 10, 300) (22882, 9) (22882, 7)\n"
     ]
    }
   ],
   "source": [
    "d = cnn.train\n",
    "print(d.x.shape, d.y.shape, d.features.shape)\n",
    "d = cnn.test\n",
    "print(d.x.shape, d.y.shape, d.features.shape)\n",
    "d = cnn.valid\n",
    "print(d.x.shape, d.y.shape, d.features.shape)"
   ]
  },
  {
   "cell_type": "code",
   "execution_count": 5,
   "metadata": {},
   "outputs": [
    {
     "name": "stdout",
     "output_type": "stream",
     "text": [
      "Model: \"model_2\"\n",
      "__________________________________________________________________________________________________\n",
      " Layer (type)                   Output Shape         Param #     Connected to                     \n",
      "==================================================================================================\n",
      " input_1 (InputLayer)           [(None, 10, 300)]    0           []                               \n",
      "                                                                                                  \n",
      " conv1d (Conv1D)                (None, 10, 64)       57664       ['input_1[0][0]']                \n",
      "                                                                                                  \n",
      " max_pooling1d (MaxPooling1D)   (None, 5, 64)        0           ['conv1d[0][0]']                 \n",
      "                                                                                                  \n",
      " dropout (Dropout)              (None, 5, 64)        0           ['max_pooling1d[0][0]']          \n",
      "                                                                                                  \n",
      " conv1d_1 (Conv1D)              (None, 5, 32)        6176        ['dropout[0][0]']                \n",
      "                                                                                                  \n",
      " max_pooling1d_1 (MaxPooling1D)  (None, 3, 32)       0           ['conv1d_1[0][0]']               \n",
      "                                                                                                  \n",
      " dropout_1 (Dropout)            (None, 3, 32)        0           ['max_pooling1d_1[0][0]']        \n",
      "                                                                                                  \n",
      " flatten (Flatten)              (None, 96)           0           ['dropout_1[0][0]']              \n",
      "                                                                                                  \n",
      " dense (Dense)                  (None, 64)           6208        ['flatten[0][0]']                \n",
      "                                                                                                  \n",
      " dense_1 (Dense)                (None, 32)           2080        ['dense[0][0]']                  \n",
      "                                                                                                  \n",
      " input_2 (InputLayer)           [(None, 7)]          0           []                               \n",
      "                                                                                                  \n",
      " dense_2 (Dense)                (None, 9)            297         ['dense_1[0][0]']                \n",
      "                                                                                                  \n",
      " dense_3 (Dense)                (None, 7)            56          ['input_2[0][0]']                \n",
      "                                                                                                  \n",
      " concatenate (Concatenate)      (None, 16)           0           ['dense_2[0][0]',                \n",
      "                                                                  'dense_3[0][0]']                \n",
      "                                                                                                  \n",
      " dense_4 (Dense)                (None, 16)           272         ['concatenate[0][0]']            \n",
      "                                                                                                  \n",
      " dense_5 (Dense)                (None, 9)            153         ['dense_4[0][0]']                \n",
      "                                                                                                  \n",
      "==================================================================================================\n",
      "Total params: 72,906\n",
      "Trainable params: 72,906\n",
      "Non-trainable params: 0\n",
      "__________________________________________________________________________________________________\n"
     ]
    }
   ],
   "source": [
    "cnn.architecture_word2vec_features()\n",
    "cnn.summary()"
   ]
  },
  {
   "cell_type": "code",
   "execution_count": 7,
   "metadata": {},
   "outputs": [
    {
     "name": "stdout",
     "output_type": "stream",
     "text": [
      "Epoch 1/20\n",
      "4052/4052 [==============================] - 50s 11ms/step - loss: 0.1353 - accuracy: 0.7186 - val_loss: 0.1197 - val_accuracy: 0.7411\n",
      "Epoch 2/20\n",
      "4052/4052 [==============================] - 41s 10ms/step - loss: 0.1187 - accuracy: 0.7342 - val_loss: 0.1176 - val_accuracy: 0.7432\n",
      "Epoch 3/20\n",
      "4052/4052 [==============================] - 43s 11ms/step - loss: 0.1172 - accuracy: 0.7394 - val_loss: 0.1167 - val_accuracy: 0.7411\n",
      "Epoch 4/20\n",
      "4052/4052 [==============================] - 43s 11ms/step - loss: 0.1161 - accuracy: 0.7419 - val_loss: 0.1160 - val_accuracy: 0.7413\n",
      "Epoch 5/20\n",
      "4052/4052 [==============================] - 45s 11ms/step - loss: 0.1152 - accuracy: 0.7434 - val_loss: 0.1151 - val_accuracy: 0.7413\n",
      "Epoch 6/20\n",
      "4052/4052 [==============================] - 40s 10ms/step - loss: 0.1142 - accuracy: 0.7450 - val_loss: 0.1143 - val_accuracy: 0.7410\n",
      "Epoch 7/20\n",
      "4052/4052 [==============================] - 42s 10ms/step - loss: 0.1129 - accuracy: 0.7488 - val_loss: 0.1123 - val_accuracy: 0.7603\n",
      "Epoch 8/20\n",
      "4052/4052 [==============================] - 41s 10ms/step - loss: 0.1105 - accuracy: 0.7599 - val_loss: 0.1103 - val_accuracy: 0.7631\n",
      "Epoch 9/20\n",
      "4052/4052 [==============================] - 41s 10ms/step - loss: 0.1084 - accuracy: 0.7652 - val_loss: 0.1086 - val_accuracy: 0.7597\n",
      "Epoch 10/20\n",
      "4052/4052 [==============================] - 40s 10ms/step - loss: 0.1073 - accuracy: 0.7659 - val_loss: 0.1076 - val_accuracy: 0.7620\n",
      "Epoch 11/20\n",
      "4052/4052 [==============================] - 45s 11ms/step - loss: 0.1068 - accuracy: 0.7672 - val_loss: 0.1072 - val_accuracy: 0.7629\n",
      "Epoch 12/20\n",
      "4052/4052 [==============================] - 41s 10ms/step - loss: 0.1064 - accuracy: 0.7684 - val_loss: 0.1069 - val_accuracy: 0.7629\n",
      "Epoch 13/20\n",
      "4052/4052 [==============================] - 41s 10ms/step - loss: 0.1061 - accuracy: 0.7690 - val_loss: 0.1068 - val_accuracy: 0.7652\n",
      "Epoch 14/20\n",
      "4052/4052 [==============================] - 41s 10ms/step - loss: 0.1058 - accuracy: 0.7704 - val_loss: 0.1064 - val_accuracy: 0.7672\n",
      "Epoch 15/20\n",
      "4052/4052 [==============================] - 41s 10ms/step - loss: 0.1055 - accuracy: 0.7707 - val_loss: 0.1060 - val_accuracy: 0.7731\n",
      "Epoch 16/20\n",
      "4052/4052 [==============================] - 41s 10ms/step - loss: 0.1053 - accuracy: 0.7718 - val_loss: 0.1057 - val_accuracy: 0.7717\n",
      "Epoch 17/20\n",
      "4052/4052 [==============================] - 47s 12ms/step - loss: 0.1051 - accuracy: 0.7725 - val_loss: 0.1055 - val_accuracy: 0.7715\n",
      "Epoch 18/20\n",
      "4052/4052 [==============================] - 49s 12ms/step - loss: 0.1049 - accuracy: 0.7725 - val_loss: 0.1059 - val_accuracy: 0.7727\n",
      "Epoch 19/20\n",
      "4052/4052 [==============================] - 41s 10ms/step - loss: 0.1048 - accuracy: 0.7729 - val_loss: 0.1055 - val_accuracy: 0.7720\n",
      "Epoch 20/20\n",
      "4052/4052 [==============================] - 41s 10ms/step - loss: 0.1046 - accuracy: 0.7741 - val_loss: 0.1052 - val_accuracy: 0.7725\n"
     ]
    }
   ],
   "source": [
    "data.EPOCHS = 20\n",
    "cnn.training_valid([cnn.train.x, cnn.train.features], cnn.train.y, [cnn.valid.x, cnn.valid.features], cnn.valid.y)"
   ]
  },
  {
   "cell_type": "code",
   "execution_count": 8,
   "metadata": {},
   "outputs": [
    {
     "name": "stdout",
     "output_type": "stream",
     "text": [
      "1192/1192 [==============================] - 5s 4ms/step\n",
      "----------------------- Evaluation -------------------------\n",
      "(38136, 9)\n",
      "28182 38136\n",
      "2960 7264 10224 0.29 0.71\n",
      "\n"
     ]
    }
   ],
   "source": [
    "cnn.predicting([cnn.test.x, cnn.test.features], cnn.test.y)"
   ]
  }
 ],
 "metadata": {
  "kernelspec": {
   "display_name": "venv",
   "language": "python",
   "name": "python3"
  },
  "language_info": {
   "codemirror_mode": {
    "name": "ipython",
    "version": 3
   },
   "file_extension": ".py",
   "mimetype": "text/x-python",
   "name": "python",
   "nbconvert_exporter": "python",
   "pygments_lexer": "ipython3",
   "version": "3.9.13"
  },
  "orig_nbformat": 4
 },
 "nbformat": 4,
 "nbformat_minor": 2
}

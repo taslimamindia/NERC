{
 "cells": [
  {
   "cell_type": "code",
   "execution_count": 1,
   "metadata": {},
   "outputs": [
    {
     "ename": "FileNotFoundError",
     "evalue": "[Errno 2] No such file or directory: 'word2vec_model.bin'",
     "output_type": "error",
     "traceback": [
      "\u001b[1;31m---------------------------------------------------------------------------\u001b[0m",
      "\u001b[1;31mFileNotFoundError\u001b[0m                         Traceback (most recent call last)",
      "Cell \u001b[1;32mIn[1], line 8\u001b[0m\n\u001b[0;32m      5\u001b[0m \u001b[39mimport\u001b[39;00m \u001b[39mnumpy\u001b[39;00m \u001b[39mas\u001b[39;00m \u001b[39mnp\u001b[39;00m\n\u001b[0;32m      7\u001b[0m \u001b[39m# Load pre-trained Word2Vec model\u001b[39;00m\n\u001b[1;32m----> 8\u001b[0m word2vec_model \u001b[39m=\u001b[39m Word2Vec\u001b[39m.\u001b[39;49mload(\u001b[39m'\u001b[39;49m\u001b[39mword2vec_model.bin\u001b[39;49m\u001b[39m'\u001b[39;49m)\n\u001b[0;32m     10\u001b[0m \u001b[39m# Define hyperparameters\u001b[39;00m\n\u001b[0;32m     11\u001b[0m input_dim \u001b[39m=\u001b[39m \u001b[39mlen\u001b[39m(word2vec_model\u001b[39m.\u001b[39mwv\u001b[39m.\u001b[39mvocab)\n",
      "File \u001b[1;32me:\\PFE\\CoNLL2003\\NERC\\venv\\lib\\site-packages\\gensim\\models\\word2vec.py:1953\u001b[0m, in \u001b[0;36mWord2Vec.load\u001b[1;34m(cls, rethrow, *args, **kwargs)\u001b[0m\n\u001b[0;32m   1934\u001b[0m \u001b[39m\u001b[39m\u001b[39m\"\"\"Load a previously saved :class:`~gensim.models.word2vec.Word2Vec` model.\u001b[39;00m\n\u001b[0;32m   1935\u001b[0m \n\u001b[0;32m   1936\u001b[0m \u001b[39mSee Also\u001b[39;00m\n\u001b[1;32m   (...)\u001b[0m\n\u001b[0;32m   1950\u001b[0m \n\u001b[0;32m   1951\u001b[0m \u001b[39m\"\"\"\u001b[39;00m\n\u001b[0;32m   1952\u001b[0m \u001b[39mtry\u001b[39;00m:\n\u001b[1;32m-> 1953\u001b[0m     model \u001b[39m=\u001b[39m \u001b[39msuper\u001b[39m(Word2Vec, \u001b[39mcls\u001b[39m)\u001b[39m.\u001b[39mload(\u001b[39m*\u001b[39margs, \u001b[39m*\u001b[39m\u001b[39m*\u001b[39mkwargs)\n\u001b[0;32m   1954\u001b[0m     \u001b[39mif\u001b[39;00m \u001b[39mnot\u001b[39;00m \u001b[39misinstance\u001b[39m(model, Word2Vec):\n\u001b[0;32m   1955\u001b[0m         rethrow \u001b[39m=\u001b[39m \u001b[39mTrue\u001b[39;00m\n",
      "File \u001b[1;32me:\\PFE\\CoNLL2003\\NERC\\venv\\lib\\site-packages\\gensim\\utils.py:486\u001b[0m, in \u001b[0;36mSaveLoad.load\u001b[1;34m(cls, fname, mmap)\u001b[0m\n\u001b[0;32m    482\u001b[0m logger\u001b[39m.\u001b[39minfo(\u001b[39m\"\u001b[39m\u001b[39mloading \u001b[39m\u001b[39m%s\u001b[39;00m\u001b[39m object from \u001b[39m\u001b[39m%s\u001b[39;00m\u001b[39m\"\u001b[39m, \u001b[39mcls\u001b[39m\u001b[39m.\u001b[39m\u001b[39m__name__\u001b[39m, fname)\n\u001b[0;32m    484\u001b[0m compress, subname \u001b[39m=\u001b[39m SaveLoad\u001b[39m.\u001b[39m_adapt_by_suffix(fname)\n\u001b[1;32m--> 486\u001b[0m obj \u001b[39m=\u001b[39m unpickle(fname)\n\u001b[0;32m    487\u001b[0m obj\u001b[39m.\u001b[39m_load_specials(fname, mmap, compress, subname)\n\u001b[0;32m    488\u001b[0m obj\u001b[39m.\u001b[39madd_lifecycle_event(\u001b[39m\"\u001b[39m\u001b[39mloaded\u001b[39m\u001b[39m\"\u001b[39m, fname\u001b[39m=\u001b[39mfname)\n",
      "File \u001b[1;32me:\\PFE\\CoNLL2003\\NERC\\venv\\lib\\site-packages\\gensim\\utils.py:1460\u001b[0m, in \u001b[0;36munpickle\u001b[1;34m(fname)\u001b[0m\n\u001b[0;32m   1446\u001b[0m \u001b[39mdef\u001b[39;00m \u001b[39munpickle\u001b[39m(fname):\n\u001b[0;32m   1447\u001b[0m \u001b[39m    \u001b[39m\u001b[39m\"\"\"Load object from `fname`, using smart_open so that `fname` can be on S3, HDFS, compressed etc.\u001b[39;00m\n\u001b[0;32m   1448\u001b[0m \n\u001b[0;32m   1449\u001b[0m \u001b[39m    Parameters\u001b[39;00m\n\u001b[1;32m   (...)\u001b[0m\n\u001b[0;32m   1458\u001b[0m \n\u001b[0;32m   1459\u001b[0m \u001b[39m    \"\"\"\u001b[39;00m\n\u001b[1;32m-> 1460\u001b[0m     \u001b[39mwith\u001b[39;00m \u001b[39mopen\u001b[39;49m(fname, \u001b[39m'\u001b[39;49m\u001b[39mrb\u001b[39;49m\u001b[39m'\u001b[39;49m) \u001b[39mas\u001b[39;00m f:\n\u001b[0;32m   1461\u001b[0m         \u001b[39mreturn\u001b[39;00m _pickle\u001b[39m.\u001b[39mload(f, encoding\u001b[39m=\u001b[39m\u001b[39m'\u001b[39m\u001b[39mlatin1\u001b[39m\u001b[39m'\u001b[39m)\n",
      "File \u001b[1;32me:\\PFE\\CoNLL2003\\NERC\\venv\\lib\\site-packages\\smart_open\\smart_open_lib.py:177\u001b[0m, in \u001b[0;36mopen\u001b[1;34m(uri, mode, buffering, encoding, errors, newline, closefd, opener, compression, transport_params)\u001b[0m\n\u001b[0;32m    174\u001b[0m \u001b[39mif\u001b[39;00m transport_params \u001b[39mis\u001b[39;00m \u001b[39mNone\u001b[39;00m:\n\u001b[0;32m    175\u001b[0m     transport_params \u001b[39m=\u001b[39m {}\n\u001b[1;32m--> 177\u001b[0m fobj \u001b[39m=\u001b[39m _shortcut_open(\n\u001b[0;32m    178\u001b[0m     uri,\n\u001b[0;32m    179\u001b[0m     mode,\n\u001b[0;32m    180\u001b[0m     compression\u001b[39m=\u001b[39;49mcompression,\n\u001b[0;32m    181\u001b[0m     buffering\u001b[39m=\u001b[39;49mbuffering,\n\u001b[0;32m    182\u001b[0m     encoding\u001b[39m=\u001b[39;49mencoding,\n\u001b[0;32m    183\u001b[0m     errors\u001b[39m=\u001b[39;49merrors,\n\u001b[0;32m    184\u001b[0m     newline\u001b[39m=\u001b[39;49mnewline,\n\u001b[0;32m    185\u001b[0m )\n\u001b[0;32m    186\u001b[0m \u001b[39mif\u001b[39;00m fobj \u001b[39mis\u001b[39;00m \u001b[39mnot\u001b[39;00m \u001b[39mNone\u001b[39;00m:\n\u001b[0;32m    187\u001b[0m     \u001b[39mreturn\u001b[39;00m fobj\n",
      "File \u001b[1;32me:\\PFE\\CoNLL2003\\NERC\\venv\\lib\\site-packages\\smart_open\\smart_open_lib.py:363\u001b[0m, in \u001b[0;36m_shortcut_open\u001b[1;34m(uri, mode, compression, buffering, encoding, errors, newline)\u001b[0m\n\u001b[0;32m    360\u001b[0m \u001b[39mif\u001b[39;00m errors \u001b[39mand\u001b[39;00m \u001b[39m'\u001b[39m\u001b[39mb\u001b[39m\u001b[39m'\u001b[39m \u001b[39mnot\u001b[39;00m \u001b[39min\u001b[39;00m mode:\n\u001b[0;32m    361\u001b[0m     open_kwargs[\u001b[39m'\u001b[39m\u001b[39merrors\u001b[39m\u001b[39m'\u001b[39m] \u001b[39m=\u001b[39m errors\n\u001b[1;32m--> 363\u001b[0m \u001b[39mreturn\u001b[39;00m _builtin_open(local_path, mode, buffering\u001b[39m=\u001b[39mbuffering, \u001b[39m*\u001b[39m\u001b[39m*\u001b[39mopen_kwargs)\n",
      "\u001b[1;31mFileNotFoundError\u001b[0m: [Errno 2] No such file or directory: 'word2vec_model.bin'"
     ]
    }
   ],
   "source": [
    "from keras.models import Model\n",
    "from keras.layers import Embedding, Conv1D, Dense, TimeDistributed, Dropout, Bidirectional, LSTM, Concatenate, Input\n",
    "from keras_contrib.layers import CRF\n",
    "from gensim.models import Word2Vec\n",
    "import numpy as np\n",
    "\n",
    "# Load pre-trained Word2Vec model\n",
    "word2vec_model = Word2Vec.load('word2vec_model.bin')\n",
    "\n",
    "# Define hyperparameters\n",
    "input_dim = len(word2vec_model.wv.vocab)\n",
    "output_dim = 100\n",
    "max_seq_len = 100\n",
    "num_labels = 3\n",
    "filter_sizes = [3, 4, 5]\n",
    "num_filters = 100\n",
    "lstm_units = 128\n",
    "dropout_rate = 0.5\n",
    "\n",
    "# Define input layer\n",
    "input_layer = Input(shape=(max_seq_len,))\n",
    "\n",
    "# Define embedding layer\n",
    "embedding_layer = Embedding(input_dim=input_dim,\n",
    "    output_dim=output_dim,\n",
    "    input_length=max_seq_len,\n",
    "    weights=[np.array([word2vec_model[w] if w in word2vec_model else np.zeros(output_dim) for w in word2vec_model.wv.vocab])],\n",
    "    trainable=False\n",
    ")(input_layer)\n",
    "\n",
    "# Define convolutional layers\n",
    "conv_layers = []\n",
    "for filter_size in filter_sizes:\n",
    "    conv_layer = Conv1D(filters=num_filters,\n",
    "                        kernel_size=filter_size,\n",
    "                        activation='relu')(embedding_layer)\n",
    "    conv_layer = Dropout(dropout_rate)(conv_layer)\n",
    "    conv_layer = TimeDistributed(Dense(lstm_units, activation='relu'))(conv_layer)\n",
    "    conv_layers.append(conv_layer)\n",
    "\n",
    "# Concatenate convolutional layers\n",
    "concat_layer = Concatenate()(conv_layers)\n",
    "\n",
    "# Define BiLSTM layer\n",
    "bi_lstm_layer = Bidirectional(LSTM(units=lstm_units,\n",
    "                                    return_sequences=True,\n",
    "                                    dropout=dropout_rate,\n",
    "                                    recurrent_dropout=dropout_rate))(concat_layer)\n",
    "\n",
    "# Define CRF layer\n",
    "crf_layer = CRF(num_labels)\n",
    "\n",
    "# Define output layer\n",
    "output_layer = crf_layer(bi_lstm_layer)\n",
    "\n",
    "# Define model\n",
    "model = Model(inputs=input_layer, outputs=output_layer)\n",
    "# model.compile(optimizer='adam', loss=crf_layer.loss_function, metrics=[crf_layer.accuracy])\n",
    "\n",
    "# # Train model\n",
    "# model.fit(X_train, y_train, validation_data=(X_test, y_test), epochs=10, batch_size=32)\n",
    "\n",
    "model.summary()"
   ]
  }
 ],
 "metadata": {
  "kernelspec": {
   "display_name": "venv",
   "language": "python",
   "name": "python3"
  },
  "language_info": {
   "codemirror_mode": {
    "name": "ipython",
    "version": 3
   },
   "file_extension": ".py",
   "mimetype": "text/x-python",
   "name": "python",
   "nbconvert_exporter": "python",
   "pygments_lexer": "ipython3",
   "version": "3.9.13"
  },
  "orig_nbformat": 4
 },
 "nbformat": 4,
 "nbformat_minor": 2
}
